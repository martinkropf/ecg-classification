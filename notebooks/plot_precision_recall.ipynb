{
 "cells": [
  {
   "cell_type": "code",
   "execution_count": 14,
   "metadata": {
    "collapsed": false
   },
   "outputs": [],
   "source": [
    "%matplotlib inline"
   ]
  },
  {
   "cell_type": "markdown",
   "metadata": {},
   "source": [
    "\n",
    "# Precision-Recall\n",
    "\n",
    "\n",
    "Example of Precision-Recall metric to evaluate classifier output quality.\n",
    "\n",
    "Precision-Recall is a useful measure of success of prediction when the\n",
    "classes are very imbalanced. In information retrieval, precision is a\n",
    "measure of result relevancy, while recall is a measure of how many truly\n",
    "relevant results are returned.\n",
    "\n",
    "The precision-recall curve shows the tradeoff between precision and\n",
    "recall for different threshold. A high area under the curve represents\n",
    "both high recall and high precision, where high precision relates to a\n",
    "low false positive rate, and high recall relates to a low false negative\n",
    "rate. High scores for both show that the classifier is returning accurate\n",
    "results (high precision), as well as returning a majority of all positive\n",
    "results (high recall).\n",
    "\n",
    "A system with high recall but low precision returns many results, but most of\n",
    "its predicted labels are incorrect when compared to the training labels. A\n",
    "system with high precision but low recall is just the opposite, returning very\n",
    "few results, but most of its predicted labels are correct when compared to the\n",
    "training labels. An ideal system with high precision and high recall will\n",
    "return many results, with all results labeled correctly.\n",
    "\n",
    "Precision ($P$) is defined as the number of true positives ($T_p$)\n",
    "over the number of true positives plus the number of false positives\n",
    "($F_p$).\n",
    "\n",
    "$P = \\frac{T_p}{T_p+F_p}$\n",
    "\n",
    "Recall ($R$) is defined as the number of true positives ($T_p$)\n",
    "over the number of true positives plus the number of false negatives\n",
    "($F_n$).\n",
    "\n",
    "$R = \\frac{T_p}{T_p + F_n}$\n",
    "\n",
    "These quantities are also related to the ($F_1$) score, which is defined\n",
    "as the harmonic mean of precision and recall.\n",
    "\n",
    "$F1 = 2\\frac{P \\times R}{P+R}$\n",
    "\n",
    "Note that the precision may not decrease with recall. The\n",
    "definition of precision ($\\frac{T_p}{T_p + F_p}$) shows that lowering\n",
    "the threshold of a classifier may increase the denominator, by increasing the\n",
    "number of results returned. If the threshold was previously set too high, the\n",
    "new results may all be true positives, which will increase precision. If the\n",
    "previous threshold was about right or too low, further lowering the threshold\n",
    "will introduce false positives, decreasing precision.\n",
    "\n",
    "Recall is defined as $\\frac{T_p}{T_p+F_n}$, where $T_p+F_n$ does\n",
    "not depend on the classifier threshold. This means that lowering the classifier\n",
    "threshold may increase recall, by increasing the number of true positive\n",
    "results. It is also possible that lowering the threshold may leave recall\n",
    "unchanged, while the precision fluctuates.\n",
    "\n",
    "The relationship between recall and precision can be observed in the\n",
    "stairstep area of the plot - at the edges of these steps a small change\n",
    "in the threshold considerably reduces precision, with only a minor gain in\n",
    "recall.\n",
    "\n",
    "**Average precision** (AP) summarizes such a plot as the weighted mean of\n",
    "precisions achieved at each threshold, with the increase in recall from the\n",
    "previous threshold used as the weight:\n",
    "\n",
    "$\\text{AP} = \\sum_n (R_n - R_{n-1}) P_n$\n",
    "\n",
    "where $P_n$ and $R_n$ are the precision and recall at the\n",
    "nth threshold. A pair $(R_k, P_k)$ is referred to as an\n",
    "*operating point*.\n",
    "\n",
    "AP and the trapezoidal area under the operating points\n",
    "(:func:`sklearn.metrics.auc`) are common ways to summarize a precision-recall\n",
    "curve that lead to different results. Read more in the\n",
    "`User Guide <precision_recall_f_measure_metrics>`.\n",
    "\n",
    "Precision-recall curves are typically used in binary classification to study\n",
    "the output of a classifier. In order to extend the precision-recall curve and\n",
    "average precision to multi-class or multi-label classification, it is necessary\n",
    "to binarize the output. One curve can be drawn per label, but one can also draw\n",
    "a precision-recall curve by considering each element of the label indicator\n",
    "matrix as a binary prediction (micro-averaging).\n",
    "\n",
    "<div class=\"alert alert-info\"><h4>Note</h4><p>See also :func:`sklearn.metrics.average_precision_score`,\n",
    "             :func:`sklearn.metrics.recall_score`,\n",
    "             :func:`sklearn.metrics.precision_score`,\n",
    "             :func:`sklearn.metrics.f1_score`</p></div>\n",
    "\n"
   ]
  },
  {
   "cell_type": "code",
   "execution_count": 15,
   "metadata": {
    "collapsed": false
   },
   "outputs": [],
   "source": [
    "from __future__ import print_function"
   ]
  },
  {
   "cell_type": "markdown",
   "metadata": {},
   "source": [
    "In binary classification settings\n",
    "--------------------------------------------------------\n",
    "\n",
    "Create simple data\n",
    "..................\n",
    "\n",
    "Try to differentiate the two first classes of the iris data\n",
    "\n"
   ]
  },
  {
   "cell_type": "code",
   "execution_count": 16,
   "metadata": {
    "collapsed": false
   },
   "outputs": [],
   "source": [
    "from sklearn import svm, datasets\n",
    "from sklearn.model_selection import train_test_split\n",
    "import numpy as np\n",
    "\n",
    "iris = datasets.load_iris()\n",
    "X = iris.data\n",
    "y = iris.target\n",
    "\n",
    "# Add noisy features\n",
    "random_state = np.random.RandomState(0)\n",
    "n_samples, n_features = X.shape\n",
    "X = np.c_[X, random_state.randn(n_samples, 200 * n_features)]\n",
    "\n",
    "# Limit to the two first classes, and split into training and test\n",
    "X_train, X_test, y_train, y_test = train_test_split(X[y < 2], y[y < 2],\n",
    "                                                    test_size=.5,\n",
    "                                                    random_state=random_state)\n",
    "\n",
    "# Create a simple classifier\n",
    "classifier = svm.LinearSVC(random_state=random_state)\n",
    "classifier.fit(X_train, y_train)\n",
    "y_score = classifier.decision_function(X_test)"
   ]
  },
  {
   "cell_type": "code",
   "execution_count": 21,
   "metadata": {
    "collapsed": false
   },
   "outputs": [
    {
     "data": {
      "text/plain": [
       "array(['N', 'N', 'N', ..., 'N', 'N', 'N'], dtype=object)"
      ]
     },
     "metadata": {},
     "output_type": "display_data"
    },
    {
     "name": "stdout",
     "output_type": "stream",
     "text": [
      "y: (8528,)\n",
      "['A' 'N' 'O' '~']\n",
      "DF: 8528\n",
      "DF after dropna: (8528, 386)\n",
      "X: (8528, 386)\n",
      "X after imputer:(8528, 386)\n"
     ]
    }
   ],
   "source": [
    "\n",
    "%matplotlib inline\n",
    "import xgboost\n",
    "import sklearn\n",
    "import matplotlib\n",
    "import matplotlib.pyplot as plt \n",
    "\n",
    "import numpy as np\n",
    "import pandas as pd\n",
    "import time\n",
    "from collections import Counter\n",
    "from IPython.display import display, HTML\n",
    "\n",
    "from sklearn.preprocessing import Imputer\n",
    "from sklearn.externals import joblib\n",
    "from sklearn.cross_validation import train_test_split, StratifiedKFold, cross_val_score\n",
    "from xgboost.sklearn import XGBClassifier\n",
    "from sklearn.tree import DecisionTreeClassifier, export_graphviz\n",
    "from sklearn.ensemble import AdaBoostClassifier,GradientBoostingClassifier,RandomForestClassifier\n",
    "from sklearn.metrics import f1_score, precision_score, recall_score,log_loss, accuracy_score, make_scorer\n",
    "from sklearn.feature_selection import VarianceThreshold\n",
    "from sklearn.linear_model import LogisticRegression\n",
    "\n",
    "pd.set_option('display.max_columns', 50)\n",
    "pd.set_option('display.max_rows', 500)\n",
    "np.set_printoptions(precision=3)\n",
    "seed = 1234\n",
    "\n",
    "input_file = \"/notebooks/data/ait_result_dataset.V37.csv\"\n",
    "df = pd.read_csv(input_file, header = 0)\n",
    "ref=pd.read_csv('/notebooks/References/REFERENCE-v3.csv',header=None)\n",
    "rec=ref[0]\n",
    "ref=ref[1].as_matrix()\n",
    "y=ref\n",
    "display(y)\n",
    "print(\"y: \"+str(y.shape))\n",
    "\n",
    "classes= np.unique(ref)\n",
    "\n",
    "print(classes)\n",
    "df=df.drop('target',axis=1)\n",
    "print(\"DF: \"+str(len(df)))\n",
    "df=df.dropna(axis=1, how='all')\n",
    "print(\"DF after dropna: \"+str(df.shape))\n",
    "\n",
    "X=df.as_matrix()\n",
    "print(\"X: \"+str(X.shape))\n",
    "imp = Imputer(missing_values='NaN', strategy='mean', axis=0,verbose=1)\n",
    "X=imp.fit_transform(X)\n",
    "print(\"X after imputer:\"+str(X.shape))#\n",
    "\n",
    "params = {\n",
    "    'max_depth': 7,\n",
    "    'learning_rate': 0.26046515748913901,\n",
    "    'silent': 0,\n",
    "    'n_estimators': 110,\n",
    "    'colsample_bytree': 0.81958831684028921,\n",
    "    'gamma':0.25,\n",
    "    'subsample':0.93168572417786366,\n",
    "    'min_child_weight':0.9,\n",
    "    'colsample_bylevel':1,\n",
    "    'max_delta_step':0,\n",
    "    'reg_alpha':0,\n",
    "    'scale_pos_weight':1,\n",
    "    'missing':None,\n",
    "    'objective': 'multi:softmax',\n",
    "    'nthread': 4,\n",
    "    'num_class':4\n",
    "}\n",
    "bst = XGBClassifier(**params).fit(X, y,verbose=50)"
   ]
  },
  {
   "cell_type": "markdown",
   "metadata": {},
   "source": [
    "Compute the average precision score\n",
    "...................................\n",
    "\n"
   ]
  },
  {
   "cell_type": "code",
   "execution_count": 22,
   "metadata": {
    "collapsed": false
   },
   "outputs": [
    {
     "name": "stdout",
     "output_type": "stream",
     "text": [
      "Average precision-recall score: 0.88\n"
     ]
    }
   ],
   "source": [
    "from sklearn.metrics import average_precision_score\n",
    "average_precision = average_precision_score(y_test, y_score)\n",
    "\n",
    "print('Average precision-recall score: {0:0.2f}'.format(\n",
    "      average_precision))"
   ]
  },
  {
   "cell_type": "markdown",
   "metadata": {},
   "source": [
    "Plot the Precision-Recall curve\n",
    "................................\n",
    "\n"
   ]
  },
  {
   "cell_type": "code",
   "execution_count": 23,
   "metadata": {
    "collapsed": false
   },
   "outputs": [
    {
     "data": {
      "text/plain": [
       "<matplotlib.text.Text at 0x7fb1d41ca400>"
      ]
     },
     "execution_count": 23,
     "metadata": {},
     "output_type": "execute_result"
    },
    {
     "data": {
      "image/png": "[encoded data removed]",
      "text/plain": [
       "<matplotlib.figure.Figure at 0x7fb1d67b8048>"
      ]
     },
     "metadata": {},
     "output_type": "display_data"
    }
   ],
   "source": [
    "from sklearn.metrics import precision_recall_curve\n",
    "import matplotlib.pyplot as plt\n",
    "\n",
    "precision, recall, _ = precision_recall_curve(y_test, y_score)\n",
    "\n",
    "plt.step(recall, precision, color='b', alpha=0.2,\n",
    "         where='post')\n",
    "plt.fill_between(recall, precision, step='post', alpha=0.2,\n",
    "                 color='b')\n",
    "\n",
    "plt.xlabel('Recall')\n",
    "plt.ylabel('Precision')\n",
    "plt.ylim([0.0, 1.05])\n",
    "plt.xlim([0.0, 1.0])\n",
    "plt.title('2-class Precision-Recall curve: AP={0:0.2f}'.format(\n",
    "          average_precision))"
   ]
  },
  {
   "cell_type": "markdown",
   "metadata": {},
   "source": [
    "In multi-label settings\n",
    "------------------------\n",
    "\n",
    "Create multi-label data, fit, and predict\n",
    "...........................................\n",
    "\n",
    "We create a multi-label dataset, to illustrate the precision-recall in\n",
    "multi-label settings\n",
    "\n"
   ]
  },
  {
   "cell_type": "code",
   "execution_count": 24,
   "metadata": {
    "collapsed": false
   },
   "outputs": [
    {
     "data": {
      "text/plain": [
       "array(['N', 'N', 'N', ..., 'N', 'N', 'N'], dtype=object)"
      ]
     },
     "metadata": {},
     "output_type": "display_data"
    },
    {
     "name": "stdout",
     "output_type": "stream",
     "text": [
      "y: (8528,)\n",
      "['A' 'N' 'O' '~']\n",
      "DF: 8528\n",
      "DF after dropna: (8528, 386)\n"
     ]
    },
    {
     "data": {
      "text/plain": [
       "13"
      ]
     },
     "metadata": {},
     "output_type": "display_data"
    },
    {
     "name": "stdout",
     "output_type": "stream",
     "text": [
      "X: (8528, 386)\n",
      "X after imputer:(8528, 386)\n"
     ]
    }
   ],
   "source": [
    "import pandas as pd\n",
    "from IPython.display import display, HTML\n",
    "import numpy as np\n",
    "from sklearn.preprocessing import Imputer\n",
    "\n",
    "\n",
    "input_file = \"/notebooks/data/ait_result_dataset.V37.csv\"\n",
    "\n",
    "\n",
    "df = pd.read_csv(input_file, header = 0)\n",
    "\n",
    "#y=df['target'].as_matrix()\n",
    "\n",
    "ref=pd.read_csv('/notebooks/References/REFERENCE-v3.csv',header=None)\n",
    "#ref=pd.read_csv('REFERENCE-v2.csv',header=None)\n",
    "#ref=pd.read_csv('REFERENCE.csv',header=None)\n",
    "#ref=pd.read_csv('REFERENCE_TEIJEIRO.csv',header=None)\n",
    "#ref=pd.read_csv('REFERENCE_custom.csv',header=None)\n",
    "rec=ref[0]\n",
    "ref=ref[1].as_matrix()\n",
    "\n",
    "y=ref\n",
    "display(y)\n",
    "print(\"y: \"+str(y.shape))\n",
    "\n",
    "\n",
    "classes= np.unique(ref)\n",
    "\n",
    "print(classes)\n",
    "df=df.drop('target',axis=1)\n",
    "print(\"DF: \"+str(len(df)))\n",
    "df=df.dropna(axis=1, how='all')\n",
    "print(\"DF after dropna: \"+str(df.shape))\n",
    "\n",
    "#drop \"combined\" columns\n",
    "filter_col = [col for col in df if col.startswith('combine')]\n",
    "display(len(filter_col))\n",
    "#df=df.drop(filter_col,axis=1)\n",
    "#print(\"df: \"+str(df.shape))\n",
    "\n",
    "X=df.as_matrix()\n",
    "print(\"X: \"+str(X.shape))\n",
    "imp = Imputer(missing_values='NaN', strategy='mean', axis=0,verbose=1)\n",
    "X=imp.fit_transform(X)\n",
    "print(\"X after imputer:\"+str(X.shape))"
   ]
  },
  {
   "cell_type": "code",
   "execution_count": 29,
   "metadata": {
    "collapsed": false
   },
   "outputs": [
    {
     "ename": "AttributeError",
     "evalue": "'XGBClassifier' object has no attribute 'decision_function'",
     "output_type": "error",
     "traceback": [
      "\u001b[0;31m---------------------------------------------------------------------------\u001b[0m",
      "\u001b[0;31mAttributeError\u001b[0m                            Traceback (most recent call last)",
      "\u001b[0;32m<ipython-input-29-0343cf45d3b4>\u001b[0m in \u001b[0;36m<module>\u001b[0;34m()\u001b[0m\n\u001b[1;32m     15\u001b[0m \u001b[0mclassifier\u001b[0m \u001b[0;34m=\u001b[0m \u001b[0mOneVsRestClassifier\u001b[0m\u001b[0;34m(\u001b[0m\u001b[0mbst\u001b[0m\u001b[0;34m)\u001b[0m\u001b[0;34m\u001b[0m\u001b[0m\n\u001b[1;32m     16\u001b[0m \u001b[0mclassifier\u001b[0m\u001b[0;34m.\u001b[0m\u001b[0mfit\u001b[0m\u001b[0;34m(\u001b[0m\u001b[0mX_train\u001b[0m\u001b[0;34m,\u001b[0m \u001b[0mY_train\u001b[0m\u001b[0;34m)\u001b[0m\u001b[0;34m\u001b[0m\u001b[0m\n\u001b[0;32m---> 17\u001b[0;31m \u001b[0my_score\u001b[0m \u001b[0;34m=\u001b[0m \u001b[0mclassifier\u001b[0m\u001b[0;34m.\u001b[0m\u001b[0mdecision_function\u001b[0m\u001b[0;34m(\u001b[0m\u001b[0mX_test\u001b[0m\u001b[0;34m)\u001b[0m\u001b[0;34m\u001b[0m\u001b[0m\n\u001b[0m",
      "\u001b[0;32m/opt/conda/lib/python3.5/site-packages/sklearn/utils/metaestimators.py\u001b[0m in \u001b[0;36m__get__\u001b[0;34m(self, obj, type)\u001b[0m\n\u001b[1;32m    107\u001b[0m                     \u001b[0;32mcontinue\u001b[0m\u001b[0;34m\u001b[0m\u001b[0m\n\u001b[1;32m    108\u001b[0m                 \u001b[0;32melse\u001b[0m\u001b[0;34m:\u001b[0m\u001b[0;34m\u001b[0m\u001b[0m\n\u001b[0;32m--> 109\u001b[0;31m                     \u001b[0mgetattr\u001b[0m\u001b[0;34m(\u001b[0m\u001b[0mdelegate\u001b[0m\u001b[0;34m,\u001b[0m \u001b[0mself\u001b[0m\u001b[0;34m.\u001b[0m\u001b[0mattribute_name\u001b[0m\u001b[0;34m)\u001b[0m\u001b[0;34m\u001b[0m\u001b[0m\n\u001b[0m\u001b[1;32m    110\u001b[0m                     \u001b[0;32mbreak\u001b[0m\u001b[0;34m\u001b[0m\u001b[0m\n\u001b[1;32m    111\u001b[0m             \u001b[0;32melse\u001b[0m\u001b[0;34m:\u001b[0m\u001b[0;34m\u001b[0m\u001b[0m\n",
      "\u001b[0;31mAttributeError\u001b[0m: 'XGBClassifier' object has no attribute 'decision_function'"
     ]
    }
   ],
   "source": [
    "from sklearn.preprocessing import label_binarize\n",
    "\n",
    "# Use label_binarize to be multi-label like settings\n",
    "Y = label_binarize(y, classes=['A', 'N', 'O','~'])\n",
    "n_classes = Y.shape[1]\n",
    "\n",
    "# Split into training and test\n",
    "X_train, X_test, Y_train, Y_test = train_test_split(X, Y, test_size=.5,\n",
    "                                                    random_state=seed)\n",
    "\n",
    "# We use OneVsRestClassifier for multi-label prediction\n",
    "from sklearn.multiclass import OneVsRestClassifier\n",
    "\n",
    "# Run classifier\n",
    "classifier = OneVsRestClassifier(bst)\n",
    "classifier.fit(X_train, Y_train)\n",
    "y_score = classifier.decision_function(X_test)"
   ]
  },
  {
   "cell_type": "markdown",
   "metadata": {},
   "source": [
    "The average precision score in multi-label settings\n",
    "....................................................\n",
    "\n"
   ]
  },
  {
   "cell_type": "code",
   "execution_count": 5,
   "metadata": {
    "collapsed": false
   },
   "outputs": [
    {
     "name": "stdout",
     "output_type": "stream",
     "text": [
      "Average precision score, micro-averaged over all classes: nan\n"
     ]
    },
    {
     "name": "stderr",
     "output_type": "stream",
     "text": [
      "/opt/conda/lib/python3.5/site-packages/sklearn/metrics/ranking.py:444: RuntimeWarning: invalid value encountered in true_divide\n",
      "  recall = tps / tps[-1]\n"
     ]
    }
   ],
   "source": [
    "from sklearn.metrics import precision_recall_curve\n",
    "from sklearn.metrics import average_precision_score\n",
    "\n",
    "# For each class\n",
    "precision = dict()\n",
    "recall = dict()\n",
    "average_precision = dict()\n",
    "for i in range(n_classes):\n",
    "    precision[i], recall[i], _ = precision_recall_curve(Y_test[:, i],\n",
    "                                                        y_score[:, i])\n",
    "    average_precision[i] = average_precision_score(Y_test[:, i], y_score[:, i])\n",
    "\n",
    "# A \"micro-average\": quantifying score on all classes jointly\n",
    "precision[\"micro\"], recall[\"micro\"], _ = precision_recall_curve(Y_test.ravel(),\n",
    "    y_score.ravel())\n",
    "average_precision[\"micro\"] = average_precision_score(Y_test, y_score,\n",
    "                                                     average=\"micro\")\n",
    "print('Average precision score, micro-averaged over all classes: {0:0.2f}'\n",
    "      .format(average_precision[\"micro\"]))"
   ]
  },
  {
   "cell_type": "markdown",
   "metadata": {},
   "source": [
    "Plot the micro-averaged Precision-Recall curve\n",
    "...............................................\n",
    "\n",
    "\n"
   ]
  },
  {
   "cell_type": "code",
   "execution_count": 6,
   "metadata": {
    "collapsed": false
   },
   "outputs": [
    {
     "data": {
      "text/plain": [
       "<matplotlib.text.Text at 0x7fb1d67bdd68>"
      ]
     },
     "execution_count": 6,
     "metadata": {},
     "output_type": "execute_result"
    },
    {
     "data": {
      "image/png": "[encoded data removed]",
      "text/plain": [
       "<matplotlib.figure.Figure at 0x7fb1d67b8cc0>"
      ]
     },
     "metadata": {},
     "output_type": "display_data"
    }
   ],
   "source": [
    "plt.figure()\n",
    "plt.step(recall['micro'], precision['micro'], color='b', alpha=0.2,\n",
    "         where='post')\n",
    "plt.fill_between(recall[\"micro\"], precision[\"micro\"], step='post', alpha=0.2,\n",
    "                 color='b')\n",
    "\n",
    "plt.xlabel('Recall')\n",
    "plt.ylabel('Precision')\n",
    "plt.ylim([0.0, 1.05])\n",
    "plt.xlim([0.0, 1.0])\n",
    "plt.title(\n",
    "    'Average precision score, micro-averaged over all classes: AP={0:0.2f}'\n",
    "    .format(average_precision[\"micro\"]))"
   ]
  },
  {
   "cell_type": "markdown",
   "metadata": {},
   "source": [
    "Plot Precision-Recall curve for each class and iso-f1 curves\n",
    ".............................................................\n",
    "\n",
    "\n"
   ]
  },
  {
   "cell_type": "code",
   "execution_count": 9,
   "metadata": {
    "collapsed": false
   },
   "outputs": [
    {
     "data": {
      "image/png": "[encoded data removed]",
      "text/plain": [
       "<matplotlib.figure.Figure at 0x7f46b62a8eb8>"
      ]
     },
     "metadata": {},
     "output_type": "display_data"
    }
   ],
   "source": [
    "from itertools import cycle\n",
    "# setup plot details\n",
    "colors = cycle(['navy', 'turquoise', 'darkorange', 'cornflowerblue', 'teal'])\n",
    "\n",
    "plt.figure(figsize=(7, 8))\n",
    "f_scores = np.linspace(0.2, 0.8, num=4)\n",
    "lines = []\n",
    "labels = []\n",
    "for f_score in f_scores:\n",
    "    x = np.linspace(0.01, 1)\n",
    "    y = f_score * x / (2 * x - f_score)\n",
    "    l, = plt.plot(x[y >= 0], y[y >= 0], color='gray', alpha=0.2)\n",
    "    plt.annotate('f1={0:0.1f}'.format(f_score), xy=(0.9, y[45] + 0.02))\n",
    "\n",
    "lines.append(l)\n",
    "labels.append('iso-f1 curves')\n",
    "l, = plt.plot(recall[\"micro\"], precision[\"micro\"], color='gold', lw=2)\n",
    "lines.append(l)\n",
    "labels.append('micro-average Precision-recall (area = {0:0.2f})'\n",
    "              ''.format(average_precision[\"micro\"]))\n",
    "\n",
    "for i, color in zip(range(n_classes), colors):\n",
    "    l, = plt.plot(recall[i], precision[i], color=color, lw=2)\n",
    "    lines.append(l)\n",
    "    labels.append('Precision-recall for class {0} (area = {1:0.2f})'\n",
    "                  ''.format(i, average_precision[i]))\n",
    "\n",
    "fig = plt.gcf()\n",
    "fig.subplots_adjust(bottom=0.25)\n",
    "plt.xlim([0.0, 1.0])\n",
    "plt.ylim([0.0, 1.05])\n",
    "plt.xlabel('Recall')\n",
    "plt.ylabel('Precision')\n",
    "plt.title('Extension of Precision-Recall curve to multi-class')\n",
    "plt.legend(lines, labels, loc=(0, -.38), prop=dict(size=14))\n",
    "\n",
    "\n",
    "plt.show()"
   ]
  },
  {
   "cell_type": "code",
   "execution_count": null,
   "metadata": {
    "collapsed": true
   },
   "outputs": [],
   "source": []
  },
  {
   "cell_type": "code",
   "execution_count": null,
   "metadata": {
    "collapsed": true
   },
   "outputs": [],
   "source": []
  }
 ],
 "metadata": {
  "kernelspec": {
   "display_name": "Python 3",
   "language": "python",
   "name": "python3"
  },
  "language_info": {
   "codemirror_mode": {
    "name": "ipython",
    "version": 3
   },
   "file_extension": ".py",
   "mimetype": "text/x-python",
   "name": "python",
   "nbconvert_exporter": "python",
   "pygments_lexer": "ipython3",
   "version": "3.5.2"
  }
 },
 "nbformat": 4,
 "nbformat_minor": 0
}
