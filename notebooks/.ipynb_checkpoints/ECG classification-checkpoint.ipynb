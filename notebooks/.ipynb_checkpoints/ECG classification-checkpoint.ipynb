{
 "cells": [
  {
   "cell_type": "markdown",
   "metadata": {},
   "source": [
    "## Imports"
   ]
  },
  {
   "cell_type": "markdown",
   "metadata": {},
   "source": [
    "Import packages, set options for displaying and for generating reproducable results (random seed)"
   ]
  },
  {
   "cell_type": "code",
   "execution_count": 267,
   "metadata": {
    "collapsed": false
   },
   "outputs": [
    {
     "name": "stdout",
     "output_type": "stream",
     "text": [
      "3.5.2 |Continuum Analytics, Inc.| (default, Jul  2 2016, 17:53:06) \n",
      "[GCC 4.4.7 20120313 (Red Hat 4.4.7-1)]\n",
      "Numpy: 1.14.0\n",
      "Pandas: 0.22.0\n",
      "XGBoost: 0.7.post3\n",
      "sklearn: 0.19.1\n",
      "matplotlib: 1.5.1\n"
     ]
    }
   ],
   "source": [
    "%matplotlib inline\n",
    "import xgboost\n",
    "import sklearn\n",
    "import seaborn as sns\n",
    "import matplotlib\n",
    "import matplotlib.pyplot as plt \n",
    "\n",
    "import matplotlib as mpl\n",
    "\n",
    "import datetime\n",
    "import numpy as np\n",
    "import pandas as pd\n",
    "import time\n",
    "from scipy import stats\n",
    "\n",
    "from collections import Counter\n",
    "from IPython.display import display, HTML\n",
    "from sklearn.preprocessing import Imputer\n",
    "from sklearn.externals import joblib\n",
    "from sklearn.cross_validation import train_test_split, StratifiedKFold, cross_val_score\n",
    "from xgboost.sklearn import XGBClassifier\n",
    "from sklearn.tree import DecisionTreeClassifier, export_graphviz\n",
    "from sklearn.ensemble import AdaBoostClassifier,GradientBoostingClassifier,RandomForestClassifier\n",
    "from sklearn.metrics import f1_score, precision_score, recall_score,log_loss, accuracy_score, make_scorer\n",
    "from sklearn.feature_selection import VarianceThreshold\n",
    "from sklearn.linear_model import LogisticRegression\n",
    "import warnings\n",
    "import sys\n",
    "print(sys.version)\n",
    "print(\"Numpy:\",np.__version__)\n",
    "print(\"Pandas:\",pd.__version__)\n",
    "print(\"XGBoost:\",xgboost.__version__)\n",
    "print(\"sklearn:\",sklearn.__version__)\n",
    "print(\"matplotlib:\",matplotlib.__version__)\n",
    "\n",
    "warnings.filterwarnings(\"ignore\", category=DeprecationWarning) #sklearn throws too much deprecationwarnings\n",
    "pd.set_option('display.max_columns', 50)\n",
    "pd.set_option('display.max_rows', 500)\n",
    "pd.set_option('precision', 3)\n",
    "np.set_printoptions(precision=3)\n",
    "FONT_SIZE=16\n",
    "params = {'legend.fontsize': FONT_SIZE,\n",
    "         'axes.labelsize': FONT_SIZE,\n",
    "         'axes.titlesize':FONT_SIZE,\n",
    "         'figure.figsize': (8, 4),\n",
    "         'xtick.labelsize':FONT_SIZE,\n",
    "         'ytick.labelsize':FONT_SIZE}\n",
    "plt.rcParams.update(params)\n",
    "\n",
    "\n",
    "#rc={'axes.labelsize': FONT_SIZE, 'font.size': FONT_SIZE, 'legend.fontsize': FONT_SIZE, 'axes.titlesize': FONT_SIZE,'xtick.labelsize': FONT_SIZE, 'ytick.labelsize': FONT_SIZE}\n",
    "#plt.rcParams.update(**rc)\n",
    "\n",
    "\n",
    "\n",
    "seed = 1234\n",
    "#seed = None\n",
    "\n",
    "DPI=1200\n",
    "\n",
    "#XGBoost config\n",
    "params = {\n",
    "    'max_depth': 7,\n",
    "    'learning_rate': 0.26046515748913901,\n",
    "    'silent': 0,\n",
    "    'n_estimators': 110,\n",
    "    'colsample_bytree': 0.81958831684028921,\n",
    "    'gamma':0.25,\n",
    "    'subsample':0.93168572417786366,\n",
    "    'min_child_weight':0.9,\n",
    "    'colsample_bylevel':1,\n",
    "    'max_delta_step':0,\n",
    "    'reg_alpha':0,\n",
    "    'scale_pos_weight':1,\n",
    "    'missing':None,\n",
    "    'objective': 'multi:softmax',\n",
    "    'nthread': 4\n",
    "}\n",
    "\n",
    "#RandomForest config\n",
    "RF_N_TREES=1000"
   ]
  },
  {
   "cell_type": "markdown",
   "metadata": {},
   "source": [
    "## Load and preprocess dataset"
   ]
  },
  {
   "cell_type": "code",
   "execution_count": 257,
   "metadata": {
    "collapsed": false,
    "scrolled": true
   },
   "outputs": [
    {
     "name": "stdout",
     "output_type": "stream",
     "text": [
      "y: (8528,)\n",
      "['A' 'N' 'O' '~']\n",
      "DF after dropna: (8528, 386)\n",
      "X after imputer:(8528, 386)\n"
     ]
    }
   ],
   "source": [
    "input_file = \"/notebooks/data/ait_result_dataset.V37.csv\"\n",
    "df = pd.read_csv(input_file, header = 0)\n",
    "df=df.drop('target',axis=1)\n",
    "ref=pd.read_csv('/notebooks/References/REF_V3.csv',header=None)\n",
    "rec=ref[0]\n",
    "y=ref[1].as_matrix()\n",
    "print(\"y: \"+str(y.shape))\n",
    "classes= np.unique(y)\n",
    "print(classes)\n",
    "df=df.dropna(axis=1, how='all')\n",
    "print(\"DF after dropna: \"+str(df.shape))\n",
    "X=df.as_matrix()\n",
    "imp = Imputer(missing_values='NaN', strategy='mean', axis=0,verbose=1)\n",
    "X=imp.fit_transform(X)\n",
    "print(\"X after imputer:\"+str(X.shape))"
   ]
  },
  {
   "cell_type": "markdown",
   "metadata": {},
   "source": [
    "## Define common used test metrics"
   ]
  },
  {
   "cell_type": "markdown",
   "metadata": {},
   "source": [
    "Define common functions for evaluating the classifier, like F1-CinC Score (Mean of Normal, Average, Other)."
   ]
  },
  {
   "cell_type": "code",
   "execution_count": 258,
   "metadata": {
    "collapsed": false
   },
   "outputs": [],
   "source": [
    "cv = StratifiedKFold(y, n_folds=5, shuffle=True, random_state=seed)\n",
    "\n",
    "\n",
    "#global f1_classes_cv\n",
    "\n",
    "def test_classifier(clf,X,y):\n",
    "    \n",
    "    def my_custom_f1(y_true, predictions):\n",
    "        f1_classes=f1_score(y_true, predictions, labels=classes, average=None)\n",
    "        f1_classes_cv.append(f1_classes)\n",
    "        f1_custom=f1_score(y_true, predictions, labels=['N','A','O'], average='macro')\n",
    "        #print(\"F1 scores: \",f1_classes)\n",
    "        #print(\"F1 mean: {0:.3f}\".format(f1_custom))\n",
    "        return f1_custom\n",
    "\n",
    "\n",
    "\n",
    "    predictions = clf.predict(X)\n",
    "    #print(\"F1: {:1.4f}\".format(f1_score(y, predictions,labels=['N','A','O'],average='macro')))  \n",
    "    correct = 0\n",
    "\n",
    "    for i in range(len(predictions)):\n",
    "        if (y[i] == predictions[i]):\n",
    "            correct += 1\n",
    "    acc = accuracy_score(y, predictions)\n",
    "    #print('Predicted correctly: {0}/{1}'.format(correct, len(predictions)))\n",
    "    #print('Error: {0:.4f}'.format(1-acc))\n",
    "    #scorer = make_scorer(f1_score, labels=['A','O','N'], average='macro')\n",
    "    #global f1_classes_cv\n",
    "    f1_classes_cv=[]\n",
    "    scorer = make_scorer(my_custom_f1)\n",
    "    scores = cross_val_score(clf, X, y, cv=cv,scoring=scorer)\n",
    "    #print(f1_classes_cv)\n",
    "    f1_classes_cv=np.vstack(f1_classes_cv)\n",
    "    f1_classes_cv=np.mean(f1_classes_cv,axis=0)\n",
    "\n",
    "    print(\"== 5-fold CV ==\")\n",
    "    print(\"F1 scores 5-fold CV per iteration:\",scores)\n",
    "    print(\"F1 mean 5-fold CV per class:\",f1_classes_cv)\n",
    "    print(\"F1 mean 5-fold CV: {0:.3f}\".format(np.mean(scores)))\n",
    "    return np.mean(scores),f1_classes_cv\n",
    "\n",
    "# Generator that returns time differences\n",
    "def TicTocGenerator():\n",
    "    ti = 0 \n",
    "    tf = time.time()\n",
    "    while True:\n",
    "        ti = tf\n",
    "        tf = time.time()\n",
    "        yield tf-ti\n",
    "\n",
    "TicToc = TicTocGenerator()\n",
    "\n",
    "def toc(tempBool=True):\n",
    "    tempTimeInterval = next(TicToc)\n",
    "    if tempBool:\n",
    "        print( \"Elapsed time: %f seconds.\\n\" %tempTimeInterval)\n",
    "        return tempTimeInterval\n",
    "\n",
    "def tic(id):\n",
    "    print( \"Tic: %s\" %id)\n",
    "    toc(False)"
   ]
  },
  {
   "cell_type": "markdown",
   "metadata": {},
   "source": [
    "## Test by reference"
   ]
  },
  {
   "cell_type": "code",
   "execution_count": 218,
   "metadata": {
    "collapsed": true
   },
   "outputs": [],
   "source": [
    "REFERENCES = ['REF_V1','REF_V2','REF_V3','REF_TEIJERO','REF_KROPF']"
   ]
  },
  {
   "cell_type": "code",
   "execution_count": 217,
   "metadata": {
    "collapsed": false,
    "scrolled": true
   },
   "outputs": [
    {
     "ename": "KeyboardInterrupt",
     "evalue": "",
     "output_type": "error",
     "traceback": [
      "\u001b[0;31m---------------------------------------------------------------------------\u001b[0m",
      "\u001b[0;31mKeyboardInterrupt\u001b[0m                         Traceback (most recent call last)",
      "\u001b[0;32m<ipython-input-217-1505db8e492c>\u001b[0m in \u001b[0;36m<module>\u001b[0;34m()\u001b[0m\n\u001b[1;32m      4\u001b[0m     \u001b[0mref\u001b[0m\u001b[0;34m=\u001b[0m\u001b[0mpd\u001b[0m\u001b[0;34m.\u001b[0m\u001b[0mread_csv\u001b[0m\u001b[0;34m(\u001b[0m\u001b[0;34m'/notebooks/References/'\u001b[0m\u001b[0;34m+\u001b[0m\u001b[0mreference\u001b[0m\u001b[0;34m+\u001b[0m\u001b[0;34m'.csv'\u001b[0m\u001b[0;34m,\u001b[0m\u001b[0mheader\u001b[0m\u001b[0;34m=\u001b[0m\u001b[0;32mNone\u001b[0m\u001b[0;34m)\u001b[0m\u001b[0;34m\u001b[0m\u001b[0m\n\u001b[1;32m      5\u001b[0m     \u001b[0my\u001b[0m\u001b[0;34m=\u001b[0m\u001b[0mref\u001b[0m\u001b[0;34m[\u001b[0m\u001b[0;36m1\u001b[0m\u001b[0;34m]\u001b[0m\u001b[0;34m.\u001b[0m\u001b[0mas_matrix\u001b[0m\u001b[0;34m(\u001b[0m\u001b[0;34m)\u001b[0m\u001b[0;34m\u001b[0m\u001b[0m\n\u001b[0;32m----> 6\u001b[0;31m     \u001b[0mbst\u001b[0m \u001b[0;34m=\u001b[0m \u001b[0mXGBClassifier\u001b[0m\u001b[0;34m(\u001b[0m\u001b[0;34m**\u001b[0m\u001b[0mparams\u001b[0m\u001b[0;34m)\u001b[0m\u001b[0;34m.\u001b[0m\u001b[0mfit\u001b[0m\u001b[0;34m(\u001b[0m\u001b[0mX\u001b[0m\u001b[0;34m,\u001b[0m \u001b[0my\u001b[0m\u001b[0;34m,\u001b[0m\u001b[0mverbose\u001b[0m\u001b[0;34m=\u001b[0m\u001b[0;36m50\u001b[0m\u001b[0;34m)\u001b[0m\u001b[0;34m\u001b[0m\u001b[0m\n\u001b[0m\u001b[1;32m      7\u001b[0m     \u001b[0;34m[\u001b[0m\u001b[0ma1\u001b[0m\u001b[0;34m,\u001b[0m\u001b[0ma2\u001b[0m\u001b[0;34m]\u001b[0m\u001b[0;34m=\u001b[0m\u001b[0mtest_classifier\u001b[0m\u001b[0;34m(\u001b[0m\u001b[0mbst\u001b[0m\u001b[0;34m,\u001b[0m\u001b[0mX\u001b[0m\u001b[0;34m,\u001b[0m\u001b[0my\u001b[0m\u001b[0;34m)\u001b[0m\u001b[0;34m\u001b[0m\u001b[0m\n\u001b[1;32m      8\u001b[0m     \u001b[0mdf_results\u001b[0m\u001b[0;34m=\u001b[0m\u001b[0mdf_results\u001b[0m\u001b[0;34m.\u001b[0m\u001b[0mappend\u001b[0m\u001b[0;34m(\u001b[0m\u001b[0;34m{\u001b[0m\u001b[0;34m'Reference'\u001b[0m\u001b[0;34m:\u001b[0m\u001b[0mreference\u001b[0m\u001b[0;34m,\u001b[0m\u001b[0;34m'Classifier'\u001b[0m\u001b[0;34m:\u001b[0m\u001b[0;34m'XGB'\u001b[0m\u001b[0;34m,\u001b[0m \u001b[0;34m'F1'\u001b[0m\u001b[0;34m:\u001b[0m\u001b[0ma1\u001b[0m\u001b[0;34m,\u001b[0m\u001b[0;34m'F1 Normal'\u001b[0m\u001b[0;34m:\u001b[0m\u001b[0ma2\u001b[0m\u001b[0;34m[\u001b[0m\u001b[0;36m1\u001b[0m\u001b[0;34m]\u001b[0m\u001b[0;34m,\u001b[0m\u001b[0;34m'F1 AF'\u001b[0m\u001b[0;34m:\u001b[0m\u001b[0ma2\u001b[0m\u001b[0;34m[\u001b[0m\u001b[0;36m0\u001b[0m\u001b[0;34m]\u001b[0m\u001b[0;34m,\u001b[0m\u001b[0;34m'F1 Other'\u001b[0m\u001b[0;34m:\u001b[0m\u001b[0ma2\u001b[0m\u001b[0;34m[\u001b[0m\u001b[0;36m2\u001b[0m\u001b[0;34m]\u001b[0m\u001b[0;34m,\u001b[0m\u001b[0;34m'F1 Noise'\u001b[0m\u001b[0;34m:\u001b[0m\u001b[0ma2\u001b[0m\u001b[0;34m[\u001b[0m\u001b[0;36m3\u001b[0m\u001b[0;34m]\u001b[0m\u001b[0;34m}\u001b[0m\u001b[0;34m,\u001b[0m\u001b[0mignore_index\u001b[0m\u001b[0;34m=\u001b[0m\u001b[0;32mTrue\u001b[0m\u001b[0;34m)\u001b[0m\u001b[0;34m\u001b[0m\u001b[0m\n",
      "\u001b[0;32m/opt/conda/lib/python3.5/site-packages/xgboost/sklearn.py\u001b[0m in \u001b[0;36mfit\u001b[0;34m(self, X, y, sample_weight, eval_set, eval_metric, early_stopping_rounds, verbose, xgb_model)\u001b[0m\n\u001b[1;32m    504\u001b[0m                               \u001b[0mearly_stopping_rounds\u001b[0m\u001b[0;34m=\u001b[0m\u001b[0mearly_stopping_rounds\u001b[0m\u001b[0;34m,\u001b[0m\u001b[0;34m\u001b[0m\u001b[0m\n\u001b[1;32m    505\u001b[0m                               \u001b[0mevals_result\u001b[0m\u001b[0;34m=\u001b[0m\u001b[0mevals_result\u001b[0m\u001b[0;34m,\u001b[0m \u001b[0mobj\u001b[0m\u001b[0;34m=\u001b[0m\u001b[0mobj\u001b[0m\u001b[0;34m,\u001b[0m \u001b[0mfeval\u001b[0m\u001b[0;34m=\u001b[0m\u001b[0mfeval\u001b[0m\u001b[0;34m,\u001b[0m\u001b[0;34m\u001b[0m\u001b[0m\n\u001b[0;32m--> 506\u001b[0;31m                               verbose_eval=verbose, xgb_model=None)\n\u001b[0m\u001b[1;32m    507\u001b[0m \u001b[0;34m\u001b[0m\u001b[0m\n\u001b[1;32m    508\u001b[0m         \u001b[0mself\u001b[0m\u001b[0;34m.\u001b[0m\u001b[0mobjective\u001b[0m \u001b[0;34m=\u001b[0m \u001b[0mxgb_options\u001b[0m\u001b[0;34m[\u001b[0m\u001b[0;34m\"objective\"\u001b[0m\u001b[0;34m]\u001b[0m\u001b[0;34m\u001b[0m\u001b[0m\n",
      "\u001b[0;32m/opt/conda/lib/python3.5/site-packages/xgboost/training.py\u001b[0m in \u001b[0;36mtrain\u001b[0;34m(params, dtrain, num_boost_round, evals, obj, feval, maximize, early_stopping_rounds, evals_result, verbose_eval, xgb_model, callbacks, learning_rates)\u001b[0m\n\u001b[1;32m    202\u001b[0m                            \u001b[0mevals\u001b[0m\u001b[0;34m=\u001b[0m\u001b[0mevals\u001b[0m\u001b[0;34m,\u001b[0m\u001b[0;34m\u001b[0m\u001b[0m\n\u001b[1;32m    203\u001b[0m                            \u001b[0mobj\u001b[0m\u001b[0;34m=\u001b[0m\u001b[0mobj\u001b[0m\u001b[0;34m,\u001b[0m \u001b[0mfeval\u001b[0m\u001b[0;34m=\u001b[0m\u001b[0mfeval\u001b[0m\u001b[0;34m,\u001b[0m\u001b[0;34m\u001b[0m\u001b[0m\n\u001b[0;32m--> 204\u001b[0;31m                            xgb_model=xgb_model, callbacks=callbacks)\n\u001b[0m\u001b[1;32m    205\u001b[0m \u001b[0;34m\u001b[0m\u001b[0m\n\u001b[1;32m    206\u001b[0m \u001b[0;34m\u001b[0m\u001b[0m\n",
      "\u001b[0;32m/opt/conda/lib/python3.5/site-packages/xgboost/training.py\u001b[0m in \u001b[0;36m_train_internal\u001b[0;34m(params, dtrain, num_boost_round, evals, obj, feval, xgb_model, callbacks)\u001b[0m\n\u001b[1;32m     72\u001b[0m         \u001b[0;31m# Skip the first update if it is a recovery step.\u001b[0m\u001b[0;34m\u001b[0m\u001b[0;34m\u001b[0m\u001b[0m\n\u001b[1;32m     73\u001b[0m         \u001b[0;32mif\u001b[0m \u001b[0mversion\u001b[0m \u001b[0;34m%\u001b[0m \u001b[0;36m2\u001b[0m \u001b[0;34m==\u001b[0m \u001b[0;36m0\u001b[0m\u001b[0;34m:\u001b[0m\u001b[0;34m\u001b[0m\u001b[0m\n\u001b[0;32m---> 74\u001b[0;31m             \u001b[0mbst\u001b[0m\u001b[0;34m.\u001b[0m\u001b[0mupdate\u001b[0m\u001b[0;34m(\u001b[0m\u001b[0mdtrain\u001b[0m\u001b[0;34m,\u001b[0m \u001b[0mi\u001b[0m\u001b[0;34m,\u001b[0m \u001b[0mobj\u001b[0m\u001b[0;34m)\u001b[0m\u001b[0;34m\u001b[0m\u001b[0m\n\u001b[0m\u001b[1;32m     75\u001b[0m             \u001b[0mbst\u001b[0m\u001b[0;34m.\u001b[0m\u001b[0msave_rabit_checkpoint\u001b[0m\u001b[0;34m(\u001b[0m\u001b[0;34m)\u001b[0m\u001b[0;34m\u001b[0m\u001b[0m\n\u001b[1;32m     76\u001b[0m             \u001b[0mversion\u001b[0m \u001b[0;34m+=\u001b[0m \u001b[0;36m1\u001b[0m\u001b[0;34m\u001b[0m\u001b[0m\n",
      "\u001b[0;32m/opt/conda/lib/python3.5/site-packages/xgboost/core.py\u001b[0m in \u001b[0;36mupdate\u001b[0;34m(self, dtrain, iteration, fobj)\u001b[0m\n\u001b[1;32m    896\u001b[0m         \u001b[0;32mif\u001b[0m \u001b[0mfobj\u001b[0m \u001b[0;32mis\u001b[0m \u001b[0;32mNone\u001b[0m\u001b[0;34m:\u001b[0m\u001b[0;34m\u001b[0m\u001b[0m\n\u001b[1;32m    897\u001b[0m             _check_call(_LIB.XGBoosterUpdateOneIter(self.handle, ctypes.c_int(iteration),\n\u001b[0;32m--> 898\u001b[0;31m                                                     dtrain.handle))\n\u001b[0m\u001b[1;32m    899\u001b[0m         \u001b[0;32melse\u001b[0m\u001b[0;34m:\u001b[0m\u001b[0;34m\u001b[0m\u001b[0m\n\u001b[1;32m    900\u001b[0m             \u001b[0mpred\u001b[0m \u001b[0;34m=\u001b[0m \u001b[0mself\u001b[0m\u001b[0;34m.\u001b[0m\u001b[0mpredict\u001b[0m\u001b[0;34m(\u001b[0m\u001b[0mdtrain\u001b[0m\u001b[0;34m)\u001b[0m\u001b[0;34m\u001b[0m\u001b[0m\n",
      "\u001b[0;31mKeyboardInterrupt\u001b[0m: "
     ]
    }
   ],
   "source": [
    "df_results=pd.DataFrame(columns=['Reference','Classifier','F1','F1 Normal','F1 AF','F1 Other','F1 Noise'])\n",
    "\n",
    "for reference in REFERENCES:\n",
    "    ref=pd.read_csv('/notebooks/References/'+reference+'.csv',header=None)\n",
    "    y=ref[1].as_matrix()\n",
    "    bst = XGBClassifier(**params).fit(X, y,verbose=50)\n",
    "    [a1,a2]=test_classifier(bst,X,y)\n",
    "    df_results=df_results.append({'Reference':reference,'Classifier':'XGB', 'F1':a1,'F1 Normal':a2[1],'F1 AF':a2[0],'F1 Other':a2[2],'F1 Noise':a2[3]},ignore_index=True)\n",
    "    rf = RandomForestClassifier(n_jobs=-1, random_state=seed,n_estimators=RF_N_TREES).fit(X, y)\n",
    "    [a1,a2]=test_classifier(rf,X,y)\n",
    "    df_results=df_results.append({'Reference':reference,'Classifier':'RF', 'F1':a1,'F1 Normal':a2[1],'F1 AF':a2[0],'F1 Other':a2[2],'F1 Noise':a2[3]},ignore_index=True)\n",
    "    display(df_results)\n",
    "\n",
    "joblib.dump(df_results, 'f1_by_reference.pkl', compress = 1)"
   ]
  },
  {
   "cell_type": "markdown",
   "metadata": {},
   "source": [
    "## Barchart: F1 score by reference"
   ]
  },
  {
   "cell_type": "code",
   "execution_count": 232,
   "metadata": {
    "collapsed": false
   },
   "outputs": [
    {
     "data": {
      "image/png": "[encoded data removed]",
      "text/plain": [
       "<matplotlib.figure.Figure at 0x7f1f22567978>"
      ]
     },
     "metadata": {},
     "output_type": "display_data"
    }
   ],
   "source": [
    "mpl.style.use('seaborn-white')\n",
    "\n",
    "\n",
    "df_results=joblib.load('f1_by_reference.pkl')\n",
    "#current_palette_4 = sns.color_palette(\"hls\", 4)\n",
    "#sns.set_palette(current_palette_4)\n",
    "\n",
    "n_groups = len(REFERENCES)\n",
    "index = np.arange(n_groups)\n",
    "\n",
    "fig, ax = plt.subplots()\n",
    "bar_width = 0.35\n",
    "opacity = 1\n",
    "error_config = {'ecolor': '0.3'}\n",
    "\n",
    "\n",
    "#sns.set_context(\"paper\")\n",
    "#plt.style.use(['seaborn-paper', 'seaborn-white'])\n",
    "#matplotlib.rc(\"font\", family=\"Times New Roman\")\n",
    "\n",
    "\n",
    "params = {'legend.fontsize': FONT_SIZE,\n",
    "         'axes.labelsize': FONT_SIZE,\n",
    "         'axes.titlesize':FONT_SIZE,\n",
    "         'figure.figsize': (9, 4),\n",
    "         'xtick.labelsize':FONT_SIZE,\n",
    "         'ytick.labelsize':FONT_SIZE}\n",
    "plt.rcParams.update(params)\n",
    "\n",
    "\n",
    "\n",
    "\n",
    "rects1 = ax.bar(index, df_results[df_results.Classifier=='XGB'].F1, bar_width,\n",
    "                alpha=opacity, color='black',\n",
    "                yerr=None, error_kw=error_config,\n",
    "                label='XGBoost')\n",
    "\n",
    "rects2 = ax.bar(index + bar_width, df_results[df_results.Classifier=='RF'].F1, bar_width,\n",
    "                alpha=opacity, color='white', edgecolor=['black']*len(index),\n",
    "                yerr=None, error_kw=error_config,linewidth=2.0,\n",
    "                label='Random Forest')\n",
    "\n",
    "#x.set_xlabel('Reference',fontsize=FONT_SIZE)\n",
    "ax.set_ylabel('F1$_{CinC}$',fontsize=FONT_SIZE)\n",
    "#ax.set_title('F1 score by reference and classifier')\n",
    "ax.set_xticks(index + bar_width)\n",
    "ax.set_xticklabels(REFERENCES)\n",
    "ax.legend(loc=\"upper left\")\n",
    "ax.set_ylim([0.825,0.86])\n",
    "ax.grid()\n",
    "#fig.set_facecolor('white')\n",
    "#plt.rcParams['axes.facecolor']='white'\n",
    "#plt.rcParams['savefig.facecolor']='white'\n",
    "#plt.rcParams['savefig.force_edgecolor'] = True\n",
    "#plt.rcParams['savefig.edgecolor'] = 'black'\n",
    "\n",
    "\n",
    "fig.tight_layout()\n",
    "#plt.show()\n",
    "plt.savefig('/notebooks/data/barchart_f1_score_by_reference.png',dpi=DPI)"
   ]
  },
  {
   "cell_type": "code",
   "execution_count": 213,
   "metadata": {
    "collapsed": false
   },
   "outputs": [
    {
     "data": {
      "text/html": [
       "<div>\n",
       "<style scoped>\n",
       "    .dataframe tbody tr th:only-of-type {\n",
       "        vertical-align: middle;\n",
       "    }\n",
       "\n",
       "    .dataframe tbody tr th {\n",
       "        vertical-align: top;\n",
       "    }\n",
       "\n",
       "    .dataframe thead th {\n",
       "        text-align: right;\n",
       "    }\n",
       "</style>\n",
       "<table border=\"1\" class=\"dataframe\">\n",
       "  <thead>\n",
       "    <tr style=\"text-align: right;\">\n",
       "      <th></th>\n",
       "      <th>Reference</th>\n",
       "      <th>Classifier</th>\n",
       "      <th>F1</th>\n",
       "      <th>F1 Normal</th>\n",
       "      <th>F1 AF</th>\n",
       "      <th>F1 Other</th>\n",
       "      <th>F1 Noise</th>\n",
       "    </tr>\n",
       "  </thead>\n",
       "  <tbody>\n",
       "    <tr>\n",
       "      <th>0</th>\n",
       "      <td>REF_V1</td>\n",
       "      <td>XGB</td>\n",
       "      <td>0.837</td>\n",
       "      <td>0.910</td>\n",
       "      <td>0.828</td>\n",
       "      <td>0.773</td>\n",
       "      <td>0.686</td>\n",
       "    </tr>\n",
       "    <tr>\n",
       "      <th>2</th>\n",
       "      <td>REF_V2</td>\n",
       "      <td>XGB</td>\n",
       "      <td>0.838</td>\n",
       "      <td>0.911</td>\n",
       "      <td>0.825</td>\n",
       "      <td>0.779</td>\n",
       "      <td>0.678</td>\n",
       "    </tr>\n",
       "    <tr>\n",
       "      <th>4</th>\n",
       "      <td>REF_V3</td>\n",
       "      <td>XGB</td>\n",
       "      <td>0.842</td>\n",
       "      <td>0.910</td>\n",
       "      <td>0.840</td>\n",
       "      <td>0.775</td>\n",
       "      <td>0.660</td>\n",
       "    </tr>\n",
       "    <tr>\n",
       "      <th>6</th>\n",
       "      <td>REF_TEIJERO</td>\n",
       "      <td>XGB</td>\n",
       "      <td>0.855</td>\n",
       "      <td>0.921</td>\n",
       "      <td>0.830</td>\n",
       "      <td>0.814</td>\n",
       "      <td>0.684</td>\n",
       "    </tr>\n",
       "    <tr>\n",
       "      <th>8</th>\n",
       "      <td>REF_KROPF</td>\n",
       "      <td>XGB</td>\n",
       "      <td>0.856</td>\n",
       "      <td>0.922</td>\n",
       "      <td>0.830</td>\n",
       "      <td>0.817</td>\n",
       "      <td>0.679</td>\n",
       "    </tr>\n",
       "  </tbody>\n",
       "</table>\n",
       "</div>"
      ],
      "text/plain": [
       "     Reference Classifier     F1  F1 Normal  F1 AF  F1 Other  F1 Noise\n",
       "0       REF_V1        XGB  0.837      0.910  0.828     0.773     0.686\n",
       "2       REF_V2        XGB  0.838      0.911  0.825     0.779     0.678\n",
       "4       REF_V3        XGB  0.842      0.910  0.840     0.775     0.660\n",
       "6  REF_TEIJERO        XGB  0.855      0.921  0.830     0.814     0.684\n",
       "8    REF_KROPF        XGB  0.856      0.922  0.830     0.817     0.679"
      ]
     },
     "execution_count": 213,
     "metadata": {},
     "output_type": "execute_result"
    }
   ],
   "source": [
    "df_results[df_results.Classifier=='XGB']"
   ]
  },
  {
   "cell_type": "code",
   "execution_count": 104,
   "metadata": {
    "collapsed": false
   },
   "outputs": [
    {
     "data": {
      "text/html": [
       "<div>\n",
       "<style scoped>\n",
       "    .dataframe tbody tr th:only-of-type {\n",
       "        vertical-align: middle;\n",
       "    }\n",
       "\n",
       "    .dataframe tbody tr th {\n",
       "        vertical-align: top;\n",
       "    }\n",
       "\n",
       "    .dataframe thead th {\n",
       "        text-align: right;\n",
       "    }\n",
       "</style>\n",
       "<table border=\"1\" class=\"dataframe\">\n",
       "  <thead>\n",
       "    <tr style=\"text-align: right;\">\n",
       "      <th></th>\n",
       "      <th>Reference</th>\n",
       "      <th>Classifier</th>\n",
       "      <th>F1</th>\n",
       "      <th>F1 Normal</th>\n",
       "      <th>F1 AF</th>\n",
       "      <th>F1 Other</th>\n",
       "      <th>F1 Noise</th>\n",
       "    </tr>\n",
       "  </thead>\n",
       "  <tbody>\n",
       "    <tr>\n",
       "      <th>1</th>\n",
       "      <td>REF_V1</td>\n",
       "      <td>RF</td>\n",
       "      <td>0.830</td>\n",
       "      <td>0.909</td>\n",
       "      <td>0.811</td>\n",
       "      <td>0.771</td>\n",
       "      <td>0.643</td>\n",
       "    </tr>\n",
       "    <tr>\n",
       "      <th>3</th>\n",
       "      <td>REF_V2</td>\n",
       "      <td>RF</td>\n",
       "      <td>0.831</td>\n",
       "      <td>0.910</td>\n",
       "      <td>0.810</td>\n",
       "      <td>0.773</td>\n",
       "      <td>0.645</td>\n",
       "    </tr>\n",
       "    <tr>\n",
       "      <th>5</th>\n",
       "      <td>REF_V3</td>\n",
       "      <td>RF</td>\n",
       "      <td>0.835</td>\n",
       "      <td>0.906</td>\n",
       "      <td>0.833</td>\n",
       "      <td>0.765</td>\n",
       "      <td>0.629</td>\n",
       "    </tr>\n",
       "    <tr>\n",
       "      <th>7</th>\n",
       "      <td>REF_TEIJERO</td>\n",
       "      <td>RF</td>\n",
       "      <td>0.840</td>\n",
       "      <td>0.916</td>\n",
       "      <td>0.802</td>\n",
       "      <td>0.800</td>\n",
       "      <td>0.657</td>\n",
       "    </tr>\n",
       "    <tr>\n",
       "      <th>9</th>\n",
       "      <td>REF_KROPF</td>\n",
       "      <td>RF</td>\n",
       "      <td>0.843</td>\n",
       "      <td>0.917</td>\n",
       "      <td>0.809</td>\n",
       "      <td>0.803</td>\n",
       "      <td>0.659</td>\n",
       "    </tr>\n",
       "  </tbody>\n",
       "</table>\n",
       "</div>"
      ],
      "text/plain": [
       "     Reference Classifier     F1  F1 Normal  F1 AF  F1 Other  F1 Noise\n",
       "1       REF_V1         RF  0.830      0.909  0.811     0.771     0.643\n",
       "3       REF_V2         RF  0.831      0.910  0.810     0.773     0.645\n",
       "5       REF_V3         RF  0.835      0.906  0.833     0.765     0.629\n",
       "7  REF_TEIJERO         RF  0.840      0.916  0.802     0.800     0.657\n",
       "9    REF_KROPF         RF  0.843      0.917  0.809     0.803     0.659"
      ]
     },
     "execution_count": 104,
     "metadata": {},
     "output_type": "execute_result"
    }
   ],
   "source": [
    "df_results[df_results.Classifier=='RF']"
   ]
  },
  {
   "cell_type": "markdown",
   "metadata": {},
   "source": [
    "## Test by feature category"
   ]
  },
  {
   "cell_type": "code",
   "execution_count": 184,
   "metadata": {
    "collapsed": false
   },
   "outputs": [
    {
     "data": {
      "text/plain": [
       "array(['Atrial', 'Average', 'Beat', 'Meta', 'QRS', 'Rhythm', 'Signal'],\n",
       "      dtype=object)"
      ]
     },
     "execution_count": 184,
     "metadata": {},
     "output_type": "execute_result"
    }
   ],
   "source": [
    "feat_dha=pd.read_excel('/notebooks/data/fi_merged.xlsx')\n",
    "categories=feat_dha.Category.unique()\n",
    "categories=np.sort(categories)\n",
    "\n",
    "categories"
   ]
  },
  {
   "cell_type": "code",
   "execution_count": 161,
   "metadata": {
    "collapsed": false,
    "scrolled": true
   },
   "outputs": [
    {
     "name": "stdout",
     "output_type": "stream",
     "text": [
      "Atrial 0.180572 0.08127222755101032\n"
     ]
    },
    {
     "ename": "KeyError",
     "evalue": "\"['af_mean_atrialHR1' 'af_mean_atrialHR' 'af_pp_irregularity1'\\n 'af_medianPamp1' 'af_p_af_freq_rel_2' 'af_atrial_frequency' 'af_iqrPamp1'\\n 'af_medianPamp' 'af_pp_irregularity21' 'remav_ampRatio_qrsBlank'\\n 'af_atrial_hr_ratio50' 'af_iqr_atrialHR' 'af_pp_irregularity2'\\n 'af_p_af_freq_2' 'af_atrial_hr_ratio501' 'af_iqr_atrialHR1'\\n 'af_p_af_freq_6' 'af_p_af_freq_rel_6'\\n 'remav_mean_amp_before_qrsBlank_rel' 'af_p_af_freq_rel_5'\\n 'af_pp_irregularity' 'af_mean_atrialHR_ratio_HR1' 'af_p_af_freq_rel_3'\\n 'af_p_af_freq_rel_4' 'af_median_atrialHR1'\\n 'remav_mean_amp_after_qrsBlank_rel' 'af_median_atrialHR_ratio_HR1'\\n 'af_median_atrialHR_ratio_HR' 'af_p_af_freq_3'\\n 'remav_mean_amp_after_qrsBlank' 'af_p_af_freq_5'\\n 'remav_mean_amp_before_qrsBlank' 'af_p_af_freq_1'\\n 'af_mean_atrialHR_ratio_HR' 'af_iqrPamp' 'af_p_af_freq_4'\\n 'af_median_atrialHR' 'af_nice_found' 'af_p_af_freq_rel_1'] not in index\"",
     "output_type": "error",
     "traceback": [
      "\u001b[0;31m---------------------------------------------------------------------------\u001b[0m",
      "\u001b[0;31mKeyError\u001b[0m                                  Traceback (most recent call last)",
      "\u001b[0;32m<ipython-input-161-b2185affedfe>\u001b[0m in \u001b[0;36m<module>\u001b[0;34m()\u001b[0m\n\u001b[1;32m      9\u001b[0m \u001b[0;34m\u001b[0m\u001b[0m\n\u001b[1;32m     10\u001b[0m     \u001b[0mprint\u001b[0m\u001b[0;34m(\u001b[0m\u001b[0mcategory\u001b[0m\u001b[0;34m,\u001b[0m\u001b[0mfeat_sum_xgb\u001b[0m\u001b[0;34m,\u001b[0m\u001b[0mfeat_sum_rf\u001b[0m\u001b[0;34m)\u001b[0m\u001b[0;34m\u001b[0m\u001b[0m\n\u001b[0;32m---> 11\u001b[0;31m     \u001b[0mdf_new\u001b[0m \u001b[0;34m=\u001b[0m \u001b[0mdf\u001b[0m\u001b[0;34m[\u001b[0m\u001b[0mfeat_dha\u001b[0m\u001b[0;34m[\u001b[0m\u001b[0mfeat_dha\u001b[0m\u001b[0;34m.\u001b[0m\u001b[0mCategory\u001b[0m\u001b[0;34m==\u001b[0m\u001b[0mcategory\u001b[0m\u001b[0;34m]\u001b[0m\u001b[0;34m.\u001b[0m\u001b[0mName\u001b[0m\u001b[0;34m]\u001b[0m\u001b[0;34m\u001b[0m\u001b[0m\n\u001b[0m\u001b[1;32m     12\u001b[0m     \u001b[0mX\u001b[0m\u001b[0;34m=\u001b[0m\u001b[0mdf_new\u001b[0m\u001b[0;34m.\u001b[0m\u001b[0mas_matrix\u001b[0m\u001b[0;34m(\u001b[0m\u001b[0;34m)\u001b[0m\u001b[0;34m\u001b[0m\u001b[0m\n\u001b[1;32m     13\u001b[0m     \u001b[0mprint\u001b[0m\u001b[0;34m(\u001b[0m\u001b[0;34m\"X: \"\u001b[0m\u001b[0;34m+\u001b[0m\u001b[0mstr\u001b[0m\u001b[0;34m(\u001b[0m\u001b[0mX\u001b[0m\u001b[0;34m.\u001b[0m\u001b[0mshape\u001b[0m\u001b[0;34m)\u001b[0m\u001b[0;34m)\u001b[0m\u001b[0;34m\u001b[0m\u001b[0m\n",
      "\u001b[0;32m/opt/conda/lib/python3.5/site-packages/pandas/core/frame.py\u001b[0m in \u001b[0;36m__getitem__\u001b[0;34m(self, key)\u001b[0m\n\u001b[1;32m   2131\u001b[0m         \u001b[0;32mif\u001b[0m \u001b[0misinstance\u001b[0m\u001b[0;34m(\u001b[0m\u001b[0mkey\u001b[0m\u001b[0;34m,\u001b[0m \u001b[0;34m(\u001b[0m\u001b[0mSeries\u001b[0m\u001b[0;34m,\u001b[0m \u001b[0mnp\u001b[0m\u001b[0;34m.\u001b[0m\u001b[0mndarray\u001b[0m\u001b[0;34m,\u001b[0m \u001b[0mIndex\u001b[0m\u001b[0;34m,\u001b[0m \u001b[0mlist\u001b[0m\u001b[0;34m)\u001b[0m\u001b[0;34m)\u001b[0m\u001b[0;34m:\u001b[0m\u001b[0;34m\u001b[0m\u001b[0m\n\u001b[1;32m   2132\u001b[0m             \u001b[0;31m# either boolean or fancy integer index\u001b[0m\u001b[0;34m\u001b[0m\u001b[0;34m\u001b[0m\u001b[0m\n\u001b[0;32m-> 2133\u001b[0;31m             \u001b[0;32mreturn\u001b[0m \u001b[0mself\u001b[0m\u001b[0;34m.\u001b[0m\u001b[0m_getitem_array\u001b[0m\u001b[0;34m(\u001b[0m\u001b[0mkey\u001b[0m\u001b[0;34m)\u001b[0m\u001b[0;34m\u001b[0m\u001b[0m\n\u001b[0m\u001b[1;32m   2134\u001b[0m         \u001b[0;32melif\u001b[0m \u001b[0misinstance\u001b[0m\u001b[0;34m(\u001b[0m\u001b[0mkey\u001b[0m\u001b[0;34m,\u001b[0m \u001b[0mDataFrame\u001b[0m\u001b[0;34m)\u001b[0m\u001b[0;34m:\u001b[0m\u001b[0;34m\u001b[0m\u001b[0m\n\u001b[1;32m   2135\u001b[0m             \u001b[0;32mreturn\u001b[0m \u001b[0mself\u001b[0m\u001b[0;34m.\u001b[0m\u001b[0m_getitem_frame\u001b[0m\u001b[0;34m(\u001b[0m\u001b[0mkey\u001b[0m\u001b[0;34m)\u001b[0m\u001b[0;34m\u001b[0m\u001b[0m\n",
      "\u001b[0;32m/opt/conda/lib/python3.5/site-packages/pandas/core/frame.py\u001b[0m in \u001b[0;36m_getitem_array\u001b[0;34m(self, key)\u001b[0m\n\u001b[1;32m   2175\u001b[0m             \u001b[0;32mreturn\u001b[0m \u001b[0mself\u001b[0m\u001b[0;34m.\u001b[0m\u001b[0m_take\u001b[0m\u001b[0;34m(\u001b[0m\u001b[0mindexer\u001b[0m\u001b[0;34m,\u001b[0m \u001b[0maxis\u001b[0m\u001b[0;34m=\u001b[0m\u001b[0;36m0\u001b[0m\u001b[0;34m,\u001b[0m \u001b[0mconvert\u001b[0m\u001b[0;34m=\u001b[0m\u001b[0;32mFalse\u001b[0m\u001b[0;34m)\u001b[0m\u001b[0;34m\u001b[0m\u001b[0m\n\u001b[1;32m   2176\u001b[0m         \u001b[0;32melse\u001b[0m\u001b[0;34m:\u001b[0m\u001b[0;34m\u001b[0m\u001b[0m\n\u001b[0;32m-> 2177\u001b[0;31m             \u001b[0mindexer\u001b[0m \u001b[0;34m=\u001b[0m \u001b[0mself\u001b[0m\u001b[0;34m.\u001b[0m\u001b[0mloc\u001b[0m\u001b[0;34m.\u001b[0m\u001b[0m_convert_to_indexer\u001b[0m\u001b[0;34m(\u001b[0m\u001b[0mkey\u001b[0m\u001b[0;34m,\u001b[0m \u001b[0maxis\u001b[0m\u001b[0;34m=\u001b[0m\u001b[0;36m1\u001b[0m\u001b[0;34m)\u001b[0m\u001b[0;34m\u001b[0m\u001b[0m\n\u001b[0m\u001b[1;32m   2178\u001b[0m             \u001b[0;32mreturn\u001b[0m \u001b[0mself\u001b[0m\u001b[0;34m.\u001b[0m\u001b[0m_take\u001b[0m\u001b[0;34m(\u001b[0m\u001b[0mindexer\u001b[0m\u001b[0;34m,\u001b[0m \u001b[0maxis\u001b[0m\u001b[0;34m=\u001b[0m\u001b[0;36m1\u001b[0m\u001b[0;34m,\u001b[0m \u001b[0mconvert\u001b[0m\u001b[0;34m=\u001b[0m\u001b[0;32mTrue\u001b[0m\u001b[0;34m)\u001b[0m\u001b[0;34m\u001b[0m\u001b[0m\n\u001b[1;32m   2179\u001b[0m \u001b[0;34m\u001b[0m\u001b[0m\n",
      "\u001b[0;32m/opt/conda/lib/python3.5/site-packages/pandas/core/indexing.py\u001b[0m in \u001b[0;36m_convert_to_indexer\u001b[0;34m(self, obj, axis, is_setter)\u001b[0m\n\u001b[1;32m   1267\u001b[0m                 \u001b[0;32mif\u001b[0m \u001b[0mmask\u001b[0m\u001b[0;34m.\u001b[0m\u001b[0many\u001b[0m\u001b[0;34m(\u001b[0m\u001b[0;34m)\u001b[0m\u001b[0;34m:\u001b[0m\u001b[0;34m\u001b[0m\u001b[0m\n\u001b[1;32m   1268\u001b[0m                     raise KeyError('{mask} not in index'\n\u001b[0;32m-> 1269\u001b[0;31m                                    .format(mask=objarr[mask]))\n\u001b[0m\u001b[1;32m   1270\u001b[0m \u001b[0;34m\u001b[0m\u001b[0m\n\u001b[1;32m   1271\u001b[0m                 \u001b[0;32mreturn\u001b[0m \u001b[0m_values_from_object\u001b[0m\u001b[0;34m(\u001b[0m\u001b[0mindexer\u001b[0m\u001b[0;34m)\u001b[0m\u001b[0;34m\u001b[0m\u001b[0m\n",
      "\u001b[0;31mKeyError\u001b[0m: \"['af_mean_atrialHR1' 'af_mean_atrialHR' 'af_pp_irregularity1'\\n 'af_medianPamp1' 'af_p_af_freq_rel_2' 'af_atrial_frequency' 'af_iqrPamp1'\\n 'af_medianPamp' 'af_pp_irregularity21' 'remav_ampRatio_qrsBlank'\\n 'af_atrial_hr_ratio50' 'af_iqr_atrialHR' 'af_pp_irregularity2'\\n 'af_p_af_freq_2' 'af_atrial_hr_ratio501' 'af_iqr_atrialHR1'\\n 'af_p_af_freq_6' 'af_p_af_freq_rel_6'\\n 'remav_mean_amp_before_qrsBlank_rel' 'af_p_af_freq_rel_5'\\n 'af_pp_irregularity' 'af_mean_atrialHR_ratio_HR1' 'af_p_af_freq_rel_3'\\n 'af_p_af_freq_rel_4' 'af_median_atrialHR1'\\n 'remav_mean_amp_after_qrsBlank_rel' 'af_median_atrialHR_ratio_HR1'\\n 'af_median_atrialHR_ratio_HR' 'af_p_af_freq_3'\\n 'remav_mean_amp_after_qrsBlank' 'af_p_af_freq_5'\\n 'remav_mean_amp_before_qrsBlank' 'af_p_af_freq_1'\\n 'af_mean_atrialHR_ratio_HR' 'af_iqrPamp' 'af_p_af_freq_4'\\n 'af_median_atrialHR' 'af_nice_found' 'af_p_af_freq_rel_1'] not in index\""
     ]
    }
   ],
   "source": [
    "df_results=pd.DataFrame(columns=['Category','Classifier','Importance','F1','F1 Normal','F1 AF','F1 Other','F1 Noise','Count'])\n",
    "\n",
    "for category in categories:\n",
    "    feat_sum_xgb= feat_dha[feat_dha.Category==category].ImportanceXGB.sum()    \n",
    "    feat_sum_rf= feat_dha[feat_dha.Category==category].ImportanceRF.sum()\n",
    "    \n",
    "    feat_count_xgb= len(feat_dha[feat_dha.Category==category].ImportanceXGB)\n",
    "    feat_count_rf= len(feat_dha[feat_dha.Category==category].ImportanceRF)\n",
    "\n",
    "    print(category,feat_sum_xgb,feat_sum_rf)\n",
    "    df_new = df[feat_dha[feat_dha.Category==category].Name]\n",
    "    X=df_new.as_matrix()\n",
    "    print(\"X: \"+str(X.shape))\n",
    "    imp = Imputer(missing_values='NaN', strategy='mean', axis=0,verbose=1)\n",
    "    X_new=imp.fit_transform(X)    \n",
    "\n",
    "    bst = XGBClassifier(**params).fit(X_new, y,verbose=50)\n",
    "    [a1,a2]=test_classifier(bst,X_new,y)\n",
    "    df_results=df_results.append({'Category':category,'Classifier':'XGB','Importance':feat_sum_xgb, 'F1':a1,'F1 Normal':a2[1],'F1 AF':a2[0],'F1 Other':a2[2],'F1 Noise':a2[3],'Count':feat_count_xgb},ignore_index=True)\n",
    "    rf = RandomForestClassifier(n_jobs=-1, random_state=seed,n_estimators=RF_N_TREES).fit(X_new, y)\n",
    "    [a1,a2]=test_classifier(rf,X_new,y)\n",
    "    df_results=df_results.append({'Category':category,'Classifier':'RF','Importance':feat_sum_rf, 'F1':a1,'F1 Normal':a2[1],'F1 AF':a2[0],'F1 Other':a2[2],'F1 Noise':a2[3],'Count':feat_count_rf},ignore_index=True)\n",
    "    \n",
    "joblib.dump(df_results, 'f1_by_category.pkl', compress = 1)"
   ]
  },
  {
   "cell_type": "markdown",
   "metadata": {},
   "source": [
    "\n",
    "### Test by excluding category"
   ]
  },
  {
   "cell_type": "code",
   "execution_count": 15,
   "metadata": {
    "collapsed": false,
    "scrolled": true
   },
   "outputs": [
    {
     "name": "stdout",
     "output_type": "stream",
     "text": [
      "Atrial 0.8194279999999999 0.9187277724489896\n",
      "X: (8528, 347)\n",
      "== 5-fold CV ==\n",
      "F1 scores 5-fold CV per iteration: [0.843 0.835 0.855 0.815 0.844]\n",
      "F1 mean 5-fold CV per class: [0.843 0.906 0.767 0.663]\n",
      "F1 mean 5-fold CV: 0.838\n",
      "== 5-fold CV ==\n",
      "F1 scores 5-fold CV per iteration: [0.836 0.82  0.852 0.821 0.84 ]\n",
      "F1 mean 5-fold CV per class: [0.829 0.907 0.765 0.644]\n",
      "F1 mean 5-fold CV: 0.834\n",
      "Average beat 0.856502 0.9079852730357203\n",
      "X: (8528, 326)\n",
      "== 5-fold CV ==\n",
      "F1 scores 5-fold CV per iteration: [0.835 0.82  0.851 0.816 0.833]\n",
      "F1 mean 5-fold CV per class: [0.834 0.904 0.756 0.673]\n",
      "F1 mean 5-fold CV: 0.831\n",
      "== 5-fold CV ==\n",
      "F1 scores 5-fold CV per iteration: [0.828 0.818 0.854 0.816 0.833]\n",
      "F1 mean 5-fold CV per class: [0.822 0.908 0.76  0.643]\n",
      "F1 mean 5-fold CV: 0.830\n",
      "Beat 0.782905 0.8898630204494162\n",
      "X: (8528, 340)\n",
      "== 5-fold CV ==\n",
      "F1 scores 5-fold CV per iteration: [0.837 0.831 0.859 0.816 0.849]\n",
      "F1 mean 5-fold CV per class: [0.836 0.908 0.77  0.671]\n",
      "F1 mean 5-fold CV: 0.838\n",
      "== 5-fold CV ==\n",
      "F1 scores 5-fold CV per iteration: [0.827 0.825 0.85  0.817 0.838]\n",
      "F1 mean 5-fold CV per class: [0.829 0.906 0.76  0.628]\n",
      "F1 mean 5-fold CV: 0.831\n",
      "Meta 0.932889 0.8598696089760828\n",
      "X: (8528, 372)\n",
      "== 5-fold CV ==\n",
      "F1 scores 5-fold CV per iteration: [0.846 0.833 0.854 0.812 0.848]\n",
      "F1 mean 5-fold CV per class: [0.845 0.905 0.765 0.654]\n",
      "F1 mean 5-fold CV: 0.839\n",
      "== 5-fold CV ==\n",
      "F1 scores 5-fold CV per iteration: [0.829 0.819 0.853 0.82  0.837]\n",
      "F1 mean 5-fold CV per class: [0.829 0.906 0.76  0.632]\n",
      "F1 mean 5-fold CV: 0.832\n",
      "QRS detection 0.934467 0.9660185032342414\n",
      "X: (8528, 370)\n",
      "== 5-fold CV ==\n",
      "F1 scores 5-fold CV per iteration: [0.84  0.825 0.852 0.809 0.848]\n",
      "F1 mean 5-fold CV per class: [0.836 0.906 0.762 0.667]\n",
      "F1 mean 5-fold CV: 0.835\n",
      "== 5-fold CV ==\n",
      "F1 scores 5-fold CV per iteration: [0.83  0.822 0.853 0.822 0.841]\n",
      "F1 mean 5-fold CV per class: [0.832 0.907 0.763 0.629]\n",
      "F1 mean 5-fold CV: 0.834\n",
      "Rhythm 0.6907720000000002 0.464910374032371\n",
      "X: (8528, 181)\n",
      "== 5-fold CV ==\n",
      "F1 scores 5-fold CV per iteration: [0.821 0.804 0.84  0.8   0.832]\n",
      "F1 mean 5-fold CV per class: [0.811 0.903 0.743 0.643]\n",
      "F1 mean 5-fold CV: 0.819\n",
      "== 5-fold CV ==\n",
      "F1 scores 5-fold CV per iteration: [0.824 0.815 0.84  0.806 0.828]\n",
      "F1 mean 5-fold CV per class: [0.817 0.904 0.747 0.621]\n",
      "F1 mean 5-fold CV: 0.823\n",
      "Signal 0.9830369999999999 0.9926254478231782\n",
      "X: (8528, 380)\n",
      "== 5-fold CV ==\n",
      "F1 scores 5-fold CV per iteration: [0.846 0.835 0.86  0.825 0.845]\n",
      "F1 mean 5-fold CV per class: [0.844 0.909 0.773 0.668]\n",
      "F1 mean 5-fold CV: 0.842\n",
      "== 5-fold CV ==\n",
      "F1 scores 5-fold CV per iteration: [0.828 0.826 0.855 0.82  0.84 ]\n",
      "F1 mean 5-fold CV per class: [0.831 0.907 0.763 0.638]\n",
      "F1 mean 5-fold CV: 0.834\n"
     ]
    },
    {
     "data": {
      "text/plain": [
       "['f1_by_excluding_category.pkl']"
      ]
     },
     "execution_count": 15,
     "metadata": {},
     "output_type": "execute_result"
    }
   ],
   "source": [
    "df_results=pd.DataFrame(columns=['Category','Classifier','Importance','F1','F1 Normal','F1 AF','F1 Other','F1 Noise','Count'])\n",
    "\n",
    "#categories=np.append(categories,'All')\n",
    "#categories=np.sort(categories)\n",
    "\n",
    "for category in categories:\n",
    "    feat_sum_xgb= feat_dha[feat_dha.Category!=category].ImportanceXGB.sum()    \n",
    "    feat_sum_rf= feat_dha[feat_dha.Category!=category].ImportanceRF.sum()\n",
    "    \n",
    "    feat_count_xgb= len(feat_dha[feat_dha.Category!=category].ImportanceXGB)\n",
    "    feat_count_rf= len(feat_dha[feat_dha.Category!=category].ImportanceRF)\n",
    "\n",
    "    print(category,feat_sum_xgb,feat_sum_rf)\n",
    "    df_new = df[feat_dha[feat_dha.Category!=category].Name]\n",
    "    X=df_new.as_matrix()\n",
    "    print(\"X: \"+str(X.shape))\n",
    "    imp = Imputer(missing_values='NaN', strategy='mean', axis=0,verbose=1)\n",
    "    X_new=imp.fit_transform(X)    \n",
    "\n",
    "    bst = XGBClassifier(**params).fit(X_new, y,verbose=50)\n",
    "    [a1,a2]=test_classifier(bst,X_new,y)\n",
    "    df_results=df_results.append({'Category':category,'Classifier':'XGB','Importance':feat_sum_xgb, 'F1':a1,'F1 Normal':a2[1],'F1 AF':a2[0],'F1 Other':a2[2],'F1 Noise':a2[3],'Count':feat_count_xgb},ignore_index=True)\n",
    "    rf = RandomForestClassifier(n_jobs=-1, random_state=seed,n_estimators=RF_N_TREES).fit(X_new, y)\n",
    "    [a1,a2]=test_classifier(rf,X_new,y)\n",
    "    df_results=df_results.append({'Category':category,'Classifier':'RF','Importance':feat_sum_rf, 'F1':a1,'F1 Normal':a2[1],'F1 AF':a2[0],'F1 Other':a2[2],'F1 Noise':a2[3],'Count':feat_count_rf},ignore_index=True)\n",
    "    \n",
    "joblib.dump(df_results, 'f1_by_excluding_category.pkl', compress = 1)"
   ]
  },
  {
   "cell_type": "code",
   "execution_count": 207,
   "metadata": {
    "collapsed": false
   },
   "outputs": [],
   "source": [
    "df_results=joblib.load('f1_by_category.pkl')"
   ]
  },
  {
   "cell_type": "markdown",
   "metadata": {},
   "source": [
    "#### XGBoost"
   ]
  },
  {
   "cell_type": "code",
   "execution_count": 208,
   "metadata": {
    "collapsed": false
   },
   "outputs": [
    {
     "data": {
      "text/html": [
       "<div>\n",
       "<style scoped>\n",
       "    .dataframe tbody tr th:only-of-type {\n",
       "        vertical-align: middle;\n",
       "    }\n",
       "\n",
       "    .dataframe tbody tr th {\n",
       "        vertical-align: top;\n",
       "    }\n",
       "\n",
       "    .dataframe thead th {\n",
       "        text-align: right;\n",
       "    }\n",
       "</style>\n",
       "<table border=\"1\" class=\"dataframe\">\n",
       "  <thead>\n",
       "    <tr style=\"text-align: right;\">\n",
       "      <th></th>\n",
       "      <th>Category</th>\n",
       "      <th>Classifier</th>\n",
       "      <th>Importance</th>\n",
       "      <th>F1</th>\n",
       "      <th>F1 Normal</th>\n",
       "      <th>F1 AF</th>\n",
       "      <th>F1 Other</th>\n",
       "      <th>F1 Noise</th>\n",
       "      <th>Count</th>\n",
       "    </tr>\n",
       "  </thead>\n",
       "  <tbody>\n",
       "    <tr>\n",
       "      <th>0</th>\n",
       "      <td>Atrial</td>\n",
       "      <td>XGB</td>\n",
       "      <td>0.181</td>\n",
       "      <td>0.635</td>\n",
       "      <td>0.812</td>\n",
       "      <td>0.624</td>\n",
       "      <td>0.469</td>\n",
       "      <td>0.521</td>\n",
       "      <td>39</td>\n",
       "    </tr>\n",
       "    <tr>\n",
       "      <th>2</th>\n",
       "      <td>Average</td>\n",
       "      <td>XGB</td>\n",
       "      <td>0.143</td>\n",
       "      <td>0.642</td>\n",
       "      <td>0.820</td>\n",
       "      <td>0.601</td>\n",
       "      <td>0.504</td>\n",
       "      <td>0.527</td>\n",
       "      <td>60</td>\n",
       "    </tr>\n",
       "    <tr>\n",
       "      <th>4</th>\n",
       "      <td>Beat</td>\n",
       "      <td>XGB</td>\n",
       "      <td>0.217</td>\n",
       "      <td>0.620</td>\n",
       "      <td>0.799</td>\n",
       "      <td>0.669</td>\n",
       "      <td>0.391</td>\n",
       "      <td>0.603</td>\n",
       "      <td>46</td>\n",
       "    </tr>\n",
       "    <tr>\n",
       "      <th>6</th>\n",
       "      <td>Meta</td>\n",
       "      <td>XGB</td>\n",
       "      <td>0.067</td>\n",
       "      <td>0.796</td>\n",
       "      <td>0.891</td>\n",
       "      <td>0.789</td>\n",
       "      <td>0.708</td>\n",
       "      <td>0.579</td>\n",
       "      <td>14</td>\n",
       "    </tr>\n",
       "    <tr>\n",
       "      <th>8</th>\n",
       "      <td>QRS</td>\n",
       "      <td>XGB</td>\n",
       "      <td>0.066</td>\n",
       "      <td>0.671</td>\n",
       "      <td>0.851</td>\n",
       "      <td>0.604</td>\n",
       "      <td>0.558</td>\n",
       "      <td>0.517</td>\n",
       "      <td>16</td>\n",
       "    </tr>\n",
       "    <tr>\n",
       "      <th>10</th>\n",
       "      <td>Rhythm</td>\n",
       "      <td>XGB</td>\n",
       "      <td>0.309</td>\n",
       "      <td>0.813</td>\n",
       "      <td>0.897</td>\n",
       "      <td>0.807</td>\n",
       "      <td>0.735</td>\n",
       "      <td>0.641</td>\n",
       "      <td>205</td>\n",
       "    </tr>\n",
       "    <tr>\n",
       "      <th>12</th>\n",
       "      <td>Signal</td>\n",
       "      <td>XGB</td>\n",
       "      <td>0.017</td>\n",
       "      <td>0.319</td>\n",
       "      <td>0.720</td>\n",
       "      <td>0.042</td>\n",
       "      <td>0.194</td>\n",
       "      <td>0.268</td>\n",
       "      <td>6</td>\n",
       "    </tr>\n",
       "  </tbody>\n",
       "</table>\n",
       "</div>"
      ],
      "text/plain": [
       "   Category Classifier  Importance     F1  F1 Normal  F1 AF  F1 Other  \\\n",
       "0    Atrial        XGB       0.181  0.635      0.812  0.624     0.469   \n",
       "2   Average        XGB       0.143  0.642      0.820  0.601     0.504   \n",
       "4      Beat        XGB       0.217  0.620      0.799  0.669     0.391   \n",
       "6      Meta        XGB       0.067  0.796      0.891  0.789     0.708   \n",
       "8       QRS        XGB       0.066  0.671      0.851  0.604     0.558   \n",
       "10   Rhythm        XGB       0.309  0.813      0.897  0.807     0.735   \n",
       "12   Signal        XGB       0.017  0.319      0.720  0.042     0.194   \n",
       "\n",
       "    F1 Noise  Count  \n",
       "0      0.521     39  \n",
       "2      0.527     60  \n",
       "4      0.603     46  \n",
       "6      0.579     14  \n",
       "8      0.517     16  \n",
       "10     0.641    205  \n",
       "12     0.268      6  "
      ]
     },
     "execution_count": 208,
     "metadata": {},
     "output_type": "execute_result"
    }
   ],
   "source": [
    "df_results[df_results.Classifier=='XGB']"
   ]
  },
  {
   "cell_type": "markdown",
   "metadata": {},
   "source": [
    "#### RandomForest"
   ]
  },
  {
   "cell_type": "code",
   "execution_count": 192,
   "metadata": {
    "collapsed": false
   },
   "outputs": [
    {
     "data": {
      "text/html": [
       "<div>\n",
       "<style scoped>\n",
       "    .dataframe tbody tr th:only-of-type {\n",
       "        vertical-align: middle;\n",
       "    }\n",
       "\n",
       "    .dataframe tbody tr th {\n",
       "        vertical-align: top;\n",
       "    }\n",
       "\n",
       "    .dataframe thead th {\n",
       "        text-align: right;\n",
       "    }\n",
       "</style>\n",
       "<table border=\"1\" class=\"dataframe\">\n",
       "  <thead>\n",
       "    <tr style=\"text-align: right;\">\n",
       "      <th></th>\n",
       "      <th>Category</th>\n",
       "      <th>Classifier</th>\n",
       "      <th>Importance</th>\n",
       "      <th>F1</th>\n",
       "      <th>F1 Normal</th>\n",
       "      <th>F1 AF</th>\n",
       "      <th>F1 Other</th>\n",
       "      <th>F1 Noise</th>\n",
       "      <th>Count</th>\n",
       "    </tr>\n",
       "  </thead>\n",
       "  <tbody>\n",
       "    <tr>\n",
       "      <th>1</th>\n",
       "      <td>Atrial</td>\n",
       "      <td>RF</td>\n",
       "      <td>0.081</td>\n",
       "      <td>0.626</td>\n",
       "      <td>0.817</td>\n",
       "      <td>0.613</td>\n",
       "      <td>0.447</td>\n",
       "      <td>0.522</td>\n",
       "      <td>39</td>\n",
       "    </tr>\n",
       "    <tr>\n",
       "      <th>3</th>\n",
       "      <td>Average</td>\n",
       "      <td>RF</td>\n",
       "      <td>0.092</td>\n",
       "      <td>0.639</td>\n",
       "      <td>0.825</td>\n",
       "      <td>0.604</td>\n",
       "      <td>0.488</td>\n",
       "      <td>0.449</td>\n",
       "      <td>60</td>\n",
       "    </tr>\n",
       "    <tr>\n",
       "      <th>5</th>\n",
       "      <td>Beat</td>\n",
       "      <td>RF</td>\n",
       "      <td>0.110</td>\n",
       "      <td>0.617</td>\n",
       "      <td>0.812</td>\n",
       "      <td>0.658</td>\n",
       "      <td>0.381</td>\n",
       "      <td>0.607</td>\n",
       "      <td>46</td>\n",
       "    </tr>\n",
       "    <tr>\n",
       "      <th>7</th>\n",
       "      <td>Meta</td>\n",
       "      <td>RF</td>\n",
       "      <td>0.140</td>\n",
       "      <td>0.800</td>\n",
       "      <td>0.894</td>\n",
       "      <td>0.791</td>\n",
       "      <td>0.716</td>\n",
       "      <td>0.633</td>\n",
       "      <td>14</td>\n",
       "    </tr>\n",
       "    <tr>\n",
       "      <th>9</th>\n",
       "      <td>QRS</td>\n",
       "      <td>RF</td>\n",
       "      <td>0.034</td>\n",
       "      <td>0.681</td>\n",
       "      <td>0.859</td>\n",
       "      <td>0.612</td>\n",
       "      <td>0.571</td>\n",
       "      <td>0.550</td>\n",
       "      <td>16</td>\n",
       "    </tr>\n",
       "    <tr>\n",
       "      <th>11</th>\n",
       "      <td>Rhythm</td>\n",
       "      <td>RF</td>\n",
       "      <td>0.535</td>\n",
       "      <td>0.808</td>\n",
       "      <td>0.899</td>\n",
       "      <td>0.794</td>\n",
       "      <td>0.731</td>\n",
       "      <td>0.610</td>\n",
       "      <td>205</td>\n",
       "    </tr>\n",
       "    <tr>\n",
       "      <th>13</th>\n",
       "      <td>Signal</td>\n",
       "      <td>RF</td>\n",
       "      <td>0.007</td>\n",
       "      <td>0.332</td>\n",
       "      <td>0.680</td>\n",
       "      <td>0.076</td>\n",
       "      <td>0.240</td>\n",
       "      <td>0.293</td>\n",
       "      <td>6</td>\n",
       "    </tr>\n",
       "  </tbody>\n",
       "</table>\n",
       "</div>"
      ],
      "text/plain": [
       "   Category Classifier  Importance     F1  F1 Normal  F1 AF  F1 Other  \\\n",
       "1    Atrial         RF       0.081  0.626      0.817  0.613     0.447   \n",
       "3   Average         RF       0.092  0.639      0.825  0.604     0.488   \n",
       "5      Beat         RF       0.110  0.617      0.812  0.658     0.381   \n",
       "7      Meta         RF       0.140  0.800      0.894  0.791     0.716   \n",
       "9       QRS         RF       0.034  0.681      0.859  0.612     0.571   \n",
       "11   Rhythm         RF       0.535  0.808      0.899  0.794     0.731   \n",
       "13   Signal         RF       0.007  0.332      0.680  0.076     0.240   \n",
       "\n",
       "    F1 Noise  Count  \n",
       "1      0.522     39  \n",
       "3      0.449     60  \n",
       "5      0.607     46  \n",
       "7      0.633     14  \n",
       "9      0.550     16  \n",
       "11     0.610    205  \n",
       "13     0.293      6  "
      ]
     },
     "execution_count": 192,
     "metadata": {},
     "output_type": "execute_result"
    }
   ],
   "source": [
    "df_results[df_results.Classifier=='RF']"
   ]
  },
  {
   "cell_type": "markdown",
   "metadata": {},
   "source": [
    "## Barchart: Feature importance by category"
   ]
  },
  {
   "cell_type": "code",
   "execution_count": 211,
   "metadata": {
    "collapsed": false
   },
   "outputs": [
    {
     "data": {
      "image/png": "[encoded data removed]",
      "text/plain": [
       "<matplotlib.figure.Figure at 0x7f1f21c6fef0>"
      ]
     },
     "metadata": {},
     "output_type": "display_data"
    }
   ],
   "source": [
    "n_groups = len(categories)\n",
    "index = np.arange(n_groups)\n",
    "\n",
    "fig, ax = plt.subplots()\n",
    "bar_width = 0.35\n",
    "opacity = 1\n",
    "error_config = {'ecolor': '0.3'}\n",
    "\n",
    "\n",
    "\n",
    "rects1 = ax.bar(index, df_results[df_results.Classifier=='XGB'].Importance, bar_width,\n",
    "                alpha=opacity, color='black',\n",
    "                yerr=None, error_kw=error_config,\n",
    "                label='XGBoost')\n",
    "\n",
    "\n",
    "#ax.set_xlabel('Category',fontsize=FONT_SIZE)\n",
    "ax.set_ylabel('Importance',fontsize=FONT_SIZE)\n",
    "ax.set_xticks(index+bar_width/2)\n",
    "ax.set_xticklabels(categories)\n",
    "#ax.legend(loc=\"upper left\")\n",
    "ax.grid()\n",
    "#plt.style.use('paper')\n",
    "ax.set_ylim([0,0.35])\n",
    "\n",
    "\n",
    "fig.tight_layout()\n",
    "#plt.show()\n",
    "\n",
    "params = {'legend.fontsize': FONT_SIZE,\n",
    "         'axes.labelsize': FONT_SIZE,\n",
    "         'axes.titlesize':FONT_SIZE,\n",
    "         'figure.figsize': (7, 4),\n",
    "         'xtick.labelsize':FONT_SIZE,\n",
    "         'ytick.labelsize':FONT_SIZE}\n",
    "plt.rcParams.update(params)\n",
    "\n",
    "\n",
    "\n",
    "plt.savefig('/notebooks/data/barchart_feature_importance_by_category.png',dpi=DPI)"
   ]
  },
  {
   "cell_type": "markdown",
   "metadata": {},
   "source": [
    "## Barchart: F1 score by category and classifier"
   ]
  },
  {
   "cell_type": "code",
   "execution_count": 209,
   "metadata": {
    "collapsed": false,
    "scrolled": true
   },
   "outputs": [
    {
     "data": {
      "image/png": "[encoded data removed]",
      "text/plain": [
       "<matplotlib.figure.Figure at 0x7f1f22129f28>"
      ]
     },
     "metadata": {},
     "output_type": "display_data"
    }
   ],
   "source": [
    "n_groups = len(categories)\n",
    "index = np.arange(n_groups)\n",
    "\n",
    "fig, ax = plt.subplots()\n",
    "bar_width = 0.35\n",
    "\n",
    "opacity = 1\n",
    "error_config = {'ecolor': '0.3'}\n",
    "\n",
    "rects1 = ax.bar(index, df_results[df_results.Classifier=='XGB'].F1, bar_width,\n",
    "                alpha=opacity, color='black',\n",
    "                yerr=None, error_kw=error_config,\n",
    "                label='XGBoost')\n",
    "\n",
    "#rects2 = ax.bar(index + bar_width, df_results[df_results.Classifier=='RF'].F1, bar_width,\n",
    "#                alpha=opacity, color='b',\n",
    "#                yerr=None, error_kw=error_config,\n",
    "#                label='Random Forest')\n",
    "\n",
    "#ax.set_xlabel('Category')\n",
    "ax.set_ylabel('F1$_{CinC}$')\n",
    "#ax.set_title('F1 on subset of features per category')\n",
    "ax.set_xticks(index + bar_width/2)\n",
    "ax.set_xticklabels(categories)\n",
    "#ax.legend(loc=\"upper left\")\n",
    "ax.set_ylim([0.3,0.85])\n",
    "ax.grid()\n",
    "\n",
    "fig.tight_layout()\n",
    "#plt.show()\n",
    "plt.savefig('/notebooks/data/barchart_f1_by_category.png',dpi=DPI)"
   ]
  },
  {
   "cell_type": "markdown",
   "metadata": {},
   "source": [
    "## Barchart: F1 score by excluded category and classifier"
   ]
  },
  {
   "cell_type": "code",
   "execution_count": 237,
   "metadata": {
    "collapsed": false
   },
   "outputs": [
    {
     "data": {
      "text/html": [
       "<div>\n",
       "<style scoped>\n",
       "    .dataframe tbody tr th:only-of-type {\n",
       "        vertical-align: middle;\n",
       "    }\n",
       "\n",
       "    .dataframe tbody tr th {\n",
       "        vertical-align: top;\n",
       "    }\n",
       "\n",
       "    .dataframe thead th {\n",
       "        text-align: right;\n",
       "    }\n",
       "</style>\n",
       "<table border=\"1\" class=\"dataframe\">\n",
       "  <thead>\n",
       "    <tr style=\"text-align: right;\">\n",
       "      <th></th>\n",
       "      <th>Category</th>\n",
       "      <th>Classifier</th>\n",
       "      <th>Importance</th>\n",
       "      <th>F1</th>\n",
       "      <th>F1 Normal</th>\n",
       "      <th>F1 AF</th>\n",
       "      <th>F1 Other</th>\n",
       "      <th>F1 Noise</th>\n",
       "      <th>Count</th>\n",
       "    </tr>\n",
       "  </thead>\n",
       "  <tbody>\n",
       "    <tr>\n",
       "      <th>0</th>\n",
       "      <td>Atrial</td>\n",
       "      <td>XGB</td>\n",
       "      <td>0.819</td>\n",
       "      <td>0.838</td>\n",
       "      <td>0.906</td>\n",
       "      <td>0.843</td>\n",
       "      <td>0.767</td>\n",
       "      <td>0.663</td>\n",
       "      <td>347</td>\n",
       "    </tr>\n",
       "    <tr>\n",
       "      <th>1</th>\n",
       "      <td>Atrial</td>\n",
       "      <td>RF</td>\n",
       "      <td>0.919</td>\n",
       "      <td>0.834</td>\n",
       "      <td>0.907</td>\n",
       "      <td>0.829</td>\n",
       "      <td>0.765</td>\n",
       "      <td>0.644</td>\n",
       "      <td>347</td>\n",
       "    </tr>\n",
       "    <tr>\n",
       "      <th>2</th>\n",
       "      <td>Average</td>\n",
       "      <td>XGB</td>\n",
       "      <td>0.857</td>\n",
       "      <td>0.831</td>\n",
       "      <td>0.904</td>\n",
       "      <td>0.834</td>\n",
       "      <td>0.756</td>\n",
       "      <td>0.673</td>\n",
       "      <td>326</td>\n",
       "    </tr>\n",
       "    <tr>\n",
       "      <th>3</th>\n",
       "      <td>Average</td>\n",
       "      <td>RF</td>\n",
       "      <td>0.908</td>\n",
       "      <td>0.830</td>\n",
       "      <td>0.908</td>\n",
       "      <td>0.822</td>\n",
       "      <td>0.760</td>\n",
       "      <td>0.643</td>\n",
       "      <td>326</td>\n",
       "    </tr>\n",
       "    <tr>\n",
       "      <th>4</th>\n",
       "      <td>Beat</td>\n",
       "      <td>XGB</td>\n",
       "      <td>0.783</td>\n",
       "      <td>0.838</td>\n",
       "      <td>0.908</td>\n",
       "      <td>0.836</td>\n",
       "      <td>0.770</td>\n",
       "      <td>0.671</td>\n",
       "      <td>340</td>\n",
       "    </tr>\n",
       "    <tr>\n",
       "      <th>5</th>\n",
       "      <td>Beat</td>\n",
       "      <td>RF</td>\n",
       "      <td>0.890</td>\n",
       "      <td>0.831</td>\n",
       "      <td>0.906</td>\n",
       "      <td>0.829</td>\n",
       "      <td>0.760</td>\n",
       "      <td>0.628</td>\n",
       "      <td>340</td>\n",
       "    </tr>\n",
       "    <tr>\n",
       "      <th>6</th>\n",
       "      <td>Meta</td>\n",
       "      <td>XGB</td>\n",
       "      <td>0.933</td>\n",
       "      <td>0.839</td>\n",
       "      <td>0.905</td>\n",
       "      <td>0.845</td>\n",
       "      <td>0.765</td>\n",
       "      <td>0.654</td>\n",
       "      <td>372</td>\n",
       "    </tr>\n",
       "    <tr>\n",
       "      <th>7</th>\n",
       "      <td>Meta</td>\n",
       "      <td>RF</td>\n",
       "      <td>0.860</td>\n",
       "      <td>0.832</td>\n",
       "      <td>0.906</td>\n",
       "      <td>0.829</td>\n",
       "      <td>0.760</td>\n",
       "      <td>0.632</td>\n",
       "      <td>372</td>\n",
       "    </tr>\n",
       "    <tr>\n",
       "      <th>8</th>\n",
       "      <td>QRS</td>\n",
       "      <td>XGB</td>\n",
       "      <td>0.934</td>\n",
       "      <td>0.835</td>\n",
       "      <td>0.906</td>\n",
       "      <td>0.836</td>\n",
       "      <td>0.762</td>\n",
       "      <td>0.667</td>\n",
       "      <td>370</td>\n",
       "    </tr>\n",
       "    <tr>\n",
       "      <th>9</th>\n",
       "      <td>QRS</td>\n",
       "      <td>RF</td>\n",
       "      <td>0.966</td>\n",
       "      <td>0.834</td>\n",
       "      <td>0.907</td>\n",
       "      <td>0.832</td>\n",
       "      <td>0.763</td>\n",
       "      <td>0.629</td>\n",
       "      <td>370</td>\n",
       "    </tr>\n",
       "    <tr>\n",
       "      <th>10</th>\n",
       "      <td>Rhythm</td>\n",
       "      <td>XGB</td>\n",
       "      <td>0.691</td>\n",
       "      <td>0.819</td>\n",
       "      <td>0.903</td>\n",
       "      <td>0.811</td>\n",
       "      <td>0.743</td>\n",
       "      <td>0.643</td>\n",
       "      <td>181</td>\n",
       "    </tr>\n",
       "    <tr>\n",
       "      <th>11</th>\n",
       "      <td>Rhythm</td>\n",
       "      <td>RF</td>\n",
       "      <td>0.465</td>\n",
       "      <td>0.823</td>\n",
       "      <td>0.904</td>\n",
       "      <td>0.817</td>\n",
       "      <td>0.747</td>\n",
       "      <td>0.621</td>\n",
       "      <td>181</td>\n",
       "    </tr>\n",
       "    <tr>\n",
       "      <th>12</th>\n",
       "      <td>Signal</td>\n",
       "      <td>XGB</td>\n",
       "      <td>0.983</td>\n",
       "      <td>0.842</td>\n",
       "      <td>0.909</td>\n",
       "      <td>0.844</td>\n",
       "      <td>0.773</td>\n",
       "      <td>0.668</td>\n",
       "      <td>380</td>\n",
       "    </tr>\n",
       "    <tr>\n",
       "      <th>13</th>\n",
       "      <td>Signal</td>\n",
       "      <td>RF</td>\n",
       "      <td>0.993</td>\n",
       "      <td>0.834</td>\n",
       "      <td>0.907</td>\n",
       "      <td>0.831</td>\n",
       "      <td>0.763</td>\n",
       "      <td>0.638</td>\n",
       "      <td>380</td>\n",
       "    </tr>\n",
       "  </tbody>\n",
       "</table>\n",
       "</div>"
      ],
      "text/plain": [
       "   Category Classifier  Importance     F1  F1 Normal  F1 AF  F1 Other  \\\n",
       "0    Atrial        XGB       0.819  0.838      0.906  0.843     0.767   \n",
       "1    Atrial         RF       0.919  0.834      0.907  0.829     0.765   \n",
       "2   Average        XGB       0.857  0.831      0.904  0.834     0.756   \n",
       "3   Average         RF       0.908  0.830      0.908  0.822     0.760   \n",
       "4      Beat        XGB       0.783  0.838      0.908  0.836     0.770   \n",
       "5      Beat         RF       0.890  0.831      0.906  0.829     0.760   \n",
       "6      Meta        XGB       0.933  0.839      0.905  0.845     0.765   \n",
       "7      Meta         RF       0.860  0.832      0.906  0.829     0.760   \n",
       "8       QRS        XGB       0.934  0.835      0.906  0.836     0.762   \n",
       "9       QRS         RF       0.966  0.834      0.907  0.832     0.763   \n",
       "10   Rhythm        XGB       0.691  0.819      0.903  0.811     0.743   \n",
       "11   Rhythm         RF       0.465  0.823      0.904  0.817     0.747   \n",
       "12   Signal        XGB       0.983  0.842      0.909  0.844     0.773   \n",
       "13   Signal         RF       0.993  0.834      0.907  0.831     0.763   \n",
       "\n",
       "    F1 Noise  Count  \n",
       "0      0.663    347  \n",
       "1      0.644    347  \n",
       "2      0.673    326  \n",
       "3      0.643    326  \n",
       "4      0.671    340  \n",
       "5      0.628    340  \n",
       "6      0.654    372  \n",
       "7      0.632    372  \n",
       "8      0.667    370  \n",
       "9      0.629    370  \n",
       "10     0.643    181  \n",
       "11     0.621    181  \n",
       "12     0.668    380  \n",
       "13     0.638    380  "
      ]
     },
     "execution_count": 237,
     "metadata": {},
     "output_type": "execute_result"
    }
   ],
   "source": [
    "df_results=joblib.load('f1_by_excluding_category.pkl')\n",
    "df_results"
   ]
  },
  {
   "cell_type": "code",
   "execution_count": 254,
   "metadata": {
    "collapsed": false
   },
   "outputs": [
    {
     "data": {
      "image/png": "[encoded data removed]",
      "text/plain": [
       "<matplotlib.figure.Figure at 0x7f1f22052a90>"
      ]
     },
     "metadata": {},
     "output_type": "display_data"
    }
   ],
   "source": [
    "fig, ax = plt.subplots()\n",
    "\n",
    "bar_width = 0.35\n",
    "opacity = 0.4\n",
    "error_config = {'ecolor': '0.3'}\n",
    "rc={'axes.labelsize': FONT_SIZE, 'font.size': FONT_SIZE, 'legend.fontsize': FONT_SIZE, 'axes.titlesize': FONT_SIZE,'xtick.labelsize': FONT_SIZE, 'ytick.labelsize': FONT_SIZE}\n",
    "plt.rcParams.update(**rc)\n",
    "\n",
    "n_groups = len(categories)\n",
    "\n",
    "\n",
    "index = np.arange(n_groups)\n",
    "\n",
    "rects1 = ax.bar(index, df_results[df_results.Classifier=='XGB'].F1, bar_width,\n",
    "                alpha=opacity,color='b',\n",
    "                yerr=None, error_kw=error_config,\n",
    "                label='XGBoost')\n",
    "\n",
    "rects2 = ax.bar(index + bar_width, df_results[df_results.Classifier=='RF'].F1, bar_width,\n",
    "                alpha=opacity,\n",
    "                yerr=None, error_kw=error_config,color='r',\n",
    "                label='Random Forest')\n",
    "\n",
    "#ax.set_xlabel('Category')\n",
    "ax.set_ylabel('F1')\n",
    "#ax.set_title('F1 on subset of features per category')\n",
    "ax.set_xticks(index + bar_width)\n",
    "ax.set_xticklabels(categories)\n",
    "ax.legend(loc=\"upper left\")\n",
    "#ax.set_ylim([0.815,0.85])\n",
    "ax.set_ylim([0.81,0.85])\n",
    "ax.grid()\n",
    "\n",
    "\n",
    "\n",
    "fig.tight_layout()\n",
    "plt.plot();\n",
    "\n",
    "#plt.show()\n",
    "plt.savefig('/notebooks/data/barchart_f1_by_excluded_category_and_classifier.png',dpi=100)"
   ]
  },
  {
   "cell_type": "code",
   "execution_count": 169,
   "metadata": {
    "collapsed": false
   },
   "outputs": [
    {
     "data": {
      "text/html": [
       "<div>\n",
       "<style scoped>\n",
       "    .dataframe tbody tr th:only-of-type {\n",
       "        vertical-align: middle;\n",
       "    }\n",
       "\n",
       "    .dataframe tbody tr th {\n",
       "        vertical-align: top;\n",
       "    }\n",
       "\n",
       "    .dataframe thead th {\n",
       "        text-align: right;\n",
       "    }\n",
       "</style>\n",
       "<table border=\"1\" class=\"dataframe\">\n",
       "  <thead>\n",
       "    <tr style=\"text-align: right;\">\n",
       "      <th></th>\n",
       "      <th>Category</th>\n",
       "      <th>Classifier</th>\n",
       "      <th>Importance</th>\n",
       "      <th>F1</th>\n",
       "      <th>F1 Normal</th>\n",
       "      <th>F1 AF</th>\n",
       "      <th>F1 Other</th>\n",
       "      <th>F1 Noise</th>\n",
       "      <th>Count</th>\n",
       "    </tr>\n",
       "  </thead>\n",
       "  <tbody>\n",
       "  </tbody>\n",
       "</table>\n",
       "</div>"
      ],
      "text/plain": [
       "Empty DataFrame\n",
       "Columns: [Category, Classifier, Importance, F1, F1 Normal, F1 AF, F1 Other, F1 Noise, Count]\n",
       "Index: []"
      ]
     },
     "execution_count": 169,
     "metadata": {},
     "output_type": "execute_result"
    }
   ],
   "source": [
    "df_results"
   ]
  },
  {
   "cell_type": "markdown",
   "metadata": {},
   "source": [
    "## Test features by importance"
   ]
  },
  {
   "cell_type": "code",
   "execution_count": 23,
   "metadata": {
    "collapsed": false,
    "scrolled": true
   },
   "outputs": [
    {
     "name": "stdout",
     "output_type": "stream",
     "text": [
      "[  1   2   3   4   5   6   7   8   9  10  11  12  13  14  15  16  17  18\n",
      "  19  20  21  22  23  24  25  26  27  28  29  30  31  32  33  34  35  36\n",
      "  37  38  39  40  41  42  43  44  45  46  47  48  49  50  51  52  53  54\n",
      "  55  56  57  58  59  60  61  62  63  64  65  66  67  68  69  70  71  72\n",
      "  73  74  75  76  77  78  79  80  81  82  83  84  85  86  87  88  89  90\n",
      "  91  92  93  94  95  96  97  98  99 100 101 102 103 104 105 106 107 108\n",
      " 109 110 111 112 113 114 115 116 117 118 119 120 121 122 123 124 125 126\n",
      " 127 128 129 130 131 132 133 134 135 136 137 138 139 140 141 142 143 144\n",
      " 145 146 147 148 149 150 151 152 153 154 155 156 157 158 159 160 161 162\n",
      " 163 164 165 166 167 168 169 170 171 172 173 174 175 176 177 178 179 180\n",
      " 181 182 183 184 185 186 187 188 189 190 191 192 193 194 195 196 197 198\n",
      " 199 200 201 202 203 204 205 206 207 208 209 210 211 212 213 214 215 216\n",
      " 217 218 219 220 221 222 223 224 225 226 227 228 229 230 231 232 233 234\n",
      " 235 236 237 238 239 240 241 242 243 244 245 246 247 248 249 250 251 252\n",
      " 253 254 255 256 257 258 259 260 261 262 263 264 265 266 267 268 269 270\n",
      " 271 272 273 274 275 276 277 278 279 280 281 282 283 284 285 286 287 288\n",
      " 289 290 291 292 293 294 295 296 297 298 299 300 301 302 303 304 305 306\n",
      " 307 308 309 310 311 312 313 314 315 316 317 318 319 320 321 322 323 324\n",
      " 325 326 327 328 329 330 331 332 333 334 335 336 337 338 339 340 341 342\n",
      " 343 344 345 346 347 348 349 350 351 352 353 354 355 356 357 358 359 360\n",
      " 361 362 363 364 365 366 367 368 369 370 371 372 373 374 375 376 377 378\n",
      " 379 380 381 382 383 384 385 386]\n"
     ]
    },
    {
     "data": {
      "text/plain": [
       "1"
      ]
     },
     "metadata": {},
     "output_type": "display_data"
    },
    {
     "name": "stdout",
     "output_type": "stream",
     "text": [
      "(8528, 1)\n",
      "== 5-fold CV ==\n",
      "F1 scores 5-fold CV per iteration: [0.618 0.624 0.627 0.616 0.647]\n",
      "F1 mean 5-fold CV per class: [0.394 0.873 0.612 0.365]\n",
      "F1 mean 5-fold CV: 0.627\n",
      "(8528, 1)\n"
     ]
    },
    {
     "ename": "KeyboardInterrupt",
     "evalue": "",
     "output_type": "error",
     "traceback": [
      "\u001b[0;31m---------------------------------------------------------------------------\u001b[0m",
      "\u001b[0;31mKeyboardInterrupt\u001b[0m                         Traceback (most recent call last)",
      "\u001b[0;32m<ipython-input-23-abec6fba30cb>\u001b[0m in \u001b[0;36m<module>\u001b[0;34m()\u001b[0m\n\u001b[1;32m     31\u001b[0m     \u001b[0mX_reduced\u001b[0m\u001b[0;34m=\u001b[0m\u001b[0mimp\u001b[0m\u001b[0;34m.\u001b[0m\u001b[0mfit_transform\u001b[0m\u001b[0;34m(\u001b[0m\u001b[0mX_reduced\u001b[0m\u001b[0;34m)\u001b[0m\u001b[0;34m\u001b[0m\u001b[0m\n\u001b[1;32m     32\u001b[0m     \u001b[0mprint\u001b[0m\u001b[0;34m(\u001b[0m\u001b[0mX_reduced\u001b[0m\u001b[0;34m.\u001b[0m\u001b[0mshape\u001b[0m\u001b[0;34m)\u001b[0m\u001b[0;34m\u001b[0m\u001b[0m\n\u001b[0;32m---> 33\u001b[0;31m     \u001b[0mclf\u001b[0m \u001b[0;34m=\u001b[0m \u001b[0mRandomForestClassifier\u001b[0m\u001b[0;34m(\u001b[0m\u001b[0mn_jobs\u001b[0m\u001b[0;34m=\u001b[0m\u001b[0;34m-\u001b[0m\u001b[0;36m1\u001b[0m\u001b[0;34m,\u001b[0m \u001b[0mrandom_state\u001b[0m\u001b[0;34m=\u001b[0m\u001b[0mseed\u001b[0m\u001b[0;34m,\u001b[0m\u001b[0mn_estimators\u001b[0m\u001b[0;34m=\u001b[0m\u001b[0mRF_N_TREES\u001b[0m\u001b[0;34m)\u001b[0m\u001b[0;34m.\u001b[0m\u001b[0mfit\u001b[0m\u001b[0;34m(\u001b[0m\u001b[0mX_reduced\u001b[0m\u001b[0;34m,\u001b[0m \u001b[0my\u001b[0m\u001b[0;34m)\u001b[0m\u001b[0;34m\u001b[0m\u001b[0m\n\u001b[0m\u001b[1;32m     34\u001b[0m     \u001b[0ma1\u001b[0m\u001b[0;34m,\u001b[0m \u001b[0ma2\u001b[0m\u001b[0;34m=\u001b[0m\u001b[0mtest_classifier\u001b[0m\u001b[0;34m(\u001b[0m\u001b[0mclf\u001b[0m\u001b[0;34m,\u001b[0m\u001b[0mX_reduced\u001b[0m\u001b[0;34m,\u001b[0m\u001b[0my\u001b[0m\u001b[0;34m)\u001b[0m\u001b[0;34m\u001b[0m\u001b[0m\n\u001b[1;32m     35\u001b[0m     \u001b[0mdf_results\u001b[0m\u001b[0;34m=\u001b[0m\u001b[0mdf_results\u001b[0m\u001b[0;34m.\u001b[0m\u001b[0mappend\u001b[0m\u001b[0;34m(\u001b[0m\u001b[0;34m{\u001b[0m\u001b[0;34m'Count'\u001b[0m\u001b[0;34m:\u001b[0m \u001b[0midx\u001b[0m\u001b[0;34m,\u001b[0m\u001b[0;34m'Classifier'\u001b[0m\u001b[0;34m:\u001b[0m\u001b[0;34m'RF'\u001b[0m\u001b[0;34m,\u001b[0m\u001b[0;34m'F1'\u001b[0m\u001b[0;34m:\u001b[0m\u001b[0ma1\u001b[0m\u001b[0;34m,\u001b[0m\u001b[0;34m'F1 Normal'\u001b[0m\u001b[0;34m:\u001b[0m\u001b[0ma2\u001b[0m\u001b[0;34m[\u001b[0m\u001b[0;36m1\u001b[0m\u001b[0;34m]\u001b[0m\u001b[0;34m,\u001b[0m\u001b[0;34m'F1 AF'\u001b[0m\u001b[0;34m:\u001b[0m\u001b[0ma2\u001b[0m\u001b[0;34m[\u001b[0m\u001b[0;36m0\u001b[0m\u001b[0;34m]\u001b[0m\u001b[0;34m,\u001b[0m\u001b[0;34m'F1 Other'\u001b[0m\u001b[0;34m:\u001b[0m\u001b[0ma2\u001b[0m\u001b[0;34m[\u001b[0m\u001b[0;36m2\u001b[0m\u001b[0;34m]\u001b[0m\u001b[0;34m,\u001b[0m\u001b[0;34m'F1 Noise'\u001b[0m\u001b[0;34m:\u001b[0m\u001b[0ma2\u001b[0m\u001b[0;34m[\u001b[0m\u001b[0;36m3\u001b[0m\u001b[0;34m]\u001b[0m\u001b[0;34m}\u001b[0m\u001b[0;34m,\u001b[0m\u001b[0mignore_index\u001b[0m\u001b[0;34m=\u001b[0m\u001b[0;32mTrue\u001b[0m\u001b[0;34m)\u001b[0m\u001b[0;34m\u001b[0m\u001b[0m\n",
      "\u001b[0;32m/opt/conda/lib/python3.5/site-packages/sklearn/ensemble/forest.py\u001b[0m in \u001b[0;36mfit\u001b[0;34m(self, X, y, sample_weight)\u001b[0m\n\u001b[1;32m    326\u001b[0m                     \u001b[0mt\u001b[0m\u001b[0;34m,\u001b[0m \u001b[0mself\u001b[0m\u001b[0;34m,\u001b[0m \u001b[0mX\u001b[0m\u001b[0;34m,\u001b[0m \u001b[0my\u001b[0m\u001b[0;34m,\u001b[0m \u001b[0msample_weight\u001b[0m\u001b[0;34m,\u001b[0m \u001b[0mi\u001b[0m\u001b[0;34m,\u001b[0m \u001b[0mlen\u001b[0m\u001b[0;34m(\u001b[0m\u001b[0mtrees\u001b[0m\u001b[0;34m)\u001b[0m\u001b[0;34m,\u001b[0m\u001b[0;34m\u001b[0m\u001b[0m\n\u001b[1;32m    327\u001b[0m                     verbose=self.verbose, class_weight=self.class_weight)\n\u001b[0;32m--> 328\u001b[0;31m                 for i, t in enumerate(trees))\n\u001b[0m\u001b[1;32m    329\u001b[0m \u001b[0;34m\u001b[0m\u001b[0m\n\u001b[1;32m    330\u001b[0m             \u001b[0;31m# Collect newly grown trees\u001b[0m\u001b[0;34m\u001b[0m\u001b[0;34m\u001b[0m\u001b[0m\n",
      "\u001b[0;32m/opt/conda/lib/python3.5/site-packages/sklearn/externals/joblib/parallel.py\u001b[0m in \u001b[0;36m__call__\u001b[0;34m(self, iterable)\u001b[0m\n\u001b[1;32m    787\u001b[0m                 \u001b[0;31m# consumption.\u001b[0m\u001b[0;34m\u001b[0m\u001b[0;34m\u001b[0m\u001b[0m\n\u001b[1;32m    788\u001b[0m                 \u001b[0mself\u001b[0m\u001b[0;34m.\u001b[0m\u001b[0m_iterating\u001b[0m \u001b[0;34m=\u001b[0m \u001b[0;32mFalse\u001b[0m\u001b[0;34m\u001b[0m\u001b[0m\n\u001b[0;32m--> 789\u001b[0;31m             \u001b[0mself\u001b[0m\u001b[0;34m.\u001b[0m\u001b[0mretrieve\u001b[0m\u001b[0;34m(\u001b[0m\u001b[0;34m)\u001b[0m\u001b[0;34m\u001b[0m\u001b[0m\n\u001b[0m\u001b[1;32m    790\u001b[0m             \u001b[0;31m# Make sure that we get a last message telling us we are done\u001b[0m\u001b[0;34m\u001b[0m\u001b[0;34m\u001b[0m\u001b[0m\n\u001b[1;32m    791\u001b[0m             \u001b[0melapsed_time\u001b[0m \u001b[0;34m=\u001b[0m \u001b[0mtime\u001b[0m\u001b[0;34m.\u001b[0m\u001b[0mtime\u001b[0m\u001b[0;34m(\u001b[0m\u001b[0;34m)\u001b[0m \u001b[0;34m-\u001b[0m \u001b[0mself\u001b[0m\u001b[0;34m.\u001b[0m\u001b[0m_start_time\u001b[0m\u001b[0;34m\u001b[0m\u001b[0m\n",
      "\u001b[0;32m/opt/conda/lib/python3.5/site-packages/sklearn/externals/joblib/parallel.py\u001b[0m in \u001b[0;36mretrieve\u001b[0;34m(self)\u001b[0m\n\u001b[1;32m    697\u001b[0m             \u001b[0;32mtry\u001b[0m\u001b[0;34m:\u001b[0m\u001b[0;34m\u001b[0m\u001b[0m\n\u001b[1;32m    698\u001b[0m                 \u001b[0;32mif\u001b[0m \u001b[0mgetattr\u001b[0m\u001b[0;34m(\u001b[0m\u001b[0mself\u001b[0m\u001b[0;34m.\u001b[0m\u001b[0m_backend\u001b[0m\u001b[0;34m,\u001b[0m \u001b[0;34m'supports_timeout'\u001b[0m\u001b[0;34m,\u001b[0m \u001b[0;32mFalse\u001b[0m\u001b[0;34m)\u001b[0m\u001b[0;34m:\u001b[0m\u001b[0;34m\u001b[0m\u001b[0m\n\u001b[0;32m--> 699\u001b[0;31m                     \u001b[0mself\u001b[0m\u001b[0;34m.\u001b[0m\u001b[0m_output\u001b[0m\u001b[0;34m.\u001b[0m\u001b[0mextend\u001b[0m\u001b[0;34m(\u001b[0m\u001b[0mjob\u001b[0m\u001b[0;34m.\u001b[0m\u001b[0mget\u001b[0m\u001b[0;34m(\u001b[0m\u001b[0mtimeout\u001b[0m\u001b[0;34m=\u001b[0m\u001b[0mself\u001b[0m\u001b[0;34m.\u001b[0m\u001b[0mtimeout\u001b[0m\u001b[0;34m)\u001b[0m\u001b[0;34m)\u001b[0m\u001b[0;34m\u001b[0m\u001b[0m\n\u001b[0m\u001b[1;32m    700\u001b[0m                 \u001b[0;32melse\u001b[0m\u001b[0;34m:\u001b[0m\u001b[0;34m\u001b[0m\u001b[0m\n\u001b[1;32m    701\u001b[0m                     \u001b[0mself\u001b[0m\u001b[0;34m.\u001b[0m\u001b[0m_output\u001b[0m\u001b[0;34m.\u001b[0m\u001b[0mextend\u001b[0m\u001b[0;34m(\u001b[0m\u001b[0mjob\u001b[0m\u001b[0;34m.\u001b[0m\u001b[0mget\u001b[0m\u001b[0;34m(\u001b[0m\u001b[0;34m)\u001b[0m\u001b[0;34m)\u001b[0m\u001b[0;34m\u001b[0m\u001b[0m\n",
      "\u001b[0;32m/opt/conda/lib/python3.5/multiprocessing/pool.py\u001b[0m in \u001b[0;36mget\u001b[0;34m(self, timeout)\u001b[0m\n\u001b[1;32m    600\u001b[0m \u001b[0;34m\u001b[0m\u001b[0m\n\u001b[1;32m    601\u001b[0m     \u001b[0;32mdef\u001b[0m \u001b[0mget\u001b[0m\u001b[0;34m(\u001b[0m\u001b[0mself\u001b[0m\u001b[0;34m,\u001b[0m \u001b[0mtimeout\u001b[0m\u001b[0;34m=\u001b[0m\u001b[0;32mNone\u001b[0m\u001b[0;34m)\u001b[0m\u001b[0;34m:\u001b[0m\u001b[0;34m\u001b[0m\u001b[0m\n\u001b[0;32m--> 602\u001b[0;31m         \u001b[0mself\u001b[0m\u001b[0;34m.\u001b[0m\u001b[0mwait\u001b[0m\u001b[0;34m(\u001b[0m\u001b[0mtimeout\u001b[0m\u001b[0;34m)\u001b[0m\u001b[0;34m\u001b[0m\u001b[0m\n\u001b[0m\u001b[1;32m    603\u001b[0m         \u001b[0;32mif\u001b[0m \u001b[0;32mnot\u001b[0m \u001b[0mself\u001b[0m\u001b[0;34m.\u001b[0m\u001b[0mready\u001b[0m\u001b[0;34m(\u001b[0m\u001b[0;34m)\u001b[0m\u001b[0;34m:\u001b[0m\u001b[0;34m\u001b[0m\u001b[0m\n\u001b[1;32m    604\u001b[0m             \u001b[0;32mraise\u001b[0m \u001b[0mTimeoutError\u001b[0m\u001b[0;34m\u001b[0m\u001b[0m\n",
      "\u001b[0;32m/opt/conda/lib/python3.5/multiprocessing/pool.py\u001b[0m in \u001b[0;36mwait\u001b[0;34m(self, timeout)\u001b[0m\n\u001b[1;32m    597\u001b[0m \u001b[0;34m\u001b[0m\u001b[0m\n\u001b[1;32m    598\u001b[0m     \u001b[0;32mdef\u001b[0m \u001b[0mwait\u001b[0m\u001b[0;34m(\u001b[0m\u001b[0mself\u001b[0m\u001b[0;34m,\u001b[0m \u001b[0mtimeout\u001b[0m\u001b[0;34m=\u001b[0m\u001b[0;32mNone\u001b[0m\u001b[0;34m)\u001b[0m\u001b[0;34m:\u001b[0m\u001b[0;34m\u001b[0m\u001b[0m\n\u001b[0;32m--> 599\u001b[0;31m         \u001b[0mself\u001b[0m\u001b[0;34m.\u001b[0m\u001b[0m_event\u001b[0m\u001b[0;34m.\u001b[0m\u001b[0mwait\u001b[0m\u001b[0;34m(\u001b[0m\u001b[0mtimeout\u001b[0m\u001b[0;34m)\u001b[0m\u001b[0;34m\u001b[0m\u001b[0m\n\u001b[0m\u001b[1;32m    600\u001b[0m \u001b[0;34m\u001b[0m\u001b[0m\n\u001b[1;32m    601\u001b[0m     \u001b[0;32mdef\u001b[0m \u001b[0mget\u001b[0m\u001b[0;34m(\u001b[0m\u001b[0mself\u001b[0m\u001b[0;34m,\u001b[0m \u001b[0mtimeout\u001b[0m\u001b[0;34m=\u001b[0m\u001b[0;32mNone\u001b[0m\u001b[0;34m)\u001b[0m\u001b[0;34m:\u001b[0m\u001b[0;34m\u001b[0m\u001b[0m\n",
      "\u001b[0;32m/opt/conda/lib/python3.5/threading.py\u001b[0m in \u001b[0;36mwait\u001b[0;34m(self, timeout)\u001b[0m\n\u001b[1;32m    547\u001b[0m             \u001b[0msignaled\u001b[0m \u001b[0;34m=\u001b[0m \u001b[0mself\u001b[0m\u001b[0;34m.\u001b[0m\u001b[0m_flag\u001b[0m\u001b[0;34m\u001b[0m\u001b[0m\n\u001b[1;32m    548\u001b[0m             \u001b[0;32mif\u001b[0m \u001b[0;32mnot\u001b[0m \u001b[0msignaled\u001b[0m\u001b[0;34m:\u001b[0m\u001b[0;34m\u001b[0m\u001b[0m\n\u001b[0;32m--> 549\u001b[0;31m                 \u001b[0msignaled\u001b[0m \u001b[0;34m=\u001b[0m \u001b[0mself\u001b[0m\u001b[0;34m.\u001b[0m\u001b[0m_cond\u001b[0m\u001b[0;34m.\u001b[0m\u001b[0mwait\u001b[0m\u001b[0;34m(\u001b[0m\u001b[0mtimeout\u001b[0m\u001b[0;34m)\u001b[0m\u001b[0;34m\u001b[0m\u001b[0m\n\u001b[0m\u001b[1;32m    550\u001b[0m             \u001b[0;32mreturn\u001b[0m \u001b[0msignaled\u001b[0m\u001b[0;34m\u001b[0m\u001b[0m\n\u001b[1;32m    551\u001b[0m \u001b[0;34m\u001b[0m\u001b[0m\n",
      "\u001b[0;32m/opt/conda/lib/python3.5/threading.py\u001b[0m in \u001b[0;36mwait\u001b[0;34m(self, timeout)\u001b[0m\n\u001b[1;32m    291\u001b[0m         \u001b[0;32mtry\u001b[0m\u001b[0;34m:\u001b[0m    \u001b[0;31m# restore state no matter what (e.g., KeyboardInterrupt)\u001b[0m\u001b[0;34m\u001b[0m\u001b[0m\n\u001b[1;32m    292\u001b[0m             \u001b[0;32mif\u001b[0m \u001b[0mtimeout\u001b[0m \u001b[0;32mis\u001b[0m \u001b[0;32mNone\u001b[0m\u001b[0;34m:\u001b[0m\u001b[0;34m\u001b[0m\u001b[0m\n\u001b[0;32m--> 293\u001b[0;31m                 \u001b[0mwaiter\u001b[0m\u001b[0;34m.\u001b[0m\u001b[0macquire\u001b[0m\u001b[0;34m(\u001b[0m\u001b[0;34m)\u001b[0m\u001b[0;34m\u001b[0m\u001b[0m\n\u001b[0m\u001b[1;32m    294\u001b[0m                 \u001b[0mgotit\u001b[0m \u001b[0;34m=\u001b[0m \u001b[0;32mTrue\u001b[0m\u001b[0;34m\u001b[0m\u001b[0m\n\u001b[1;32m    295\u001b[0m             \u001b[0;32melse\u001b[0m\u001b[0;34m:\u001b[0m\u001b[0;34m\u001b[0m\u001b[0m\n",
      "\u001b[0;31mKeyboardInterrupt\u001b[0m: "
     ]
    }
   ],
   "source": [
    "feat_dha=pd.read_excel('/notebooks/data/fi_merged.xlsx')\n",
    "\n",
    "fi_sorted_xgb=feat_dha.sort_values(by='ImportanceXGB', ascending=False)\n",
    "fi_sorted_rf=feat_dha.sort_values(by='ImportanceRF', ascending=False)\n",
    "\n",
    "idx_range=np.arange(1,387,1)\n",
    "#idx_range=[50,100,200,300,386]\n",
    "\n",
    "print(idx_range)\n",
    "\n",
    "df_results=pd.DataFrame(columns=['Count','Classifier','F1','F1 Normal','F1 AF','F1 Other','F1 Noise'])\n",
    "\n",
    "for idx in idx_range:\n",
    "    #XGBoost\n",
    "    display(idx)\n",
    "    feature_names=fi_sorted_xgb.tail(n=386-idx).Name\n",
    "    df_reduced=df.drop(feature_names,axis=1)\n",
    "    X_reduced=df_reduced.as_matrix()\n",
    "    imp = Imputer(missing_values='NaN', strategy='mean', axis=0,verbose=1)\n",
    "    X_reduced=imp.fit_transform(X_reduced)\n",
    "    print(X_reduced.shape)\n",
    "    clf = XGBClassifier(**params).fit(X_reduced, y,verbose=50)\n",
    "    a1, a2=test_classifier(clf,X_reduced,y)\n",
    "    df_results=df_results.append({'Count': idx,'Classifier':'XGB','F1':a1,'F1 Normal':a2[1],'F1 AF':a2[0],'F1 Other':a2[2],'F1 Noise':a2[3]},ignore_index=True)\n",
    "    \n",
    "    #Random Forest\n",
    "    feature_names=fi_sorted_rf.tail(n=386-idx).Name\n",
    "    df_reduced=df.drop(feature_names,axis=1)\n",
    "    X_reduced=df_reduced.as_matrix()\n",
    "    imp = Imputer(missing_values='NaN', strategy='mean', axis=0,verbose=1)\n",
    "    X_reduced=imp.fit_transform(X_reduced)\n",
    "    print(X_reduced.shape)\n",
    "    clf = RandomForestClassifier(n_jobs=-1, random_state=seed,n_estimators=RF_N_TREES).fit(X_reduced, y)\n",
    "    a1, a2=test_classifier(clf,X_reduced,y)\n",
    "    df_results=df_results.append({'Count': idx,'Classifier':'RF','F1':a1,'F1 Normal':a2[1],'F1 AF':a2[0],'F1 Other':a2[2],'F1 Noise':a2[3]},ignore_index=True)\n",
    "\n",
    "joblib.dump(df_results, 'top_n_feat.pkl', compress = 1)\n",
    "#joblib.dump(f1_class_scores, 'f1_class_scores_rf.pkl', compress = 1)"
   ]
  },
  {
   "cell_type": "markdown",
   "metadata": {},
   "source": [
    "## Plot: Number of features - F1 score"
   ]
  },
  {
   "cell_type": "code",
   "execution_count": 273,
   "metadata": {
    "collapsed": false
   },
   "outputs": [
    {
     "name": "stderr",
     "output_type": "stream",
     "text": [
      "/opt/conda/lib/python3.5/site-packages/matplotlib/axes/_axes.py:519: UserWarning: No labelled objects found. Use label='...' kwarg on individual plots.\n",
      "  warnings.warn(\"No labelled objects found. \"\n"
     ]
    },
    {
     "data": {
      "image/png": "[encoded data removed]",
      "text/plain": [
       "<matplotlib.figure.Figure at 0x7f1f21ec4d68>"
      ]
     },
     "metadata": {},
     "output_type": "display_data"
    },
    {
     "data": {
      "image/png": "[encoded data removed]",
      "text/plain": [
       "<matplotlib.figure.Figure at 0x7f1f21c72f98>"
      ]
     },
     "metadata": {},
     "output_type": "display_data"
    }
   ],
   "source": [
    "df_results=joblib.load('top_n_feat.pkl')\n",
    "\n",
    "\n",
    "plt.figure(0)\n",
    "ax = plt.axes()\n",
    "\n",
    "\n",
    "ax.set_xticks([100, 200,300])\n",
    "\n",
    "plt.grid()\n",
    "params = {'legend.fontsize': FONT_SIZE,\n",
    "         'axes.labelsize': FONT_SIZE,\n",
    "         'axes.titlesize':FONT_SIZE,\n",
    "         'figure.figsize': (5, 4),\n",
    "         'xtick.labelsize':FONT_SIZE,\n",
    "         'ytick.labelsize':FONT_SIZE}\n",
    "\n",
    "plt.rcParams.update(params)\n",
    "plt.plot(df_results[df_results.Classifier=='XGB'].F1.reset_index(drop=True), color='cornflowerblue',label='XGBoost')\n",
    "plt.legend(loc='lower right')\n",
    "plt.ylabel('F1$_{CinC}$ score')\n",
    "plt.plot(df_results[df_results.Classifier=='RF'].F1.reset_index(drop=True), color='red',label='Random Forest')\n",
    "\n",
    "\n",
    "\n",
    "plt.legend(loc='lower right')\n",
    "plt.ylabel('F1$_{CinC}$ score')\n",
    "plt.xlabel('Number of features')\n",
    "plt.tight_layout()\n",
    "plt.savefig('linechart_n_feat_vs_f1.png',dpi=DPI)\n",
    "\n",
    "#plt.show()\n",
    "\n",
    "plt.figure(1)\n",
    "ax = plt.axes()\n",
    "ax.set_xticks([100, 200,300])\n",
    "plt.grid()\n",
    "plt.legend(loc='lower right')\n",
    "plt.ylabel('5-fold CV F1$_{CinC}$ score')\n",
    "plt.plot(df_results[df_results.Classifier=='XGB']['F1 Normal'].reset_index(drop=True), label='Normal')\n",
    "plt.plot(df_results[df_results.Classifier=='XGB']['F1 AF'].reset_index(drop=True), label='AF')\n",
    "plt.plot(df_results[df_results.Classifier=='XGB']['F1 Other'].reset_index(drop=True), label='Other')\n",
    "plt.plot(df_results[df_results.Classifier=='XGB']['F1 Noise'].reset_index(drop=True), label='Noise')\n",
    "plt.legend(loc='lower right')\n",
    "plt.ylabel('F1 score')\n",
    "plt.xlabel('Number of features')\n",
    "plt.rcParams.update(params)\n",
    "plt.tight_layout()\n",
    "#plt.show()\n",
    "\n",
    "plt.savefig('linechart_n_feat_vs_f1_per_class.png',dpi=DPI)\n",
    "\n",
    "#plt.show()"
   ]
  },
  {
   "cell_type": "markdown",
   "metadata": {},
   "source": [
    "# Test for statistical difference on N runs with random seed"
   ]
  },
  {
   "cell_type": "markdown",
   "metadata": {},
   "source": [
    "Tests the classifier N times using a pseudo-random seed, based on current microsecond"
   ]
  },
  {
   "cell_type": "code",
   "execution_count": 48,
   "metadata": {
    "collapsed": false,
    "scrolled": true
   },
   "outputs": [
    {
     "name": "stdout",
     "output_type": "stream",
     "text": [
      "\n",
      "Iteration 1 Seed 640952\n",
      "Tic: Train XGB\n",
      "Elapsed time: 20.292906 seconds.\n",
      "\n"
     ]
    },
    {
     "name": "stderr",
     "output_type": "stream",
     "text": [
      "/opt/conda/lib/python3.5/site-packages/sklearn/preprocessing/label.py:151: DeprecationWarning: The truth value of an empty array is ambiguous. Returning False, but in future this will result in an error. Use `array.size > 0` to check that an array is not empty.\n",
      "  if diff:\n",
      "/opt/conda/lib/python3.5/site-packages/sklearn/preprocessing/label.py:151: DeprecationWarning: The truth value of an empty array is ambiguous. Returning False, but in future this will result in an error. Use `array.size > 0` to check that an array is not empty.\n",
      "  if diff:\n",
      "/opt/conda/lib/python3.5/site-packages/sklearn/preprocessing/label.py:151: DeprecationWarning: The truth value of an empty array is ambiguous. Returning False, but in future this will result in an error. Use `array.size > 0` to check that an array is not empty.\n",
      "  if diff:\n",
      "/opt/conda/lib/python3.5/site-packages/sklearn/preprocessing/label.py:151: DeprecationWarning: The truth value of an empty array is ambiguous. Returning False, but in future this will result in an error. Use `array.size > 0` to check that an array is not empty.\n",
      "  if diff:\n",
      "/opt/conda/lib/python3.5/site-packages/sklearn/preprocessing/label.py:151: DeprecationWarning: The truth value of an empty array is ambiguous. Returning False, but in future this will result in an error. Use `array.size > 0` to check that an array is not empty.\n",
      "  if diff:\n",
      "/opt/conda/lib/python3.5/site-packages/sklearn/preprocessing/label.py:151: DeprecationWarning: The truth value of an empty array is ambiguous. Returning False, but in future this will result in an error. Use `array.size > 0` to check that an array is not empty.\n",
      "  if diff:\n"
     ]
    },
    {
     "name": "stdout",
     "output_type": "stream",
     "text": [
      "== 5-fold CV ==\n",
      "F1 scores 5-fold CV per iteration: [0.828 0.864 0.833 0.829 0.849]\n",
      "F1 mean 5-fold CV per class: [0.839 0.911 0.772 0.666]\n",
      "F1 mean 5-fold CV: 0.840\n",
      "Tic: Train RF\n",
      "Elapsed time: 31.649203 seconds.\n",
      "\n",
      "== 5-fold CV ==\n",
      "F1 scores 5-fold CV per iteration: [0.823 0.848 0.824 0.817 0.845]\n",
      "F1 mean 5-fold CV per class: [0.825 0.908 0.762 0.641]\n",
      "F1 mean 5-fold CV: 0.832\n",
      "\n",
      "Iteration 2 Seed 174973\n",
      "Tic: Train XGB\n",
      "Elapsed time: 27.395302 seconds.\n",
      "\n"
     ]
    },
    {
     "name": "stderr",
     "output_type": "stream",
     "text": [
      "/opt/conda/lib/python3.5/site-packages/sklearn/preprocessing/label.py:151: DeprecationWarning: The truth value of an empty array is ambiguous. Returning False, but in future this will result in an error. Use `array.size > 0` to check that an array is not empty.\n",
      "  if diff:\n",
      "/opt/conda/lib/python3.5/site-packages/sklearn/preprocessing/label.py:151: DeprecationWarning: The truth value of an empty array is ambiguous. Returning False, but in future this will result in an error. Use `array.size > 0` to check that an array is not empty.\n",
      "  if diff:\n",
      "/opt/conda/lib/python3.5/site-packages/sklearn/preprocessing/label.py:151: DeprecationWarning: The truth value of an empty array is ambiguous. Returning False, but in future this will result in an error. Use `array.size > 0` to check that an array is not empty.\n",
      "  if diff:\n",
      "/opt/conda/lib/python3.5/site-packages/sklearn/preprocessing/label.py:151: DeprecationWarning: The truth value of an empty array is ambiguous. Returning False, but in future this will result in an error. Use `array.size > 0` to check that an array is not empty.\n",
      "  if diff:\n",
      "/opt/conda/lib/python3.5/site-packages/sklearn/preprocessing/label.py:151: DeprecationWarning: The truth value of an empty array is ambiguous. Returning False, but in future this will result in an error. Use `array.size > 0` to check that an array is not empty.\n",
      "  if diff:\n",
      "/opt/conda/lib/python3.5/site-packages/sklearn/preprocessing/label.py:151: DeprecationWarning: The truth value of an empty array is ambiguous. Returning False, but in future this will result in an error. Use `array.size > 0` to check that an array is not empty.\n",
      "  if diff:\n"
     ]
    },
    {
     "name": "stdout",
     "output_type": "stream",
     "text": [
      "== 5-fold CV ==\n",
      "F1 scores 5-fold CV per iteration: [0.828 0.847 0.844 0.832 0.836]\n",
      "F1 mean 5-fold CV per class: [0.839 0.907 0.766 0.674]\n",
      "F1 mean 5-fold CV: 0.837\n",
      "Tic: Train RF\n",
      "Elapsed time: 33.404213 seconds.\n",
      "\n",
      "== 5-fold CV ==\n",
      "F1 scores 5-fold CV per iteration: [0.83  0.837 0.833 0.829 0.83 ]\n",
      "F1 mean 5-fold CV per class: [0.826 0.907 0.762 0.628]\n",
      "F1 mean 5-fold CV: 0.832\n",
      "\n",
      "Iteration 3 Seed 475791\n",
      "Tic: Train XGB\n",
      "Elapsed time: 27.161865 seconds.\n",
      "\n"
     ]
    },
    {
     "name": "stderr",
     "output_type": "stream",
     "text": [
      "/opt/conda/lib/python3.5/site-packages/sklearn/preprocessing/label.py:151: DeprecationWarning: The truth value of an empty array is ambiguous. Returning False, but in future this will result in an error. Use `array.size > 0` to check that an array is not empty.\n",
      "  if diff:\n",
      "/opt/conda/lib/python3.5/site-packages/sklearn/preprocessing/label.py:151: DeprecationWarning: The truth value of an empty array is ambiguous. Returning False, but in future this will result in an error. Use `array.size > 0` to check that an array is not empty.\n",
      "  if diff:\n",
      "/opt/conda/lib/python3.5/site-packages/sklearn/preprocessing/label.py:151: DeprecationWarning: The truth value of an empty array is ambiguous. Returning False, but in future this will result in an error. Use `array.size > 0` to check that an array is not empty.\n",
      "  if diff:\n",
      "/opt/conda/lib/python3.5/site-packages/sklearn/preprocessing/label.py:151: DeprecationWarning: The truth value of an empty array is ambiguous. Returning False, but in future this will result in an error. Use `array.size > 0` to check that an array is not empty.\n",
      "  if diff:\n",
      "/opt/conda/lib/python3.5/site-packages/sklearn/preprocessing/label.py:151: DeprecationWarning: The truth value of an empty array is ambiguous. Returning False, but in future this will result in an error. Use `array.size > 0` to check that an array is not empty.\n",
      "  if diff:\n",
      "/opt/conda/lib/python3.5/site-packages/sklearn/preprocessing/label.py:151: DeprecationWarning: The truth value of an empty array is ambiguous. Returning False, but in future this will result in an error. Use `array.size > 0` to check that an array is not empty.\n",
      "  if diff:\n"
     ]
    },
    {
     "name": "stdout",
     "output_type": "stream",
     "text": [
      "== 5-fold CV ==\n",
      "F1 scores 5-fold CV per iteration: [0.833 0.838 0.847 0.836 0.848]\n",
      "F1 mean 5-fold CV per class: [0.844 0.908 0.769 0.676]\n",
      "F1 mean 5-fold CV: 0.840\n",
      "Tic: Train RF\n",
      "Elapsed time: 35.572742 seconds.\n",
      "\n",
      "== 5-fold CV ==\n",
      "F1 scores 5-fold CV per iteration: [0.825 0.825 0.836 0.837 0.843]\n",
      "F1 mean 5-fold CV per class: [0.83  0.906 0.763 0.635]\n",
      "F1 mean 5-fold CV: 0.833\n",
      "\n",
      "Iteration 4 Seed 64051\n",
      "Tic: Train XGB\n",
      "Elapsed time: 27.088761 seconds.\n",
      "\n"
     ]
    },
    {
     "name": "stderr",
     "output_type": "stream",
     "text": [
      "/opt/conda/lib/python3.5/site-packages/sklearn/preprocessing/label.py:151: DeprecationWarning: The truth value of an empty array is ambiguous. Returning False, but in future this will result in an error. Use `array.size > 0` to check that an array is not empty.\n",
      "  if diff:\n",
      "/opt/conda/lib/python3.5/site-packages/sklearn/preprocessing/label.py:151: DeprecationWarning: The truth value of an empty array is ambiguous. Returning False, but in future this will result in an error. Use `array.size > 0` to check that an array is not empty.\n",
      "  if diff:\n",
      "/opt/conda/lib/python3.5/site-packages/sklearn/preprocessing/label.py:151: DeprecationWarning: The truth value of an empty array is ambiguous. Returning False, but in future this will result in an error. Use `array.size > 0` to check that an array is not empty.\n",
      "  if diff:\n",
      "/opt/conda/lib/python3.5/site-packages/sklearn/preprocessing/label.py:151: DeprecationWarning: The truth value of an empty array is ambiguous. Returning False, but in future this will result in an error. Use `array.size > 0` to check that an array is not empty.\n",
      "  if diff:\n",
      "/opt/conda/lib/python3.5/site-packages/sklearn/preprocessing/label.py:151: DeprecationWarning: The truth value of an empty array is ambiguous. Returning False, but in future this will result in an error. Use `array.size > 0` to check that an array is not empty.\n",
      "  if diff:\n",
      "/opt/conda/lib/python3.5/site-packages/sklearn/preprocessing/label.py:151: DeprecationWarning: The truth value of an empty array is ambiguous. Returning False, but in future this will result in an error. Use `array.size > 0` to check that an array is not empty.\n",
      "  if diff:\n"
     ]
    },
    {
     "name": "stdout",
     "output_type": "stream",
     "text": [
      "== 5-fold CV ==\n",
      "F1 scores 5-fold CV per iteration: [0.844 0.84  0.846 0.826 0.835]\n",
      "F1 mean 5-fold CV per class: [0.841 0.907 0.767 0.67 ]\n",
      "F1 mean 5-fold CV: 0.838\n",
      "Tic: Train RF\n",
      "Elapsed time: 29.473309 seconds.\n",
      "\n",
      "== 5-fold CV ==\n",
      "F1 scores 5-fold CV per iteration: [0.834 0.837 0.833 0.82  0.837]\n",
      "F1 mean 5-fold CV per class: [0.828 0.907 0.762 0.642]\n",
      "F1 mean 5-fold CV: 0.832\n",
      "\n",
      "Iteration 5 Seed 360485\n",
      "Tic: Train XGB\n",
      "Elapsed time: 21.962891 seconds.\n",
      "\n"
     ]
    },
    {
     "name": "stderr",
     "output_type": "stream",
     "text": [
      "/opt/conda/lib/python3.5/site-packages/sklearn/preprocessing/label.py:151: DeprecationWarning: The truth value of an empty array is ambiguous. Returning False, but in future this will result in an error. Use `array.size > 0` to check that an array is not empty.\n",
      "  if diff:\n",
      "/opt/conda/lib/python3.5/site-packages/sklearn/preprocessing/label.py:151: DeprecationWarning: The truth value of an empty array is ambiguous. Returning False, but in future this will result in an error. Use `array.size > 0` to check that an array is not empty.\n",
      "  if diff:\n",
      "/opt/conda/lib/python3.5/site-packages/sklearn/preprocessing/label.py:151: DeprecationWarning: The truth value of an empty array is ambiguous. Returning False, but in future this will result in an error. Use `array.size > 0` to check that an array is not empty.\n",
      "  if diff:\n",
      "/opt/conda/lib/python3.5/site-packages/sklearn/preprocessing/label.py:151: DeprecationWarning: The truth value of an empty array is ambiguous. Returning False, but in future this will result in an error. Use `array.size > 0` to check that an array is not empty.\n",
      "  if diff:\n",
      "/opt/conda/lib/python3.5/site-packages/sklearn/preprocessing/label.py:151: DeprecationWarning: The truth value of an empty array is ambiguous. Returning False, but in future this will result in an error. Use `array.size > 0` to check that an array is not empty.\n",
      "  if diff:\n",
      "/opt/conda/lib/python3.5/site-packages/sklearn/preprocessing/label.py:151: DeprecationWarning: The truth value of an empty array is ambiguous. Returning False, but in future this will result in an error. Use `array.size > 0` to check that an array is not empty.\n",
      "  if diff:\n"
     ]
    },
    {
     "name": "stdout",
     "output_type": "stream",
     "text": [
      "== 5-fold CV ==\n",
      "F1 scores 5-fold CV per iteration: [0.854 0.839 0.822 0.846 0.837]\n",
      "F1 mean 5-fold CV per class: [0.84  0.908 0.771 0.672]\n",
      "F1 mean 5-fold CV: 0.840\n",
      "Tic: Train RF\n",
      "Elapsed time: 29.852038 seconds.\n",
      "\n",
      "== 5-fold CV ==\n",
      "F1 scores 5-fold CV per iteration: [0.843 0.825 0.813 0.838 0.835]\n",
      "F1 mean 5-fold CV per class: [0.828 0.906 0.759 0.634]\n",
      "F1 mean 5-fold CV: 0.831\n",
      "\n",
      "Iteration 6 Seed 253311\n",
      "Tic: Train XGB\n",
      "Elapsed time: 22.523844 seconds.\n",
      "\n"
     ]
    },
    {
     "name": "stderr",
     "output_type": "stream",
     "text": [
      "/opt/conda/lib/python3.5/site-packages/sklearn/preprocessing/label.py:151: DeprecationWarning: The truth value of an empty array is ambiguous. Returning False, but in future this will result in an error. Use `array.size > 0` to check that an array is not empty.\n",
      "  if diff:\n",
      "/opt/conda/lib/python3.5/site-packages/sklearn/preprocessing/label.py:151: DeprecationWarning: The truth value of an empty array is ambiguous. Returning False, but in future this will result in an error. Use `array.size > 0` to check that an array is not empty.\n",
      "  if diff:\n",
      "/opt/conda/lib/python3.5/site-packages/sklearn/preprocessing/label.py:151: DeprecationWarning: The truth value of an empty array is ambiguous. Returning False, but in future this will result in an error. Use `array.size > 0` to check that an array is not empty.\n",
      "  if diff:\n",
      "/opt/conda/lib/python3.5/site-packages/sklearn/preprocessing/label.py:151: DeprecationWarning: The truth value of an empty array is ambiguous. Returning False, but in future this will result in an error. Use `array.size > 0` to check that an array is not empty.\n",
      "  if diff:\n",
      "/opt/conda/lib/python3.5/site-packages/sklearn/preprocessing/label.py:151: DeprecationWarning: The truth value of an empty array is ambiguous. Returning False, but in future this will result in an error. Use `array.size > 0` to check that an array is not empty.\n",
      "  if diff:\n",
      "/opt/conda/lib/python3.5/site-packages/sklearn/preprocessing/label.py:151: DeprecationWarning: The truth value of an empty array is ambiguous. Returning False, but in future this will result in an error. Use `array.size > 0` to check that an array is not empty.\n",
      "  if diff:\n"
     ]
    },
    {
     "name": "stdout",
     "output_type": "stream",
     "text": [
      "== 5-fold CV ==\n",
      "F1 scores 5-fold CV per iteration: [0.831 0.83  0.853 0.85  0.849]\n",
      "F1 mean 5-fold CV per class: [0.847 0.909 0.772 0.662]\n",
      "F1 mean 5-fold CV: 0.843\n",
      "Tic: Train RF\n",
      "Elapsed time: 30.555147 seconds.\n",
      "\n",
      "== 5-fold CV ==\n",
      "F1 scores 5-fold CV per iteration: [0.814 0.82  0.854 0.838 0.838]\n",
      "F1 mean 5-fold CV per class: [0.827 0.908 0.764 0.631]\n",
      "F1 mean 5-fold CV: 0.833\n",
      "\n",
      "Iteration 7 Seed 24055\n",
      "Tic: Train XGB\n",
      "Elapsed time: 23.250245 seconds.\n",
      "\n"
     ]
    },
    {
     "name": "stderr",
     "output_type": "stream",
     "text": [
      "/opt/conda/lib/python3.5/site-packages/sklearn/preprocessing/label.py:151: DeprecationWarning: The truth value of an empty array is ambiguous. Returning False, but in future this will result in an error. Use `array.size > 0` to check that an array is not empty.\n",
      "  if diff:\n",
      "/opt/conda/lib/python3.5/site-packages/sklearn/preprocessing/label.py:151: DeprecationWarning: The truth value of an empty array is ambiguous. Returning False, but in future this will result in an error. Use `array.size > 0` to check that an array is not empty.\n",
      "  if diff:\n",
      "/opt/conda/lib/python3.5/site-packages/sklearn/preprocessing/label.py:151: DeprecationWarning: The truth value of an empty array is ambiguous. Returning False, but in future this will result in an error. Use `array.size > 0` to check that an array is not empty.\n",
      "  if diff:\n",
      "/opt/conda/lib/python3.5/site-packages/sklearn/preprocessing/label.py:151: DeprecationWarning: The truth value of an empty array is ambiguous. Returning False, but in future this will result in an error. Use `array.size > 0` to check that an array is not empty.\n",
      "  if diff:\n",
      "/opt/conda/lib/python3.5/site-packages/sklearn/preprocessing/label.py:151: DeprecationWarning: The truth value of an empty array is ambiguous. Returning False, but in future this will result in an error. Use `array.size > 0` to check that an array is not empty.\n",
      "  if diff:\n",
      "/opt/conda/lib/python3.5/site-packages/sklearn/preprocessing/label.py:151: DeprecationWarning: The truth value of an empty array is ambiguous. Returning False, but in future this will result in an error. Use `array.size > 0` to check that an array is not empty.\n",
      "  if diff:\n"
     ]
    },
    {
     "name": "stdout",
     "output_type": "stream",
     "text": [
      "== 5-fold CV ==\n",
      "F1 scores 5-fold CV per iteration: [0.834 0.829 0.831 0.857 0.846]\n",
      "F1 mean 5-fold CV per class: [0.839 0.91  0.769 0.68 ]\n",
      "F1 mean 5-fold CV: 0.839\n",
      "Tic: Train RF\n",
      "Elapsed time: 30.662174 seconds.\n",
      "\n",
      "== 5-fold CV ==\n",
      "F1 scores 5-fold CV per iteration: [0.824 0.832 0.83  0.838 0.832]\n",
      "F1 mean 5-fold CV per class: [0.827 0.908 0.759 0.637]\n",
      "F1 mean 5-fold CV: 0.831\n",
      "\n",
      "Iteration 8 Seed 895835\n",
      "Tic: Train XGB\n",
      "Elapsed time: 23.038316 seconds.\n",
      "\n"
     ]
    },
    {
     "name": "stderr",
     "output_type": "stream",
     "text": [
      "/opt/conda/lib/python3.5/site-packages/sklearn/preprocessing/label.py:151: DeprecationWarning: The truth value of an empty array is ambiguous. Returning False, but in future this will result in an error. Use `array.size > 0` to check that an array is not empty.\n",
      "  if diff:\n",
      "/opt/conda/lib/python3.5/site-packages/sklearn/preprocessing/label.py:151: DeprecationWarning: The truth value of an empty array is ambiguous. Returning False, but in future this will result in an error. Use `array.size > 0` to check that an array is not empty.\n",
      "  if diff:\n",
      "/opt/conda/lib/python3.5/site-packages/sklearn/preprocessing/label.py:151: DeprecationWarning: The truth value of an empty array is ambiguous. Returning False, but in future this will result in an error. Use `array.size > 0` to check that an array is not empty.\n",
      "  if diff:\n",
      "/opt/conda/lib/python3.5/site-packages/sklearn/preprocessing/label.py:151: DeprecationWarning: The truth value of an empty array is ambiguous. Returning False, but in future this will result in an error. Use `array.size > 0` to check that an array is not empty.\n",
      "  if diff:\n",
      "/opt/conda/lib/python3.5/site-packages/sklearn/preprocessing/label.py:151: DeprecationWarning: The truth value of an empty array is ambiguous. Returning False, but in future this will result in an error. Use `array.size > 0` to check that an array is not empty.\n",
      "  if diff:\n",
      "/opt/conda/lib/python3.5/site-packages/sklearn/preprocessing/label.py:151: DeprecationWarning: The truth value of an empty array is ambiguous. Returning False, but in future this will result in an error. Use `array.size > 0` to check that an array is not empty.\n",
      "  if diff:\n"
     ]
    },
    {
     "name": "stdout",
     "output_type": "stream",
     "text": [
      "== 5-fold CV ==\n",
      "F1 scores 5-fold CV per iteration: [0.843 0.845 0.836 0.805 0.862]\n",
      "F1 mean 5-fold CV per class: [0.84  0.908 0.767 0.679]\n",
      "F1 mean 5-fold CV: 0.838\n",
      "Tic: Train RF\n",
      "Elapsed time: 33.015305 seconds.\n",
      "\n",
      "== 5-fold CV ==\n",
      "F1 scores 5-fold CV per iteration: [0.839 0.844 0.824 0.808 0.845]\n",
      "F1 mean 5-fold CV per class: [0.829 0.906 0.761 0.639]\n",
      "F1 mean 5-fold CV: 0.832\n",
      "\n",
      "Iteration 9 Seed 51138\n",
      "Tic: Train XGB\n",
      "Elapsed time: 23.290122 seconds.\n",
      "\n"
     ]
    },
    {
     "name": "stderr",
     "output_type": "stream",
     "text": [
      "/opt/conda/lib/python3.5/site-packages/sklearn/preprocessing/label.py:151: DeprecationWarning: The truth value of an empty array is ambiguous. Returning False, but in future this will result in an error. Use `array.size > 0` to check that an array is not empty.\n",
      "  if diff:\n",
      "/opt/conda/lib/python3.5/site-packages/sklearn/preprocessing/label.py:151: DeprecationWarning: The truth value of an empty array is ambiguous. Returning False, but in future this will result in an error. Use `array.size > 0` to check that an array is not empty.\n",
      "  if diff:\n",
      "/opt/conda/lib/python3.5/site-packages/sklearn/preprocessing/label.py:151: DeprecationWarning: The truth value of an empty array is ambiguous. Returning False, but in future this will result in an error. Use `array.size > 0` to check that an array is not empty.\n",
      "  if diff:\n",
      "/opt/conda/lib/python3.5/site-packages/sklearn/preprocessing/label.py:151: DeprecationWarning: The truth value of an empty array is ambiguous. Returning False, but in future this will result in an error. Use `array.size > 0` to check that an array is not empty.\n",
      "  if diff:\n",
      "/opt/conda/lib/python3.5/site-packages/sklearn/preprocessing/label.py:151: DeprecationWarning: The truth value of an empty array is ambiguous. Returning False, but in future this will result in an error. Use `array.size > 0` to check that an array is not empty.\n",
      "  if diff:\n",
      "/opt/conda/lib/python3.5/site-packages/sklearn/preprocessing/label.py:151: DeprecationWarning: The truth value of an empty array is ambiguous. Returning False, but in future this will result in an error. Use `array.size > 0` to check that an array is not empty.\n",
      "  if diff:\n"
     ]
    },
    {
     "name": "stdout",
     "output_type": "stream",
     "text": [
      "== 5-fold CV ==\n",
      "F1 scores 5-fold CV per iteration: [0.849 0.828 0.841 0.854 0.833]\n",
      "F1 mean 5-fold CV per class: [0.841 0.91  0.771 0.692]\n",
      "F1 mean 5-fold CV: 0.841\n",
      "Tic: Train RF\n",
      "Elapsed time: 30.873626 seconds.\n",
      "\n",
      "== 5-fold CV ==\n",
      "F1 scores 5-fold CV per iteration: [0.842 0.823 0.822 0.845 0.832]\n",
      "F1 mean 5-fold CV per class: [0.829 0.907 0.763 0.639]\n",
      "F1 mean 5-fold CV: 0.833\n",
      "\n",
      "Iteration 10 Seed 664516\n",
      "Tic: Train XGB\n",
      "Elapsed time: 23.551826 seconds.\n",
      "\n"
     ]
    },
    {
     "name": "stderr",
     "output_type": "stream",
     "text": [
      "/opt/conda/lib/python3.5/site-packages/sklearn/preprocessing/label.py:151: DeprecationWarning: The truth value of an empty array is ambiguous. Returning False, but in future this will result in an error. Use `array.size > 0` to check that an array is not empty.\n",
      "  if diff:\n",
      "/opt/conda/lib/python3.5/site-packages/sklearn/preprocessing/label.py:151: DeprecationWarning: The truth value of an empty array is ambiguous. Returning False, but in future this will result in an error. Use `array.size > 0` to check that an array is not empty.\n",
      "  if diff:\n",
      "/opt/conda/lib/python3.5/site-packages/sklearn/preprocessing/label.py:151: DeprecationWarning: The truth value of an empty array is ambiguous. Returning False, but in future this will result in an error. Use `array.size > 0` to check that an array is not empty.\n",
      "  if diff:\n",
      "/opt/conda/lib/python3.5/site-packages/sklearn/preprocessing/label.py:151: DeprecationWarning: The truth value of an empty array is ambiguous. Returning False, but in future this will result in an error. Use `array.size > 0` to check that an array is not empty.\n",
      "  if diff:\n",
      "/opt/conda/lib/python3.5/site-packages/sklearn/preprocessing/label.py:151: DeprecationWarning: The truth value of an empty array is ambiguous. Returning False, but in future this will result in an error. Use `array.size > 0` to check that an array is not empty.\n",
      "  if diff:\n",
      "/opt/conda/lib/python3.5/site-packages/sklearn/preprocessing/label.py:151: DeprecationWarning: The truth value of an empty array is ambiguous. Returning False, but in future this will result in an error. Use `array.size > 0` to check that an array is not empty.\n",
      "  if diff:\n"
     ]
    },
    {
     "name": "stdout",
     "output_type": "stream",
     "text": [
      "== 5-fold CV ==\n",
      "F1 scores 5-fold CV per iteration: [0.853 0.834 0.832 0.836 0.842]\n",
      "F1 mean 5-fold CV per class: [0.84  0.909 0.769 0.677]\n",
      "F1 mean 5-fold CV: 0.839\n",
      "Tic: Train RF\n",
      "Elapsed time: 31.067537 seconds.\n",
      "\n",
      "== 5-fold CV ==\n",
      "F1 scores 5-fold CV per iteration: [0.851 0.829 0.813 0.823 0.845]\n",
      "F1 mean 5-fold CV per class: [0.829 0.906 0.761 0.637]\n",
      "F1 mean 5-fold CV: 0.832\n",
      "\n",
      "Iteration 11 Seed 920831\n",
      "Tic: Train XGB\n",
      "Elapsed time: 23.867829 seconds.\n",
      "\n"
     ]
    },
    {
     "name": "stderr",
     "output_type": "stream",
     "text": [
      "/opt/conda/lib/python3.5/site-packages/sklearn/preprocessing/label.py:151: DeprecationWarning: The truth value of an empty array is ambiguous. Returning False, but in future this will result in an error. Use `array.size > 0` to check that an array is not empty.\n",
      "  if diff:\n",
      "/opt/conda/lib/python3.5/site-packages/sklearn/preprocessing/label.py:151: DeprecationWarning: The truth value of an empty array is ambiguous. Returning False, but in future this will result in an error. Use `array.size > 0` to check that an array is not empty.\n",
      "  if diff:\n",
      "/opt/conda/lib/python3.5/site-packages/sklearn/preprocessing/label.py:151: DeprecationWarning: The truth value of an empty array is ambiguous. Returning False, but in future this will result in an error. Use `array.size > 0` to check that an array is not empty.\n",
      "  if diff:\n",
      "/opt/conda/lib/python3.5/site-packages/sklearn/preprocessing/label.py:151: DeprecationWarning: The truth value of an empty array is ambiguous. Returning False, but in future this will result in an error. Use `array.size > 0` to check that an array is not empty.\n",
      "  if diff:\n",
      "/opt/conda/lib/python3.5/site-packages/sklearn/preprocessing/label.py:151: DeprecationWarning: The truth value of an empty array is ambiguous. Returning False, but in future this will result in an error. Use `array.size > 0` to check that an array is not empty.\n",
      "  if diff:\n",
      "/opt/conda/lib/python3.5/site-packages/sklearn/preprocessing/label.py:151: DeprecationWarning: The truth value of an empty array is ambiguous. Returning False, but in future this will result in an error. Use `array.size > 0` to check that an array is not empty.\n",
      "  if diff:\n"
     ]
    },
    {
     "name": "stdout",
     "output_type": "stream",
     "text": [
      "== 5-fold CV ==\n",
      "F1 scores 5-fold CV per iteration: [0.836 0.836 0.847 0.829 0.849]\n",
      "F1 mean 5-fold CV per class: [0.84  0.908 0.771 0.666]\n",
      "F1 mean 5-fold CV: 0.840\n",
      "Tic: Train RF\n",
      "Elapsed time: 31.211908 seconds.\n",
      "\n",
      "== 5-fold CV ==\n",
      "F1 scores 5-fold CV per iteration: [0.832 0.826 0.841 0.823 0.835]\n",
      "F1 mean 5-fold CV per class: [0.827 0.906 0.76  0.64 ]\n",
      "F1 mean 5-fold CV: 0.831\n",
      "\n",
      "Iteration 12 Seed 304328\n",
      "Tic: Train XGB\n",
      "Elapsed time: 23.330284 seconds.\n",
      "\n"
     ]
    },
    {
     "name": "stderr",
     "output_type": "stream",
     "text": [
      "/opt/conda/lib/python3.5/site-packages/sklearn/preprocessing/label.py:151: DeprecationWarning: The truth value of an empty array is ambiguous. Returning False, but in future this will result in an error. Use `array.size > 0` to check that an array is not empty.\n",
      "  if diff:\n",
      "/opt/conda/lib/python3.5/site-packages/sklearn/preprocessing/label.py:151: DeprecationWarning: The truth value of an empty array is ambiguous. Returning False, but in future this will result in an error. Use `array.size > 0` to check that an array is not empty.\n",
      "  if diff:\n",
      "/opt/conda/lib/python3.5/site-packages/sklearn/preprocessing/label.py:151: DeprecationWarning: The truth value of an empty array is ambiguous. Returning False, but in future this will result in an error. Use `array.size > 0` to check that an array is not empty.\n",
      "  if diff:\n",
      "/opt/conda/lib/python3.5/site-packages/sklearn/preprocessing/label.py:151: DeprecationWarning: The truth value of an empty array is ambiguous. Returning False, but in future this will result in an error. Use `array.size > 0` to check that an array is not empty.\n",
      "  if diff:\n",
      "/opt/conda/lib/python3.5/site-packages/sklearn/preprocessing/label.py:151: DeprecationWarning: The truth value of an empty array is ambiguous. Returning False, but in future this will result in an error. Use `array.size > 0` to check that an array is not empty.\n",
      "  if diff:\n",
      "/opt/conda/lib/python3.5/site-packages/sklearn/preprocessing/label.py:151: DeprecationWarning: The truth value of an empty array is ambiguous. Returning False, but in future this will result in an error. Use `array.size > 0` to check that an array is not empty.\n",
      "  if diff:\n"
     ]
    },
    {
     "name": "stdout",
     "output_type": "stream",
     "text": [
      "== 5-fold CV ==\n",
      "F1 scores 5-fold CV per iteration: [0.857 0.844 0.826 0.854 0.822]\n",
      "F1 mean 5-fold CV per class: [0.839 0.909 0.773 0.673]\n",
      "F1 mean 5-fold CV: 0.841\n",
      "Tic: Train RF\n",
      "Elapsed time: 31.420375 seconds.\n",
      "\n",
      "== 5-fold CV ==\n",
      "F1 scores 5-fold CV per iteration: [0.859 0.83  0.815 0.844 0.817]\n",
      "F1 mean 5-fold CV per class: [0.832 0.907 0.76  0.628]\n",
      "F1 mean 5-fold CV: 0.833\n",
      "\n",
      "Iteration 13 Seed 559047\n",
      "Tic: Train XGB\n",
      "Elapsed time: 23.460740 seconds.\n",
      "\n"
     ]
    },
    {
     "name": "stderr",
     "output_type": "stream",
     "text": [
      "/opt/conda/lib/python3.5/site-packages/sklearn/preprocessing/label.py:151: DeprecationWarning: The truth value of an empty array is ambiguous. Returning False, but in future this will result in an error. Use `array.size > 0` to check that an array is not empty.\n",
      "  if diff:\n",
      "/opt/conda/lib/python3.5/site-packages/sklearn/preprocessing/label.py:151: DeprecationWarning: The truth value of an empty array is ambiguous. Returning False, but in future this will result in an error. Use `array.size > 0` to check that an array is not empty.\n",
      "  if diff:\n",
      "/opt/conda/lib/python3.5/site-packages/sklearn/preprocessing/label.py:151: DeprecationWarning: The truth value of an empty array is ambiguous. Returning False, but in future this will result in an error. Use `array.size > 0` to check that an array is not empty.\n",
      "  if diff:\n",
      "/opt/conda/lib/python3.5/site-packages/sklearn/preprocessing/label.py:151: DeprecationWarning: The truth value of an empty array is ambiguous. Returning False, but in future this will result in an error. Use `array.size > 0` to check that an array is not empty.\n",
      "  if diff:\n",
      "/opt/conda/lib/python3.5/site-packages/sklearn/preprocessing/label.py:151: DeprecationWarning: The truth value of an empty array is ambiguous. Returning False, but in future this will result in an error. Use `array.size > 0` to check that an array is not empty.\n",
      "  if diff:\n",
      "/opt/conda/lib/python3.5/site-packages/sklearn/preprocessing/label.py:151: DeprecationWarning: The truth value of an empty array is ambiguous. Returning False, but in future this will result in an error. Use `array.size > 0` to check that an array is not empty.\n",
      "  if diff:\n"
     ]
    },
    {
     "name": "stdout",
     "output_type": "stream",
     "text": [
      "== 5-fold CV ==\n",
      "F1 scores 5-fold CV per iteration: [0.825 0.853 0.844 0.842 0.832]\n",
      "F1 mean 5-fold CV per class: [0.84  0.909 0.768 0.666]\n",
      "F1 mean 5-fold CV: 0.839\n",
      "Tic: Train RF\n",
      "Elapsed time: 31.641917 seconds.\n",
      "\n",
      "== 5-fold CV ==\n",
      "F1 scores 5-fold CV per iteration: [0.826 0.848 0.828 0.845 0.828]\n",
      "F1 mean 5-fold CV per class: [0.833 0.908 0.764 0.639]\n",
      "F1 mean 5-fold CV: 0.835\n",
      "\n",
      "Iteration 14 Seed 840057\n",
      "Tic: Train XGB\n",
      "Elapsed time: 23.727801 seconds.\n",
      "\n"
     ]
    },
    {
     "name": "stderr",
     "output_type": "stream",
     "text": [
      "/opt/conda/lib/python3.5/site-packages/sklearn/preprocessing/label.py:151: DeprecationWarning: The truth value of an empty array is ambiguous. Returning False, but in future this will result in an error. Use `array.size > 0` to check that an array is not empty.\n",
      "  if diff:\n",
      "/opt/conda/lib/python3.5/site-packages/sklearn/preprocessing/label.py:151: DeprecationWarning: The truth value of an empty array is ambiguous. Returning False, but in future this will result in an error. Use `array.size > 0` to check that an array is not empty.\n",
      "  if diff:\n",
      "/opt/conda/lib/python3.5/site-packages/sklearn/preprocessing/label.py:151: DeprecationWarning: The truth value of an empty array is ambiguous. Returning False, but in future this will result in an error. Use `array.size > 0` to check that an array is not empty.\n",
      "  if diff:\n",
      "/opt/conda/lib/python3.5/site-packages/sklearn/preprocessing/label.py:151: DeprecationWarning: The truth value of an empty array is ambiguous. Returning False, but in future this will result in an error. Use `array.size > 0` to check that an array is not empty.\n",
      "  if diff:\n",
      "/opt/conda/lib/python3.5/site-packages/sklearn/preprocessing/label.py:151: DeprecationWarning: The truth value of an empty array is ambiguous. Returning False, but in future this will result in an error. Use `array.size > 0` to check that an array is not empty.\n",
      "  if diff:\n",
      "/opt/conda/lib/python3.5/site-packages/sklearn/preprocessing/label.py:151: DeprecationWarning: The truth value of an empty array is ambiguous. Returning False, but in future this will result in an error. Use `array.size > 0` to check that an array is not empty.\n",
      "  if diff:\n"
     ]
    },
    {
     "name": "stdout",
     "output_type": "stream",
     "text": [
      "== 5-fold CV ==\n",
      "F1 scores 5-fold CV per iteration: [0.84  0.832 0.83  0.842 0.839]\n",
      "F1 mean 5-fold CV per class: [0.836 0.908 0.766 0.667]\n",
      "F1 mean 5-fold CV: 0.837\n",
      "Tic: Train RF\n",
      "Elapsed time: 31.639376 seconds.\n",
      "\n",
      "== 5-fold CV ==\n",
      "F1 scores 5-fold CV per iteration: [0.842 0.843 0.825 0.837 0.832]\n",
      "F1 mean 5-fold CV per class: [0.835 0.907 0.766 0.632]\n",
      "F1 mean 5-fold CV: 0.836\n",
      "\n",
      "Iteration 15 Seed 791891\n",
      "Tic: Train XGB\n",
      "Elapsed time: 23.808445 seconds.\n",
      "\n"
     ]
    },
    {
     "name": "stderr",
     "output_type": "stream",
     "text": [
      "/opt/conda/lib/python3.5/site-packages/sklearn/preprocessing/label.py:151: DeprecationWarning: The truth value of an empty array is ambiguous. Returning False, but in future this will result in an error. Use `array.size > 0` to check that an array is not empty.\n",
      "  if diff:\n",
      "/opt/conda/lib/python3.5/site-packages/sklearn/preprocessing/label.py:151: DeprecationWarning: The truth value of an empty array is ambiguous. Returning False, but in future this will result in an error. Use `array.size > 0` to check that an array is not empty.\n",
      "  if diff:\n",
      "/opt/conda/lib/python3.5/site-packages/sklearn/preprocessing/label.py:151: DeprecationWarning: The truth value of an empty array is ambiguous. Returning False, but in future this will result in an error. Use `array.size > 0` to check that an array is not empty.\n",
      "  if diff:\n",
      "/opt/conda/lib/python3.5/site-packages/sklearn/preprocessing/label.py:151: DeprecationWarning: The truth value of an empty array is ambiguous. Returning False, but in future this will result in an error. Use `array.size > 0` to check that an array is not empty.\n",
      "  if diff:\n",
      "/opt/conda/lib/python3.5/site-packages/sklearn/preprocessing/label.py:151: DeprecationWarning: The truth value of an empty array is ambiguous. Returning False, but in future this will result in an error. Use `array.size > 0` to check that an array is not empty.\n",
      "  if diff:\n",
      "/opt/conda/lib/python3.5/site-packages/sklearn/preprocessing/label.py:151: DeprecationWarning: The truth value of an empty array is ambiguous. Returning False, but in future this will result in an error. Use `array.size > 0` to check that an array is not empty.\n",
      "  if diff:\n"
     ]
    },
    {
     "name": "stdout",
     "output_type": "stream",
     "text": [
      "== 5-fold CV ==\n",
      "F1 scores 5-fold CV per iteration: [0.835 0.846 0.834 0.828 0.835]\n",
      "F1 mean 5-fold CV per class: [0.83  0.909 0.769 0.662]\n",
      "F1 mean 5-fold CV: 0.836\n",
      "Tic: Train RF\n",
      "Elapsed time: 31.438611 seconds.\n",
      "\n",
      "== 5-fold CV ==\n",
      "F1 scores 5-fold CV per iteration: [0.831 0.841 0.833 0.82  0.83 ]\n",
      "F1 mean 5-fold CV per class: [0.826 0.907 0.76  0.636]\n",
      "F1 mean 5-fold CV: 0.831\n",
      "\n",
      "Iteration 16 Seed 97283\n",
      "Tic: Train XGB\n",
      "Elapsed time: 23.663732 seconds.\n",
      "\n"
     ]
    },
    {
     "name": "stderr",
     "output_type": "stream",
     "text": [
      "/opt/conda/lib/python3.5/site-packages/sklearn/preprocessing/label.py:151: DeprecationWarning: The truth value of an empty array is ambiguous. Returning False, but in future this will result in an error. Use `array.size > 0` to check that an array is not empty.\n",
      "  if diff:\n",
      "/opt/conda/lib/python3.5/site-packages/sklearn/preprocessing/label.py:151: DeprecationWarning: The truth value of an empty array is ambiguous. Returning False, but in future this will result in an error. Use `array.size > 0` to check that an array is not empty.\n",
      "  if diff:\n",
      "/opt/conda/lib/python3.5/site-packages/sklearn/preprocessing/label.py:151: DeprecationWarning: The truth value of an empty array is ambiguous. Returning False, but in future this will result in an error. Use `array.size > 0` to check that an array is not empty.\n",
      "  if diff:\n",
      "/opt/conda/lib/python3.5/site-packages/sklearn/preprocessing/label.py:151: DeprecationWarning: The truth value of an empty array is ambiguous. Returning False, but in future this will result in an error. Use `array.size > 0` to check that an array is not empty.\n",
      "  if diff:\n",
      "/opt/conda/lib/python3.5/site-packages/sklearn/preprocessing/label.py:151: DeprecationWarning: The truth value of an empty array is ambiguous. Returning False, but in future this will result in an error. Use `array.size > 0` to check that an array is not empty.\n",
      "  if diff:\n",
      "/opt/conda/lib/python3.5/site-packages/sklearn/preprocessing/label.py:151: DeprecationWarning: The truth value of an empty array is ambiguous. Returning False, but in future this will result in an error. Use `array.size > 0` to check that an array is not empty.\n",
      "  if diff:\n"
     ]
    },
    {
     "name": "stdout",
     "output_type": "stream",
     "text": [
      "== 5-fold CV ==\n",
      "F1 scores 5-fold CV per iteration: [0.828 0.835 0.831 0.862 0.836]\n",
      "F1 mean 5-fold CV per class: [0.843 0.907 0.765 0.685]\n",
      "F1 mean 5-fold CV: 0.838\n",
      "Tic: Train RF\n",
      "Elapsed time: 31.623029 seconds.\n",
      "\n",
      "== 5-fold CV ==\n",
      "F1 scores 5-fold CV per iteration: [0.819 0.835 0.821 0.859 0.835]\n",
      "F1 mean 5-fold CV per class: [0.833 0.907 0.762 0.638]\n",
      "F1 mean 5-fold CV: 0.834\n",
      "\n",
      "Iteration 17 Seed 242568\n",
      "Tic: Train XGB\n",
      "Elapsed time: 23.749848 seconds.\n",
      "\n"
     ]
    },
    {
     "name": "stderr",
     "output_type": "stream",
     "text": [
      "/opt/conda/lib/python3.5/site-packages/sklearn/preprocessing/label.py:151: DeprecationWarning: The truth value of an empty array is ambiguous. Returning False, but in future this will result in an error. Use `array.size > 0` to check that an array is not empty.\n",
      "  if diff:\n",
      "/opt/conda/lib/python3.5/site-packages/sklearn/preprocessing/label.py:151: DeprecationWarning: The truth value of an empty array is ambiguous. Returning False, but in future this will result in an error. Use `array.size > 0` to check that an array is not empty.\n",
      "  if diff:\n",
      "/opt/conda/lib/python3.5/site-packages/sklearn/preprocessing/label.py:151: DeprecationWarning: The truth value of an empty array is ambiguous. Returning False, but in future this will result in an error. Use `array.size > 0` to check that an array is not empty.\n",
      "  if diff:\n",
      "/opt/conda/lib/python3.5/site-packages/sklearn/preprocessing/label.py:151: DeprecationWarning: The truth value of an empty array is ambiguous. Returning False, but in future this will result in an error. Use `array.size > 0` to check that an array is not empty.\n",
      "  if diff:\n",
      "/opt/conda/lib/python3.5/site-packages/sklearn/preprocessing/label.py:151: DeprecationWarning: The truth value of an empty array is ambiguous. Returning False, but in future this will result in an error. Use `array.size > 0` to check that an array is not empty.\n",
      "  if diff:\n",
      "/opt/conda/lib/python3.5/site-packages/sklearn/preprocessing/label.py:151: DeprecationWarning: The truth value of an empty array is ambiguous. Returning False, but in future this will result in an error. Use `array.size > 0` to check that an array is not empty.\n",
      "  if diff:\n"
     ]
    },
    {
     "name": "stdout",
     "output_type": "stream",
     "text": [
      "== 5-fold CV ==\n",
      "F1 scores 5-fold CV per iteration: [0.841 0.84  0.845 0.841 0.837]\n",
      "F1 mean 5-fold CV per class: [0.843 0.909 0.77  0.676]\n",
      "F1 mean 5-fold CV: 0.841\n",
      "Tic: Train RF\n",
      "Elapsed time: 31.595450 seconds.\n",
      "\n",
      "== 5-fold CV ==\n",
      "F1 scores 5-fold CV per iteration: [0.842 0.834 0.843 0.822 0.83 ]\n",
      "F1 mean 5-fold CV per class: [0.832 0.907 0.763 0.633]\n",
      "F1 mean 5-fold CV: 0.834\n",
      "\n",
      "Iteration 18 Seed 213706\n",
      "Tic: Train XGB\n",
      "Elapsed time: 25.508889 seconds.\n",
      "\n"
     ]
    },
    {
     "name": "stderr",
     "output_type": "stream",
     "text": [
      "/opt/conda/lib/python3.5/site-packages/sklearn/preprocessing/label.py:151: DeprecationWarning: The truth value of an empty array is ambiguous. Returning False, but in future this will result in an error. Use `array.size > 0` to check that an array is not empty.\n",
      "  if diff:\n",
      "/opt/conda/lib/python3.5/site-packages/sklearn/preprocessing/label.py:151: DeprecationWarning: The truth value of an empty array is ambiguous. Returning False, but in future this will result in an error. Use `array.size > 0` to check that an array is not empty.\n",
      "  if diff:\n",
      "/opt/conda/lib/python3.5/site-packages/sklearn/preprocessing/label.py:151: DeprecationWarning: The truth value of an empty array is ambiguous. Returning False, but in future this will result in an error. Use `array.size > 0` to check that an array is not empty.\n",
      "  if diff:\n",
      "/opt/conda/lib/python3.5/site-packages/sklearn/preprocessing/label.py:151: DeprecationWarning: The truth value of an empty array is ambiguous. Returning False, but in future this will result in an error. Use `array.size > 0` to check that an array is not empty.\n",
      "  if diff:\n",
      "/opt/conda/lib/python3.5/site-packages/sklearn/preprocessing/label.py:151: DeprecationWarning: The truth value of an empty array is ambiguous. Returning False, but in future this will result in an error. Use `array.size > 0` to check that an array is not empty.\n",
      "  if diff:\n",
      "/opt/conda/lib/python3.5/site-packages/sklearn/preprocessing/label.py:151: DeprecationWarning: The truth value of an empty array is ambiguous. Returning False, but in future this will result in an error. Use `array.size > 0` to check that an array is not empty.\n",
      "  if diff:\n"
     ]
    },
    {
     "name": "stdout",
     "output_type": "stream",
     "text": [
      "== 5-fold CV ==\n",
      "F1 scores 5-fold CV per iteration: [0.826 0.855 0.842 0.839 0.83 ]\n",
      "F1 mean 5-fold CV per class: [0.838 0.908 0.769 0.663]\n",
      "F1 mean 5-fold CV: 0.838\n",
      "Tic: Train RF\n",
      "Elapsed time: 31.618188 seconds.\n",
      "\n",
      "== 5-fold CV ==\n",
      "F1 scores 5-fold CV per iteration: [0.831 0.838 0.839 0.835 0.829]\n",
      "F1 mean 5-fold CV per class: [0.832 0.908 0.763 0.646]\n",
      "F1 mean 5-fold CV: 0.834\n",
      "\n",
      "Iteration 19 Seed 705534\n",
      "Tic: Train XGB\n",
      "Elapsed time: 23.831789 seconds.\n",
      "\n"
     ]
    },
    {
     "name": "stderr",
     "output_type": "stream",
     "text": [
      "/opt/conda/lib/python3.5/site-packages/sklearn/preprocessing/label.py:151: DeprecationWarning: The truth value of an empty array is ambiguous. Returning False, but in future this will result in an error. Use `array.size > 0` to check that an array is not empty.\n",
      "  if diff:\n",
      "/opt/conda/lib/python3.5/site-packages/sklearn/preprocessing/label.py:151: DeprecationWarning: The truth value of an empty array is ambiguous. Returning False, but in future this will result in an error. Use `array.size > 0` to check that an array is not empty.\n",
      "  if diff:\n",
      "/opt/conda/lib/python3.5/site-packages/sklearn/preprocessing/label.py:151: DeprecationWarning: The truth value of an empty array is ambiguous. Returning False, but in future this will result in an error. Use `array.size > 0` to check that an array is not empty.\n",
      "  if diff:\n",
      "/opt/conda/lib/python3.5/site-packages/sklearn/preprocessing/label.py:151: DeprecationWarning: The truth value of an empty array is ambiguous. Returning False, but in future this will result in an error. Use `array.size > 0` to check that an array is not empty.\n",
      "  if diff:\n",
      "/opt/conda/lib/python3.5/site-packages/sklearn/preprocessing/label.py:151: DeprecationWarning: The truth value of an empty array is ambiguous. Returning False, but in future this will result in an error. Use `array.size > 0` to check that an array is not empty.\n",
      "  if diff:\n",
      "/opt/conda/lib/python3.5/site-packages/sklearn/preprocessing/label.py:151: DeprecationWarning: The truth value of an empty array is ambiguous. Returning False, but in future this will result in an error. Use `array.size > 0` to check that an array is not empty.\n",
      "  if diff:\n"
     ]
    },
    {
     "name": "stdout",
     "output_type": "stream",
     "text": [
      "== 5-fold CV ==\n",
      "F1 scores 5-fold CV per iteration: [0.837 0.845 0.84  0.843 0.832]\n",
      "F1 mean 5-fold CV per class: [0.841 0.908 0.768 0.657]\n",
      "F1 mean 5-fold CV: 0.839\n",
      "Tic: Train RF\n",
      "Elapsed time: 31.051171 seconds.\n",
      "\n",
      "== 5-fold CV ==\n",
      "F1 scores 5-fold CV per iteration: [0.834 0.853 0.826 0.829 0.829]\n",
      "F1 mean 5-fold CV per class: [0.831 0.908 0.764 0.638]\n",
      "F1 mean 5-fold CV: 0.834\n",
      "\n",
      "Iteration 20 Seed 608117\n",
      "Tic: Train XGB\n",
      "Elapsed time: 22.976118 seconds.\n",
      "\n"
     ]
    },
    {
     "name": "stderr",
     "output_type": "stream",
     "text": [
      "/opt/conda/lib/python3.5/site-packages/sklearn/preprocessing/label.py:151: DeprecationWarning: The truth value of an empty array is ambiguous. Returning False, but in future this will result in an error. Use `array.size > 0` to check that an array is not empty.\n",
      "  if diff:\n",
      "/opt/conda/lib/python3.5/site-packages/sklearn/preprocessing/label.py:151: DeprecationWarning: The truth value of an empty array is ambiguous. Returning False, but in future this will result in an error. Use `array.size > 0` to check that an array is not empty.\n",
      "  if diff:\n",
      "/opt/conda/lib/python3.5/site-packages/sklearn/preprocessing/label.py:151: DeprecationWarning: The truth value of an empty array is ambiguous. Returning False, but in future this will result in an error. Use `array.size > 0` to check that an array is not empty.\n",
      "  if diff:\n",
      "/opt/conda/lib/python3.5/site-packages/sklearn/preprocessing/label.py:151: DeprecationWarning: The truth value of an empty array is ambiguous. Returning False, but in future this will result in an error. Use `array.size > 0` to check that an array is not empty.\n",
      "  if diff:\n",
      "/opt/conda/lib/python3.5/site-packages/sklearn/preprocessing/label.py:151: DeprecationWarning: The truth value of an empty array is ambiguous. Returning False, but in future this will result in an error. Use `array.size > 0` to check that an array is not empty.\n",
      "  if diff:\n",
      "/opt/conda/lib/python3.5/site-packages/sklearn/preprocessing/label.py:151: DeprecationWarning: The truth value of an empty array is ambiguous. Returning False, but in future this will result in an error. Use `array.size > 0` to check that an array is not empty.\n",
      "  if diff:\n"
     ]
    },
    {
     "name": "stdout",
     "output_type": "stream",
     "text": [
      "== 5-fold CV ==\n",
      "F1 scores 5-fold CV per iteration: [0.837 0.841 0.841 0.839 0.843]\n",
      "F1 mean 5-fold CV per class: [0.844 0.908 0.768 0.685]\n",
      "F1 mean 5-fold CV: 0.840\n",
      "Tic: Train RF\n",
      "Elapsed time: 30.775684 seconds.\n",
      "\n",
      "== 5-fold CV ==\n",
      "F1 scores 5-fold CV per iteration: [0.825 0.843 0.831 0.825 0.842]\n",
      "F1 mean 5-fold CV per class: [0.831 0.907 0.761 0.656]\n",
      "F1 mean 5-fold CV: 0.833\n",
      "\n",
      "Iteration 21 Seed 834048\n",
      "Tic: Train XGB\n",
      "Elapsed time: 23.057259 seconds.\n",
      "\n"
     ]
    },
    {
     "name": "stderr",
     "output_type": "stream",
     "text": [
      "/opt/conda/lib/python3.5/site-packages/sklearn/preprocessing/label.py:151: DeprecationWarning: The truth value of an empty array is ambiguous. Returning False, but in future this will result in an error. Use `array.size > 0` to check that an array is not empty.\n",
      "  if diff:\n",
      "/opt/conda/lib/python3.5/site-packages/sklearn/preprocessing/label.py:151: DeprecationWarning: The truth value of an empty array is ambiguous. Returning False, but in future this will result in an error. Use `array.size > 0` to check that an array is not empty.\n",
      "  if diff:\n",
      "/opt/conda/lib/python3.5/site-packages/sklearn/preprocessing/label.py:151: DeprecationWarning: The truth value of an empty array is ambiguous. Returning False, but in future this will result in an error. Use `array.size > 0` to check that an array is not empty.\n",
      "  if diff:\n",
      "/opt/conda/lib/python3.5/site-packages/sklearn/preprocessing/label.py:151: DeprecationWarning: The truth value of an empty array is ambiguous. Returning False, but in future this will result in an error. Use `array.size > 0` to check that an array is not empty.\n",
      "  if diff:\n",
      "/opt/conda/lib/python3.5/site-packages/sklearn/preprocessing/label.py:151: DeprecationWarning: The truth value of an empty array is ambiguous. Returning False, but in future this will result in an error. Use `array.size > 0` to check that an array is not empty.\n",
      "  if diff:\n",
      "/opt/conda/lib/python3.5/site-packages/sklearn/preprocessing/label.py:151: DeprecationWarning: The truth value of an empty array is ambiguous. Returning False, but in future this will result in an error. Use `array.size > 0` to check that an array is not empty.\n",
      "  if diff:\n"
     ]
    },
    {
     "name": "stdout",
     "output_type": "stream",
     "text": [
      "== 5-fold CV ==\n",
      "F1 scores 5-fold CV per iteration: [0.837 0.84  0.851 0.835 0.839]\n",
      "F1 mean 5-fold CV per class: [0.838 0.911 0.773 0.678]\n",
      "F1 mean 5-fold CV: 0.840\n",
      "Tic: Train RF\n",
      "Elapsed time: 30.689737 seconds.\n",
      "\n",
      "== 5-fold CV ==\n",
      "F1 scores 5-fold CV per iteration: [0.83  0.834 0.842 0.829 0.834]\n",
      "F1 mean 5-fold CV per class: [0.83  0.908 0.763 0.64 ]\n",
      "F1 mean 5-fold CV: 0.834\n",
      "\n",
      "Iteration 22 Seed 477033\n",
      "Tic: Train XGB\n",
      "Elapsed time: 23.085961 seconds.\n",
      "\n"
     ]
    },
    {
     "name": "stderr",
     "output_type": "stream",
     "text": [
      "/opt/conda/lib/python3.5/site-packages/sklearn/preprocessing/label.py:151: DeprecationWarning: The truth value of an empty array is ambiguous. Returning False, but in future this will result in an error. Use `array.size > 0` to check that an array is not empty.\n",
      "  if diff:\n",
      "/opt/conda/lib/python3.5/site-packages/sklearn/preprocessing/label.py:151: DeprecationWarning: The truth value of an empty array is ambiguous. Returning False, but in future this will result in an error. Use `array.size > 0` to check that an array is not empty.\n",
      "  if diff:\n",
      "/opt/conda/lib/python3.5/site-packages/sklearn/preprocessing/label.py:151: DeprecationWarning: The truth value of an empty array is ambiguous. Returning False, but in future this will result in an error. Use `array.size > 0` to check that an array is not empty.\n",
      "  if diff:\n",
      "/opt/conda/lib/python3.5/site-packages/sklearn/preprocessing/label.py:151: DeprecationWarning: The truth value of an empty array is ambiguous. Returning False, but in future this will result in an error. Use `array.size > 0` to check that an array is not empty.\n",
      "  if diff:\n",
      "/opt/conda/lib/python3.5/site-packages/sklearn/preprocessing/label.py:151: DeprecationWarning: The truth value of an empty array is ambiguous. Returning False, but in future this will result in an error. Use `array.size > 0` to check that an array is not empty.\n",
      "  if diff:\n",
      "/opt/conda/lib/python3.5/site-packages/sklearn/preprocessing/label.py:151: DeprecationWarning: The truth value of an empty array is ambiguous. Returning False, but in future this will result in an error. Use `array.size > 0` to check that an array is not empty.\n",
      "  if diff:\n"
     ]
    },
    {
     "name": "stdout",
     "output_type": "stream",
     "text": [
      "== 5-fold CV ==\n",
      "F1 scores 5-fold CV per iteration: [0.826 0.845 0.845 0.841 0.835]\n",
      "F1 mean 5-fold CV per class: [0.842 0.907 0.766 0.68 ]\n",
      "F1 mean 5-fold CV: 0.838\n",
      "Tic: Train RF\n",
      "Elapsed time: 31.011174 seconds.\n",
      "\n",
      "== 5-fold CV ==\n",
      "F1 scores 5-fold CV per iteration: [0.823 0.842 0.841 0.838 0.819]\n",
      "F1 mean 5-fold CV per class: [0.83  0.907 0.761 0.641]\n",
      "F1 mean 5-fold CV: 0.833\n",
      "\n",
      "Iteration 23 Seed 903478\n",
      "Tic: Train XGB\n",
      "Elapsed time: 23.257147 seconds.\n",
      "\n"
     ]
    },
    {
     "name": "stderr",
     "output_type": "stream",
     "text": [
      "/opt/conda/lib/python3.5/site-packages/sklearn/preprocessing/label.py:151: DeprecationWarning: The truth value of an empty array is ambiguous. Returning False, but in future this will result in an error. Use `array.size > 0` to check that an array is not empty.\n",
      "  if diff:\n",
      "/opt/conda/lib/python3.5/site-packages/sklearn/preprocessing/label.py:151: DeprecationWarning: The truth value of an empty array is ambiguous. Returning False, but in future this will result in an error. Use `array.size > 0` to check that an array is not empty.\n",
      "  if diff:\n",
      "/opt/conda/lib/python3.5/site-packages/sklearn/preprocessing/label.py:151: DeprecationWarning: The truth value of an empty array is ambiguous. Returning False, but in future this will result in an error. Use `array.size > 0` to check that an array is not empty.\n",
      "  if diff:\n",
      "/opt/conda/lib/python3.5/site-packages/sklearn/preprocessing/label.py:151: DeprecationWarning: The truth value of an empty array is ambiguous. Returning False, but in future this will result in an error. Use `array.size > 0` to check that an array is not empty.\n",
      "  if diff:\n",
      "/opt/conda/lib/python3.5/site-packages/sklearn/preprocessing/label.py:151: DeprecationWarning: The truth value of an empty array is ambiguous. Returning False, but in future this will result in an error. Use `array.size > 0` to check that an array is not empty.\n",
      "  if diff:\n",
      "/opt/conda/lib/python3.5/site-packages/sklearn/preprocessing/label.py:151: DeprecationWarning: The truth value of an empty array is ambiguous. Returning False, but in future this will result in an error. Use `array.size > 0` to check that an array is not empty.\n",
      "  if diff:\n"
     ]
    },
    {
     "name": "stdout",
     "output_type": "stream",
     "text": [
      "== 5-fold CV ==\n",
      "F1 scores 5-fold CV per iteration: [0.833 0.827 0.842 0.84  0.853]\n",
      "F1 mean 5-fold CV per class: [0.843 0.908 0.765 0.66 ]\n",
      "F1 mean 5-fold CV: 0.839\n",
      "Tic: Train RF\n",
      "Elapsed time: 33.052312 seconds.\n",
      "\n",
      "== 5-fold CV ==\n",
      "F1 scores 5-fold CV per iteration: [0.824 0.825 0.846 0.832 0.84 ]\n",
      "F1 mean 5-fold CV per class: [0.831 0.907 0.763 0.631]\n",
      "F1 mean 5-fold CV: 0.833\n",
      "\n",
      "Iteration 24 Seed 833063\n",
      "Tic: Train XGB\n",
      "Elapsed time: 22.650946 seconds.\n",
      "\n"
     ]
    },
    {
     "name": "stderr",
     "output_type": "stream",
     "text": [
      "/opt/conda/lib/python3.5/site-packages/sklearn/preprocessing/label.py:151: DeprecationWarning: The truth value of an empty array is ambiguous. Returning False, but in future this will result in an error. Use `array.size > 0` to check that an array is not empty.\n",
      "  if diff:\n",
      "/opt/conda/lib/python3.5/site-packages/sklearn/preprocessing/label.py:151: DeprecationWarning: The truth value of an empty array is ambiguous. Returning False, but in future this will result in an error. Use `array.size > 0` to check that an array is not empty.\n",
      "  if diff:\n",
      "/opt/conda/lib/python3.5/site-packages/sklearn/preprocessing/label.py:151: DeprecationWarning: The truth value of an empty array is ambiguous. Returning False, but in future this will result in an error. Use `array.size > 0` to check that an array is not empty.\n",
      "  if diff:\n",
      "/opt/conda/lib/python3.5/site-packages/sklearn/preprocessing/label.py:151: DeprecationWarning: The truth value of an empty array is ambiguous. Returning False, but in future this will result in an error. Use `array.size > 0` to check that an array is not empty.\n",
      "  if diff:\n",
      "/opt/conda/lib/python3.5/site-packages/sklearn/preprocessing/label.py:151: DeprecationWarning: The truth value of an empty array is ambiguous. Returning False, but in future this will result in an error. Use `array.size > 0` to check that an array is not empty.\n",
      "  if diff:\n",
      "/opt/conda/lib/python3.5/site-packages/sklearn/preprocessing/label.py:151: DeprecationWarning: The truth value of an empty array is ambiguous. Returning False, but in future this will result in an error. Use `array.size > 0` to check that an array is not empty.\n",
      "  if diff:\n"
     ]
    },
    {
     "name": "stdout",
     "output_type": "stream",
     "text": [
      "== 5-fold CV ==\n",
      "F1 scores 5-fold CV per iteration: [0.847 0.832 0.852 0.84  0.83 ]\n",
      "F1 mean 5-fold CV per class: [0.84  0.908 0.771 0.682]\n",
      "F1 mean 5-fold CV: 0.840\n",
      "Tic: Train RF\n",
      "Elapsed time: 30.630545 seconds.\n",
      "\n",
      "== 5-fold CV ==\n",
      "F1 scores 5-fold CV per iteration: [0.842 0.824 0.849 0.833 0.816]\n",
      "F1 mean 5-fold CV per class: [0.829 0.908 0.762 0.633]\n",
      "F1 mean 5-fold CV: 0.833\n",
      "\n",
      "Iteration 25 Seed 96380\n",
      "Tic: Train XGB\n",
      "Elapsed time: 23.481488 seconds.\n",
      "\n"
     ]
    },
    {
     "name": "stderr",
     "output_type": "stream",
     "text": [
      "/opt/conda/lib/python3.5/site-packages/sklearn/preprocessing/label.py:151: DeprecationWarning: The truth value of an empty array is ambiguous. Returning False, but in future this will result in an error. Use `array.size > 0` to check that an array is not empty.\n",
      "  if diff:\n",
      "/opt/conda/lib/python3.5/site-packages/sklearn/preprocessing/label.py:151: DeprecationWarning: The truth value of an empty array is ambiguous. Returning False, but in future this will result in an error. Use `array.size > 0` to check that an array is not empty.\n",
      "  if diff:\n",
      "/opt/conda/lib/python3.5/site-packages/sklearn/preprocessing/label.py:151: DeprecationWarning: The truth value of an empty array is ambiguous. Returning False, but in future this will result in an error. Use `array.size > 0` to check that an array is not empty.\n",
      "  if diff:\n",
      "/opt/conda/lib/python3.5/site-packages/sklearn/preprocessing/label.py:151: DeprecationWarning: The truth value of an empty array is ambiguous. Returning False, but in future this will result in an error. Use `array.size > 0` to check that an array is not empty.\n",
      "  if diff:\n",
      "/opt/conda/lib/python3.5/site-packages/sklearn/preprocessing/label.py:151: DeprecationWarning: The truth value of an empty array is ambiguous. Returning False, but in future this will result in an error. Use `array.size > 0` to check that an array is not empty.\n",
      "  if diff:\n",
      "/opt/conda/lib/python3.5/site-packages/sklearn/preprocessing/label.py:151: DeprecationWarning: The truth value of an empty array is ambiguous. Returning False, but in future this will result in an error. Use `array.size > 0` to check that an array is not empty.\n",
      "  if diff:\n"
     ]
    },
    {
     "name": "stdout",
     "output_type": "stream",
     "text": [
      "== 5-fold CV ==\n",
      "F1 scores 5-fold CV per iteration: [0.824 0.848 0.837 0.838 0.836]\n",
      "F1 mean 5-fold CV per class: [0.834 0.908 0.768 0.672]\n",
      "F1 mean 5-fold CV: 0.837\n",
      "Tic: Train RF\n",
      "Elapsed time: 31.299073 seconds.\n",
      "\n",
      "== 5-fold CV ==\n",
      "F1 scores 5-fold CV per iteration: [0.817 0.846 0.83  0.842 0.826]\n",
      "F1 mean 5-fold CV per class: [0.827 0.907 0.764 0.636]\n",
      "F1 mean 5-fold CV: 0.832\n",
      "\n",
      "Iteration 26 Seed 601528\n",
      "Tic: Train XGB\n",
      "Elapsed time: 23.656736 seconds.\n",
      "\n"
     ]
    },
    {
     "name": "stderr",
     "output_type": "stream",
     "text": [
      "/opt/conda/lib/python3.5/site-packages/sklearn/preprocessing/label.py:151: DeprecationWarning: The truth value of an empty array is ambiguous. Returning False, but in future this will result in an error. Use `array.size > 0` to check that an array is not empty.\n",
      "  if diff:\n",
      "/opt/conda/lib/python3.5/site-packages/sklearn/preprocessing/label.py:151: DeprecationWarning: The truth value of an empty array is ambiguous. Returning False, but in future this will result in an error. Use `array.size > 0` to check that an array is not empty.\n",
      "  if diff:\n",
      "/opt/conda/lib/python3.5/site-packages/sklearn/preprocessing/label.py:151: DeprecationWarning: The truth value of an empty array is ambiguous. Returning False, but in future this will result in an error. Use `array.size > 0` to check that an array is not empty.\n",
      "  if diff:\n",
      "/opt/conda/lib/python3.5/site-packages/sklearn/preprocessing/label.py:151: DeprecationWarning: The truth value of an empty array is ambiguous. Returning False, but in future this will result in an error. Use `array.size > 0` to check that an array is not empty.\n",
      "  if diff:\n",
      "/opt/conda/lib/python3.5/site-packages/sklearn/preprocessing/label.py:151: DeprecationWarning: The truth value of an empty array is ambiguous. Returning False, but in future this will result in an error. Use `array.size > 0` to check that an array is not empty.\n",
      "  if diff:\n",
      "/opt/conda/lib/python3.5/site-packages/sklearn/preprocessing/label.py:151: DeprecationWarning: The truth value of an empty array is ambiguous. Returning False, but in future this will result in an error. Use `array.size > 0` to check that an array is not empty.\n",
      "  if diff:\n"
     ]
    },
    {
     "name": "stdout",
     "output_type": "stream",
     "text": [
      "== 5-fold CV ==\n",
      "F1 scores 5-fold CV per iteration: [0.826 0.838 0.854 0.837 0.844]\n",
      "F1 mean 5-fold CV per class: [0.844 0.908 0.768 0.663]\n",
      "F1 mean 5-fold CV: 0.840\n",
      "Tic: Train RF\n",
      "Elapsed time: 31.380459 seconds.\n",
      "\n",
      "== 5-fold CV ==\n",
      "F1 scores 5-fold CV per iteration: [0.828 0.83  0.843 0.838 0.838]\n",
      "F1 mean 5-fold CV per class: [0.835 0.907 0.764 0.651]\n",
      "F1 mean 5-fold CV: 0.835\n",
      "\n",
      "Iteration 27 Seed 568230\n",
      "Tic: Train XGB\n",
      "Elapsed time: 23.662028 seconds.\n",
      "\n"
     ]
    },
    {
     "name": "stderr",
     "output_type": "stream",
     "text": [
      "/opt/conda/lib/python3.5/site-packages/sklearn/preprocessing/label.py:151: DeprecationWarning: The truth value of an empty array is ambiguous. Returning False, but in future this will result in an error. Use `array.size > 0` to check that an array is not empty.\n",
      "  if diff:\n",
      "/opt/conda/lib/python3.5/site-packages/sklearn/preprocessing/label.py:151: DeprecationWarning: The truth value of an empty array is ambiguous. Returning False, but in future this will result in an error. Use `array.size > 0` to check that an array is not empty.\n",
      "  if diff:\n",
      "/opt/conda/lib/python3.5/site-packages/sklearn/preprocessing/label.py:151: DeprecationWarning: The truth value of an empty array is ambiguous. Returning False, but in future this will result in an error. Use `array.size > 0` to check that an array is not empty.\n",
      "  if diff:\n",
      "/opt/conda/lib/python3.5/site-packages/sklearn/preprocessing/label.py:151: DeprecationWarning: The truth value of an empty array is ambiguous. Returning False, but in future this will result in an error. Use `array.size > 0` to check that an array is not empty.\n",
      "  if diff:\n",
      "/opt/conda/lib/python3.5/site-packages/sklearn/preprocessing/label.py:151: DeprecationWarning: The truth value of an empty array is ambiguous. Returning False, but in future this will result in an error. Use `array.size > 0` to check that an array is not empty.\n",
      "  if diff:\n",
      "/opt/conda/lib/python3.5/site-packages/sklearn/preprocessing/label.py:151: DeprecationWarning: The truth value of an empty array is ambiguous. Returning False, but in future this will result in an error. Use `array.size > 0` to check that an array is not empty.\n",
      "  if diff:\n"
     ]
    },
    {
     "name": "stdout",
     "output_type": "stream",
     "text": [
      "== 5-fold CV ==\n",
      "F1 scores 5-fold CV per iteration: [0.844 0.849 0.845 0.804 0.846]\n",
      "F1 mean 5-fold CV per class: [0.839 0.907 0.765 0.664]\n",
      "F1 mean 5-fold CV: 0.837\n",
      "Tic: Train RF\n",
      "Elapsed time: 31.515937 seconds.\n",
      "\n",
      "== 5-fold CV ==\n",
      "F1 scores 5-fold CV per iteration: [0.836 0.847 0.836 0.805 0.84 ]\n",
      "F1 mean 5-fold CV per class: [0.828 0.907 0.763 0.641]\n",
      "F1 mean 5-fold CV: 0.833\n",
      "\n",
      "Iteration 28 Seed 457181\n",
      "Tic: Train XGB\n",
      "Elapsed time: 23.391709 seconds.\n",
      "\n"
     ]
    },
    {
     "name": "stderr",
     "output_type": "stream",
     "text": [
      "/opt/conda/lib/python3.5/site-packages/sklearn/preprocessing/label.py:151: DeprecationWarning: The truth value of an empty array is ambiguous. Returning False, but in future this will result in an error. Use `array.size > 0` to check that an array is not empty.\n",
      "  if diff:\n",
      "/opt/conda/lib/python3.5/site-packages/sklearn/preprocessing/label.py:151: DeprecationWarning: The truth value of an empty array is ambiguous. Returning False, but in future this will result in an error. Use `array.size > 0` to check that an array is not empty.\n",
      "  if diff:\n",
      "/opt/conda/lib/python3.5/site-packages/sklearn/preprocessing/label.py:151: DeprecationWarning: The truth value of an empty array is ambiguous. Returning False, but in future this will result in an error. Use `array.size > 0` to check that an array is not empty.\n",
      "  if diff:\n",
      "/opt/conda/lib/python3.5/site-packages/sklearn/preprocessing/label.py:151: DeprecationWarning: The truth value of an empty array is ambiguous. Returning False, but in future this will result in an error. Use `array.size > 0` to check that an array is not empty.\n",
      "  if diff:\n",
      "/opt/conda/lib/python3.5/site-packages/sklearn/preprocessing/label.py:151: DeprecationWarning: The truth value of an empty array is ambiguous. Returning False, but in future this will result in an error. Use `array.size > 0` to check that an array is not empty.\n",
      "  if diff:\n",
      "/opt/conda/lib/python3.5/site-packages/sklearn/preprocessing/label.py:151: DeprecationWarning: The truth value of an empty array is ambiguous. Returning False, but in future this will result in an error. Use `array.size > 0` to check that an array is not empty.\n",
      "  if diff:\n"
     ]
    },
    {
     "name": "stdout",
     "output_type": "stream",
     "text": [
      "== 5-fold CV ==\n",
      "F1 scores 5-fold CV per iteration: [0.834 0.823 0.843 0.851 0.841]\n",
      "F1 mean 5-fold CV per class: [0.836 0.91  0.77  0.67 ]\n",
      "F1 mean 5-fold CV: 0.839\n",
      "Tic: Train RF\n",
      "Elapsed time: 31.308874 seconds.\n",
      "\n",
      "== 5-fold CV ==\n",
      "F1 scores 5-fold CV per iteration: [0.809 0.82  0.83  0.854 0.848]\n",
      "F1 mean 5-fold CV per class: [0.829 0.906 0.761 0.65 ]\n",
      "F1 mean 5-fold CV: 0.832\n",
      "\n",
      "Iteration 29 Seed 466452\n",
      "Tic: Train XGB\n",
      "Elapsed time: 23.612282 seconds.\n",
      "\n"
     ]
    },
    {
     "name": "stderr",
     "output_type": "stream",
     "text": [
      "/opt/conda/lib/python3.5/site-packages/sklearn/preprocessing/label.py:151: DeprecationWarning: The truth value of an empty array is ambiguous. Returning False, but in future this will result in an error. Use `array.size > 0` to check that an array is not empty.\n",
      "  if diff:\n",
      "/opt/conda/lib/python3.5/site-packages/sklearn/preprocessing/label.py:151: DeprecationWarning: The truth value of an empty array is ambiguous. Returning False, but in future this will result in an error. Use `array.size > 0` to check that an array is not empty.\n",
      "  if diff:\n",
      "/opt/conda/lib/python3.5/site-packages/sklearn/preprocessing/label.py:151: DeprecationWarning: The truth value of an empty array is ambiguous. Returning False, but in future this will result in an error. Use `array.size > 0` to check that an array is not empty.\n",
      "  if diff:\n",
      "/opt/conda/lib/python3.5/site-packages/sklearn/preprocessing/label.py:151: DeprecationWarning: The truth value of an empty array is ambiguous. Returning False, but in future this will result in an error. Use `array.size > 0` to check that an array is not empty.\n",
      "  if diff:\n",
      "/opt/conda/lib/python3.5/site-packages/sklearn/preprocessing/label.py:151: DeprecationWarning: The truth value of an empty array is ambiguous. Returning False, but in future this will result in an error. Use `array.size > 0` to check that an array is not empty.\n",
      "  if diff:\n",
      "/opt/conda/lib/python3.5/site-packages/sklearn/preprocessing/label.py:151: DeprecationWarning: The truth value of an empty array is ambiguous. Returning False, but in future this will result in an error. Use `array.size > 0` to check that an array is not empty.\n",
      "  if diff:\n"
     ]
    },
    {
     "name": "stdout",
     "output_type": "stream",
     "text": [
      "== 5-fold CV ==\n",
      "F1 scores 5-fold CV per iteration: [0.83  0.846 0.842 0.836 0.837]\n",
      "F1 mean 5-fold CV per class: [0.836 0.908 0.77  0.663]\n",
      "F1 mean 5-fold CV: 0.838\n",
      "Tic: Train RF\n",
      "Elapsed time: 31.332319 seconds.\n",
      "\n",
      "== 5-fold CV ==\n",
      "F1 scores 5-fold CV per iteration: [0.815 0.842 0.84  0.837 0.835]\n",
      "F1 mean 5-fold CV per class: [0.834 0.906 0.762 0.641]\n",
      "F1 mean 5-fold CV: 0.834\n",
      "\n",
      "Iteration 30 Seed 812670\n",
      "Tic: Train XGB\n",
      "Elapsed time: 23.388217 seconds.\n",
      "\n"
     ]
    },
    {
     "name": "stderr",
     "output_type": "stream",
     "text": [
      "/opt/conda/lib/python3.5/site-packages/sklearn/preprocessing/label.py:151: DeprecationWarning: The truth value of an empty array is ambiguous. Returning False, but in future this will result in an error. Use `array.size > 0` to check that an array is not empty.\n",
      "  if diff:\n",
      "/opt/conda/lib/python3.5/site-packages/sklearn/preprocessing/label.py:151: DeprecationWarning: The truth value of an empty array is ambiguous. Returning False, but in future this will result in an error. Use `array.size > 0` to check that an array is not empty.\n",
      "  if diff:\n",
      "/opt/conda/lib/python3.5/site-packages/sklearn/preprocessing/label.py:151: DeprecationWarning: The truth value of an empty array is ambiguous. Returning False, but in future this will result in an error. Use `array.size > 0` to check that an array is not empty.\n",
      "  if diff:\n",
      "/opt/conda/lib/python3.5/site-packages/sklearn/preprocessing/label.py:151: DeprecationWarning: The truth value of an empty array is ambiguous. Returning False, but in future this will result in an error. Use `array.size > 0` to check that an array is not empty.\n",
      "  if diff:\n",
      "/opt/conda/lib/python3.5/site-packages/sklearn/preprocessing/label.py:151: DeprecationWarning: The truth value of an empty array is ambiguous. Returning False, but in future this will result in an error. Use `array.size > 0` to check that an array is not empty.\n",
      "  if diff:\n",
      "/opt/conda/lib/python3.5/site-packages/sklearn/preprocessing/label.py:151: DeprecationWarning: The truth value of an empty array is ambiguous. Returning False, but in future this will result in an error. Use `array.size > 0` to check that an array is not empty.\n",
      "  if diff:\n"
     ]
    },
    {
     "name": "stdout",
     "output_type": "stream",
     "text": [
      "== 5-fold CV ==\n",
      "F1 scores 5-fold CV per iteration: [0.851 0.837 0.841 0.832 0.825]\n",
      "F1 mean 5-fold CV per class: [0.839 0.907 0.764 0.696]\n",
      "F1 mean 5-fold CV: 0.837\n",
      "Tic: Train RF\n",
      "Elapsed time: 31.412567 seconds.\n",
      "\n",
      "== 5-fold CV ==\n",
      "F1 scores 5-fold CV per iteration: [0.843 0.835 0.836 0.836 0.813]\n",
      "F1 mean 5-fold CV per class: [0.832 0.906 0.76  0.646]\n",
      "F1 mean 5-fold CV: 0.833\n",
      "\n",
      "Iteration 31 Seed 57059\n",
      "Tic: Train XGB\n",
      "Elapsed time: 23.665472 seconds.\n",
      "\n"
     ]
    },
    {
     "name": "stderr",
     "output_type": "stream",
     "text": [
      "/opt/conda/lib/python3.5/site-packages/sklearn/preprocessing/label.py:151: DeprecationWarning: The truth value of an empty array is ambiguous. Returning False, but in future this will result in an error. Use `array.size > 0` to check that an array is not empty.\n",
      "  if diff:\n",
      "/opt/conda/lib/python3.5/site-packages/sklearn/preprocessing/label.py:151: DeprecationWarning: The truth value of an empty array is ambiguous. Returning False, but in future this will result in an error. Use `array.size > 0` to check that an array is not empty.\n",
      "  if diff:\n",
      "/opt/conda/lib/python3.5/site-packages/sklearn/preprocessing/label.py:151: DeprecationWarning: The truth value of an empty array is ambiguous. Returning False, but in future this will result in an error. Use `array.size > 0` to check that an array is not empty.\n",
      "  if diff:\n",
      "/opt/conda/lib/python3.5/site-packages/sklearn/preprocessing/label.py:151: DeprecationWarning: The truth value of an empty array is ambiguous. Returning False, but in future this will result in an error. Use `array.size > 0` to check that an array is not empty.\n",
      "  if diff:\n",
      "/opt/conda/lib/python3.5/site-packages/sklearn/preprocessing/label.py:151: DeprecationWarning: The truth value of an empty array is ambiguous. Returning False, but in future this will result in an error. Use `array.size > 0` to check that an array is not empty.\n",
      "  if diff:\n",
      "/opt/conda/lib/python3.5/site-packages/sklearn/preprocessing/label.py:151: DeprecationWarning: The truth value of an empty array is ambiguous. Returning False, but in future this will result in an error. Use `array.size > 0` to check that an array is not empty.\n",
      "  if diff:\n"
     ]
    },
    {
     "name": "stdout",
     "output_type": "stream",
     "text": [
      "== 5-fold CV ==\n",
      "F1 scores 5-fold CV per iteration: [0.846 0.832 0.833 0.84  0.824]\n",
      "F1 mean 5-fold CV per class: [0.835 0.906 0.764 0.649]\n",
      "F1 mean 5-fold CV: 0.835\n",
      "Tic: Train RF\n",
      "Elapsed time: 31.208214 seconds.\n",
      "\n",
      "== 5-fold CV ==\n",
      "F1 scores 5-fold CV per iteration: [0.845 0.829 0.83  0.833 0.824]\n",
      "F1 mean 5-fold CV per class: [0.829 0.907 0.761 0.635]\n",
      "F1 mean 5-fold CV: 0.832\n",
      "\n",
      "Iteration 32 Seed 155022\n",
      "Tic: Train XGB\n",
      "Elapsed time: 25.712358 seconds.\n",
      "\n"
     ]
    },
    {
     "name": "stderr",
     "output_type": "stream",
     "text": [
      "/opt/conda/lib/python3.5/site-packages/sklearn/preprocessing/label.py:151: DeprecationWarning: The truth value of an empty array is ambiguous. Returning False, but in future this will result in an error. Use `array.size > 0` to check that an array is not empty.\n",
      "  if diff:\n",
      "/opt/conda/lib/python3.5/site-packages/sklearn/preprocessing/label.py:151: DeprecationWarning: The truth value of an empty array is ambiguous. Returning False, but in future this will result in an error. Use `array.size > 0` to check that an array is not empty.\n",
      "  if diff:\n",
      "/opt/conda/lib/python3.5/site-packages/sklearn/preprocessing/label.py:151: DeprecationWarning: The truth value of an empty array is ambiguous. Returning False, but in future this will result in an error. Use `array.size > 0` to check that an array is not empty.\n",
      "  if diff:\n",
      "/opt/conda/lib/python3.5/site-packages/sklearn/preprocessing/label.py:151: DeprecationWarning: The truth value of an empty array is ambiguous. Returning False, but in future this will result in an error. Use `array.size > 0` to check that an array is not empty.\n",
      "  if diff:\n",
      "/opt/conda/lib/python3.5/site-packages/sklearn/preprocessing/label.py:151: DeprecationWarning: The truth value of an empty array is ambiguous. Returning False, but in future this will result in an error. Use `array.size > 0` to check that an array is not empty.\n",
      "  if diff:\n",
      "/opt/conda/lib/python3.5/site-packages/sklearn/preprocessing/label.py:151: DeprecationWarning: The truth value of an empty array is ambiguous. Returning False, but in future this will result in an error. Use `array.size > 0` to check that an array is not empty.\n",
      "  if diff:\n"
     ]
    },
    {
     "name": "stdout",
     "output_type": "stream",
     "text": [
      "== 5-fold CV ==\n",
      "F1 scores 5-fold CV per iteration: [0.844 0.85  0.838 0.815 0.835]\n",
      "F1 mean 5-fold CV per class: [0.832 0.91  0.768 0.669]\n",
      "F1 mean 5-fold CV: 0.836\n",
      "Tic: Train RF\n",
      "Elapsed time: 31.298054 seconds.\n",
      "\n",
      "== 5-fold CV ==\n",
      "F1 scores 5-fold CV per iteration: [0.842 0.851 0.83  0.814 0.829]\n",
      "F1 mean 5-fold CV per class: [0.829 0.907 0.763 0.638]\n",
      "F1 mean 5-fold CV: 0.833\n",
      "\n",
      "Iteration 33 Seed 895109\n",
      "Tic: Train XGB\n",
      "Elapsed time: 25.207309 seconds.\n",
      "\n"
     ]
    },
    {
     "name": "stderr",
     "output_type": "stream",
     "text": [
      "/opt/conda/lib/python3.5/site-packages/sklearn/preprocessing/label.py:151: DeprecationWarning: The truth value of an empty array is ambiguous. Returning False, but in future this will result in an error. Use `array.size > 0` to check that an array is not empty.\n",
      "  if diff:\n",
      "/opt/conda/lib/python3.5/site-packages/sklearn/preprocessing/label.py:151: DeprecationWarning: The truth value of an empty array is ambiguous. Returning False, but in future this will result in an error. Use `array.size > 0` to check that an array is not empty.\n",
      "  if diff:\n",
      "/opt/conda/lib/python3.5/site-packages/sklearn/preprocessing/label.py:151: DeprecationWarning: The truth value of an empty array is ambiguous. Returning False, but in future this will result in an error. Use `array.size > 0` to check that an array is not empty.\n",
      "  if diff:\n",
      "/opt/conda/lib/python3.5/site-packages/sklearn/preprocessing/label.py:151: DeprecationWarning: The truth value of an empty array is ambiguous. Returning False, but in future this will result in an error. Use `array.size > 0` to check that an array is not empty.\n",
      "  if diff:\n",
      "/opt/conda/lib/python3.5/site-packages/sklearn/preprocessing/label.py:151: DeprecationWarning: The truth value of an empty array is ambiguous. Returning False, but in future this will result in an error. Use `array.size > 0` to check that an array is not empty.\n",
      "  if diff:\n",
      "/opt/conda/lib/python3.5/site-packages/sklearn/preprocessing/label.py:151: DeprecationWarning: The truth value of an empty array is ambiguous. Returning False, but in future this will result in an error. Use `array.size > 0` to check that an array is not empty.\n",
      "  if diff:\n"
     ]
    },
    {
     "name": "stdout",
     "output_type": "stream",
     "text": [
      "== 5-fold CV ==\n",
      "F1 scores 5-fold CV per iteration: [0.842 0.841 0.837 0.833 0.858]\n",
      "F1 mean 5-fold CV per class: [0.842 0.91  0.774 0.672]\n",
      "F1 mean 5-fold CV: 0.842\n",
      "Tic: Train RF\n",
      "Elapsed time: 31.443915 seconds.\n",
      "\n",
      "== 5-fold CV ==\n",
      "F1 scores 5-fold CV per iteration: [0.829 0.835 0.827 0.828 0.852]\n",
      "F1 mean 5-fold CV per class: [0.831 0.908 0.764 0.651]\n",
      "F1 mean 5-fold CV: 0.834\n",
      "\n",
      "Iteration 34 Seed 496083\n",
      "Tic: Train XGB\n",
      "Elapsed time: 23.919236 seconds.\n",
      "\n"
     ]
    },
    {
     "name": "stderr",
     "output_type": "stream",
     "text": [
      "/opt/conda/lib/python3.5/site-packages/sklearn/preprocessing/label.py:151: DeprecationWarning: The truth value of an empty array is ambiguous. Returning False, but in future this will result in an error. Use `array.size > 0` to check that an array is not empty.\n",
      "  if diff:\n",
      "/opt/conda/lib/python3.5/site-packages/sklearn/preprocessing/label.py:151: DeprecationWarning: The truth value of an empty array is ambiguous. Returning False, but in future this will result in an error. Use `array.size > 0` to check that an array is not empty.\n",
      "  if diff:\n",
      "/opt/conda/lib/python3.5/site-packages/sklearn/preprocessing/label.py:151: DeprecationWarning: The truth value of an empty array is ambiguous. Returning False, but in future this will result in an error. Use `array.size > 0` to check that an array is not empty.\n",
      "  if diff:\n",
      "/opt/conda/lib/python3.5/site-packages/sklearn/preprocessing/label.py:151: DeprecationWarning: The truth value of an empty array is ambiguous. Returning False, but in future this will result in an error. Use `array.size > 0` to check that an array is not empty.\n",
      "  if diff:\n",
      "/opt/conda/lib/python3.5/site-packages/sklearn/preprocessing/label.py:151: DeprecationWarning: The truth value of an empty array is ambiguous. Returning False, but in future this will result in an error. Use `array.size > 0` to check that an array is not empty.\n",
      "  if diff:\n",
      "/opt/conda/lib/python3.5/site-packages/sklearn/preprocessing/label.py:151: DeprecationWarning: The truth value of an empty array is ambiguous. Returning False, but in future this will result in an error. Use `array.size > 0` to check that an array is not empty.\n",
      "  if diff:\n"
     ]
    },
    {
     "name": "stdout",
     "output_type": "stream",
     "text": [
      "== 5-fold CV ==\n",
      "F1 scores 5-fold CV per iteration: [0.851 0.842 0.838 0.845 0.845]\n",
      "F1 mean 5-fold CV per class: [0.845 0.912 0.776 0.686]\n",
      "F1 mean 5-fold CV: 0.844\n",
      "Tic: Train RF\n",
      "Elapsed time: 31.781489 seconds.\n",
      "\n",
      "== 5-fold CV ==\n",
      "F1 scores 5-fold CV per iteration: [0.842 0.84  0.818 0.832 0.844]\n",
      "F1 mean 5-fold CV per class: [0.832 0.909 0.765 0.643]\n",
      "F1 mean 5-fold CV: 0.835\n",
      "\n",
      "Iteration 35 Seed 378126\n",
      "Tic: Train XGB\n",
      "Elapsed time: 23.497879 seconds.\n",
      "\n"
     ]
    },
    {
     "name": "stderr",
     "output_type": "stream",
     "text": [
      "/opt/conda/lib/python3.5/site-packages/sklearn/preprocessing/label.py:151: DeprecationWarning: The truth value of an empty array is ambiguous. Returning False, but in future this will result in an error. Use `array.size > 0` to check that an array is not empty.\n",
      "  if diff:\n",
      "/opt/conda/lib/python3.5/site-packages/sklearn/preprocessing/label.py:151: DeprecationWarning: The truth value of an empty array is ambiguous. Returning False, but in future this will result in an error. Use `array.size > 0` to check that an array is not empty.\n",
      "  if diff:\n",
      "/opt/conda/lib/python3.5/site-packages/sklearn/preprocessing/label.py:151: DeprecationWarning: The truth value of an empty array is ambiguous. Returning False, but in future this will result in an error. Use `array.size > 0` to check that an array is not empty.\n",
      "  if diff:\n",
      "/opt/conda/lib/python3.5/site-packages/sklearn/preprocessing/label.py:151: DeprecationWarning: The truth value of an empty array is ambiguous. Returning False, but in future this will result in an error. Use `array.size > 0` to check that an array is not empty.\n",
      "  if diff:\n",
      "/opt/conda/lib/python3.5/site-packages/sklearn/preprocessing/label.py:151: DeprecationWarning: The truth value of an empty array is ambiguous. Returning False, but in future this will result in an error. Use `array.size > 0` to check that an array is not empty.\n",
      "  if diff:\n",
      "/opt/conda/lib/python3.5/site-packages/sklearn/preprocessing/label.py:151: DeprecationWarning: The truth value of an empty array is ambiguous. Returning False, but in future this will result in an error. Use `array.size > 0` to check that an array is not empty.\n",
      "  if diff:\n"
     ]
    },
    {
     "name": "stdout",
     "output_type": "stream",
     "text": [
      "== 5-fold CV ==\n",
      "F1 scores 5-fold CV per iteration: [0.837 0.845 0.83  0.819 0.847]\n",
      "F1 mean 5-fold CV per class: [0.832 0.908 0.768 0.674]\n",
      "F1 mean 5-fold CV: 0.836\n",
      "Tic: Train RF\n",
      "Elapsed time: 31.424898 seconds.\n",
      "\n",
      "== 5-fold CV ==\n",
      "F1 scores 5-fold CV per iteration: [0.835 0.838 0.826 0.825 0.833]\n",
      "F1 mean 5-fold CV per class: [0.826 0.907 0.76  0.638]\n",
      "F1 mean 5-fold CV: 0.831\n",
      "\n",
      "Iteration 36 Seed 80468\n",
      "Tic: Train XGB\n",
      "Elapsed time: 23.867068 seconds.\n",
      "\n"
     ]
    },
    {
     "name": "stderr",
     "output_type": "stream",
     "text": [
      "/opt/conda/lib/python3.5/site-packages/sklearn/preprocessing/label.py:151: DeprecationWarning: The truth value of an empty array is ambiguous. Returning False, but in future this will result in an error. Use `array.size > 0` to check that an array is not empty.\n",
      "  if diff:\n",
      "/opt/conda/lib/python3.5/site-packages/sklearn/preprocessing/label.py:151: DeprecationWarning: The truth value of an empty array is ambiguous. Returning False, but in future this will result in an error. Use `array.size > 0` to check that an array is not empty.\n",
      "  if diff:\n",
      "/opt/conda/lib/python3.5/site-packages/sklearn/preprocessing/label.py:151: DeprecationWarning: The truth value of an empty array is ambiguous. Returning False, but in future this will result in an error. Use `array.size > 0` to check that an array is not empty.\n",
      "  if diff:\n",
      "/opt/conda/lib/python3.5/site-packages/sklearn/preprocessing/label.py:151: DeprecationWarning: The truth value of an empty array is ambiguous. Returning False, but in future this will result in an error. Use `array.size > 0` to check that an array is not empty.\n",
      "  if diff:\n",
      "/opt/conda/lib/python3.5/site-packages/sklearn/preprocessing/label.py:151: DeprecationWarning: The truth value of an empty array is ambiguous. Returning False, but in future this will result in an error. Use `array.size > 0` to check that an array is not empty.\n",
      "  if diff:\n",
      "/opt/conda/lib/python3.5/site-packages/sklearn/preprocessing/label.py:151: DeprecationWarning: The truth value of an empty array is ambiguous. Returning False, but in future this will result in an error. Use `array.size > 0` to check that an array is not empty.\n",
      "  if diff:\n"
     ]
    },
    {
     "name": "stdout",
     "output_type": "stream",
     "text": [
      "== 5-fold CV ==\n",
      "F1 scores 5-fold CV per iteration: [0.841 0.833 0.855 0.842 0.846]\n",
      "F1 mean 5-fold CV per class: [0.845 0.91  0.775 0.685]\n",
      "F1 mean 5-fold CV: 0.843\n",
      "Tic: Train RF\n",
      "Elapsed time: 31.643679 seconds.\n",
      "\n",
      "== 5-fold CV ==\n",
      "F1 scores 5-fold CV per iteration: [0.832 0.825 0.849 0.842 0.84 ]\n",
      "F1 mean 5-fold CV per class: [0.837 0.909 0.767 0.652]\n",
      "F1 mean 5-fold CV: 0.838\n",
      "\n",
      "Iteration 37 Seed 170964\n",
      "Tic: Train XGB\n",
      "Elapsed time: 23.480135 seconds.\n",
      "\n"
     ]
    },
    {
     "name": "stderr",
     "output_type": "stream",
     "text": [
      "/opt/conda/lib/python3.5/site-packages/sklearn/preprocessing/label.py:151: DeprecationWarning: The truth value of an empty array is ambiguous. Returning False, but in future this will result in an error. Use `array.size > 0` to check that an array is not empty.\n",
      "  if diff:\n",
      "/opt/conda/lib/python3.5/site-packages/sklearn/preprocessing/label.py:151: DeprecationWarning: The truth value of an empty array is ambiguous. Returning False, but in future this will result in an error. Use `array.size > 0` to check that an array is not empty.\n",
      "  if diff:\n",
      "/opt/conda/lib/python3.5/site-packages/sklearn/preprocessing/label.py:151: DeprecationWarning: The truth value of an empty array is ambiguous. Returning False, but in future this will result in an error. Use `array.size > 0` to check that an array is not empty.\n",
      "  if diff:\n",
      "/opt/conda/lib/python3.5/site-packages/sklearn/preprocessing/label.py:151: DeprecationWarning: The truth value of an empty array is ambiguous. Returning False, but in future this will result in an error. Use `array.size > 0` to check that an array is not empty.\n",
      "  if diff:\n",
      "/opt/conda/lib/python3.5/site-packages/sklearn/preprocessing/label.py:151: DeprecationWarning: The truth value of an empty array is ambiguous. Returning False, but in future this will result in an error. Use `array.size > 0` to check that an array is not empty.\n",
      "  if diff:\n",
      "/opt/conda/lib/python3.5/site-packages/sklearn/preprocessing/label.py:151: DeprecationWarning: The truth value of an empty array is ambiguous. Returning False, but in future this will result in an error. Use `array.size > 0` to check that an array is not empty.\n",
      "  if diff:\n"
     ]
    },
    {
     "name": "stdout",
     "output_type": "stream",
     "text": [
      "== 5-fold CV ==\n",
      "F1 scores 5-fold CV per iteration: [0.849 0.826 0.839 0.864 0.831]\n",
      "F1 mean 5-fold CV per class: [0.841 0.911 0.773 0.683]\n",
      "F1 mean 5-fold CV: 0.842\n",
      "Tic: Train RF\n",
      "Elapsed time: 31.444232 seconds.\n",
      "\n",
      "== 5-fold CV ==\n",
      "F1 scores 5-fold CV per iteration: [0.843 0.817 0.833 0.845 0.827]\n",
      "F1 mean 5-fold CV per class: [0.83  0.907 0.762 0.636]\n",
      "F1 mean 5-fold CV: 0.833\n",
      "\n",
      "Iteration 38 Seed 197933\n",
      "Tic: Train XGB\n",
      "Elapsed time: 23.534925 seconds.\n",
      "\n"
     ]
    },
    {
     "name": "stderr",
     "output_type": "stream",
     "text": [
      "/opt/conda/lib/python3.5/site-packages/sklearn/preprocessing/label.py:151: DeprecationWarning: The truth value of an empty array is ambiguous. Returning False, but in future this will result in an error. Use `array.size > 0` to check that an array is not empty.\n",
      "  if diff:\n",
      "/opt/conda/lib/python3.5/site-packages/sklearn/preprocessing/label.py:151: DeprecationWarning: The truth value of an empty array is ambiguous. Returning False, but in future this will result in an error. Use `array.size > 0` to check that an array is not empty.\n",
      "  if diff:\n",
      "/opt/conda/lib/python3.5/site-packages/sklearn/preprocessing/label.py:151: DeprecationWarning: The truth value of an empty array is ambiguous. Returning False, but in future this will result in an error. Use `array.size > 0` to check that an array is not empty.\n",
      "  if diff:\n",
      "/opt/conda/lib/python3.5/site-packages/sklearn/preprocessing/label.py:151: DeprecationWarning: The truth value of an empty array is ambiguous. Returning False, but in future this will result in an error. Use `array.size > 0` to check that an array is not empty.\n",
      "  if diff:\n",
      "/opt/conda/lib/python3.5/site-packages/sklearn/preprocessing/label.py:151: DeprecationWarning: The truth value of an empty array is ambiguous. Returning False, but in future this will result in an error. Use `array.size > 0` to check that an array is not empty.\n",
      "  if diff:\n",
      "/opt/conda/lib/python3.5/site-packages/sklearn/preprocessing/label.py:151: DeprecationWarning: The truth value of an empty array is ambiguous. Returning False, but in future this will result in an error. Use `array.size > 0` to check that an array is not empty.\n",
      "  if diff:\n"
     ]
    },
    {
     "name": "stdout",
     "output_type": "stream",
     "text": [
      "== 5-fold CV ==\n",
      "F1 scores 5-fold CV per iteration: [0.83  0.837 0.843 0.839 0.833]\n",
      "F1 mean 5-fold CV per class: [0.84  0.907 0.763 0.679]\n",
      "F1 mean 5-fold CV: 0.837\n",
      "Tic: Train RF\n",
      "Elapsed time: 31.623810 seconds.\n",
      "\n",
      "== 5-fold CV ==\n",
      "F1 scores 5-fold CV per iteration: [0.822 0.835 0.833 0.84  0.829]\n",
      "F1 mean 5-fold CV per class: [0.826 0.908 0.762 0.651]\n",
      "F1 mean 5-fold CV: 0.832\n",
      "\n",
      "Iteration 39 Seed 108422\n",
      "Tic: Train XGB\n",
      "Elapsed time: 22.849202 seconds.\n",
      "\n"
     ]
    },
    {
     "name": "stderr",
     "output_type": "stream",
     "text": [
      "/opt/conda/lib/python3.5/site-packages/sklearn/preprocessing/label.py:151: DeprecationWarning: The truth value of an empty array is ambiguous. Returning False, but in future this will result in an error. Use `array.size > 0` to check that an array is not empty.\n",
      "  if diff:\n",
      "/opt/conda/lib/python3.5/site-packages/sklearn/preprocessing/label.py:151: DeprecationWarning: The truth value of an empty array is ambiguous. Returning False, but in future this will result in an error. Use `array.size > 0` to check that an array is not empty.\n",
      "  if diff:\n",
      "/opt/conda/lib/python3.5/site-packages/sklearn/preprocessing/label.py:151: DeprecationWarning: The truth value of an empty array is ambiguous. Returning False, but in future this will result in an error. Use `array.size > 0` to check that an array is not empty.\n",
      "  if diff:\n",
      "/opt/conda/lib/python3.5/site-packages/sklearn/preprocessing/label.py:151: DeprecationWarning: The truth value of an empty array is ambiguous. Returning False, but in future this will result in an error. Use `array.size > 0` to check that an array is not empty.\n",
      "  if diff:\n",
      "/opt/conda/lib/python3.5/site-packages/sklearn/preprocessing/label.py:151: DeprecationWarning: The truth value of an empty array is ambiguous. Returning False, but in future this will result in an error. Use `array.size > 0` to check that an array is not empty.\n",
      "  if diff:\n",
      "/opt/conda/lib/python3.5/site-packages/sklearn/preprocessing/label.py:151: DeprecationWarning: The truth value of an empty array is ambiguous. Returning False, but in future this will result in an error. Use `array.size > 0` to check that an array is not empty.\n",
      "  if diff:\n"
     ]
    },
    {
     "name": "stdout",
     "output_type": "stream",
     "text": [
      "== 5-fold CV ==\n",
      "F1 scores 5-fold CV per iteration: [0.85  0.831 0.83  0.834 0.844]\n",
      "F1 mean 5-fold CV per class: [0.845 0.905 0.763 0.674]\n",
      "F1 mean 5-fold CV: 0.838\n",
      "Tic: Train RF\n",
      "Elapsed time: 32.276264 seconds.\n",
      "\n",
      "== 5-fold CV ==\n",
      "F1 scores 5-fold CV per iteration: [0.854 0.815 0.83  0.829 0.829]\n",
      "F1 mean 5-fold CV per class: [0.829 0.906 0.76  0.632]\n",
      "F1 mean 5-fold CV: 0.832\n",
      "\n",
      "Iteration 40 Seed 376167\n",
      "Tic: Train XGB\n",
      "Elapsed time: 22.856134 seconds.\n",
      "\n"
     ]
    },
    {
     "name": "stderr",
     "output_type": "stream",
     "text": [
      "/opt/conda/lib/python3.5/site-packages/sklearn/preprocessing/label.py:151: DeprecationWarning: The truth value of an empty array is ambiguous. Returning False, but in future this will result in an error. Use `array.size > 0` to check that an array is not empty.\n",
      "  if diff:\n",
      "/opt/conda/lib/python3.5/site-packages/sklearn/preprocessing/label.py:151: DeprecationWarning: The truth value of an empty array is ambiguous. Returning False, but in future this will result in an error. Use `array.size > 0` to check that an array is not empty.\n",
      "  if diff:\n",
      "/opt/conda/lib/python3.5/site-packages/sklearn/preprocessing/label.py:151: DeprecationWarning: The truth value of an empty array is ambiguous. Returning False, but in future this will result in an error. Use `array.size > 0` to check that an array is not empty.\n",
      "  if diff:\n",
      "/opt/conda/lib/python3.5/site-packages/sklearn/preprocessing/label.py:151: DeprecationWarning: The truth value of an empty array is ambiguous. Returning False, but in future this will result in an error. Use `array.size > 0` to check that an array is not empty.\n",
      "  if diff:\n",
      "/opt/conda/lib/python3.5/site-packages/sklearn/preprocessing/label.py:151: DeprecationWarning: The truth value of an empty array is ambiguous. Returning False, but in future this will result in an error. Use `array.size > 0` to check that an array is not empty.\n",
      "  if diff:\n",
      "/opt/conda/lib/python3.5/site-packages/sklearn/preprocessing/label.py:151: DeprecationWarning: The truth value of an empty array is ambiguous. Returning False, but in future this will result in an error. Use `array.size > 0` to check that an array is not empty.\n",
      "  if diff:\n"
     ]
    },
    {
     "name": "stdout",
     "output_type": "stream",
     "text": [
      "== 5-fold CV ==\n",
      "F1 scores 5-fold CV per iteration: [0.826 0.855 0.83  0.832 0.844]\n",
      "F1 mean 5-fold CV per class: [0.836 0.909 0.767 0.653]\n",
      "F1 mean 5-fold CV: 0.837\n",
      "Tic: Train RF\n",
      "Elapsed time: 30.569105 seconds.\n",
      "\n",
      "== 5-fold CV ==\n",
      "F1 scores 5-fold CV per iteration: [0.823 0.853 0.822 0.833 0.833]\n",
      "F1 mean 5-fold CV per class: [0.829 0.906 0.763 0.65 ]\n",
      "F1 mean 5-fold CV: 0.833\n",
      "\n",
      "Iteration 41 Seed 641379\n",
      "Tic: Train XGB\n",
      "Elapsed time: 22.684794 seconds.\n",
      "\n"
     ]
    },
    {
     "name": "stderr",
     "output_type": "stream",
     "text": [
      "/opt/conda/lib/python3.5/site-packages/sklearn/preprocessing/label.py:151: DeprecationWarning: The truth value of an empty array is ambiguous. Returning False, but in future this will result in an error. Use `array.size > 0` to check that an array is not empty.\n",
      "  if diff:\n",
      "/opt/conda/lib/python3.5/site-packages/sklearn/preprocessing/label.py:151: DeprecationWarning: The truth value of an empty array is ambiguous. Returning False, but in future this will result in an error. Use `array.size > 0` to check that an array is not empty.\n",
      "  if diff:\n",
      "/opt/conda/lib/python3.5/site-packages/sklearn/preprocessing/label.py:151: DeprecationWarning: The truth value of an empty array is ambiguous. Returning False, but in future this will result in an error. Use `array.size > 0` to check that an array is not empty.\n",
      "  if diff:\n",
      "/opt/conda/lib/python3.5/site-packages/sklearn/preprocessing/label.py:151: DeprecationWarning: The truth value of an empty array is ambiguous. Returning False, but in future this will result in an error. Use `array.size > 0` to check that an array is not empty.\n",
      "  if diff:\n",
      "/opt/conda/lib/python3.5/site-packages/sklearn/preprocessing/label.py:151: DeprecationWarning: The truth value of an empty array is ambiguous. Returning False, but in future this will result in an error. Use `array.size > 0` to check that an array is not empty.\n",
      "  if diff:\n",
      "/opt/conda/lib/python3.5/site-packages/sklearn/preprocessing/label.py:151: DeprecationWarning: The truth value of an empty array is ambiguous. Returning False, but in future this will result in an error. Use `array.size > 0` to check that an array is not empty.\n",
      "  if diff:\n"
     ]
    },
    {
     "name": "stdout",
     "output_type": "stream",
     "text": [
      "== 5-fold CV ==\n",
      "F1 scores 5-fold CV per iteration: [0.846 0.832 0.828 0.835 0.834]\n",
      "F1 mean 5-fold CV per class: [0.834 0.907 0.765 0.667]\n",
      "F1 mean 5-fold CV: 0.835\n",
      "Tic: Train RF\n",
      "Elapsed time: 30.707625 seconds.\n",
      "\n",
      "== 5-fold CV ==\n",
      "F1 scores 5-fold CV per iteration: [0.839 0.827 0.826 0.839 0.831]\n",
      "F1 mean 5-fold CV per class: [0.823 0.909 0.765 0.644]\n",
      "F1 mean 5-fold CV: 0.832\n",
      "\n",
      "Iteration 42 Seed 730317\n",
      "Tic: Train XGB\n",
      "Elapsed time: 22.871914 seconds.\n",
      "\n"
     ]
    },
    {
     "name": "stderr",
     "output_type": "stream",
     "text": [
      "/opt/conda/lib/python3.5/site-packages/sklearn/preprocessing/label.py:151: DeprecationWarning: The truth value of an empty array is ambiguous. Returning False, but in future this will result in an error. Use `array.size > 0` to check that an array is not empty.\n",
      "  if diff:\n",
      "/opt/conda/lib/python3.5/site-packages/sklearn/preprocessing/label.py:151: DeprecationWarning: The truth value of an empty array is ambiguous. Returning False, but in future this will result in an error. Use `array.size > 0` to check that an array is not empty.\n",
      "  if diff:\n",
      "/opt/conda/lib/python3.5/site-packages/sklearn/preprocessing/label.py:151: DeprecationWarning: The truth value of an empty array is ambiguous. Returning False, but in future this will result in an error. Use `array.size > 0` to check that an array is not empty.\n",
      "  if diff:\n",
      "/opt/conda/lib/python3.5/site-packages/sklearn/preprocessing/label.py:151: DeprecationWarning: The truth value of an empty array is ambiguous. Returning False, but in future this will result in an error. Use `array.size > 0` to check that an array is not empty.\n",
      "  if diff:\n",
      "/opt/conda/lib/python3.5/site-packages/sklearn/preprocessing/label.py:151: DeprecationWarning: The truth value of an empty array is ambiguous. Returning False, but in future this will result in an error. Use `array.size > 0` to check that an array is not empty.\n",
      "  if diff:\n",
      "/opt/conda/lib/python3.5/site-packages/sklearn/preprocessing/label.py:151: DeprecationWarning: The truth value of an empty array is ambiguous. Returning False, but in future this will result in an error. Use `array.size > 0` to check that an array is not empty.\n",
      "  if diff:\n"
     ]
    },
    {
     "name": "stdout",
     "output_type": "stream",
     "text": [
      "== 5-fold CV ==\n",
      "F1 scores 5-fold CV per iteration: [0.822 0.839 0.832 0.856 0.84 ]\n",
      "F1 mean 5-fold CV per class: [0.844 0.905 0.764 0.677]\n",
      "F1 mean 5-fold CV: 0.838\n",
      "Tic: Train RF\n",
      "Elapsed time: 30.773452 seconds.\n",
      "\n",
      "== 5-fold CV ==\n",
      "F1 scores 5-fold CV per iteration: [0.823 0.828 0.83  0.851 0.833]\n",
      "F1 mean 5-fold CV per class: [0.827 0.908 0.763 0.632]\n",
      "F1 mean 5-fold CV: 0.833\n",
      "\n",
      "Iteration 43 Seed 226147\n",
      "Tic: Train XGB\n",
      "Elapsed time: 22.834101 seconds.\n",
      "\n"
     ]
    },
    {
     "name": "stderr",
     "output_type": "stream",
     "text": [
      "/opt/conda/lib/python3.5/site-packages/sklearn/preprocessing/label.py:151: DeprecationWarning: The truth value of an empty array is ambiguous. Returning False, but in future this will result in an error. Use `array.size > 0` to check that an array is not empty.\n",
      "  if diff:\n",
      "/opt/conda/lib/python3.5/site-packages/sklearn/preprocessing/label.py:151: DeprecationWarning: The truth value of an empty array is ambiguous. Returning False, but in future this will result in an error. Use `array.size > 0` to check that an array is not empty.\n",
      "  if diff:\n",
      "/opt/conda/lib/python3.5/site-packages/sklearn/preprocessing/label.py:151: DeprecationWarning: The truth value of an empty array is ambiguous. Returning False, but in future this will result in an error. Use `array.size > 0` to check that an array is not empty.\n",
      "  if diff:\n",
      "/opt/conda/lib/python3.5/site-packages/sklearn/preprocessing/label.py:151: DeprecationWarning: The truth value of an empty array is ambiguous. Returning False, but in future this will result in an error. Use `array.size > 0` to check that an array is not empty.\n",
      "  if diff:\n",
      "/opt/conda/lib/python3.5/site-packages/sklearn/preprocessing/label.py:151: DeprecationWarning: The truth value of an empty array is ambiguous. Returning False, but in future this will result in an error. Use `array.size > 0` to check that an array is not empty.\n",
      "  if diff:\n",
      "/opt/conda/lib/python3.5/site-packages/sklearn/preprocessing/label.py:151: DeprecationWarning: The truth value of an empty array is ambiguous. Returning False, but in future this will result in an error. Use `array.size > 0` to check that an array is not empty.\n",
      "  if diff:\n"
     ]
    },
    {
     "name": "stdout",
     "output_type": "stream",
     "text": [
      "== 5-fold CV ==\n",
      "F1 scores 5-fold CV per iteration: [0.843 0.834 0.857 0.846 0.826]\n",
      "F1 mean 5-fold CV per class: [0.84  0.909 0.774 0.672]\n",
      "F1 mean 5-fold CV: 0.841\n",
      "Tic: Train RF\n",
      "Elapsed time: 30.569910 seconds.\n",
      "\n",
      "== 5-fold CV ==\n",
      "F1 scores 5-fold CV per iteration: [0.845 0.834 0.846 0.844 0.813]\n",
      "F1 mean 5-fold CV per class: [0.835 0.908 0.767 0.648]\n",
      "F1 mean 5-fold CV: 0.837\n",
      "\n",
      "Iteration 44 Seed 506785\n",
      "Tic: Train XGB\n",
      "Elapsed time: 22.947252 seconds.\n",
      "\n"
     ]
    },
    {
     "name": "stderr",
     "output_type": "stream",
     "text": [
      "/opt/conda/lib/python3.5/site-packages/sklearn/preprocessing/label.py:151: DeprecationWarning: The truth value of an empty array is ambiguous. Returning False, but in future this will result in an error. Use `array.size > 0` to check that an array is not empty.\n",
      "  if diff:\n",
      "/opt/conda/lib/python3.5/site-packages/sklearn/preprocessing/label.py:151: DeprecationWarning: The truth value of an empty array is ambiguous. Returning False, but in future this will result in an error. Use `array.size > 0` to check that an array is not empty.\n",
      "  if diff:\n",
      "/opt/conda/lib/python3.5/site-packages/sklearn/preprocessing/label.py:151: DeprecationWarning: The truth value of an empty array is ambiguous. Returning False, but in future this will result in an error. Use `array.size > 0` to check that an array is not empty.\n",
      "  if diff:\n",
      "/opt/conda/lib/python3.5/site-packages/sklearn/preprocessing/label.py:151: DeprecationWarning: The truth value of an empty array is ambiguous. Returning False, but in future this will result in an error. Use `array.size > 0` to check that an array is not empty.\n",
      "  if diff:\n",
      "/opt/conda/lib/python3.5/site-packages/sklearn/preprocessing/label.py:151: DeprecationWarning: The truth value of an empty array is ambiguous. Returning False, but in future this will result in an error. Use `array.size > 0` to check that an array is not empty.\n",
      "  if diff:\n",
      "/opt/conda/lib/python3.5/site-packages/sklearn/preprocessing/label.py:151: DeprecationWarning: The truth value of an empty array is ambiguous. Returning False, but in future this will result in an error. Use `array.size > 0` to check that an array is not empty.\n",
      "  if diff:\n"
     ]
    },
    {
     "name": "stdout",
     "output_type": "stream",
     "text": [
      "== 5-fold CV ==\n",
      "F1 scores 5-fold CV per iteration: [0.832 0.826 0.836 0.847 0.865]\n",
      "F1 mean 5-fold CV per class: [0.843 0.909 0.771 0.65 ]\n",
      "F1 mean 5-fold CV: 0.841\n",
      "Tic: Train RF\n",
      "Elapsed time: 30.494563 seconds.\n",
      "\n",
      "== 5-fold CV ==\n",
      "F1 scores 5-fold CV per iteration: [0.809 0.83  0.823 0.839 0.87 ]\n",
      "F1 mean 5-fold CV per class: [0.83  0.908 0.764 0.64 ]\n",
      "F1 mean 5-fold CV: 0.834\n",
      "\n",
      "Iteration 45 Seed 780311\n",
      "Tic: Train XGB\n",
      "Elapsed time: 22.872898 seconds.\n",
      "\n"
     ]
    },
    {
     "name": "stderr",
     "output_type": "stream",
     "text": [
      "/opt/conda/lib/python3.5/site-packages/sklearn/preprocessing/label.py:151: DeprecationWarning: The truth value of an empty array is ambiguous. Returning False, but in future this will result in an error. Use `array.size > 0` to check that an array is not empty.\n",
      "  if diff:\n",
      "/opt/conda/lib/python3.5/site-packages/sklearn/preprocessing/label.py:151: DeprecationWarning: The truth value of an empty array is ambiguous. Returning False, but in future this will result in an error. Use `array.size > 0` to check that an array is not empty.\n",
      "  if diff:\n",
      "/opt/conda/lib/python3.5/site-packages/sklearn/preprocessing/label.py:151: DeprecationWarning: The truth value of an empty array is ambiguous. Returning False, but in future this will result in an error. Use `array.size > 0` to check that an array is not empty.\n",
      "  if diff:\n",
      "/opt/conda/lib/python3.5/site-packages/sklearn/preprocessing/label.py:151: DeprecationWarning: The truth value of an empty array is ambiguous. Returning False, but in future this will result in an error. Use `array.size > 0` to check that an array is not empty.\n",
      "  if diff:\n",
      "/opt/conda/lib/python3.5/site-packages/sklearn/preprocessing/label.py:151: DeprecationWarning: The truth value of an empty array is ambiguous. Returning False, but in future this will result in an error. Use `array.size > 0` to check that an array is not empty.\n",
      "  if diff:\n",
      "/opt/conda/lib/python3.5/site-packages/sklearn/preprocessing/label.py:151: DeprecationWarning: The truth value of an empty array is ambiguous. Returning False, but in future this will result in an error. Use `array.size > 0` to check that an array is not empty.\n",
      "  if diff:\n"
     ]
    },
    {
     "name": "stdout",
     "output_type": "stream",
     "text": [
      "== 5-fold CV ==\n",
      "F1 scores 5-fold CV per iteration: [0.84  0.836 0.842 0.837 0.84 ]\n",
      "F1 mean 5-fold CV per class: [0.835 0.911 0.771 0.681]\n",
      "F1 mean 5-fold CV: 0.839\n",
      "Tic: Train RF\n",
      "Elapsed time: 30.695734 seconds.\n",
      "\n",
      "== 5-fold CV ==\n",
      "F1 scores 5-fold CV per iteration: [0.838 0.828 0.831 0.83  0.843]\n",
      "F1 mean 5-fold CV per class: [0.834 0.907 0.762 0.639]\n",
      "F1 mean 5-fold CV: 0.834\n",
      "\n",
      "Iteration 46 Seed 902776\n",
      "Tic: Train XGB\n",
      "Elapsed time: 24.894269 seconds.\n",
      "\n"
     ]
    },
    {
     "name": "stderr",
     "output_type": "stream",
     "text": [
      "/opt/conda/lib/python3.5/site-packages/sklearn/preprocessing/label.py:151: DeprecationWarning: The truth value of an empty array is ambiguous. Returning False, but in future this will result in an error. Use `array.size > 0` to check that an array is not empty.\n",
      "  if diff:\n",
      "/opt/conda/lib/python3.5/site-packages/sklearn/preprocessing/label.py:151: DeprecationWarning: The truth value of an empty array is ambiguous. Returning False, but in future this will result in an error. Use `array.size > 0` to check that an array is not empty.\n",
      "  if diff:\n",
      "/opt/conda/lib/python3.5/site-packages/sklearn/preprocessing/label.py:151: DeprecationWarning: The truth value of an empty array is ambiguous. Returning False, but in future this will result in an error. Use `array.size > 0` to check that an array is not empty.\n",
      "  if diff:\n",
      "/opt/conda/lib/python3.5/site-packages/sklearn/preprocessing/label.py:151: DeprecationWarning: The truth value of an empty array is ambiguous. Returning False, but in future this will result in an error. Use `array.size > 0` to check that an array is not empty.\n",
      "  if diff:\n",
      "/opt/conda/lib/python3.5/site-packages/sklearn/preprocessing/label.py:151: DeprecationWarning: The truth value of an empty array is ambiguous. Returning False, but in future this will result in an error. Use `array.size > 0` to check that an array is not empty.\n",
      "  if diff:\n",
      "/opt/conda/lib/python3.5/site-packages/sklearn/preprocessing/label.py:151: DeprecationWarning: The truth value of an empty array is ambiguous. Returning False, but in future this will result in an error. Use `array.size > 0` to check that an array is not empty.\n",
      "  if diff:\n"
     ]
    },
    {
     "name": "stdout",
     "output_type": "stream",
     "text": [
      "== 5-fold CV ==\n",
      "F1 scores 5-fold CV per iteration: [0.843 0.845 0.836 0.849 0.83 ]\n",
      "F1 mean 5-fold CV per class: [0.84  0.911 0.772 0.66 ]\n",
      "F1 mean 5-fold CV: 0.841\n",
      "Tic: Train RF\n",
      "Elapsed time: 30.856990 seconds.\n",
      "\n",
      "== 5-fold CV ==\n",
      "F1 scores 5-fold CV per iteration: [0.847 0.838 0.823 0.848 0.82 ]\n",
      "F1 mean 5-fold CV per class: [0.833 0.908 0.765 0.651]\n",
      "F1 mean 5-fold CV: 0.835\n",
      "\n",
      "Iteration 47 Seed 306582\n",
      "Tic: Train XGB\n",
      "Elapsed time: 23.362423 seconds.\n",
      "\n"
     ]
    },
    {
     "name": "stderr",
     "output_type": "stream",
     "text": [
      "/opt/conda/lib/python3.5/site-packages/sklearn/preprocessing/label.py:151: DeprecationWarning: The truth value of an empty array is ambiguous. Returning False, but in future this will result in an error. Use `array.size > 0` to check that an array is not empty.\n",
      "  if diff:\n",
      "/opt/conda/lib/python3.5/site-packages/sklearn/preprocessing/label.py:151: DeprecationWarning: The truth value of an empty array is ambiguous. Returning False, but in future this will result in an error. Use `array.size > 0` to check that an array is not empty.\n",
      "  if diff:\n",
      "/opt/conda/lib/python3.5/site-packages/sklearn/preprocessing/label.py:151: DeprecationWarning: The truth value of an empty array is ambiguous. Returning False, but in future this will result in an error. Use `array.size > 0` to check that an array is not empty.\n",
      "  if diff:\n",
      "/opt/conda/lib/python3.5/site-packages/sklearn/preprocessing/label.py:151: DeprecationWarning: The truth value of an empty array is ambiguous. Returning False, but in future this will result in an error. Use `array.size > 0` to check that an array is not empty.\n",
      "  if diff:\n",
      "/opt/conda/lib/python3.5/site-packages/sklearn/preprocessing/label.py:151: DeprecationWarning: The truth value of an empty array is ambiguous. Returning False, but in future this will result in an error. Use `array.size > 0` to check that an array is not empty.\n",
      "  if diff:\n",
      "/opt/conda/lib/python3.5/site-packages/sklearn/preprocessing/label.py:151: DeprecationWarning: The truth value of an empty array is ambiguous. Returning False, but in future this will result in an error. Use `array.size > 0` to check that an array is not empty.\n",
      "  if diff:\n"
     ]
    },
    {
     "name": "stdout",
     "output_type": "stream",
     "text": [
      "== 5-fold CV ==\n",
      "F1 scores 5-fold CV per iteration: [0.844 0.853 0.841 0.849 0.829]\n",
      "F1 mean 5-fold CV per class: [0.838 0.913 0.779 0.682]\n",
      "F1 mean 5-fold CV: 0.843\n",
      "Tic: Train RF\n",
      "Elapsed time: 30.764445 seconds.\n",
      "\n",
      "== 5-fold CV ==\n",
      "F1 scores 5-fold CV per iteration: [0.838 0.837 0.829 0.828 0.83 ]\n",
      "F1 mean 5-fold CV per class: [0.829 0.906 0.762 0.641]\n",
      "F1 mean 5-fold CV: 0.832\n",
      "\n",
      "Iteration 48 Seed 587591\n",
      "Tic: Train XGB\n",
      "Elapsed time: 22.922750 seconds.\n",
      "\n"
     ]
    },
    {
     "name": "stderr",
     "output_type": "stream",
     "text": [
      "/opt/conda/lib/python3.5/site-packages/sklearn/preprocessing/label.py:151: DeprecationWarning: The truth value of an empty array is ambiguous. Returning False, but in future this will result in an error. Use `array.size > 0` to check that an array is not empty.\n",
      "  if diff:\n",
      "/opt/conda/lib/python3.5/site-packages/sklearn/preprocessing/label.py:151: DeprecationWarning: The truth value of an empty array is ambiguous. Returning False, but in future this will result in an error. Use `array.size > 0` to check that an array is not empty.\n",
      "  if diff:\n",
      "/opt/conda/lib/python3.5/site-packages/sklearn/preprocessing/label.py:151: DeprecationWarning: The truth value of an empty array is ambiguous. Returning False, but in future this will result in an error. Use `array.size > 0` to check that an array is not empty.\n",
      "  if diff:\n",
      "/opt/conda/lib/python3.5/site-packages/sklearn/preprocessing/label.py:151: DeprecationWarning: The truth value of an empty array is ambiguous. Returning False, but in future this will result in an error. Use `array.size > 0` to check that an array is not empty.\n",
      "  if diff:\n",
      "/opt/conda/lib/python3.5/site-packages/sklearn/preprocessing/label.py:151: DeprecationWarning: The truth value of an empty array is ambiguous. Returning False, but in future this will result in an error. Use `array.size > 0` to check that an array is not empty.\n",
      "  if diff:\n",
      "/opt/conda/lib/python3.5/site-packages/sklearn/preprocessing/label.py:151: DeprecationWarning: The truth value of an empty array is ambiguous. Returning False, but in future this will result in an error. Use `array.size > 0` to check that an array is not empty.\n",
      "  if diff:\n"
     ]
    },
    {
     "name": "stdout",
     "output_type": "stream",
     "text": [
      "== 5-fold CV ==\n",
      "F1 scores 5-fold CV per iteration: [0.824 0.836 0.85  0.848 0.838]\n",
      "F1 mean 5-fold CV per class: [0.845 0.906 0.766 0.664]\n",
      "F1 mean 5-fold CV: 0.839\n",
      "Tic: Train RF\n",
      "Elapsed time: 30.920482 seconds.\n",
      "\n",
      "== 5-fold CV ==\n",
      "F1 scores 5-fold CV per iteration: [0.814 0.829 0.839 0.847 0.84 ]\n",
      "F1 mean 5-fold CV per class: [0.832 0.907 0.763 0.637]\n",
      "F1 mean 5-fold CV: 0.834\n",
      "\n",
      "Iteration 49 Seed 473928\n",
      "Tic: Train XGB\n",
      "Elapsed time: 22.989712 seconds.\n",
      "\n"
     ]
    },
    {
     "name": "stderr",
     "output_type": "stream",
     "text": [
      "/opt/conda/lib/python3.5/site-packages/sklearn/preprocessing/label.py:151: DeprecationWarning: The truth value of an empty array is ambiguous. Returning False, but in future this will result in an error. Use `array.size > 0` to check that an array is not empty.\n",
      "  if diff:\n",
      "/opt/conda/lib/python3.5/site-packages/sklearn/preprocessing/label.py:151: DeprecationWarning: The truth value of an empty array is ambiguous. Returning False, but in future this will result in an error. Use `array.size > 0` to check that an array is not empty.\n",
      "  if diff:\n",
      "/opt/conda/lib/python3.5/site-packages/sklearn/preprocessing/label.py:151: DeprecationWarning: The truth value of an empty array is ambiguous. Returning False, but in future this will result in an error. Use `array.size > 0` to check that an array is not empty.\n",
      "  if diff:\n",
      "/opt/conda/lib/python3.5/site-packages/sklearn/preprocessing/label.py:151: DeprecationWarning: The truth value of an empty array is ambiguous. Returning False, but in future this will result in an error. Use `array.size > 0` to check that an array is not empty.\n",
      "  if diff:\n",
      "/opt/conda/lib/python3.5/site-packages/sklearn/preprocessing/label.py:151: DeprecationWarning: The truth value of an empty array is ambiguous. Returning False, but in future this will result in an error. Use `array.size > 0` to check that an array is not empty.\n",
      "  if diff:\n",
      "/opt/conda/lib/python3.5/site-packages/sklearn/preprocessing/label.py:151: DeprecationWarning: The truth value of an empty array is ambiguous. Returning False, but in future this will result in an error. Use `array.size > 0` to check that an array is not empty.\n",
      "  if diff:\n"
     ]
    },
    {
     "name": "stdout",
     "output_type": "stream",
     "text": [
      "== 5-fold CV ==\n",
      "F1 scores 5-fold CV per iteration: [0.84  0.843 0.823 0.836 0.85 ]\n",
      "F1 mean 5-fold CV per class: [0.838 0.907 0.77  0.647]\n",
      "F1 mean 5-fold CV: 0.838\n",
      "Tic: Train RF\n",
      "Elapsed time: 30.778042 seconds.\n",
      "\n",
      "== 5-fold CV ==\n",
      "F1 scores 5-fold CV per iteration: [0.825 0.831 0.83  0.835 0.853]\n",
      "F1 mean 5-fold CV per class: [0.831 0.909 0.764 0.631]\n",
      "F1 mean 5-fold CV: 0.835\n",
      "\n",
      "Iteration 50 Seed 680671\n",
      "Tic: Train XGB\n",
      "Elapsed time: 23.281185 seconds.\n",
      "\n"
     ]
    },
    {
     "name": "stderr",
     "output_type": "stream",
     "text": [
      "/opt/conda/lib/python3.5/site-packages/sklearn/preprocessing/label.py:151: DeprecationWarning: The truth value of an empty array is ambiguous. Returning False, but in future this will result in an error. Use `array.size > 0` to check that an array is not empty.\n",
      "  if diff:\n",
      "/opt/conda/lib/python3.5/site-packages/sklearn/preprocessing/label.py:151: DeprecationWarning: The truth value of an empty array is ambiguous. Returning False, but in future this will result in an error. Use `array.size > 0` to check that an array is not empty.\n",
      "  if diff:\n",
      "/opt/conda/lib/python3.5/site-packages/sklearn/preprocessing/label.py:151: DeprecationWarning: The truth value of an empty array is ambiguous. Returning False, but in future this will result in an error. Use `array.size > 0` to check that an array is not empty.\n",
      "  if diff:\n",
      "/opt/conda/lib/python3.5/site-packages/sklearn/preprocessing/label.py:151: DeprecationWarning: The truth value of an empty array is ambiguous. Returning False, but in future this will result in an error. Use `array.size > 0` to check that an array is not empty.\n",
      "  if diff:\n",
      "/opt/conda/lib/python3.5/site-packages/sklearn/preprocessing/label.py:151: DeprecationWarning: The truth value of an empty array is ambiguous. Returning False, but in future this will result in an error. Use `array.size > 0` to check that an array is not empty.\n",
      "  if diff:\n",
      "/opt/conda/lib/python3.5/site-packages/sklearn/preprocessing/label.py:151: DeprecationWarning: The truth value of an empty array is ambiguous. Returning False, but in future this will result in an error. Use `array.size > 0` to check that an array is not empty.\n",
      "  if diff:\n"
     ]
    },
    {
     "name": "stdout",
     "output_type": "stream",
     "text": [
      "== 5-fold CV ==\n",
      "F1 scores 5-fold CV per iteration: [0.845 0.838 0.827 0.829 0.858]\n",
      "F1 mean 5-fold CV per class: [0.844 0.908 0.767 0.68 ]\n",
      "F1 mean 5-fold CV: 0.840\n",
      "Tic: Train RF\n",
      "Elapsed time: 30.783770 seconds.\n",
      "\n",
      "== 5-fold CV ==\n",
      "F1 scores 5-fold CV per iteration: [0.83  0.839 0.833 0.83  0.845]\n",
      "F1 mean 5-fold CV per class: [0.838 0.906 0.762 0.637]\n",
      "F1 mean 5-fold CV: 0.835\n",
      "\n",
      "Iteration 51 Seed 259051\n",
      "Tic: Train XGB\n",
      "Elapsed time: 23.309025 seconds.\n",
      "\n"
     ]
    },
    {
     "name": "stderr",
     "output_type": "stream",
     "text": [
      "/opt/conda/lib/python3.5/site-packages/sklearn/preprocessing/label.py:151: DeprecationWarning: The truth value of an empty array is ambiguous. Returning False, but in future this will result in an error. Use `array.size > 0` to check that an array is not empty.\n",
      "  if diff:\n",
      "/opt/conda/lib/python3.5/site-packages/sklearn/preprocessing/label.py:151: DeprecationWarning: The truth value of an empty array is ambiguous. Returning False, but in future this will result in an error. Use `array.size > 0` to check that an array is not empty.\n",
      "  if diff:\n",
      "/opt/conda/lib/python3.5/site-packages/sklearn/preprocessing/label.py:151: DeprecationWarning: The truth value of an empty array is ambiguous. Returning False, but in future this will result in an error. Use `array.size > 0` to check that an array is not empty.\n",
      "  if diff:\n",
      "/opt/conda/lib/python3.5/site-packages/sklearn/preprocessing/label.py:151: DeprecationWarning: The truth value of an empty array is ambiguous. Returning False, but in future this will result in an error. Use `array.size > 0` to check that an array is not empty.\n",
      "  if diff:\n",
      "/opt/conda/lib/python3.5/site-packages/sklearn/preprocessing/label.py:151: DeprecationWarning: The truth value of an empty array is ambiguous. Returning False, but in future this will result in an error. Use `array.size > 0` to check that an array is not empty.\n",
      "  if diff:\n",
      "/opt/conda/lib/python3.5/site-packages/sklearn/preprocessing/label.py:151: DeprecationWarning: The truth value of an empty array is ambiguous. Returning False, but in future this will result in an error. Use `array.size > 0` to check that an array is not empty.\n",
      "  if diff:\n"
     ]
    },
    {
     "name": "stdout",
     "output_type": "stream",
     "text": [
      "== 5-fold CV ==\n",
      "F1 scores 5-fold CV per iteration: [0.849 0.849 0.834 0.833 0.829]\n",
      "F1 mean 5-fold CV per class: [0.84  0.908 0.768 0.689]\n",
      "F1 mean 5-fold CV: 0.839\n",
      "Tic: Train RF\n",
      "Elapsed time: 32.248544 seconds.\n",
      "\n",
      "== 5-fold CV ==\n",
      "F1 scores 5-fold CV per iteration: [0.845 0.84  0.829 0.832 0.824]\n",
      "F1 mean 5-fold CV per class: [0.83  0.909 0.763 0.641]\n",
      "F1 mean 5-fold CV: 0.834\n",
      "\n",
      "Iteration 52 Seed 783793\n",
      "Tic: Train XGB\n",
      "Elapsed time: 23.395702 seconds.\n",
      "\n"
     ]
    },
    {
     "name": "stderr",
     "output_type": "stream",
     "text": [
      "/opt/conda/lib/python3.5/site-packages/sklearn/preprocessing/label.py:151: DeprecationWarning: The truth value of an empty array is ambiguous. Returning False, but in future this will result in an error. Use `array.size > 0` to check that an array is not empty.\n",
      "  if diff:\n",
      "/opt/conda/lib/python3.5/site-packages/sklearn/preprocessing/label.py:151: DeprecationWarning: The truth value of an empty array is ambiguous. Returning False, but in future this will result in an error. Use `array.size > 0` to check that an array is not empty.\n",
      "  if diff:\n",
      "/opt/conda/lib/python3.5/site-packages/sklearn/preprocessing/label.py:151: DeprecationWarning: The truth value of an empty array is ambiguous. Returning False, but in future this will result in an error. Use `array.size > 0` to check that an array is not empty.\n",
      "  if diff:\n",
      "/opt/conda/lib/python3.5/site-packages/sklearn/preprocessing/label.py:151: DeprecationWarning: The truth value of an empty array is ambiguous. Returning False, but in future this will result in an error. Use `array.size > 0` to check that an array is not empty.\n",
      "  if diff:\n",
      "/opt/conda/lib/python3.5/site-packages/sklearn/preprocessing/label.py:151: DeprecationWarning: The truth value of an empty array is ambiguous. Returning False, but in future this will result in an error. Use `array.size > 0` to check that an array is not empty.\n",
      "  if diff:\n",
      "/opt/conda/lib/python3.5/site-packages/sklearn/preprocessing/label.py:151: DeprecationWarning: The truth value of an empty array is ambiguous. Returning False, but in future this will result in an error. Use `array.size > 0` to check that an array is not empty.\n",
      "  if diff:\n"
     ]
    },
    {
     "name": "stdout",
     "output_type": "stream",
     "text": [
      "== 5-fold CV ==\n",
      "F1 scores 5-fold CV per iteration: [0.827 0.84  0.842 0.841 0.851]\n",
      "F1 mean 5-fold CV per class: [0.845 0.908 0.766 0.662]\n",
      "F1 mean 5-fold CV: 0.840\n",
      "Tic: Train RF\n",
      "Elapsed time: 32.429100 seconds.\n",
      "\n",
      "== 5-fold CV ==\n",
      "F1 scores 5-fold CV per iteration: [0.836 0.846 0.836 0.82  0.834]\n",
      "F1 mean 5-fold CV per class: [0.833 0.907 0.764 0.631]\n",
      "F1 mean 5-fold CV: 0.835\n",
      "\n",
      "Iteration 53 Seed 192680\n",
      "Tic: Train XGB\n",
      "Elapsed time: 23.024379 seconds.\n",
      "\n"
     ]
    },
    {
     "name": "stderr",
     "output_type": "stream",
     "text": [
      "/opt/conda/lib/python3.5/site-packages/sklearn/preprocessing/label.py:151: DeprecationWarning: The truth value of an empty array is ambiguous. Returning False, but in future this will result in an error. Use `array.size > 0` to check that an array is not empty.\n",
      "  if diff:\n",
      "/opt/conda/lib/python3.5/site-packages/sklearn/preprocessing/label.py:151: DeprecationWarning: The truth value of an empty array is ambiguous. Returning False, but in future this will result in an error. Use `array.size > 0` to check that an array is not empty.\n",
      "  if diff:\n",
      "/opt/conda/lib/python3.5/site-packages/sklearn/preprocessing/label.py:151: DeprecationWarning: The truth value of an empty array is ambiguous. Returning False, but in future this will result in an error. Use `array.size > 0` to check that an array is not empty.\n",
      "  if diff:\n",
      "/opt/conda/lib/python3.5/site-packages/sklearn/preprocessing/label.py:151: DeprecationWarning: The truth value of an empty array is ambiguous. Returning False, but in future this will result in an error. Use `array.size > 0` to check that an array is not empty.\n",
      "  if diff:\n",
      "/opt/conda/lib/python3.5/site-packages/sklearn/preprocessing/label.py:151: DeprecationWarning: The truth value of an empty array is ambiguous. Returning False, but in future this will result in an error. Use `array.size > 0` to check that an array is not empty.\n",
      "  if diff:\n",
      "/opt/conda/lib/python3.5/site-packages/sklearn/preprocessing/label.py:151: DeprecationWarning: The truth value of an empty array is ambiguous. Returning False, but in future this will result in an error. Use `array.size > 0` to check that an array is not empty.\n",
      "  if diff:\n"
     ]
    },
    {
     "name": "stdout",
     "output_type": "stream",
     "text": [
      "== 5-fold CV ==\n",
      "F1 scores 5-fold CV per iteration: [0.847 0.825 0.841 0.831 0.837]\n",
      "F1 mean 5-fold CV per class: [0.832 0.908 0.768 0.659]\n",
      "F1 mean 5-fold CV: 0.836\n",
      "Tic: Train RF\n",
      "Elapsed time: 30.764542 seconds.\n",
      "\n",
      "== 5-fold CV ==\n",
      "F1 scores 5-fold CV per iteration: [0.852 0.814 0.828 0.825 0.843]\n",
      "F1 mean 5-fold CV per class: [0.828 0.907 0.762 0.644]\n",
      "F1 mean 5-fold CV: 0.832\n",
      "\n",
      "Iteration 54 Seed 502754\n",
      "Tic: Train XGB\n",
      "Elapsed time: 23.101900 seconds.\n",
      "\n"
     ]
    },
    {
     "name": "stderr",
     "output_type": "stream",
     "text": [
      "/opt/conda/lib/python3.5/site-packages/sklearn/preprocessing/label.py:151: DeprecationWarning: The truth value of an empty array is ambiguous. Returning False, but in future this will result in an error. Use `array.size > 0` to check that an array is not empty.\n",
      "  if diff:\n",
      "/opt/conda/lib/python3.5/site-packages/sklearn/preprocessing/label.py:151: DeprecationWarning: The truth value of an empty array is ambiguous. Returning False, but in future this will result in an error. Use `array.size > 0` to check that an array is not empty.\n",
      "  if diff:\n",
      "/opt/conda/lib/python3.5/site-packages/sklearn/preprocessing/label.py:151: DeprecationWarning: The truth value of an empty array is ambiguous. Returning False, but in future this will result in an error. Use `array.size > 0` to check that an array is not empty.\n",
      "  if diff:\n",
      "/opt/conda/lib/python3.5/site-packages/sklearn/preprocessing/label.py:151: DeprecationWarning: The truth value of an empty array is ambiguous. Returning False, but in future this will result in an error. Use `array.size > 0` to check that an array is not empty.\n",
      "  if diff:\n",
      "/opt/conda/lib/python3.5/site-packages/sklearn/preprocessing/label.py:151: DeprecationWarning: The truth value of an empty array is ambiguous. Returning False, but in future this will result in an error. Use `array.size > 0` to check that an array is not empty.\n",
      "  if diff:\n",
      "/opt/conda/lib/python3.5/site-packages/sklearn/preprocessing/label.py:151: DeprecationWarning: The truth value of an empty array is ambiguous. Returning False, but in future this will result in an error. Use `array.size > 0` to check that an array is not empty.\n",
      "  if diff:\n"
     ]
    },
    {
     "name": "stdout",
     "output_type": "stream",
     "text": [
      "== 5-fold CV ==\n",
      "F1 scores 5-fold CV per iteration: [0.821 0.846 0.848 0.84  0.845]\n",
      "F1 mean 5-fold CV per class: [0.846 0.908 0.766 0.689]\n",
      "F1 mean 5-fold CV: 0.840\n",
      "Tic: Train RF\n",
      "Elapsed time: 30.768288 seconds.\n",
      "\n",
      "== 5-fold CV ==\n",
      "F1 scores 5-fold CV per iteration: [0.821 0.837 0.844 0.834 0.841]\n",
      "F1 mean 5-fold CV per class: [0.837 0.907 0.762 0.645]\n",
      "F1 mean 5-fold CV: 0.835\n",
      "\n",
      "Iteration 55 Seed 492989\n",
      "Tic: Train XGB\n",
      "Elapsed time: 23.007919 seconds.\n",
      "\n"
     ]
    },
    {
     "name": "stderr",
     "output_type": "stream",
     "text": [
      "/opt/conda/lib/python3.5/site-packages/sklearn/preprocessing/label.py:151: DeprecationWarning: The truth value of an empty array is ambiguous. Returning False, but in future this will result in an error. Use `array.size > 0` to check that an array is not empty.\n",
      "  if diff:\n",
      "/opt/conda/lib/python3.5/site-packages/sklearn/preprocessing/label.py:151: DeprecationWarning: The truth value of an empty array is ambiguous. Returning False, but in future this will result in an error. Use `array.size > 0` to check that an array is not empty.\n",
      "  if diff:\n",
      "/opt/conda/lib/python3.5/site-packages/sklearn/preprocessing/label.py:151: DeprecationWarning: The truth value of an empty array is ambiguous. Returning False, but in future this will result in an error. Use `array.size > 0` to check that an array is not empty.\n",
      "  if diff:\n",
      "/opt/conda/lib/python3.5/site-packages/sklearn/preprocessing/label.py:151: DeprecationWarning: The truth value of an empty array is ambiguous. Returning False, but in future this will result in an error. Use `array.size > 0` to check that an array is not empty.\n",
      "  if diff:\n",
      "/opt/conda/lib/python3.5/site-packages/sklearn/preprocessing/label.py:151: DeprecationWarning: The truth value of an empty array is ambiguous. Returning False, but in future this will result in an error. Use `array.size > 0` to check that an array is not empty.\n",
      "  if diff:\n",
      "/opt/conda/lib/python3.5/site-packages/sklearn/preprocessing/label.py:151: DeprecationWarning: The truth value of an empty array is ambiguous. Returning False, but in future this will result in an error. Use `array.size > 0` to check that an array is not empty.\n",
      "  if diff:\n"
     ]
    },
    {
     "name": "stdout",
     "output_type": "stream",
     "text": [
      "== 5-fold CV ==\n",
      "F1 scores 5-fold CV per iteration: [0.842 0.848 0.835 0.846 0.835]\n",
      "F1 mean 5-fold CV per class: [0.847 0.907 0.77  0.654]\n",
      "F1 mean 5-fold CV: 0.841\n",
      "Tic: Train RF\n",
      "Elapsed time: 30.898787 seconds.\n",
      "\n",
      "== 5-fold CV ==\n",
      "F1 scores 5-fold CV per iteration: [0.852 0.847 0.82  0.82  0.817]\n",
      "F1 mean 5-fold CV per class: [0.828 0.907 0.759 0.636]\n",
      "F1 mean 5-fold CV: 0.831\n",
      "\n",
      "Iteration 56 Seed 131001\n",
      "Tic: Train XGB\n",
      "Elapsed time: 24.252948 seconds.\n",
      "\n"
     ]
    },
    {
     "name": "stderr",
     "output_type": "stream",
     "text": [
      "/opt/conda/lib/python3.5/site-packages/sklearn/preprocessing/label.py:151: DeprecationWarning: The truth value of an empty array is ambiguous. Returning False, but in future this will result in an error. Use `array.size > 0` to check that an array is not empty.\n",
      "  if diff:\n",
      "/opt/conda/lib/python3.5/site-packages/sklearn/preprocessing/label.py:151: DeprecationWarning: The truth value of an empty array is ambiguous. Returning False, but in future this will result in an error. Use `array.size > 0` to check that an array is not empty.\n",
      "  if diff:\n",
      "/opt/conda/lib/python3.5/site-packages/sklearn/preprocessing/label.py:151: DeprecationWarning: The truth value of an empty array is ambiguous. Returning False, but in future this will result in an error. Use `array.size > 0` to check that an array is not empty.\n",
      "  if diff:\n",
      "/opt/conda/lib/python3.5/site-packages/sklearn/preprocessing/label.py:151: DeprecationWarning: The truth value of an empty array is ambiguous. Returning False, but in future this will result in an error. Use `array.size > 0` to check that an array is not empty.\n",
      "  if diff:\n",
      "/opt/conda/lib/python3.5/site-packages/sklearn/preprocessing/label.py:151: DeprecationWarning: The truth value of an empty array is ambiguous. Returning False, but in future this will result in an error. Use `array.size > 0` to check that an array is not empty.\n",
      "  if diff:\n",
      "/opt/conda/lib/python3.5/site-packages/sklearn/preprocessing/label.py:151: DeprecationWarning: The truth value of an empty array is ambiguous. Returning False, but in future this will result in an error. Use `array.size > 0` to check that an array is not empty.\n",
      "  if diff:\n"
     ]
    },
    {
     "name": "stdout",
     "output_type": "stream",
     "text": [
      "== 5-fold CV ==\n",
      "F1 scores 5-fold CV per iteration: [0.826 0.834 0.843 0.841 0.837]\n",
      "F1 mean 5-fold CV per class: [0.832 0.909 0.767 0.671]\n",
      "F1 mean 5-fold CV: 0.836\n",
      "Tic: Train RF\n",
      "Elapsed time: 30.883693 seconds.\n",
      "\n",
      "== 5-fold CV ==\n",
      "F1 scores 5-fold CV per iteration: [0.818 0.838 0.846 0.832 0.832]\n",
      "F1 mean 5-fold CV per class: [0.828 0.908 0.764 0.633]\n",
      "F1 mean 5-fold CV: 0.833\n",
      "\n",
      "Iteration 57 Seed 888255\n",
      "Tic: Train XGB\n",
      "Elapsed time: 23.015643 seconds.\n",
      "\n"
     ]
    },
    {
     "name": "stderr",
     "output_type": "stream",
     "text": [
      "/opt/conda/lib/python3.5/site-packages/sklearn/preprocessing/label.py:151: DeprecationWarning: The truth value of an empty array is ambiguous. Returning False, but in future this will result in an error. Use `array.size > 0` to check that an array is not empty.\n",
      "  if diff:\n",
      "/opt/conda/lib/python3.5/site-packages/sklearn/preprocessing/label.py:151: DeprecationWarning: The truth value of an empty array is ambiguous. Returning False, but in future this will result in an error. Use `array.size > 0` to check that an array is not empty.\n",
      "  if diff:\n",
      "/opt/conda/lib/python3.5/site-packages/sklearn/preprocessing/label.py:151: DeprecationWarning: The truth value of an empty array is ambiguous. Returning False, but in future this will result in an error. Use `array.size > 0` to check that an array is not empty.\n",
      "  if diff:\n",
      "/opt/conda/lib/python3.5/site-packages/sklearn/preprocessing/label.py:151: DeprecationWarning: The truth value of an empty array is ambiguous. Returning False, but in future this will result in an error. Use `array.size > 0` to check that an array is not empty.\n",
      "  if diff:\n",
      "/opt/conda/lib/python3.5/site-packages/sklearn/preprocessing/label.py:151: DeprecationWarning: The truth value of an empty array is ambiguous. Returning False, but in future this will result in an error. Use `array.size > 0` to check that an array is not empty.\n",
      "  if diff:\n",
      "/opt/conda/lib/python3.5/site-packages/sklearn/preprocessing/label.py:151: DeprecationWarning: The truth value of an empty array is ambiguous. Returning False, but in future this will result in an error. Use `array.size > 0` to check that an array is not empty.\n",
      "  if diff:\n"
     ]
    },
    {
     "name": "stdout",
     "output_type": "stream",
     "text": [
      "== 5-fold CV ==\n",
      "F1 scores 5-fold CV per iteration: [0.847 0.809 0.834 0.849 0.848]\n",
      "F1 mean 5-fold CV per class: [0.837 0.909 0.766 0.672]\n",
      "F1 mean 5-fold CV: 0.837\n",
      "Tic: Train RF\n",
      "Elapsed time: 30.781302 seconds.\n",
      "\n",
      "== 5-fold CV ==\n",
      "F1 scores 5-fold CV per iteration: [0.849 0.81  0.83  0.829 0.849]\n",
      "F1 mean 5-fold CV per class: [0.829 0.907 0.763 0.63 ]\n",
      "F1 mean 5-fold CV: 0.833\n",
      "\n",
      "Iteration 58 Seed 342602\n",
      "Tic: Train XGB\n",
      "Elapsed time: 23.095571 seconds.\n",
      "\n"
     ]
    },
    {
     "name": "stderr",
     "output_type": "stream",
     "text": [
      "/opt/conda/lib/python3.5/site-packages/sklearn/preprocessing/label.py:151: DeprecationWarning: The truth value of an empty array is ambiguous. Returning False, but in future this will result in an error. Use `array.size > 0` to check that an array is not empty.\n",
      "  if diff:\n",
      "/opt/conda/lib/python3.5/site-packages/sklearn/preprocessing/label.py:151: DeprecationWarning: The truth value of an empty array is ambiguous. Returning False, but in future this will result in an error. Use `array.size > 0` to check that an array is not empty.\n",
      "  if diff:\n",
      "/opt/conda/lib/python3.5/site-packages/sklearn/preprocessing/label.py:151: DeprecationWarning: The truth value of an empty array is ambiguous. Returning False, but in future this will result in an error. Use `array.size > 0` to check that an array is not empty.\n",
      "  if diff:\n",
      "/opt/conda/lib/python3.5/site-packages/sklearn/preprocessing/label.py:151: DeprecationWarning: The truth value of an empty array is ambiguous. Returning False, but in future this will result in an error. Use `array.size > 0` to check that an array is not empty.\n",
      "  if diff:\n",
      "/opt/conda/lib/python3.5/site-packages/sklearn/preprocessing/label.py:151: DeprecationWarning: The truth value of an empty array is ambiguous. Returning False, but in future this will result in an error. Use `array.size > 0` to check that an array is not empty.\n",
      "  if diff:\n",
      "/opt/conda/lib/python3.5/site-packages/sklearn/preprocessing/label.py:151: DeprecationWarning: The truth value of an empty array is ambiguous. Returning False, but in future this will result in an error. Use `array.size > 0` to check that an array is not empty.\n",
      "  if diff:\n"
     ]
    },
    {
     "name": "stdout",
     "output_type": "stream",
     "text": [
      "== 5-fold CV ==\n",
      "F1 scores 5-fold CV per iteration: [0.839 0.837 0.844 0.84  0.822]\n",
      "F1 mean 5-fold CV per class: [0.834 0.908 0.767 0.662]\n",
      "F1 mean 5-fold CV: 0.836\n",
      "Tic: Train RF\n",
      "Elapsed time: 30.796312 seconds.\n",
      "\n",
      "== 5-fold CV ==\n",
      "F1 scores 5-fold CV per iteration: [0.831 0.831 0.831 0.836 0.828]\n",
      "F1 mean 5-fold CV per class: [0.828 0.906 0.76  0.64 ]\n",
      "F1 mean 5-fold CV: 0.832\n",
      "\n",
      "Iteration 59 Seed 161831\n",
      "Tic: Train XGB\n",
      "Elapsed time: 24.900978 seconds.\n",
      "\n"
     ]
    },
    {
     "name": "stderr",
     "output_type": "stream",
     "text": [
      "/opt/conda/lib/python3.5/site-packages/sklearn/preprocessing/label.py:151: DeprecationWarning: The truth value of an empty array is ambiguous. Returning False, but in future this will result in an error. Use `array.size > 0` to check that an array is not empty.\n",
      "  if diff:\n",
      "/opt/conda/lib/python3.5/site-packages/sklearn/preprocessing/label.py:151: DeprecationWarning: The truth value of an empty array is ambiguous. Returning False, but in future this will result in an error. Use `array.size > 0` to check that an array is not empty.\n",
      "  if diff:\n",
      "/opt/conda/lib/python3.5/site-packages/sklearn/preprocessing/label.py:151: DeprecationWarning: The truth value of an empty array is ambiguous. Returning False, but in future this will result in an error. Use `array.size > 0` to check that an array is not empty.\n",
      "  if diff:\n",
      "/opt/conda/lib/python3.5/site-packages/sklearn/preprocessing/label.py:151: DeprecationWarning: The truth value of an empty array is ambiguous. Returning False, but in future this will result in an error. Use `array.size > 0` to check that an array is not empty.\n",
      "  if diff:\n",
      "/opt/conda/lib/python3.5/site-packages/sklearn/preprocessing/label.py:151: DeprecationWarning: The truth value of an empty array is ambiguous. Returning False, but in future this will result in an error. Use `array.size > 0` to check that an array is not empty.\n",
      "  if diff:\n",
      "/opt/conda/lib/python3.5/site-packages/sklearn/preprocessing/label.py:151: DeprecationWarning: The truth value of an empty array is ambiguous. Returning False, but in future this will result in an error. Use `array.size > 0` to check that an array is not empty.\n",
      "  if diff:\n"
     ]
    },
    {
     "name": "stdout",
     "output_type": "stream",
     "text": [
      "== 5-fold CV ==\n",
      "F1 scores 5-fold CV per iteration: [0.856 0.835 0.829 0.837 0.852]\n",
      "F1 mean 5-fold CV per class: [0.843 0.91  0.772 0.677]\n",
      "F1 mean 5-fold CV: 0.842\n",
      "Tic: Train RF\n",
      "Elapsed time: 30.998603 seconds.\n",
      "\n",
      "== 5-fold CV ==\n",
      "F1 scores 5-fold CV per iteration: [0.841 0.825 0.831 0.825 0.853]\n",
      "F1 mean 5-fold CV per class: [0.831 0.908 0.767 0.643]\n",
      "F1 mean 5-fold CV: 0.835\n",
      "\n",
      "Iteration 60 Seed 629263\n",
      "Tic: Train XGB\n",
      "Elapsed time: 22.952320 seconds.\n",
      "\n"
     ]
    },
    {
     "name": "stderr",
     "output_type": "stream",
     "text": [
      "/opt/conda/lib/python3.5/site-packages/sklearn/preprocessing/label.py:151: DeprecationWarning: The truth value of an empty array is ambiguous. Returning False, but in future this will result in an error. Use `array.size > 0` to check that an array is not empty.\n",
      "  if diff:\n",
      "/opt/conda/lib/python3.5/site-packages/sklearn/preprocessing/label.py:151: DeprecationWarning: The truth value of an empty array is ambiguous. Returning False, but in future this will result in an error. Use `array.size > 0` to check that an array is not empty.\n",
      "  if diff:\n",
      "/opt/conda/lib/python3.5/site-packages/sklearn/preprocessing/label.py:151: DeprecationWarning: The truth value of an empty array is ambiguous. Returning False, but in future this will result in an error. Use `array.size > 0` to check that an array is not empty.\n",
      "  if diff:\n",
      "/opt/conda/lib/python3.5/site-packages/sklearn/preprocessing/label.py:151: DeprecationWarning: The truth value of an empty array is ambiguous. Returning False, but in future this will result in an error. Use `array.size > 0` to check that an array is not empty.\n",
      "  if diff:\n",
      "/opt/conda/lib/python3.5/site-packages/sklearn/preprocessing/label.py:151: DeprecationWarning: The truth value of an empty array is ambiguous. Returning False, but in future this will result in an error. Use `array.size > 0` to check that an array is not empty.\n",
      "  if diff:\n",
      "/opt/conda/lib/python3.5/site-packages/sklearn/preprocessing/label.py:151: DeprecationWarning: The truth value of an empty array is ambiguous. Returning False, but in future this will result in an error. Use `array.size > 0` to check that an array is not empty.\n",
      "  if diff:\n"
     ]
    },
    {
     "name": "stdout",
     "output_type": "stream",
     "text": [
      "== 5-fold CV ==\n",
      "F1 scores 5-fold CV per iteration: [0.846 0.839 0.844 0.826 0.847]\n",
      "F1 mean 5-fold CV per class: [0.841 0.91  0.77  0.678]\n",
      "F1 mean 5-fold CV: 0.840\n",
      "Tic: Train RF\n",
      "Elapsed time: 30.806153 seconds.\n",
      "\n",
      "== 5-fold CV ==\n",
      "F1 scores 5-fold CV per iteration: [0.833 0.841 0.831 0.832 0.843]\n",
      "F1 mean 5-fold CV per class: [0.834 0.908 0.765 0.653]\n",
      "F1 mean 5-fold CV: 0.836\n",
      "\n",
      "Iteration 61 Seed 895044\n",
      "Tic: Train XGB\n",
      "Elapsed time: 23.051118 seconds.\n",
      "\n"
     ]
    },
    {
     "name": "stderr",
     "output_type": "stream",
     "text": [
      "/opt/conda/lib/python3.5/site-packages/sklearn/preprocessing/label.py:151: DeprecationWarning: The truth value of an empty array is ambiguous. Returning False, but in future this will result in an error. Use `array.size > 0` to check that an array is not empty.\n",
      "  if diff:\n",
      "/opt/conda/lib/python3.5/site-packages/sklearn/preprocessing/label.py:151: DeprecationWarning: The truth value of an empty array is ambiguous. Returning False, but in future this will result in an error. Use `array.size > 0` to check that an array is not empty.\n",
      "  if diff:\n",
      "/opt/conda/lib/python3.5/site-packages/sklearn/preprocessing/label.py:151: DeprecationWarning: The truth value of an empty array is ambiguous. Returning False, but in future this will result in an error. Use `array.size > 0` to check that an array is not empty.\n",
      "  if diff:\n",
      "/opt/conda/lib/python3.5/site-packages/sklearn/preprocessing/label.py:151: DeprecationWarning: The truth value of an empty array is ambiguous. Returning False, but in future this will result in an error. Use `array.size > 0` to check that an array is not empty.\n",
      "  if diff:\n",
      "/opt/conda/lib/python3.5/site-packages/sklearn/preprocessing/label.py:151: DeprecationWarning: The truth value of an empty array is ambiguous. Returning False, but in future this will result in an error. Use `array.size > 0` to check that an array is not empty.\n",
      "  if diff:\n",
      "/opt/conda/lib/python3.5/site-packages/sklearn/preprocessing/label.py:151: DeprecationWarning: The truth value of an empty array is ambiguous. Returning False, but in future this will result in an error. Use `array.size > 0` to check that an array is not empty.\n",
      "  if diff:\n"
     ]
    },
    {
     "name": "stdout",
     "output_type": "stream",
     "text": [
      "== 5-fold CV ==\n",
      "F1 scores 5-fold CV per iteration: [0.829 0.844 0.83  0.853 0.817]\n",
      "F1 mean 5-fold CV per class: [0.832 0.906 0.765 0.662]\n",
      "F1 mean 5-fold CV: 0.834\n",
      "Tic: Train RF\n",
      "Elapsed time: 30.700456 seconds.\n",
      "\n",
      "== 5-fold CV ==\n",
      "F1 scores 5-fold CV per iteration: [0.835 0.845 0.815 0.851 0.817]\n",
      "F1 mean 5-fold CV per class: [0.83  0.906 0.761 0.638]\n",
      "F1 mean 5-fold CV: 0.832\n",
      "\n",
      "Iteration 62 Seed 297344\n",
      "Tic: Train XGB\n",
      "Elapsed time: 23.110458 seconds.\n",
      "\n"
     ]
    },
    {
     "name": "stderr",
     "output_type": "stream",
     "text": [
      "/opt/conda/lib/python3.5/site-packages/sklearn/preprocessing/label.py:151: DeprecationWarning: The truth value of an empty array is ambiguous. Returning False, but in future this will result in an error. Use `array.size > 0` to check that an array is not empty.\n",
      "  if diff:\n",
      "/opt/conda/lib/python3.5/site-packages/sklearn/preprocessing/label.py:151: DeprecationWarning: The truth value of an empty array is ambiguous. Returning False, but in future this will result in an error. Use `array.size > 0` to check that an array is not empty.\n",
      "  if diff:\n",
      "/opt/conda/lib/python3.5/site-packages/sklearn/preprocessing/label.py:151: DeprecationWarning: The truth value of an empty array is ambiguous. Returning False, but in future this will result in an error. Use `array.size > 0` to check that an array is not empty.\n",
      "  if diff:\n",
      "/opt/conda/lib/python3.5/site-packages/sklearn/preprocessing/label.py:151: DeprecationWarning: The truth value of an empty array is ambiguous. Returning False, but in future this will result in an error. Use `array.size > 0` to check that an array is not empty.\n",
      "  if diff:\n",
      "/opt/conda/lib/python3.5/site-packages/sklearn/preprocessing/label.py:151: DeprecationWarning: The truth value of an empty array is ambiguous. Returning False, but in future this will result in an error. Use `array.size > 0` to check that an array is not empty.\n",
      "  if diff:\n",
      "/opt/conda/lib/python3.5/site-packages/sklearn/preprocessing/label.py:151: DeprecationWarning: The truth value of an empty array is ambiguous. Returning False, but in future this will result in an error. Use `array.size > 0` to check that an array is not empty.\n",
      "  if diff:\n"
     ]
    },
    {
     "name": "stdout",
     "output_type": "stream",
     "text": [
      "== 5-fold CV ==\n",
      "F1 scores 5-fold CV per iteration: [0.824 0.849 0.826 0.852 0.847]\n",
      "F1 mean 5-fold CV per class: [0.841 0.908 0.77  0.664]\n",
      "F1 mean 5-fold CV: 0.840\n",
      "Tic: Train RF\n",
      "Elapsed time: 30.898978 seconds.\n",
      "\n",
      "== 5-fold CV ==\n",
      "F1 scores 5-fold CV per iteration: [0.822 0.859 0.824 0.841 0.825]\n",
      "F1 mean 5-fold CV per class: [0.83  0.908 0.764 0.624]\n",
      "F1 mean 5-fold CV: 0.834\n",
      "\n",
      "Iteration 63 Seed 936779\n",
      "Tic: Train XGB\n",
      "Elapsed time: 23.100460 seconds.\n",
      "\n"
     ]
    },
    {
     "name": "stderr",
     "output_type": "stream",
     "text": [
      "/opt/conda/lib/python3.5/site-packages/sklearn/preprocessing/label.py:151: DeprecationWarning: The truth value of an empty array is ambiguous. Returning False, but in future this will result in an error. Use `array.size > 0` to check that an array is not empty.\n",
      "  if diff:\n",
      "/opt/conda/lib/python3.5/site-packages/sklearn/preprocessing/label.py:151: DeprecationWarning: The truth value of an empty array is ambiguous. Returning False, but in future this will result in an error. Use `array.size > 0` to check that an array is not empty.\n",
      "  if diff:\n",
      "/opt/conda/lib/python3.5/site-packages/sklearn/preprocessing/label.py:151: DeprecationWarning: The truth value of an empty array is ambiguous. Returning False, but in future this will result in an error. Use `array.size > 0` to check that an array is not empty.\n",
      "  if diff:\n",
      "/opt/conda/lib/python3.5/site-packages/sklearn/preprocessing/label.py:151: DeprecationWarning: The truth value of an empty array is ambiguous. Returning False, but in future this will result in an error. Use `array.size > 0` to check that an array is not empty.\n",
      "  if diff:\n",
      "/opt/conda/lib/python3.5/site-packages/sklearn/preprocessing/label.py:151: DeprecationWarning: The truth value of an empty array is ambiguous. Returning False, but in future this will result in an error. Use `array.size > 0` to check that an array is not empty.\n",
      "  if diff:\n",
      "/opt/conda/lib/python3.5/site-packages/sklearn/preprocessing/label.py:151: DeprecationWarning: The truth value of an empty array is ambiguous. Returning False, but in future this will result in an error. Use `array.size > 0` to check that an array is not empty.\n",
      "  if diff:\n"
     ]
    },
    {
     "name": "stdout",
     "output_type": "stream",
     "text": [
      "== 5-fold CV ==\n",
      "F1 scores 5-fold CV per iteration: [0.841 0.833 0.835 0.847 0.846]\n",
      "F1 mean 5-fold CV per class: [0.841 0.909 0.771 0.668]\n",
      "F1 mean 5-fold CV: 0.840\n",
      "Tic: Train RF\n",
      "Elapsed time: 30.769417 seconds.\n",
      "\n",
      "== 5-fold CV ==\n",
      "F1 scores 5-fold CV per iteration: [0.831 0.822 0.82  0.845 0.847]\n",
      "F1 mean 5-fold CV per class: [0.831 0.907 0.762 0.636]\n",
      "F1 mean 5-fold CV: 0.833\n",
      "\n",
      "Iteration 64 Seed 638603\n",
      "Tic: Train XGB\n",
      "Elapsed time: 23.223428 seconds.\n",
      "\n"
     ]
    },
    {
     "name": "stderr",
     "output_type": "stream",
     "text": [
      "/opt/conda/lib/python3.5/site-packages/sklearn/preprocessing/label.py:151: DeprecationWarning: The truth value of an empty array is ambiguous. Returning False, but in future this will result in an error. Use `array.size > 0` to check that an array is not empty.\n",
      "  if diff:\n",
      "/opt/conda/lib/python3.5/site-packages/sklearn/preprocessing/label.py:151: DeprecationWarning: The truth value of an empty array is ambiguous. Returning False, but in future this will result in an error. Use `array.size > 0` to check that an array is not empty.\n",
      "  if diff:\n",
      "/opt/conda/lib/python3.5/site-packages/sklearn/preprocessing/label.py:151: DeprecationWarning: The truth value of an empty array is ambiguous. Returning False, but in future this will result in an error. Use `array.size > 0` to check that an array is not empty.\n",
      "  if diff:\n",
      "/opt/conda/lib/python3.5/site-packages/sklearn/preprocessing/label.py:151: DeprecationWarning: The truth value of an empty array is ambiguous. Returning False, but in future this will result in an error. Use `array.size > 0` to check that an array is not empty.\n",
      "  if diff:\n",
      "/opt/conda/lib/python3.5/site-packages/sklearn/preprocessing/label.py:151: DeprecationWarning: The truth value of an empty array is ambiguous. Returning False, but in future this will result in an error. Use `array.size > 0` to check that an array is not empty.\n",
      "  if diff:\n",
      "/opt/conda/lib/python3.5/site-packages/sklearn/preprocessing/label.py:151: DeprecationWarning: The truth value of an empty array is ambiguous. Returning False, but in future this will result in an error. Use `array.size > 0` to check that an array is not empty.\n",
      "  if diff:\n"
     ]
    },
    {
     "name": "stdout",
     "output_type": "stream",
     "text": [
      "== 5-fold CV ==\n",
      "F1 scores 5-fold CV per iteration: [0.832 0.82  0.859 0.844 0.855]\n",
      "F1 mean 5-fold CV per class: [0.845 0.91  0.771 0.701]\n",
      "F1 mean 5-fold CV: 0.842\n",
      "Tic: Train RF\n",
      "Elapsed time: 32.509133 seconds.\n",
      "\n",
      "== 5-fold CV ==\n",
      "F1 scores 5-fold CV per iteration: [0.829 0.808 0.85  0.84  0.851]\n",
      "F1 mean 5-fold CV per class: [0.833 0.909 0.766 0.634]\n",
      "F1 mean 5-fold CV: 0.836\n",
      "\n",
      "Iteration 65 Seed 684903\n",
      "Tic: Train XGB\n",
      "Elapsed time: 22.986794 seconds.\n",
      "\n"
     ]
    },
    {
     "name": "stderr",
     "output_type": "stream",
     "text": [
      "/opt/conda/lib/python3.5/site-packages/sklearn/preprocessing/label.py:151: DeprecationWarning: The truth value of an empty array is ambiguous. Returning False, but in future this will result in an error. Use `array.size > 0` to check that an array is not empty.\n",
      "  if diff:\n",
      "/opt/conda/lib/python3.5/site-packages/sklearn/preprocessing/label.py:151: DeprecationWarning: The truth value of an empty array is ambiguous. Returning False, but in future this will result in an error. Use `array.size > 0` to check that an array is not empty.\n",
      "  if diff:\n",
      "/opt/conda/lib/python3.5/site-packages/sklearn/preprocessing/label.py:151: DeprecationWarning: The truth value of an empty array is ambiguous. Returning False, but in future this will result in an error. Use `array.size > 0` to check that an array is not empty.\n",
      "  if diff:\n",
      "/opt/conda/lib/python3.5/site-packages/sklearn/preprocessing/label.py:151: DeprecationWarning: The truth value of an empty array is ambiguous. Returning False, but in future this will result in an error. Use `array.size > 0` to check that an array is not empty.\n",
      "  if diff:\n",
      "/opt/conda/lib/python3.5/site-packages/sklearn/preprocessing/label.py:151: DeprecationWarning: The truth value of an empty array is ambiguous. Returning False, but in future this will result in an error. Use `array.size > 0` to check that an array is not empty.\n",
      "  if diff:\n",
      "/opt/conda/lib/python3.5/site-packages/sklearn/preprocessing/label.py:151: DeprecationWarning: The truth value of an empty array is ambiguous. Returning False, but in future this will result in an error. Use `array.size > 0` to check that an array is not empty.\n",
      "  if diff:\n"
     ]
    },
    {
     "name": "stdout",
     "output_type": "stream",
     "text": [
      "== 5-fold CV ==\n",
      "F1 scores 5-fold CV per iteration: [0.853 0.827 0.833 0.841 0.826]\n",
      "F1 mean 5-fold CV per class: [0.839 0.907 0.762 0.684]\n",
      "F1 mean 5-fold CV: 0.836\n",
      "Tic: Train RF\n",
      "Elapsed time: 32.519419 seconds.\n",
      "\n",
      "== 5-fold CV ==\n",
      "F1 scores 5-fold CV per iteration: [0.847 0.826 0.828 0.836 0.824]\n",
      "F1 mean 5-fold CV per class: [0.832 0.906 0.76  0.624]\n",
      "F1 mean 5-fold CV: 0.832\n",
      "\n",
      "Iteration 66 Seed 921534\n",
      "Tic: Train XGB\n",
      "Elapsed time: 23.090774 seconds.\n",
      "\n"
     ]
    },
    {
     "name": "stderr",
     "output_type": "stream",
     "text": [
      "/opt/conda/lib/python3.5/site-packages/sklearn/preprocessing/label.py:151: DeprecationWarning: The truth value of an empty array is ambiguous. Returning False, but in future this will result in an error. Use `array.size > 0` to check that an array is not empty.\n",
      "  if diff:\n",
      "/opt/conda/lib/python3.5/site-packages/sklearn/preprocessing/label.py:151: DeprecationWarning: The truth value of an empty array is ambiguous. Returning False, but in future this will result in an error. Use `array.size > 0` to check that an array is not empty.\n",
      "  if diff:\n",
      "/opt/conda/lib/python3.5/site-packages/sklearn/preprocessing/label.py:151: DeprecationWarning: The truth value of an empty array is ambiguous. Returning False, but in future this will result in an error. Use `array.size > 0` to check that an array is not empty.\n",
      "  if diff:\n",
      "/opt/conda/lib/python3.5/site-packages/sklearn/preprocessing/label.py:151: DeprecationWarning: The truth value of an empty array is ambiguous. Returning False, but in future this will result in an error. Use `array.size > 0` to check that an array is not empty.\n",
      "  if diff:\n",
      "/opt/conda/lib/python3.5/site-packages/sklearn/preprocessing/label.py:151: DeprecationWarning: The truth value of an empty array is ambiguous. Returning False, but in future this will result in an error. Use `array.size > 0` to check that an array is not empty.\n",
      "  if diff:\n",
      "/opt/conda/lib/python3.5/site-packages/sklearn/preprocessing/label.py:151: DeprecationWarning: The truth value of an empty array is ambiguous. Returning False, but in future this will result in an error. Use `array.size > 0` to check that an array is not empty.\n",
      "  if diff:\n"
     ]
    },
    {
     "name": "stdout",
     "output_type": "stream",
     "text": [
      "== 5-fold CV ==\n",
      "F1 scores 5-fold CV per iteration: [0.844 0.844 0.833 0.833 0.842]\n",
      "F1 mean 5-fold CV per class: [0.842 0.908 0.768 0.687]\n",
      "F1 mean 5-fold CV: 0.839\n",
      "Tic: Train RF\n",
      "Elapsed time: 30.991579 seconds.\n",
      "\n",
      "== 5-fold CV ==\n",
      "F1 scores 5-fold CV per iteration: [0.833 0.849 0.826 0.825 0.828]\n",
      "F1 mean 5-fold CV per class: [0.829 0.907 0.761 0.643]\n",
      "F1 mean 5-fold CV: 0.832\n",
      "\n",
      "Iteration 67 Seed 193922\n",
      "Tic: Train XGB\n",
      "Elapsed time: 23.120134 seconds.\n",
      "\n"
     ]
    },
    {
     "name": "stderr",
     "output_type": "stream",
     "text": [
      "/opt/conda/lib/python3.5/site-packages/sklearn/preprocessing/label.py:151: DeprecationWarning: The truth value of an empty array is ambiguous. Returning False, but in future this will result in an error. Use `array.size > 0` to check that an array is not empty.\n",
      "  if diff:\n",
      "/opt/conda/lib/python3.5/site-packages/sklearn/preprocessing/label.py:151: DeprecationWarning: The truth value of an empty array is ambiguous. Returning False, but in future this will result in an error. Use `array.size > 0` to check that an array is not empty.\n",
      "  if diff:\n",
      "/opt/conda/lib/python3.5/site-packages/sklearn/preprocessing/label.py:151: DeprecationWarning: The truth value of an empty array is ambiguous. Returning False, but in future this will result in an error. Use `array.size > 0` to check that an array is not empty.\n",
      "  if diff:\n",
      "/opt/conda/lib/python3.5/site-packages/sklearn/preprocessing/label.py:151: DeprecationWarning: The truth value of an empty array is ambiguous. Returning False, but in future this will result in an error. Use `array.size > 0` to check that an array is not empty.\n",
      "  if diff:\n",
      "/opt/conda/lib/python3.5/site-packages/sklearn/preprocessing/label.py:151: DeprecationWarning: The truth value of an empty array is ambiguous. Returning False, but in future this will result in an error. Use `array.size > 0` to check that an array is not empty.\n",
      "  if diff:\n",
      "/opt/conda/lib/python3.5/site-packages/sklearn/preprocessing/label.py:151: DeprecationWarning: The truth value of an empty array is ambiguous. Returning False, but in future this will result in an error. Use `array.size > 0` to check that an array is not empty.\n",
      "  if diff:\n"
     ]
    },
    {
     "name": "stdout",
     "output_type": "stream",
     "text": [
      "== 5-fold CV ==\n",
      "F1 scores 5-fold CV per iteration: [0.833 0.839 0.829 0.846 0.838]\n",
      "F1 mean 5-fold CV per class: [0.838 0.906 0.767 0.663]\n",
      "F1 mean 5-fold CV: 0.837\n",
      "Tic: Train RF\n",
      "Elapsed time: 30.893095 seconds.\n",
      "\n",
      "== 5-fold CV ==\n",
      "F1 scores 5-fold CV per iteration: [0.834 0.843 0.827 0.83  0.836]\n",
      "F1 mean 5-fold CV per class: [0.835 0.905 0.761 0.624]\n",
      "F1 mean 5-fold CV: 0.834\n",
      "\n",
      "Iteration 68 Seed 330698\n",
      "Tic: Train XGB\n",
      "Elapsed time: 23.044373 seconds.\n",
      "\n"
     ]
    },
    {
     "name": "stderr",
     "output_type": "stream",
     "text": [
      "/opt/conda/lib/python3.5/site-packages/sklearn/preprocessing/label.py:151: DeprecationWarning: The truth value of an empty array is ambiguous. Returning False, but in future this will result in an error. Use `array.size > 0` to check that an array is not empty.\n",
      "  if diff:\n",
      "/opt/conda/lib/python3.5/site-packages/sklearn/preprocessing/label.py:151: DeprecationWarning: The truth value of an empty array is ambiguous. Returning False, but in future this will result in an error. Use `array.size > 0` to check that an array is not empty.\n",
      "  if diff:\n",
      "/opt/conda/lib/python3.5/site-packages/sklearn/preprocessing/label.py:151: DeprecationWarning: The truth value of an empty array is ambiguous. Returning False, but in future this will result in an error. Use `array.size > 0` to check that an array is not empty.\n",
      "  if diff:\n",
      "/opt/conda/lib/python3.5/site-packages/sklearn/preprocessing/label.py:151: DeprecationWarning: The truth value of an empty array is ambiguous. Returning False, but in future this will result in an error. Use `array.size > 0` to check that an array is not empty.\n",
      "  if diff:\n",
      "/opt/conda/lib/python3.5/site-packages/sklearn/preprocessing/label.py:151: DeprecationWarning: The truth value of an empty array is ambiguous. Returning False, but in future this will result in an error. Use `array.size > 0` to check that an array is not empty.\n",
      "  if diff:\n",
      "/opt/conda/lib/python3.5/site-packages/sklearn/preprocessing/label.py:151: DeprecationWarning: The truth value of an empty array is ambiguous. Returning False, but in future this will result in an error. Use `array.size > 0` to check that an array is not empty.\n",
      "  if diff:\n"
     ]
    },
    {
     "name": "stdout",
     "output_type": "stream",
     "text": [
      "== 5-fold CV ==\n",
      "F1 scores 5-fold CV per iteration: [0.84  0.837 0.833 0.829 0.853]\n",
      "F1 mean 5-fold CV per class: [0.841 0.908 0.766 0.672]\n",
      "F1 mean 5-fold CV: 0.839\n",
      "Tic: Train RF\n",
      "Elapsed time: 31.086978 seconds.\n",
      "\n",
      "== 5-fold CV ==\n",
      "F1 scores 5-fold CV per iteration: [0.832 0.823 0.839 0.825 0.85 ]\n",
      "F1 mean 5-fold CV per class: [0.833 0.907 0.763 0.636]\n",
      "F1 mean 5-fold CV: 0.834\n",
      "\n",
      "Iteration 69 Seed 82399\n",
      "Tic: Train XGB\n",
      "Elapsed time: 23.063346 seconds.\n",
      "\n"
     ]
    },
    {
     "name": "stderr",
     "output_type": "stream",
     "text": [
      "/opt/conda/lib/python3.5/site-packages/sklearn/preprocessing/label.py:151: DeprecationWarning: The truth value of an empty array is ambiguous. Returning False, but in future this will result in an error. Use `array.size > 0` to check that an array is not empty.\n",
      "  if diff:\n",
      "/opt/conda/lib/python3.5/site-packages/sklearn/preprocessing/label.py:151: DeprecationWarning: The truth value of an empty array is ambiguous. Returning False, but in future this will result in an error. Use `array.size > 0` to check that an array is not empty.\n",
      "  if diff:\n",
      "/opt/conda/lib/python3.5/site-packages/sklearn/preprocessing/label.py:151: DeprecationWarning: The truth value of an empty array is ambiguous. Returning False, but in future this will result in an error. Use `array.size > 0` to check that an array is not empty.\n",
      "  if diff:\n",
      "/opt/conda/lib/python3.5/site-packages/sklearn/preprocessing/label.py:151: DeprecationWarning: The truth value of an empty array is ambiguous. Returning False, but in future this will result in an error. Use `array.size > 0` to check that an array is not empty.\n",
      "  if diff:\n",
      "/opt/conda/lib/python3.5/site-packages/sklearn/preprocessing/label.py:151: DeprecationWarning: The truth value of an empty array is ambiguous. Returning False, but in future this will result in an error. Use `array.size > 0` to check that an array is not empty.\n",
      "  if diff:\n",
      "/opt/conda/lib/python3.5/site-packages/sklearn/preprocessing/label.py:151: DeprecationWarning: The truth value of an empty array is ambiguous. Returning False, but in future this will result in an error. Use `array.size > 0` to check that an array is not empty.\n",
      "  if diff:\n"
     ]
    },
    {
     "name": "stdout",
     "output_type": "stream",
     "text": [
      "== 5-fold CV ==\n",
      "F1 scores 5-fold CV per iteration: [0.848 0.828 0.843 0.837 0.832]\n",
      "F1 mean 5-fold CV per class: [0.836 0.908 0.769 0.684]\n",
      "F1 mean 5-fold CV: 0.838\n",
      "Tic: Train RF\n",
      "Elapsed time: 30.671965 seconds.\n",
      "\n",
      "== 5-fold CV ==\n",
      "F1 scores 5-fold CV per iteration: [0.838 0.827 0.843 0.83  0.825]\n",
      "F1 mean 5-fold CV per class: [0.83  0.906 0.76  0.64 ]\n",
      "F1 mean 5-fold CV: 0.832\n",
      "\n",
      "Iteration 70 Seed 536141\n",
      "Tic: Train XGB\n",
      "Elapsed time: 23.287422 seconds.\n",
      "\n"
     ]
    },
    {
     "name": "stderr",
     "output_type": "stream",
     "text": [
      "/opt/conda/lib/python3.5/site-packages/sklearn/preprocessing/label.py:151: DeprecationWarning: The truth value of an empty array is ambiguous. Returning False, but in future this will result in an error. Use `array.size > 0` to check that an array is not empty.\n",
      "  if diff:\n",
      "/opt/conda/lib/python3.5/site-packages/sklearn/preprocessing/label.py:151: DeprecationWarning: The truth value of an empty array is ambiguous. Returning False, but in future this will result in an error. Use `array.size > 0` to check that an array is not empty.\n",
      "  if diff:\n",
      "/opt/conda/lib/python3.5/site-packages/sklearn/preprocessing/label.py:151: DeprecationWarning: The truth value of an empty array is ambiguous. Returning False, but in future this will result in an error. Use `array.size > 0` to check that an array is not empty.\n",
      "  if diff:\n",
      "/opt/conda/lib/python3.5/site-packages/sklearn/preprocessing/label.py:151: DeprecationWarning: The truth value of an empty array is ambiguous. Returning False, but in future this will result in an error. Use `array.size > 0` to check that an array is not empty.\n",
      "  if diff:\n",
      "/opt/conda/lib/python3.5/site-packages/sklearn/preprocessing/label.py:151: DeprecationWarning: The truth value of an empty array is ambiguous. Returning False, but in future this will result in an error. Use `array.size > 0` to check that an array is not empty.\n",
      "  if diff:\n",
      "/opt/conda/lib/python3.5/site-packages/sklearn/preprocessing/label.py:151: DeprecationWarning: The truth value of an empty array is ambiguous. Returning False, but in future this will result in an error. Use `array.size > 0` to check that an array is not empty.\n",
      "  if diff:\n"
     ]
    },
    {
     "name": "stdout",
     "output_type": "stream",
     "text": [
      "== 5-fold CV ==\n",
      "F1 scores 5-fold CV per iteration: [0.832 0.847 0.847 0.836 0.829]\n",
      "F1 mean 5-fold CV per class: [0.835 0.909 0.77  0.694]\n",
      "F1 mean 5-fold CV: 0.838\n",
      "Tic: Train RF\n",
      "Elapsed time: 30.960252 seconds.\n",
      "\n",
      "== 5-fold CV ==\n",
      "F1 scores 5-fold CV per iteration: [0.838 0.83  0.842 0.827 0.823]\n",
      "F1 mean 5-fold CV per class: [0.83  0.905 0.76  0.633]\n",
      "F1 mean 5-fold CV: 0.832\n",
      "\n",
      "Iteration 71 Seed 695832\n",
      "Tic: Train XGB\n",
      "Elapsed time: 23.056201 seconds.\n",
      "\n"
     ]
    },
    {
     "name": "stderr",
     "output_type": "stream",
     "text": [
      "/opt/conda/lib/python3.5/site-packages/sklearn/preprocessing/label.py:151: DeprecationWarning: The truth value of an empty array is ambiguous. Returning False, but in future this will result in an error. Use `array.size > 0` to check that an array is not empty.\n",
      "  if diff:\n",
      "/opt/conda/lib/python3.5/site-packages/sklearn/preprocessing/label.py:151: DeprecationWarning: The truth value of an empty array is ambiguous. Returning False, but in future this will result in an error. Use `array.size > 0` to check that an array is not empty.\n",
      "  if diff:\n",
      "/opt/conda/lib/python3.5/site-packages/sklearn/preprocessing/label.py:151: DeprecationWarning: The truth value of an empty array is ambiguous. Returning False, but in future this will result in an error. Use `array.size > 0` to check that an array is not empty.\n",
      "  if diff:\n",
      "/opt/conda/lib/python3.5/site-packages/sklearn/preprocessing/label.py:151: DeprecationWarning: The truth value of an empty array is ambiguous. Returning False, but in future this will result in an error. Use `array.size > 0` to check that an array is not empty.\n",
      "  if diff:\n",
      "/opt/conda/lib/python3.5/site-packages/sklearn/preprocessing/label.py:151: DeprecationWarning: The truth value of an empty array is ambiguous. Returning False, but in future this will result in an error. Use `array.size > 0` to check that an array is not empty.\n",
      "  if diff:\n",
      "/opt/conda/lib/python3.5/site-packages/sklearn/preprocessing/label.py:151: DeprecationWarning: The truth value of an empty array is ambiguous. Returning False, but in future this will result in an error. Use `array.size > 0` to check that an array is not empty.\n",
      "  if diff:\n"
     ]
    },
    {
     "name": "stdout",
     "output_type": "stream",
     "text": [
      "== 5-fold CV ==\n",
      "F1 scores 5-fold CV per iteration: [0.848 0.84  0.852 0.816 0.828]\n",
      "F1 mean 5-fold CV per class: [0.843 0.906 0.761 0.672]\n",
      "F1 mean 5-fold CV: 0.837\n",
      "Tic: Train RF\n",
      "Elapsed time: 30.715062 seconds.\n",
      "\n",
      "== 5-fold CV ==\n",
      "F1 scores 5-fold CV per iteration: [0.851 0.84  0.853 0.812 0.818]\n",
      "F1 mean 5-fold CV per class: [0.831 0.908 0.765 0.642]\n",
      "F1 mean 5-fold CV: 0.835\n",
      "\n",
      "Iteration 72 Seed 955380\n",
      "Tic: Train XGB\n",
      "Elapsed time: 24.924571 seconds.\n",
      "\n"
     ]
    },
    {
     "name": "stderr",
     "output_type": "stream",
     "text": [
      "/opt/conda/lib/python3.5/site-packages/sklearn/preprocessing/label.py:151: DeprecationWarning: The truth value of an empty array is ambiguous. Returning False, but in future this will result in an error. Use `array.size > 0` to check that an array is not empty.\n",
      "  if diff:\n",
      "/opt/conda/lib/python3.5/site-packages/sklearn/preprocessing/label.py:151: DeprecationWarning: The truth value of an empty array is ambiguous. Returning False, but in future this will result in an error. Use `array.size > 0` to check that an array is not empty.\n",
      "  if diff:\n",
      "/opt/conda/lib/python3.5/site-packages/sklearn/preprocessing/label.py:151: DeprecationWarning: The truth value of an empty array is ambiguous. Returning False, but in future this will result in an error. Use `array.size > 0` to check that an array is not empty.\n",
      "  if diff:\n",
      "/opt/conda/lib/python3.5/site-packages/sklearn/preprocessing/label.py:151: DeprecationWarning: The truth value of an empty array is ambiguous. Returning False, but in future this will result in an error. Use `array.size > 0` to check that an array is not empty.\n",
      "  if diff:\n",
      "/opt/conda/lib/python3.5/site-packages/sklearn/preprocessing/label.py:151: DeprecationWarning: The truth value of an empty array is ambiguous. Returning False, but in future this will result in an error. Use `array.size > 0` to check that an array is not empty.\n",
      "  if diff:\n",
      "/opt/conda/lib/python3.5/site-packages/sklearn/preprocessing/label.py:151: DeprecationWarning: The truth value of an empty array is ambiguous. Returning False, but in future this will result in an error. Use `array.size > 0` to check that an array is not empty.\n",
      "  if diff:\n"
     ]
    },
    {
     "name": "stdout",
     "output_type": "stream",
     "text": [
      "== 5-fold CV ==\n",
      "F1 scores 5-fold CV per iteration: [0.834 0.835 0.851 0.843 0.833]\n",
      "F1 mean 5-fold CV per class: [0.842 0.908 0.767 0.66 ]\n",
      "F1 mean 5-fold CV: 0.839\n",
      "Tic: Train RF\n",
      "Elapsed time: 31.110195 seconds.\n",
      "\n",
      "== 5-fold CV ==\n",
      "F1 scores 5-fold CV per iteration: [0.834 0.829 0.846 0.842 0.82 ]\n",
      "F1 mean 5-fold CV per class: [0.833 0.907 0.763 0.636]\n",
      "F1 mean 5-fold CV: 0.834\n",
      "\n",
      "Iteration 73 Seed 165368\n",
      "Tic: Train XGB\n",
      "Elapsed time: 23.114017 seconds.\n",
      "\n"
     ]
    },
    {
     "name": "stderr",
     "output_type": "stream",
     "text": [
      "/opt/conda/lib/python3.5/site-packages/sklearn/preprocessing/label.py:151: DeprecationWarning: The truth value of an empty array is ambiguous. Returning False, but in future this will result in an error. Use `array.size > 0` to check that an array is not empty.\n",
      "  if diff:\n",
      "/opt/conda/lib/python3.5/site-packages/sklearn/preprocessing/label.py:151: DeprecationWarning: The truth value of an empty array is ambiguous. Returning False, but in future this will result in an error. Use `array.size > 0` to check that an array is not empty.\n",
      "  if diff:\n",
      "/opt/conda/lib/python3.5/site-packages/sklearn/preprocessing/label.py:151: DeprecationWarning: The truth value of an empty array is ambiguous. Returning False, but in future this will result in an error. Use `array.size > 0` to check that an array is not empty.\n",
      "  if diff:\n",
      "/opt/conda/lib/python3.5/site-packages/sklearn/preprocessing/label.py:151: DeprecationWarning: The truth value of an empty array is ambiguous. Returning False, but in future this will result in an error. Use `array.size > 0` to check that an array is not empty.\n",
      "  if diff:\n",
      "/opt/conda/lib/python3.5/site-packages/sklearn/preprocessing/label.py:151: DeprecationWarning: The truth value of an empty array is ambiguous. Returning False, but in future this will result in an error. Use `array.size > 0` to check that an array is not empty.\n",
      "  if diff:\n",
      "/opt/conda/lib/python3.5/site-packages/sklearn/preprocessing/label.py:151: DeprecationWarning: The truth value of an empty array is ambiguous. Returning False, but in future this will result in an error. Use `array.size > 0` to check that an array is not empty.\n",
      "  if diff:\n"
     ]
    },
    {
     "name": "stdout",
     "output_type": "stream",
     "text": [
      "== 5-fold CV ==\n",
      "F1 scores 5-fold CV per iteration: [0.828 0.856 0.842 0.857 0.832]\n",
      "F1 mean 5-fold CV per class: [0.848 0.909 0.773 0.662]\n",
      "F1 mean 5-fold CV: 0.843\n",
      "Tic: Train RF\n",
      "Elapsed time: 30.999142 seconds.\n",
      "\n",
      "== 5-fold CV ==\n",
      "F1 scores 5-fold CV per iteration: [0.821 0.84  0.841 0.843 0.83 ]\n",
      "F1 mean 5-fold CV per class: [0.834 0.907 0.763 0.658]\n",
      "F1 mean 5-fold CV: 0.835\n",
      "\n",
      "Iteration 74 Seed 581146\n",
      "Tic: Train XGB\n",
      "Elapsed time: 23.098290 seconds.\n",
      "\n"
     ]
    },
    {
     "name": "stderr",
     "output_type": "stream",
     "text": [
      "/opt/conda/lib/python3.5/site-packages/sklearn/preprocessing/label.py:151: DeprecationWarning: The truth value of an empty array is ambiguous. Returning False, but in future this will result in an error. Use `array.size > 0` to check that an array is not empty.\n",
      "  if diff:\n",
      "/opt/conda/lib/python3.5/site-packages/sklearn/preprocessing/label.py:151: DeprecationWarning: The truth value of an empty array is ambiguous. Returning False, but in future this will result in an error. Use `array.size > 0` to check that an array is not empty.\n",
      "  if diff:\n",
      "/opt/conda/lib/python3.5/site-packages/sklearn/preprocessing/label.py:151: DeprecationWarning: The truth value of an empty array is ambiguous. Returning False, but in future this will result in an error. Use `array.size > 0` to check that an array is not empty.\n",
      "  if diff:\n",
      "/opt/conda/lib/python3.5/site-packages/sklearn/preprocessing/label.py:151: DeprecationWarning: The truth value of an empty array is ambiguous. Returning False, but in future this will result in an error. Use `array.size > 0` to check that an array is not empty.\n",
      "  if diff:\n",
      "/opt/conda/lib/python3.5/site-packages/sklearn/preprocessing/label.py:151: DeprecationWarning: The truth value of an empty array is ambiguous. Returning False, but in future this will result in an error. Use `array.size > 0` to check that an array is not empty.\n",
      "  if diff:\n",
      "/opt/conda/lib/python3.5/site-packages/sklearn/preprocessing/label.py:151: DeprecationWarning: The truth value of an empty array is ambiguous. Returning False, but in future this will result in an error. Use `array.size > 0` to check that an array is not empty.\n",
      "  if diff:\n"
     ]
    },
    {
     "name": "stdout",
     "output_type": "stream",
     "text": [
      "== 5-fold CV ==\n",
      "F1 scores 5-fold CV per iteration: [0.843 0.845 0.833 0.849 0.827]\n",
      "F1 mean 5-fold CV per class: [0.84  0.908 0.769 0.673]\n",
      "F1 mean 5-fold CV: 0.839\n",
      "Tic: Train RF\n",
      "Elapsed time: 31.309928 seconds.\n",
      "\n",
      "== 5-fold CV ==\n",
      "F1 scores 5-fold CV per iteration: [0.83  0.843 0.832 0.833 0.822]\n",
      "F1 mean 5-fold CV per class: [0.831 0.906 0.759 0.643]\n",
      "F1 mean 5-fold CV: 0.832\n",
      "\n",
      "Iteration 75 Seed 949038\n",
      "Tic: Train XGB\n",
      "Elapsed time: 23.122769 seconds.\n",
      "\n"
     ]
    },
    {
     "name": "stderr",
     "output_type": "stream",
     "text": [
      "/opt/conda/lib/python3.5/site-packages/sklearn/preprocessing/label.py:151: DeprecationWarning: The truth value of an empty array is ambiguous. Returning False, but in future this will result in an error. Use `array.size > 0` to check that an array is not empty.\n",
      "  if diff:\n",
      "/opt/conda/lib/python3.5/site-packages/sklearn/preprocessing/label.py:151: DeprecationWarning: The truth value of an empty array is ambiguous. Returning False, but in future this will result in an error. Use `array.size > 0` to check that an array is not empty.\n",
      "  if diff:\n",
      "/opt/conda/lib/python3.5/site-packages/sklearn/preprocessing/label.py:151: DeprecationWarning: The truth value of an empty array is ambiguous. Returning False, but in future this will result in an error. Use `array.size > 0` to check that an array is not empty.\n",
      "  if diff:\n",
      "/opt/conda/lib/python3.5/site-packages/sklearn/preprocessing/label.py:151: DeprecationWarning: The truth value of an empty array is ambiguous. Returning False, but in future this will result in an error. Use `array.size > 0` to check that an array is not empty.\n",
      "  if diff:\n",
      "/opt/conda/lib/python3.5/site-packages/sklearn/preprocessing/label.py:151: DeprecationWarning: The truth value of an empty array is ambiguous. Returning False, but in future this will result in an error. Use `array.size > 0` to check that an array is not empty.\n",
      "  if diff:\n",
      "/opt/conda/lib/python3.5/site-packages/sklearn/preprocessing/label.py:151: DeprecationWarning: The truth value of an empty array is ambiguous. Returning False, but in future this will result in an error. Use `array.size > 0` to check that an array is not empty.\n",
      "  if diff:\n"
     ]
    },
    {
     "name": "stdout",
     "output_type": "stream",
     "text": [
      "== 5-fold CV ==\n",
      "F1 scores 5-fold CV per iteration: [0.85  0.832 0.847 0.842 0.829]\n",
      "F1 mean 5-fold CV per class: [0.843 0.91  0.767 0.663]\n",
      "F1 mean 5-fold CV: 0.840\n",
      "Tic: Train RF\n",
      "Elapsed time: 30.955184 seconds.\n",
      "\n",
      "== 5-fold CV ==\n",
      "F1 scores 5-fold CV per iteration: [0.845 0.83  0.839 0.84  0.819]\n",
      "F1 mean 5-fold CV per class: [0.829 0.908 0.766 0.627]\n",
      "F1 mean 5-fold CV: 0.835\n",
      "\n",
      "Iteration 76 Seed 444616\n",
      "Tic: Train XGB\n",
      "Elapsed time: 23.426483 seconds.\n",
      "\n"
     ]
    },
    {
     "name": "stderr",
     "output_type": "stream",
     "text": [
      "/opt/conda/lib/python3.5/site-packages/sklearn/preprocessing/label.py:151: DeprecationWarning: The truth value of an empty array is ambiguous. Returning False, but in future this will result in an error. Use `array.size > 0` to check that an array is not empty.\n",
      "  if diff:\n",
      "/opt/conda/lib/python3.5/site-packages/sklearn/preprocessing/label.py:151: DeprecationWarning: The truth value of an empty array is ambiguous. Returning False, but in future this will result in an error. Use `array.size > 0` to check that an array is not empty.\n",
      "  if diff:\n",
      "/opt/conda/lib/python3.5/site-packages/sklearn/preprocessing/label.py:151: DeprecationWarning: The truth value of an empty array is ambiguous. Returning False, but in future this will result in an error. Use `array.size > 0` to check that an array is not empty.\n",
      "  if diff:\n",
      "/opt/conda/lib/python3.5/site-packages/sklearn/preprocessing/label.py:151: DeprecationWarning: The truth value of an empty array is ambiguous. Returning False, but in future this will result in an error. Use `array.size > 0` to check that an array is not empty.\n",
      "  if diff:\n",
      "/opt/conda/lib/python3.5/site-packages/sklearn/preprocessing/label.py:151: DeprecationWarning: The truth value of an empty array is ambiguous. Returning False, but in future this will result in an error. Use `array.size > 0` to check that an array is not empty.\n",
      "  if diff:\n",
      "/opt/conda/lib/python3.5/site-packages/sklearn/preprocessing/label.py:151: DeprecationWarning: The truth value of an empty array is ambiguous. Returning False, but in future this will result in an error. Use `array.size > 0` to check that an array is not empty.\n",
      "  if diff:\n"
     ]
    },
    {
     "name": "stdout",
     "output_type": "stream",
     "text": [
      "== 5-fold CV ==\n",
      "F1 scores 5-fold CV per iteration: [0.831 0.842 0.833 0.854 0.833]\n",
      "F1 mean 5-fold CV per class: [0.842 0.907 0.767 0.676]\n",
      "F1 mean 5-fold CV: 0.839\n",
      "Tic: Train RF\n",
      "Elapsed time: 31.093601 seconds.\n",
      "\n",
      "== 5-fold CV ==\n",
      "F1 scores 5-fold CV per iteration: [0.827 0.845 0.828 0.846 0.825]\n",
      "F1 mean 5-fold CV per class: [0.835 0.906 0.761 0.646]\n",
      "F1 mean 5-fold CV: 0.834\n",
      "\n",
      "Iteration 77 Seed 128754\n",
      "Tic: Train XGB\n",
      "Elapsed time: 22.996592 seconds.\n",
      "\n"
     ]
    },
    {
     "name": "stderr",
     "output_type": "stream",
     "text": [
      "/opt/conda/lib/python3.5/site-packages/sklearn/preprocessing/label.py:151: DeprecationWarning: The truth value of an empty array is ambiguous. Returning False, but in future this will result in an error. Use `array.size > 0` to check that an array is not empty.\n",
      "  if diff:\n",
      "/opt/conda/lib/python3.5/site-packages/sklearn/preprocessing/label.py:151: DeprecationWarning: The truth value of an empty array is ambiguous. Returning False, but in future this will result in an error. Use `array.size > 0` to check that an array is not empty.\n",
      "  if diff:\n",
      "/opt/conda/lib/python3.5/site-packages/sklearn/preprocessing/label.py:151: DeprecationWarning: The truth value of an empty array is ambiguous. Returning False, but in future this will result in an error. Use `array.size > 0` to check that an array is not empty.\n",
      "  if diff:\n",
      "/opt/conda/lib/python3.5/site-packages/sklearn/preprocessing/label.py:151: DeprecationWarning: The truth value of an empty array is ambiguous. Returning False, but in future this will result in an error. Use `array.size > 0` to check that an array is not empty.\n",
      "  if diff:\n",
      "/opt/conda/lib/python3.5/site-packages/sklearn/preprocessing/label.py:151: DeprecationWarning: The truth value of an empty array is ambiguous. Returning False, but in future this will result in an error. Use `array.size > 0` to check that an array is not empty.\n",
      "  if diff:\n",
      "/opt/conda/lib/python3.5/site-packages/sklearn/preprocessing/label.py:151: DeprecationWarning: The truth value of an empty array is ambiguous. Returning False, but in future this will result in an error. Use `array.size > 0` to check that an array is not empty.\n",
      "  if diff:\n"
     ]
    },
    {
     "name": "stdout",
     "output_type": "stream",
     "text": [
      "== 5-fold CV ==\n",
      "F1 scores 5-fold CV per iteration: [0.84  0.842 0.841 0.852 0.83 ]\n",
      "F1 mean 5-fold CV per class: [0.843 0.909 0.77  0.664]\n",
      "F1 mean 5-fold CV: 0.841\n",
      "Tic: Train RF\n",
      "Elapsed time: 32.292013 seconds.\n",
      "\n",
      "== 5-fold CV ==\n",
      "F1 scores 5-fold CV per iteration: [0.83  0.845 0.83  0.852 0.817]\n",
      "F1 mean 5-fold CV per class: [0.831 0.908 0.764 0.642]\n",
      "F1 mean 5-fold CV: 0.835\n",
      "\n",
      "Iteration 78 Seed 669032\n",
      "Tic: Train XGB\n",
      "Elapsed time: 23.102018 seconds.\n",
      "\n"
     ]
    },
    {
     "name": "stderr",
     "output_type": "stream",
     "text": [
      "/opt/conda/lib/python3.5/site-packages/sklearn/preprocessing/label.py:151: DeprecationWarning: The truth value of an empty array is ambiguous. Returning False, but in future this will result in an error. Use `array.size > 0` to check that an array is not empty.\n",
      "  if diff:\n",
      "/opt/conda/lib/python3.5/site-packages/sklearn/preprocessing/label.py:151: DeprecationWarning: The truth value of an empty array is ambiguous. Returning False, but in future this will result in an error. Use `array.size > 0` to check that an array is not empty.\n",
      "  if diff:\n",
      "/opt/conda/lib/python3.5/site-packages/sklearn/preprocessing/label.py:151: DeprecationWarning: The truth value of an empty array is ambiguous. Returning False, but in future this will result in an error. Use `array.size > 0` to check that an array is not empty.\n",
      "  if diff:\n",
      "/opt/conda/lib/python3.5/site-packages/sklearn/preprocessing/label.py:151: DeprecationWarning: The truth value of an empty array is ambiguous. Returning False, but in future this will result in an error. Use `array.size > 0` to check that an array is not empty.\n",
      "  if diff:\n",
      "/opt/conda/lib/python3.5/site-packages/sklearn/preprocessing/label.py:151: DeprecationWarning: The truth value of an empty array is ambiguous. Returning False, but in future this will result in an error. Use `array.size > 0` to check that an array is not empty.\n",
      "  if diff:\n",
      "/opt/conda/lib/python3.5/site-packages/sklearn/preprocessing/label.py:151: DeprecationWarning: The truth value of an empty array is ambiguous. Returning False, but in future this will result in an error. Use `array.size > 0` to check that an array is not empty.\n",
      "  if diff:\n"
     ]
    },
    {
     "name": "stdout",
     "output_type": "stream",
     "text": [
      "== 5-fold CV ==\n",
      "F1 scores 5-fold CV per iteration: [0.832 0.851 0.824 0.834 0.855]\n",
      "F1 mean 5-fold CV per class: [0.836 0.909 0.773 0.669]\n",
      "F1 mean 5-fold CV: 0.839\n",
      "Tic: Train RF\n",
      "Elapsed time: 32.290288 seconds.\n",
      "\n",
      "== 5-fold CV ==\n",
      "F1 scores 5-fold CV per iteration: [0.838 0.848 0.808 0.826 0.851]\n",
      "F1 mean 5-fold CV per class: [0.833 0.907 0.763 0.65 ]\n",
      "F1 mean 5-fold CV: 0.834\n",
      "\n",
      "Iteration 79 Seed 880226\n",
      "Tic: Train XGB\n",
      "Elapsed time: 23.144732 seconds.\n",
      "\n"
     ]
    },
    {
     "name": "stderr",
     "output_type": "stream",
     "text": [
      "/opt/conda/lib/python3.5/site-packages/sklearn/preprocessing/label.py:151: DeprecationWarning: The truth value of an empty array is ambiguous. Returning False, but in future this will result in an error. Use `array.size > 0` to check that an array is not empty.\n",
      "  if diff:\n",
      "/opt/conda/lib/python3.5/site-packages/sklearn/preprocessing/label.py:151: DeprecationWarning: The truth value of an empty array is ambiguous. Returning False, but in future this will result in an error. Use `array.size > 0` to check that an array is not empty.\n",
      "  if diff:\n",
      "/opt/conda/lib/python3.5/site-packages/sklearn/preprocessing/label.py:151: DeprecationWarning: The truth value of an empty array is ambiguous. Returning False, but in future this will result in an error. Use `array.size > 0` to check that an array is not empty.\n",
      "  if diff:\n",
      "/opt/conda/lib/python3.5/site-packages/sklearn/preprocessing/label.py:151: DeprecationWarning: The truth value of an empty array is ambiguous. Returning False, but in future this will result in an error. Use `array.size > 0` to check that an array is not empty.\n",
      "  if diff:\n",
      "/opt/conda/lib/python3.5/site-packages/sklearn/preprocessing/label.py:151: DeprecationWarning: The truth value of an empty array is ambiguous. Returning False, but in future this will result in an error. Use `array.size > 0` to check that an array is not empty.\n",
      "  if diff:\n",
      "/opt/conda/lib/python3.5/site-packages/sklearn/preprocessing/label.py:151: DeprecationWarning: The truth value of an empty array is ambiguous. Returning False, but in future this will result in an error. Use `array.size > 0` to check that an array is not empty.\n",
      "  if diff:\n"
     ]
    },
    {
     "name": "stdout",
     "output_type": "stream",
     "text": [
      "== 5-fold CV ==\n",
      "F1 scores 5-fold CV per iteration: [0.846 0.849 0.846 0.821 0.85 ]\n",
      "F1 mean 5-fold CV per class: [0.846 0.91  0.772 0.692]\n",
      "F1 mean 5-fold CV: 0.842\n",
      "Tic: Train RF\n",
      "Elapsed time: 30.983611 seconds.\n",
      "\n",
      "== 5-fold CV ==\n",
      "F1 scores 5-fold CV per iteration: [0.836 0.836 0.843 0.819 0.842]\n",
      "F1 mean 5-fold CV per class: [0.833 0.908 0.765 0.64 ]\n",
      "F1 mean 5-fold CV: 0.835\n",
      "\n",
      "Iteration 80 Seed 937012\n",
      "Tic: Train XGB\n",
      "Elapsed time: 23.431459 seconds.\n",
      "\n"
     ]
    },
    {
     "name": "stderr",
     "output_type": "stream",
     "text": [
      "/opt/conda/lib/python3.5/site-packages/sklearn/preprocessing/label.py:151: DeprecationWarning: The truth value of an empty array is ambiguous. Returning False, but in future this will result in an error. Use `array.size > 0` to check that an array is not empty.\n",
      "  if diff:\n",
      "/opt/conda/lib/python3.5/site-packages/sklearn/preprocessing/label.py:151: DeprecationWarning: The truth value of an empty array is ambiguous. Returning False, but in future this will result in an error. Use `array.size > 0` to check that an array is not empty.\n",
      "  if diff:\n",
      "/opt/conda/lib/python3.5/site-packages/sklearn/preprocessing/label.py:151: DeprecationWarning: The truth value of an empty array is ambiguous. Returning False, but in future this will result in an error. Use `array.size > 0` to check that an array is not empty.\n",
      "  if diff:\n",
      "/opt/conda/lib/python3.5/site-packages/sklearn/preprocessing/label.py:151: DeprecationWarning: The truth value of an empty array is ambiguous. Returning False, but in future this will result in an error. Use `array.size > 0` to check that an array is not empty.\n",
      "  if diff:\n",
      "/opt/conda/lib/python3.5/site-packages/sklearn/preprocessing/label.py:151: DeprecationWarning: The truth value of an empty array is ambiguous. Returning False, but in future this will result in an error. Use `array.size > 0` to check that an array is not empty.\n",
      "  if diff:\n",
      "/opt/conda/lib/python3.5/site-packages/sklearn/preprocessing/label.py:151: DeprecationWarning: The truth value of an empty array is ambiguous. Returning False, but in future this will result in an error. Use `array.size > 0` to check that an array is not empty.\n",
      "  if diff:\n"
     ]
    },
    {
     "name": "stdout",
     "output_type": "stream",
     "text": [
      "== 5-fold CV ==\n",
      "F1 scores 5-fold CV per iteration: [0.833 0.85  0.855 0.819 0.851]\n",
      "F1 mean 5-fold CV per class: [0.842 0.91  0.773 0.69 ]\n",
      "F1 mean 5-fold CV: 0.841\n",
      "Tic: Train RF\n",
      "Elapsed time: 30.866415 seconds.\n",
      "\n",
      "== 5-fold CV ==\n",
      "F1 scores 5-fold CV per iteration: [0.822 0.831 0.849 0.823 0.837]\n",
      "F1 mean 5-fold CV per class: [0.83  0.906 0.761 0.65 ]\n",
      "F1 mean 5-fold CV: 0.832\n",
      "\n",
      "Iteration 81 Seed 770322\n",
      "Tic: Train XGB\n",
      "Elapsed time: 23.357744 seconds.\n",
      "\n"
     ]
    },
    {
     "name": "stderr",
     "output_type": "stream",
     "text": [
      "/opt/conda/lib/python3.5/site-packages/sklearn/preprocessing/label.py:151: DeprecationWarning: The truth value of an empty array is ambiguous. Returning False, but in future this will result in an error. Use `array.size > 0` to check that an array is not empty.\n",
      "  if diff:\n",
      "/opt/conda/lib/python3.5/site-packages/sklearn/preprocessing/label.py:151: DeprecationWarning: The truth value of an empty array is ambiguous. Returning False, but in future this will result in an error. Use `array.size > 0` to check that an array is not empty.\n",
      "  if diff:\n",
      "/opt/conda/lib/python3.5/site-packages/sklearn/preprocessing/label.py:151: DeprecationWarning: The truth value of an empty array is ambiguous. Returning False, but in future this will result in an error. Use `array.size > 0` to check that an array is not empty.\n",
      "  if diff:\n",
      "/opt/conda/lib/python3.5/site-packages/sklearn/preprocessing/label.py:151: DeprecationWarning: The truth value of an empty array is ambiguous. Returning False, but in future this will result in an error. Use `array.size > 0` to check that an array is not empty.\n",
      "  if diff:\n",
      "/opt/conda/lib/python3.5/site-packages/sklearn/preprocessing/label.py:151: DeprecationWarning: The truth value of an empty array is ambiguous. Returning False, but in future this will result in an error. Use `array.size > 0` to check that an array is not empty.\n",
      "  if diff:\n",
      "/opt/conda/lib/python3.5/site-packages/sklearn/preprocessing/label.py:151: DeprecationWarning: The truth value of an empty array is ambiguous. Returning False, but in future this will result in an error. Use `array.size > 0` to check that an array is not empty.\n",
      "  if diff:\n"
     ]
    },
    {
     "name": "stdout",
     "output_type": "stream",
     "text": [
      "== 5-fold CV ==\n",
      "F1 scores 5-fold CV per iteration: [0.841 0.835 0.834 0.86  0.844]\n",
      "F1 mean 5-fold CV per class: [0.846 0.909 0.773 0.694]\n",
      "F1 mean 5-fold CV: 0.843\n",
      "Tic: Train RF\n",
      "Elapsed time: 31.148844 seconds.\n",
      "\n",
      "== 5-fold CV ==\n",
      "F1 scores 5-fold CV per iteration: [0.844 0.833 0.82  0.853 0.817]\n",
      "F1 mean 5-fold CV per class: [0.831 0.906 0.763 0.631]\n",
      "F1 mean 5-fold CV: 0.833\n",
      "\n",
      "Iteration 82 Seed 927896\n",
      "Tic: Train XGB\n",
      "Elapsed time: 23.145561 seconds.\n",
      "\n"
     ]
    },
    {
     "name": "stderr",
     "output_type": "stream",
     "text": [
      "/opt/conda/lib/python3.5/site-packages/sklearn/preprocessing/label.py:151: DeprecationWarning: The truth value of an empty array is ambiguous. Returning False, but in future this will result in an error. Use `array.size > 0` to check that an array is not empty.\n",
      "  if diff:\n",
      "/opt/conda/lib/python3.5/site-packages/sklearn/preprocessing/label.py:151: DeprecationWarning: The truth value of an empty array is ambiguous. Returning False, but in future this will result in an error. Use `array.size > 0` to check that an array is not empty.\n",
      "  if diff:\n",
      "/opt/conda/lib/python3.5/site-packages/sklearn/preprocessing/label.py:151: DeprecationWarning: The truth value of an empty array is ambiguous. Returning False, but in future this will result in an error. Use `array.size > 0` to check that an array is not empty.\n",
      "  if diff:\n",
      "/opt/conda/lib/python3.5/site-packages/sklearn/preprocessing/label.py:151: DeprecationWarning: The truth value of an empty array is ambiguous. Returning False, but in future this will result in an error. Use `array.size > 0` to check that an array is not empty.\n",
      "  if diff:\n",
      "/opt/conda/lib/python3.5/site-packages/sklearn/preprocessing/label.py:151: DeprecationWarning: The truth value of an empty array is ambiguous. Returning False, but in future this will result in an error. Use `array.size > 0` to check that an array is not empty.\n",
      "  if diff:\n",
      "/opt/conda/lib/python3.5/site-packages/sklearn/preprocessing/label.py:151: DeprecationWarning: The truth value of an empty array is ambiguous. Returning False, but in future this will result in an error. Use `array.size > 0` to check that an array is not empty.\n",
      "  if diff:\n"
     ]
    },
    {
     "name": "stdout",
     "output_type": "stream",
     "text": [
      "== 5-fold CV ==\n",
      "F1 scores 5-fold CV per iteration: [0.846 0.836 0.834 0.843 0.835]\n",
      "F1 mean 5-fold CV per class: [0.842 0.907 0.767 0.667]\n",
      "F1 mean 5-fold CV: 0.839\n",
      "Tic: Train RF\n",
      "Elapsed time: 31.106513 seconds.\n",
      "\n",
      "== 5-fold CV ==\n",
      "F1 scores 5-fold CV per iteration: [0.841 0.828 0.822 0.842 0.832]\n",
      "F1 mean 5-fold CV per class: [0.829 0.907 0.762 0.623]\n",
      "F1 mean 5-fold CV: 0.833\n",
      "\n",
      "Iteration 83 Seed 197167\n",
      "Tic: Train XGB\n",
      "Elapsed time: 23.397380 seconds.\n",
      "\n"
     ]
    },
    {
     "name": "stderr",
     "output_type": "stream",
     "text": [
      "/opt/conda/lib/python3.5/site-packages/sklearn/preprocessing/label.py:151: DeprecationWarning: The truth value of an empty array is ambiguous. Returning False, but in future this will result in an error. Use `array.size > 0` to check that an array is not empty.\n",
      "  if diff:\n",
      "/opt/conda/lib/python3.5/site-packages/sklearn/preprocessing/label.py:151: DeprecationWarning: The truth value of an empty array is ambiguous. Returning False, but in future this will result in an error. Use `array.size > 0` to check that an array is not empty.\n",
      "  if diff:\n",
      "/opt/conda/lib/python3.5/site-packages/sklearn/preprocessing/label.py:151: DeprecationWarning: The truth value of an empty array is ambiguous. Returning False, but in future this will result in an error. Use `array.size > 0` to check that an array is not empty.\n",
      "  if diff:\n",
      "/opt/conda/lib/python3.5/site-packages/sklearn/preprocessing/label.py:151: DeprecationWarning: The truth value of an empty array is ambiguous. Returning False, but in future this will result in an error. Use `array.size > 0` to check that an array is not empty.\n",
      "  if diff:\n",
      "/opt/conda/lib/python3.5/site-packages/sklearn/preprocessing/label.py:151: DeprecationWarning: The truth value of an empty array is ambiguous. Returning False, but in future this will result in an error. Use `array.size > 0` to check that an array is not empty.\n",
      "  if diff:\n",
      "/opt/conda/lib/python3.5/site-packages/sklearn/preprocessing/label.py:151: DeprecationWarning: The truth value of an empty array is ambiguous. Returning False, but in future this will result in an error. Use `array.size > 0` to check that an array is not empty.\n",
      "  if diff:\n"
     ]
    },
    {
     "name": "stdout",
     "output_type": "stream",
     "text": [
      "== 5-fold CV ==\n",
      "F1 scores 5-fold CV per iteration: [0.837 0.854 0.839 0.832 0.833]\n",
      "F1 mean 5-fold CV per class: [0.843 0.908 0.766 0.675]\n",
      "F1 mean 5-fold CV: 0.839\n",
      "Tic: Train RF\n",
      "Elapsed time: 31.120899 seconds.\n",
      "\n",
      "== 5-fold CV ==\n",
      "F1 scores 5-fold CV per iteration: [0.831 0.837 0.833 0.831 0.828]\n",
      "F1 mean 5-fold CV per class: [0.831 0.906 0.76  0.643]\n",
      "F1 mean 5-fold CV: 0.832\n",
      "\n",
      "Iteration 84 Seed 78080\n",
      "Tic: Train XGB\n",
      "Elapsed time: 23.270279 seconds.\n",
      "\n"
     ]
    },
    {
     "name": "stderr",
     "output_type": "stream",
     "text": [
      "/opt/conda/lib/python3.5/site-packages/sklearn/preprocessing/label.py:151: DeprecationWarning: The truth value of an empty array is ambiguous. Returning False, but in future this will result in an error. Use `array.size > 0` to check that an array is not empty.\n",
      "  if diff:\n",
      "/opt/conda/lib/python3.5/site-packages/sklearn/preprocessing/label.py:151: DeprecationWarning: The truth value of an empty array is ambiguous. Returning False, but in future this will result in an error. Use `array.size > 0` to check that an array is not empty.\n",
      "  if diff:\n",
      "/opt/conda/lib/python3.5/site-packages/sklearn/preprocessing/label.py:151: DeprecationWarning: The truth value of an empty array is ambiguous. Returning False, but in future this will result in an error. Use `array.size > 0` to check that an array is not empty.\n",
      "  if diff:\n",
      "/opt/conda/lib/python3.5/site-packages/sklearn/preprocessing/label.py:151: DeprecationWarning: The truth value of an empty array is ambiguous. Returning False, but in future this will result in an error. Use `array.size > 0` to check that an array is not empty.\n",
      "  if diff:\n",
      "/opt/conda/lib/python3.5/site-packages/sklearn/preprocessing/label.py:151: DeprecationWarning: The truth value of an empty array is ambiguous. Returning False, but in future this will result in an error. Use `array.size > 0` to check that an array is not empty.\n",
      "  if diff:\n",
      "/opt/conda/lib/python3.5/site-packages/sklearn/preprocessing/label.py:151: DeprecationWarning: The truth value of an empty array is ambiguous. Returning False, but in future this will result in an error. Use `array.size > 0` to check that an array is not empty.\n",
      "  if diff:\n"
     ]
    },
    {
     "name": "stdout",
     "output_type": "stream",
     "text": [
      "== 5-fold CV ==\n",
      "F1 scores 5-fold CV per iteration: [0.847 0.82  0.832 0.84  0.844]\n",
      "F1 mean 5-fold CV per class: [0.836 0.907 0.767 0.66 ]\n",
      "F1 mean 5-fold CV: 0.837\n",
      "Tic: Train RF\n",
      "Elapsed time: 31.026910 seconds.\n",
      "\n",
      "== 5-fold CV ==\n",
      "F1 scores 5-fold CV per iteration: [0.83  0.823 0.836 0.83  0.852]\n",
      "F1 mean 5-fold CV per class: [0.831 0.907 0.764 0.629]\n",
      "F1 mean 5-fold CV: 0.834\n",
      "\n",
      "Iteration 85 Seed 384716\n",
      "Tic: Train XGB\n",
      "Elapsed time: 23.071891 seconds.\n",
      "\n"
     ]
    },
    {
     "name": "stderr",
     "output_type": "stream",
     "text": [
      "/opt/conda/lib/python3.5/site-packages/sklearn/preprocessing/label.py:151: DeprecationWarning: The truth value of an empty array is ambiguous. Returning False, but in future this will result in an error. Use `array.size > 0` to check that an array is not empty.\n",
      "  if diff:\n",
      "/opt/conda/lib/python3.5/site-packages/sklearn/preprocessing/label.py:151: DeprecationWarning: The truth value of an empty array is ambiguous. Returning False, but in future this will result in an error. Use `array.size > 0` to check that an array is not empty.\n",
      "  if diff:\n",
      "/opt/conda/lib/python3.5/site-packages/sklearn/preprocessing/label.py:151: DeprecationWarning: The truth value of an empty array is ambiguous. Returning False, but in future this will result in an error. Use `array.size > 0` to check that an array is not empty.\n",
      "  if diff:\n",
      "/opt/conda/lib/python3.5/site-packages/sklearn/preprocessing/label.py:151: DeprecationWarning: The truth value of an empty array is ambiguous. Returning False, but in future this will result in an error. Use `array.size > 0` to check that an array is not empty.\n",
      "  if diff:\n",
      "/opt/conda/lib/python3.5/site-packages/sklearn/preprocessing/label.py:151: DeprecationWarning: The truth value of an empty array is ambiguous. Returning False, but in future this will result in an error. Use `array.size > 0` to check that an array is not empty.\n",
      "  if diff:\n",
      "/opt/conda/lib/python3.5/site-packages/sklearn/preprocessing/label.py:151: DeprecationWarning: The truth value of an empty array is ambiguous. Returning False, but in future this will result in an error. Use `array.size > 0` to check that an array is not empty.\n",
      "  if diff:\n"
     ]
    },
    {
     "name": "stdout",
     "output_type": "stream",
     "text": [
      "== 5-fold CV ==\n",
      "F1 scores 5-fold CV per iteration: [0.843 0.834 0.859 0.847 0.826]\n",
      "F1 mean 5-fold CV per class: [0.843 0.91  0.773 0.661]\n",
      "F1 mean 5-fold CV: 0.842\n",
      "Tic: Train RF\n",
      "Elapsed time: 31.007611 seconds.\n",
      "\n",
      "== 5-fold CV ==\n",
      "F1 scores 5-fold CV per iteration: [0.839 0.817 0.851 0.84  0.819]\n",
      "F1 mean 5-fold CV per class: [0.829 0.907 0.764 0.637]\n",
      "F1 mean 5-fold CV: 0.833\n",
      "\n",
      "Iteration 86 Seed 411075\n",
      "Tic: Train XGB\n",
      "Elapsed time: 23.158864 seconds.\n",
      "\n"
     ]
    },
    {
     "name": "stderr",
     "output_type": "stream",
     "text": [
      "/opt/conda/lib/python3.5/site-packages/sklearn/preprocessing/label.py:151: DeprecationWarning: The truth value of an empty array is ambiguous. Returning False, but in future this will result in an error. Use `array.size > 0` to check that an array is not empty.\n",
      "  if diff:\n",
      "/opt/conda/lib/python3.5/site-packages/sklearn/preprocessing/label.py:151: DeprecationWarning: The truth value of an empty array is ambiguous. Returning False, but in future this will result in an error. Use `array.size > 0` to check that an array is not empty.\n",
      "  if diff:\n",
      "/opt/conda/lib/python3.5/site-packages/sklearn/preprocessing/label.py:151: DeprecationWarning: The truth value of an empty array is ambiguous. Returning False, but in future this will result in an error. Use `array.size > 0` to check that an array is not empty.\n",
      "  if diff:\n",
      "/opt/conda/lib/python3.5/site-packages/sklearn/preprocessing/label.py:151: DeprecationWarning: The truth value of an empty array is ambiguous. Returning False, but in future this will result in an error. Use `array.size > 0` to check that an array is not empty.\n",
      "  if diff:\n",
      "/opt/conda/lib/python3.5/site-packages/sklearn/preprocessing/label.py:151: DeprecationWarning: The truth value of an empty array is ambiguous. Returning False, but in future this will result in an error. Use `array.size > 0` to check that an array is not empty.\n",
      "  if diff:\n",
      "/opt/conda/lib/python3.5/site-packages/sklearn/preprocessing/label.py:151: DeprecationWarning: The truth value of an empty array is ambiguous. Returning False, but in future this will result in an error. Use `array.size > 0` to check that an array is not empty.\n",
      "  if diff:\n"
     ]
    },
    {
     "name": "stdout",
     "output_type": "stream",
     "text": [
      "== 5-fold CV ==\n",
      "F1 scores 5-fold CV per iteration: [0.829 0.85  0.841 0.821 0.845]\n",
      "F1 mean 5-fold CV per class: [0.838 0.908 0.767 0.65 ]\n",
      "F1 mean 5-fold CV: 0.837\n",
      "Tic: Train RF\n",
      "Elapsed time: 31.007037 seconds.\n",
      "\n",
      "== 5-fold CV ==\n",
      "F1 scores 5-fold CV per iteration: [0.824 0.847 0.837 0.817 0.84 ]\n",
      "F1 mean 5-fold CV per class: [0.835 0.905 0.76  0.627]\n",
      "F1 mean 5-fold CV: 0.833\n",
      "\n",
      "Iteration 87 Seed 317718\n",
      "Tic: Train XGB\n",
      "Elapsed time: 23.184373 seconds.\n",
      "\n"
     ]
    },
    {
     "name": "stderr",
     "output_type": "stream",
     "text": [
      "/opt/conda/lib/python3.5/site-packages/sklearn/preprocessing/label.py:151: DeprecationWarning: The truth value of an empty array is ambiguous. Returning False, but in future this will result in an error. Use `array.size > 0` to check that an array is not empty.\n",
      "  if diff:\n",
      "/opt/conda/lib/python3.5/site-packages/sklearn/preprocessing/label.py:151: DeprecationWarning: The truth value of an empty array is ambiguous. Returning False, but in future this will result in an error. Use `array.size > 0` to check that an array is not empty.\n",
      "  if diff:\n",
      "/opt/conda/lib/python3.5/site-packages/sklearn/preprocessing/label.py:151: DeprecationWarning: The truth value of an empty array is ambiguous. Returning False, but in future this will result in an error. Use `array.size > 0` to check that an array is not empty.\n",
      "  if diff:\n",
      "/opt/conda/lib/python3.5/site-packages/sklearn/preprocessing/label.py:151: DeprecationWarning: The truth value of an empty array is ambiguous. Returning False, but in future this will result in an error. Use `array.size > 0` to check that an array is not empty.\n",
      "  if diff:\n",
      "/opt/conda/lib/python3.5/site-packages/sklearn/preprocessing/label.py:151: DeprecationWarning: The truth value of an empty array is ambiguous. Returning False, but in future this will result in an error. Use `array.size > 0` to check that an array is not empty.\n",
      "  if diff:\n",
      "/opt/conda/lib/python3.5/site-packages/sklearn/preprocessing/label.py:151: DeprecationWarning: The truth value of an empty array is ambiguous. Returning False, but in future this will result in an error. Use `array.size > 0` to check that an array is not empty.\n",
      "  if diff:\n"
     ]
    },
    {
     "name": "stdout",
     "output_type": "stream",
     "text": [
      "== 5-fold CV ==\n",
      "F1 scores 5-fold CV per iteration: [0.852 0.837 0.838 0.84  0.844]\n",
      "F1 mean 5-fold CV per class: [0.842 0.911 0.774 0.685]\n",
      "F1 mean 5-fold CV: 0.842\n",
      "Tic: Train RF\n",
      "Elapsed time: 31.133183 seconds.\n",
      "\n",
      "== 5-fold CV ==\n",
      "F1 scores 5-fold CV per iteration: [0.845 0.828 0.815 0.838 0.839]\n",
      "F1 mean 5-fold CV per class: [0.829 0.907 0.762 0.636]\n",
      "F1 mean 5-fold CV: 0.833\n",
      "\n",
      "Iteration 88 Seed 829475\n",
      "Tic: Train XGB\n",
      "Elapsed time: 23.536990 seconds.\n",
      "\n"
     ]
    },
    {
     "name": "stderr",
     "output_type": "stream",
     "text": [
      "/opt/conda/lib/python3.5/site-packages/sklearn/preprocessing/label.py:151: DeprecationWarning: The truth value of an empty array is ambiguous. Returning False, but in future this will result in an error. Use `array.size > 0` to check that an array is not empty.\n",
      "  if diff:\n",
      "/opt/conda/lib/python3.5/site-packages/sklearn/preprocessing/label.py:151: DeprecationWarning: The truth value of an empty array is ambiguous. Returning False, but in future this will result in an error. Use `array.size > 0` to check that an array is not empty.\n",
      "  if diff:\n",
      "/opt/conda/lib/python3.5/site-packages/sklearn/preprocessing/label.py:151: DeprecationWarning: The truth value of an empty array is ambiguous. Returning False, but in future this will result in an error. Use `array.size > 0` to check that an array is not empty.\n",
      "  if diff:\n",
      "/opt/conda/lib/python3.5/site-packages/sklearn/preprocessing/label.py:151: DeprecationWarning: The truth value of an empty array is ambiguous. Returning False, but in future this will result in an error. Use `array.size > 0` to check that an array is not empty.\n",
      "  if diff:\n",
      "/opt/conda/lib/python3.5/site-packages/sklearn/preprocessing/label.py:151: DeprecationWarning: The truth value of an empty array is ambiguous. Returning False, but in future this will result in an error. Use `array.size > 0` to check that an array is not empty.\n",
      "  if diff:\n",
      "/opt/conda/lib/python3.5/site-packages/sklearn/preprocessing/label.py:151: DeprecationWarning: The truth value of an empty array is ambiguous. Returning False, but in future this will result in an error. Use `array.size > 0` to check that an array is not empty.\n",
      "  if diff:\n"
     ]
    },
    {
     "name": "stdout",
     "output_type": "stream",
     "text": [
      "== 5-fold CV ==\n",
      "F1 scores 5-fold CV per iteration: [0.844 0.838 0.843 0.847 0.836]\n",
      "F1 mean 5-fold CV per class: [0.839 0.911 0.775 0.686]\n",
      "F1 mean 5-fold CV: 0.842\n",
      "Tic: Train RF\n",
      "Elapsed time: 31.106232 seconds.\n",
      "\n",
      "== 5-fold CV ==\n",
      "F1 scores 5-fold CV per iteration: [0.829 0.825 0.844 0.842 0.829]\n",
      "F1 mean 5-fold CV per class: [0.831 0.907 0.764 0.629]\n",
      "F1 mean 5-fold CV: 0.834\n",
      "\n",
      "Iteration 89 Seed 360501\n",
      "Tic: Train XGB\n",
      "Elapsed time: 23.246493 seconds.\n",
      "\n"
     ]
    },
    {
     "name": "stderr",
     "output_type": "stream",
     "text": [
      "/opt/conda/lib/python3.5/site-packages/sklearn/preprocessing/label.py:151: DeprecationWarning: The truth value of an empty array is ambiguous. Returning False, but in future this will result in an error. Use `array.size > 0` to check that an array is not empty.\n",
      "  if diff:\n",
      "/opt/conda/lib/python3.5/site-packages/sklearn/preprocessing/label.py:151: DeprecationWarning: The truth value of an empty array is ambiguous. Returning False, but in future this will result in an error. Use `array.size > 0` to check that an array is not empty.\n",
      "  if diff:\n",
      "/opt/conda/lib/python3.5/site-packages/sklearn/preprocessing/label.py:151: DeprecationWarning: The truth value of an empty array is ambiguous. Returning False, but in future this will result in an error. Use `array.size > 0` to check that an array is not empty.\n",
      "  if diff:\n",
      "/opt/conda/lib/python3.5/site-packages/sklearn/preprocessing/label.py:151: DeprecationWarning: The truth value of an empty array is ambiguous. Returning False, but in future this will result in an error. Use `array.size > 0` to check that an array is not empty.\n",
      "  if diff:\n",
      "/opt/conda/lib/python3.5/site-packages/sklearn/preprocessing/label.py:151: DeprecationWarning: The truth value of an empty array is ambiguous. Returning False, but in future this will result in an error. Use `array.size > 0` to check that an array is not empty.\n",
      "  if diff:\n",
      "/opt/conda/lib/python3.5/site-packages/sklearn/preprocessing/label.py:151: DeprecationWarning: The truth value of an empty array is ambiguous. Returning False, but in future this will result in an error. Use `array.size > 0` to check that an array is not empty.\n",
      "  if diff:\n"
     ]
    },
    {
     "name": "stdout",
     "output_type": "stream",
     "text": [
      "== 5-fold CV ==\n",
      "F1 scores 5-fold CV per iteration: [0.848 0.839 0.832 0.855 0.832]\n",
      "F1 mean 5-fold CV per class: [0.845 0.909 0.77  0.677]\n",
      "F1 mean 5-fold CV: 0.841\n",
      "Tic: Train RF\n",
      "Elapsed time: 31.113044 seconds.\n",
      "\n",
      "== 5-fold CV ==\n",
      "F1 scores 5-fold CV per iteration: [0.84  0.835 0.827 0.848 0.83 ]\n",
      "F1 mean 5-fold CV per class: [0.836 0.908 0.764 0.642]\n",
      "F1 mean 5-fold CV: 0.836\n",
      "\n",
      "Iteration 90 Seed 315855\n",
      "Tic: Train XGB\n",
      "Elapsed time: 23.253818 seconds.\n",
      "\n"
     ]
    },
    {
     "name": "stderr",
     "output_type": "stream",
     "text": [
      "/opt/conda/lib/python3.5/site-packages/sklearn/preprocessing/label.py:151: DeprecationWarning: The truth value of an empty array is ambiguous. Returning False, but in future this will result in an error. Use `array.size > 0` to check that an array is not empty.\n",
      "  if diff:\n",
      "/opt/conda/lib/python3.5/site-packages/sklearn/preprocessing/label.py:151: DeprecationWarning: The truth value of an empty array is ambiguous. Returning False, but in future this will result in an error. Use `array.size > 0` to check that an array is not empty.\n",
      "  if diff:\n",
      "/opt/conda/lib/python3.5/site-packages/sklearn/preprocessing/label.py:151: DeprecationWarning: The truth value of an empty array is ambiguous. Returning False, but in future this will result in an error. Use `array.size > 0` to check that an array is not empty.\n",
      "  if diff:\n",
      "/opt/conda/lib/python3.5/site-packages/sklearn/preprocessing/label.py:151: DeprecationWarning: The truth value of an empty array is ambiguous. Returning False, but in future this will result in an error. Use `array.size > 0` to check that an array is not empty.\n",
      "  if diff:\n",
      "/opt/conda/lib/python3.5/site-packages/sklearn/preprocessing/label.py:151: DeprecationWarning: The truth value of an empty array is ambiguous. Returning False, but in future this will result in an error. Use `array.size > 0` to check that an array is not empty.\n",
      "  if diff:\n",
      "/opt/conda/lib/python3.5/site-packages/sklearn/preprocessing/label.py:151: DeprecationWarning: The truth value of an empty array is ambiguous. Returning False, but in future this will result in an error. Use `array.size > 0` to check that an array is not empty.\n",
      "  if diff:\n"
     ]
    },
    {
     "name": "stdout",
     "output_type": "stream",
     "text": [
      "== 5-fold CV ==\n",
      "F1 scores 5-fold CV per iteration: [0.844 0.822 0.831 0.841 0.852]\n",
      "F1 mean 5-fold CV per class: [0.842 0.908 0.765 0.673]\n",
      "F1 mean 5-fold CV: 0.838\n",
      "Tic: Train RF\n",
      "Elapsed time: 31.182893 seconds.\n",
      "\n",
      "== 5-fold CV ==\n",
      "F1 scores 5-fold CV per iteration: [0.848 0.826 0.827 0.831 0.836]\n",
      "F1 mean 5-fold CV per class: [0.829 0.908 0.763 0.637]\n",
      "F1 mean 5-fold CV: 0.834\n",
      "\n",
      "Iteration 91 Seed 880678\n",
      "Tic: Train XGB\n",
      "Elapsed time: 23.059078 seconds.\n",
      "\n"
     ]
    },
    {
     "name": "stderr",
     "output_type": "stream",
     "text": [
      "/opt/conda/lib/python3.5/site-packages/sklearn/preprocessing/label.py:151: DeprecationWarning: The truth value of an empty array is ambiguous. Returning False, but in future this will result in an error. Use `array.size > 0` to check that an array is not empty.\n",
      "  if diff:\n",
      "/opt/conda/lib/python3.5/site-packages/sklearn/preprocessing/label.py:151: DeprecationWarning: The truth value of an empty array is ambiguous. Returning False, but in future this will result in an error. Use `array.size > 0` to check that an array is not empty.\n",
      "  if diff:\n",
      "/opt/conda/lib/python3.5/site-packages/sklearn/preprocessing/label.py:151: DeprecationWarning: The truth value of an empty array is ambiguous. Returning False, but in future this will result in an error. Use `array.size > 0` to check that an array is not empty.\n",
      "  if diff:\n",
      "/opt/conda/lib/python3.5/site-packages/sklearn/preprocessing/label.py:151: DeprecationWarning: The truth value of an empty array is ambiguous. Returning False, but in future this will result in an error. Use `array.size > 0` to check that an array is not empty.\n",
      "  if diff:\n",
      "/opt/conda/lib/python3.5/site-packages/sklearn/preprocessing/label.py:151: DeprecationWarning: The truth value of an empty array is ambiguous. Returning False, but in future this will result in an error. Use `array.size > 0` to check that an array is not empty.\n",
      "  if diff:\n",
      "/opt/conda/lib/python3.5/site-packages/sklearn/preprocessing/label.py:151: DeprecationWarning: The truth value of an empty array is ambiguous. Returning False, but in future this will result in an error. Use `array.size > 0` to check that an array is not empty.\n",
      "  if diff:\n"
     ]
    },
    {
     "name": "stdout",
     "output_type": "stream",
     "text": [
      "== 5-fold CV ==\n",
      "F1 scores 5-fold CV per iteration: [0.835 0.841 0.846 0.841 0.842]\n",
      "F1 mean 5-fold CV per class: [0.839 0.91  0.773 0.653]\n",
      "F1 mean 5-fold CV: 0.841\n",
      "Tic: Train RF\n",
      "Elapsed time: 32.326017 seconds.\n",
      "\n",
      "== 5-fold CV ==\n",
      "F1 scores 5-fold CV per iteration: [0.828 0.844 0.839 0.837 0.822]\n",
      "F1 mean 5-fold CV per class: [0.831 0.908 0.763 0.635]\n",
      "F1 mean 5-fold CV: 0.834\n",
      "\n",
      "Iteration 92 Seed 537132\n",
      "Tic: Train XGB\n",
      "Elapsed time: 23.095738 seconds.\n",
      "\n"
     ]
    },
    {
     "name": "stderr",
     "output_type": "stream",
     "text": [
      "/opt/conda/lib/python3.5/site-packages/sklearn/preprocessing/label.py:151: DeprecationWarning: The truth value of an empty array is ambiguous. Returning False, but in future this will result in an error. Use `array.size > 0` to check that an array is not empty.\n",
      "  if diff:\n",
      "/opt/conda/lib/python3.5/site-packages/sklearn/preprocessing/label.py:151: DeprecationWarning: The truth value of an empty array is ambiguous. Returning False, but in future this will result in an error. Use `array.size > 0` to check that an array is not empty.\n",
      "  if diff:\n",
      "/opt/conda/lib/python3.5/site-packages/sklearn/preprocessing/label.py:151: DeprecationWarning: The truth value of an empty array is ambiguous. Returning False, but in future this will result in an error. Use `array.size > 0` to check that an array is not empty.\n",
      "  if diff:\n",
      "/opt/conda/lib/python3.5/site-packages/sklearn/preprocessing/label.py:151: DeprecationWarning: The truth value of an empty array is ambiguous. Returning False, but in future this will result in an error. Use `array.size > 0` to check that an array is not empty.\n",
      "  if diff:\n",
      "/opt/conda/lib/python3.5/site-packages/sklearn/preprocessing/label.py:151: DeprecationWarning: The truth value of an empty array is ambiguous. Returning False, but in future this will result in an error. Use `array.size > 0` to check that an array is not empty.\n",
      "  if diff:\n",
      "/opt/conda/lib/python3.5/site-packages/sklearn/preprocessing/label.py:151: DeprecationWarning: The truth value of an empty array is ambiguous. Returning False, but in future this will result in an error. Use `array.size > 0` to check that an array is not empty.\n",
      "  if diff:\n"
     ]
    },
    {
     "name": "stdout",
     "output_type": "stream",
     "text": [
      "== 5-fold CV ==\n",
      "F1 scores 5-fold CV per iteration: [0.845 0.827 0.841 0.831 0.85 ]\n",
      "F1 mean 5-fold CV per class: [0.841 0.908 0.768 0.679]\n",
      "F1 mean 5-fold CV: 0.839\n",
      "Tic: Train RF\n",
      "Elapsed time: 31.106808 seconds.\n",
      "\n",
      "== 5-fold CV ==\n",
      "F1 scores 5-fold CV per iteration: [0.839 0.827 0.841 0.828 0.846]\n",
      "F1 mean 5-fold CV per class: [0.833 0.908 0.767 0.632]\n",
      "F1 mean 5-fold CV: 0.836\n",
      "\n",
      "Iteration 93 Seed 733618\n",
      "Tic: Train XGB\n",
      "Elapsed time: 23.389627 seconds.\n",
      "\n"
     ]
    },
    {
     "name": "stderr",
     "output_type": "stream",
     "text": [
      "/opt/conda/lib/python3.5/site-packages/sklearn/preprocessing/label.py:151: DeprecationWarning: The truth value of an empty array is ambiguous. Returning False, but in future this will result in an error. Use `array.size > 0` to check that an array is not empty.\n",
      "  if diff:\n",
      "/opt/conda/lib/python3.5/site-packages/sklearn/preprocessing/label.py:151: DeprecationWarning: The truth value of an empty array is ambiguous. Returning False, but in future this will result in an error. Use `array.size > 0` to check that an array is not empty.\n",
      "  if diff:\n",
      "/opt/conda/lib/python3.5/site-packages/sklearn/preprocessing/label.py:151: DeprecationWarning: The truth value of an empty array is ambiguous. Returning False, but in future this will result in an error. Use `array.size > 0` to check that an array is not empty.\n",
      "  if diff:\n",
      "/opt/conda/lib/python3.5/site-packages/sklearn/preprocessing/label.py:151: DeprecationWarning: The truth value of an empty array is ambiguous. Returning False, but in future this will result in an error. Use `array.size > 0` to check that an array is not empty.\n",
      "  if diff:\n",
      "/opt/conda/lib/python3.5/site-packages/sklearn/preprocessing/label.py:151: DeprecationWarning: The truth value of an empty array is ambiguous. Returning False, but in future this will result in an error. Use `array.size > 0` to check that an array is not empty.\n",
      "  if diff:\n",
      "/opt/conda/lib/python3.5/site-packages/sklearn/preprocessing/label.py:151: DeprecationWarning: The truth value of an empty array is ambiguous. Returning False, but in future this will result in an error. Use `array.size > 0` to check that an array is not empty.\n",
      "  if diff:\n"
     ]
    },
    {
     "name": "stdout",
     "output_type": "stream",
     "text": [
      "== 5-fold CV ==\n",
      "F1 scores 5-fold CV per iteration: [0.85  0.821 0.838 0.839 0.858]\n",
      "F1 mean 5-fold CV per class: [0.842 0.91  0.771 0.662]\n",
      "F1 mean 5-fold CV: 0.841\n",
      "Tic: Train RF\n",
      "Elapsed time: 31.103070 seconds.\n",
      "\n",
      "== 5-fold CV ==\n",
      "F1 scores 5-fold CV per iteration: [0.842 0.82  0.839 0.831 0.843]\n",
      "F1 mean 5-fold CV per class: [0.831 0.909 0.765 0.65 ]\n",
      "F1 mean 5-fold CV: 0.835\n",
      "\n",
      "Iteration 94 Seed 591251\n",
      "Tic: Train XGB\n",
      "Elapsed time: 23.184917 seconds.\n",
      "\n"
     ]
    },
    {
     "name": "stderr",
     "output_type": "stream",
     "text": [
      "/opt/conda/lib/python3.5/site-packages/sklearn/preprocessing/label.py:151: DeprecationWarning: The truth value of an empty array is ambiguous. Returning False, but in future this will result in an error. Use `array.size > 0` to check that an array is not empty.\n",
      "  if diff:\n",
      "/opt/conda/lib/python3.5/site-packages/sklearn/preprocessing/label.py:151: DeprecationWarning: The truth value of an empty array is ambiguous. Returning False, but in future this will result in an error. Use `array.size > 0` to check that an array is not empty.\n",
      "  if diff:\n",
      "/opt/conda/lib/python3.5/site-packages/sklearn/preprocessing/label.py:151: DeprecationWarning: The truth value of an empty array is ambiguous. Returning False, but in future this will result in an error. Use `array.size > 0` to check that an array is not empty.\n",
      "  if diff:\n",
      "/opt/conda/lib/python3.5/site-packages/sklearn/preprocessing/label.py:151: DeprecationWarning: The truth value of an empty array is ambiguous. Returning False, but in future this will result in an error. Use `array.size > 0` to check that an array is not empty.\n",
      "  if diff:\n",
      "/opt/conda/lib/python3.5/site-packages/sklearn/preprocessing/label.py:151: DeprecationWarning: The truth value of an empty array is ambiguous. Returning False, but in future this will result in an error. Use `array.size > 0` to check that an array is not empty.\n",
      "  if diff:\n",
      "/opt/conda/lib/python3.5/site-packages/sklearn/preprocessing/label.py:151: DeprecationWarning: The truth value of an empty array is ambiguous. Returning False, but in future this will result in an error. Use `array.size > 0` to check that an array is not empty.\n",
      "  if diff:\n"
     ]
    },
    {
     "name": "stdout",
     "output_type": "stream",
     "text": [
      "== 5-fold CV ==\n",
      "F1 scores 5-fold CV per iteration: [0.836 0.818 0.844 0.846 0.843]\n",
      "F1 mean 5-fold CV per class: [0.838 0.907 0.767 0.677]\n",
      "F1 mean 5-fold CV: 0.837\n",
      "Tic: Train RF\n",
      "Elapsed time: 31.431418 seconds.\n",
      "\n",
      "== 5-fold CV ==\n",
      "F1 scores 5-fold CV per iteration: [0.834 0.814 0.837 0.838 0.84 ]\n",
      "F1 mean 5-fold CV per class: [0.831 0.906 0.76  0.645]\n",
      "F1 mean 5-fold CV: 0.833\n",
      "\n",
      "Iteration 95 Seed 365732\n",
      "Tic: Train XGB\n",
      "Elapsed time: 23.709802 seconds.\n",
      "\n"
     ]
    },
    {
     "name": "stderr",
     "output_type": "stream",
     "text": [
      "/opt/conda/lib/python3.5/site-packages/sklearn/preprocessing/label.py:151: DeprecationWarning: The truth value of an empty array is ambiguous. Returning False, but in future this will result in an error. Use `array.size > 0` to check that an array is not empty.\n",
      "  if diff:\n",
      "/opt/conda/lib/python3.5/site-packages/sklearn/preprocessing/label.py:151: DeprecationWarning: The truth value of an empty array is ambiguous. Returning False, but in future this will result in an error. Use `array.size > 0` to check that an array is not empty.\n",
      "  if diff:\n",
      "/opt/conda/lib/python3.5/site-packages/sklearn/preprocessing/label.py:151: DeprecationWarning: The truth value of an empty array is ambiguous. Returning False, but in future this will result in an error. Use `array.size > 0` to check that an array is not empty.\n",
      "  if diff:\n",
      "/opt/conda/lib/python3.5/site-packages/sklearn/preprocessing/label.py:151: DeprecationWarning: The truth value of an empty array is ambiguous. Returning False, but in future this will result in an error. Use `array.size > 0` to check that an array is not empty.\n",
      "  if diff:\n",
      "/opt/conda/lib/python3.5/site-packages/sklearn/preprocessing/label.py:151: DeprecationWarning: The truth value of an empty array is ambiguous. Returning False, but in future this will result in an error. Use `array.size > 0` to check that an array is not empty.\n",
      "  if diff:\n",
      "/opt/conda/lib/python3.5/site-packages/sklearn/preprocessing/label.py:151: DeprecationWarning: The truth value of an empty array is ambiguous. Returning False, but in future this will result in an error. Use `array.size > 0` to check that an array is not empty.\n",
      "  if diff:\n"
     ]
    },
    {
     "name": "stdout",
     "output_type": "stream",
     "text": [
      "== 5-fold CV ==\n",
      "F1 scores 5-fold CV per iteration: [0.847 0.835 0.841 0.845 0.842]\n",
      "F1 mean 5-fold CV per class: [0.845 0.909 0.771 0.687]\n",
      "F1 mean 5-fold CV: 0.842\n",
      "Tic: Train RF\n",
      "Elapsed time: 31.094062 seconds.\n",
      "\n",
      "== 5-fold CV ==\n",
      "F1 scores 5-fold CV per iteration: [0.847 0.825 0.833 0.837 0.828]\n",
      "F1 mean 5-fold CV per class: [0.827 0.91  0.765 0.639]\n",
      "F1 mean 5-fold CV: 0.834\n",
      "\n",
      "Iteration 96 Seed 524093\n",
      "Tic: Train XGB\n",
      "Elapsed time: 23.523677 seconds.\n",
      "\n"
     ]
    },
    {
     "name": "stderr",
     "output_type": "stream",
     "text": [
      "/opt/conda/lib/python3.5/site-packages/sklearn/preprocessing/label.py:151: DeprecationWarning: The truth value of an empty array is ambiguous. Returning False, but in future this will result in an error. Use `array.size > 0` to check that an array is not empty.\n",
      "  if diff:\n",
      "/opt/conda/lib/python3.5/site-packages/sklearn/preprocessing/label.py:151: DeprecationWarning: The truth value of an empty array is ambiguous. Returning False, but in future this will result in an error. Use `array.size > 0` to check that an array is not empty.\n",
      "  if diff:\n",
      "/opt/conda/lib/python3.5/site-packages/sklearn/preprocessing/label.py:151: DeprecationWarning: The truth value of an empty array is ambiguous. Returning False, but in future this will result in an error. Use `array.size > 0` to check that an array is not empty.\n",
      "  if diff:\n",
      "/opt/conda/lib/python3.5/site-packages/sklearn/preprocessing/label.py:151: DeprecationWarning: The truth value of an empty array is ambiguous. Returning False, but in future this will result in an error. Use `array.size > 0` to check that an array is not empty.\n",
      "  if diff:\n",
      "/opt/conda/lib/python3.5/site-packages/sklearn/preprocessing/label.py:151: DeprecationWarning: The truth value of an empty array is ambiguous. Returning False, but in future this will result in an error. Use `array.size > 0` to check that an array is not empty.\n",
      "  if diff:\n",
      "/opt/conda/lib/python3.5/site-packages/sklearn/preprocessing/label.py:151: DeprecationWarning: The truth value of an empty array is ambiguous. Returning False, but in future this will result in an error. Use `array.size > 0` to check that an array is not empty.\n",
      "  if diff:\n"
     ]
    },
    {
     "name": "stdout",
     "output_type": "stream",
     "text": [
      "== 5-fold CV ==\n",
      "F1 scores 5-fold CV per iteration: [0.852 0.839 0.846 0.826 0.84 ]\n",
      "F1 mean 5-fold CV per class: [0.848 0.908 0.767 0.681]\n",
      "F1 mean 5-fold CV: 0.841\n",
      "Tic: Train RF\n",
      "Elapsed time: 30.900937 seconds.\n",
      "\n",
      "== 5-fold CV ==\n",
      "F1 scores 5-fold CV per iteration: [0.848 0.834 0.841 0.82  0.842]\n",
      "F1 mean 5-fold CV per class: [0.836 0.908 0.767 0.644]\n",
      "F1 mean 5-fold CV: 0.837\n",
      "\n",
      "Iteration 97 Seed 987744\n",
      "Tic: Train XGB\n",
      "Elapsed time: 23.191442 seconds.\n",
      "\n"
     ]
    },
    {
     "name": "stderr",
     "output_type": "stream",
     "text": [
      "/opt/conda/lib/python3.5/site-packages/sklearn/preprocessing/label.py:151: DeprecationWarning: The truth value of an empty array is ambiguous. Returning False, but in future this will result in an error. Use `array.size > 0` to check that an array is not empty.\n",
      "  if diff:\n",
      "/opt/conda/lib/python3.5/site-packages/sklearn/preprocessing/label.py:151: DeprecationWarning: The truth value of an empty array is ambiguous. Returning False, but in future this will result in an error. Use `array.size > 0` to check that an array is not empty.\n",
      "  if diff:\n",
      "/opt/conda/lib/python3.5/site-packages/sklearn/preprocessing/label.py:151: DeprecationWarning: The truth value of an empty array is ambiguous. Returning False, but in future this will result in an error. Use `array.size > 0` to check that an array is not empty.\n",
      "  if diff:\n",
      "/opt/conda/lib/python3.5/site-packages/sklearn/preprocessing/label.py:151: DeprecationWarning: The truth value of an empty array is ambiguous. Returning False, but in future this will result in an error. Use `array.size > 0` to check that an array is not empty.\n",
      "  if diff:\n",
      "/opt/conda/lib/python3.5/site-packages/sklearn/preprocessing/label.py:151: DeprecationWarning: The truth value of an empty array is ambiguous. Returning False, but in future this will result in an error. Use `array.size > 0` to check that an array is not empty.\n",
      "  if diff:\n",
      "/opt/conda/lib/python3.5/site-packages/sklearn/preprocessing/label.py:151: DeprecationWarning: The truth value of an empty array is ambiguous. Returning False, but in future this will result in an error. Use `array.size > 0` to check that an array is not empty.\n",
      "  if diff:\n"
     ]
    },
    {
     "name": "stdout",
     "output_type": "stream",
     "text": [
      "== 5-fold CV ==\n",
      "F1 scores 5-fold CV per iteration: [0.845 0.857 0.827 0.838 0.837]\n",
      "F1 mean 5-fold CV per class: [0.845 0.907 0.769 0.666]\n",
      "F1 mean 5-fold CV: 0.841\n",
      "Tic: Train RF\n",
      "Elapsed time: 31.106659 seconds.\n",
      "\n",
      "== 5-fold CV ==\n",
      "F1 scores 5-fold CV per iteration: [0.838 0.844 0.824 0.83  0.828]\n",
      "F1 mean 5-fold CV per class: [0.829 0.908 0.762 0.624]\n",
      "F1 mean 5-fold CV: 0.833\n",
      "\n",
      "Iteration 98 Seed 49688\n",
      "Tic: Train XGB\n",
      "Elapsed time: 23.588157 seconds.\n",
      "\n"
     ]
    },
    {
     "name": "stderr",
     "output_type": "stream",
     "text": [
      "/opt/conda/lib/python3.5/site-packages/sklearn/preprocessing/label.py:151: DeprecationWarning: The truth value of an empty array is ambiguous. Returning False, but in future this will result in an error. Use `array.size > 0` to check that an array is not empty.\n",
      "  if diff:\n",
      "/opt/conda/lib/python3.5/site-packages/sklearn/preprocessing/label.py:151: DeprecationWarning: The truth value of an empty array is ambiguous. Returning False, but in future this will result in an error. Use `array.size > 0` to check that an array is not empty.\n",
      "  if diff:\n",
      "/opt/conda/lib/python3.5/site-packages/sklearn/preprocessing/label.py:151: DeprecationWarning: The truth value of an empty array is ambiguous. Returning False, but in future this will result in an error. Use `array.size > 0` to check that an array is not empty.\n",
      "  if diff:\n",
      "/opt/conda/lib/python3.5/site-packages/sklearn/preprocessing/label.py:151: DeprecationWarning: The truth value of an empty array is ambiguous. Returning False, but in future this will result in an error. Use `array.size > 0` to check that an array is not empty.\n",
      "  if diff:\n",
      "/opt/conda/lib/python3.5/site-packages/sklearn/preprocessing/label.py:151: DeprecationWarning: The truth value of an empty array is ambiguous. Returning False, but in future this will result in an error. Use `array.size > 0` to check that an array is not empty.\n",
      "  if diff:\n",
      "/opt/conda/lib/python3.5/site-packages/sklearn/preprocessing/label.py:151: DeprecationWarning: The truth value of an empty array is ambiguous. Returning False, but in future this will result in an error. Use `array.size > 0` to check that an array is not empty.\n",
      "  if diff:\n"
     ]
    },
    {
     "name": "stdout",
     "output_type": "stream",
     "text": [
      "== 5-fold CV ==\n",
      "F1 scores 5-fold CV per iteration: [0.839 0.828 0.859 0.837 0.833]\n",
      "F1 mean 5-fold CV per class: [0.841 0.909 0.767 0.683]\n",
      "F1 mean 5-fold CV: 0.839\n",
      "Tic: Train RF\n",
      "Elapsed time: 32.707021 seconds.\n",
      "\n",
      "== 5-fold CV ==\n",
      "F1 scores 5-fold CV per iteration: [0.841 0.837 0.843 0.829 0.828]\n",
      "F1 mean 5-fold CV per class: [0.832 0.909 0.766 0.652]\n",
      "F1 mean 5-fold CV: 0.835\n",
      "\n",
      "Iteration 99 Seed 472462\n",
      "Tic: Train XGB\n",
      "Elapsed time: 25.008369 seconds.\n",
      "\n"
     ]
    },
    {
     "name": "stderr",
     "output_type": "stream",
     "text": [
      "/opt/conda/lib/python3.5/site-packages/sklearn/preprocessing/label.py:151: DeprecationWarning: The truth value of an empty array is ambiguous. Returning False, but in future this will result in an error. Use `array.size > 0` to check that an array is not empty.\n",
      "  if diff:\n",
      "/opt/conda/lib/python3.5/site-packages/sklearn/preprocessing/label.py:151: DeprecationWarning: The truth value of an empty array is ambiguous. Returning False, but in future this will result in an error. Use `array.size > 0` to check that an array is not empty.\n",
      "  if diff:\n",
      "/opt/conda/lib/python3.5/site-packages/sklearn/preprocessing/label.py:151: DeprecationWarning: The truth value of an empty array is ambiguous. Returning False, but in future this will result in an error. Use `array.size > 0` to check that an array is not empty.\n",
      "  if diff:\n",
      "/opt/conda/lib/python3.5/site-packages/sklearn/preprocessing/label.py:151: DeprecationWarning: The truth value of an empty array is ambiguous. Returning False, but in future this will result in an error. Use `array.size > 0` to check that an array is not empty.\n",
      "  if diff:\n",
      "/opt/conda/lib/python3.5/site-packages/sklearn/preprocessing/label.py:151: DeprecationWarning: The truth value of an empty array is ambiguous. Returning False, but in future this will result in an error. Use `array.size > 0` to check that an array is not empty.\n",
      "  if diff:\n",
      "/opt/conda/lib/python3.5/site-packages/sklearn/preprocessing/label.py:151: DeprecationWarning: The truth value of an empty array is ambiguous. Returning False, but in future this will result in an error. Use `array.size > 0` to check that an array is not empty.\n",
      "  if diff:\n"
     ]
    },
    {
     "name": "stdout",
     "output_type": "stream",
     "text": [
      "== 5-fold CV ==\n",
      "F1 scores 5-fold CV per iteration: [0.84  0.844 0.85  0.842 0.825]\n",
      "F1 mean 5-fold CV per class: [0.839 0.91  0.772 0.669]\n",
      "F1 mean 5-fold CV: 0.840\n",
      "Tic: Train RF\n",
      "Elapsed time: 32.492887 seconds.\n",
      "\n",
      "== 5-fold CV ==\n",
      "F1 scores 5-fold CV per iteration: [0.823 0.845 0.851 0.831 0.825]\n",
      "F1 mean 5-fold CV per class: [0.834 0.907 0.763 0.636]\n",
      "F1 mean 5-fold CV: 0.835\n",
      "\n",
      "Iteration 100 Seed 325442\n",
      "Tic: Train XGB\n",
      "Elapsed time: 22.025418 seconds.\n",
      "\n"
     ]
    },
    {
     "name": "stderr",
     "output_type": "stream",
     "text": [
      "/opt/conda/lib/python3.5/site-packages/sklearn/preprocessing/label.py:151: DeprecationWarning: The truth value of an empty array is ambiguous. Returning False, but in future this will result in an error. Use `array.size > 0` to check that an array is not empty.\n",
      "  if diff:\n",
      "/opt/conda/lib/python3.5/site-packages/sklearn/preprocessing/label.py:151: DeprecationWarning: The truth value of an empty array is ambiguous. Returning False, but in future this will result in an error. Use `array.size > 0` to check that an array is not empty.\n",
      "  if diff:\n",
      "/opt/conda/lib/python3.5/site-packages/sklearn/preprocessing/label.py:151: DeprecationWarning: The truth value of an empty array is ambiguous. Returning False, but in future this will result in an error. Use `array.size > 0` to check that an array is not empty.\n",
      "  if diff:\n",
      "/opt/conda/lib/python3.5/site-packages/sklearn/preprocessing/label.py:151: DeprecationWarning: The truth value of an empty array is ambiguous. Returning False, but in future this will result in an error. Use `array.size > 0` to check that an array is not empty.\n",
      "  if diff:\n",
      "/opt/conda/lib/python3.5/site-packages/sklearn/preprocessing/label.py:151: DeprecationWarning: The truth value of an empty array is ambiguous. Returning False, but in future this will result in an error. Use `array.size > 0` to check that an array is not empty.\n",
      "  if diff:\n",
      "/opt/conda/lib/python3.5/site-packages/sklearn/preprocessing/label.py:151: DeprecationWarning: The truth value of an empty array is ambiguous. Returning False, but in future this will result in an error. Use `array.size > 0` to check that an array is not empty.\n",
      "  if diff:\n"
     ]
    },
    {
     "name": "stdout",
     "output_type": "stream",
     "text": [
      "== 5-fold CV ==\n",
      "F1 scores 5-fold CV per iteration: [0.836 0.827 0.86  0.849 0.819]\n",
      "F1 mean 5-fold CV per class: [0.836 0.909 0.769 0.667]\n",
      "F1 mean 5-fold CV: 0.838\n",
      "Tic: Train RF\n",
      "Elapsed time: 29.756164 seconds.\n",
      "\n",
      "== 5-fold CV ==\n",
      "F1 scores 5-fold CV per iteration: [0.84  0.815 0.848 0.837 0.819]\n",
      "F1 mean 5-fold CV per class: [0.825 0.907 0.764 0.624]\n",
      "F1 mean 5-fold CV: 0.832\n"
     ]
    },
    {
     "data": {
      "text/plain": [
       "['f1_100_runs.pkl']"
      ]
     },
     "execution_count": 48,
     "metadata": {},
     "output_type": "execute_result"
    }
   ],
   "source": [
    "N=100 #number of runs\n",
    "\n",
    "df_results=pd.DataFrame(columns=['Iteration','Seed','Classifier','F1','F1 Normal','F1 AF','F1 Other','F1 Noise','Training Time'])\n",
    "\n",
    "for i in range(1,N+1):\n",
    "    print('\\nIteration',i,'Seed',seed)\n",
    "    seed = datetime.datetime.now().microsecond\n",
    "    cv = StratifiedKFold(y, n_folds=5, shuffle=True, random_state=seed)\n",
    "    \n",
    "    tic('Train XGB')\n",
    "    bst = XGBClassifier(**params).fit(X, y,verbose=50)\n",
    "    train_xgb_time=toc()\n",
    "    a1,a2=test_classifier(bst,X,y)\n",
    "    df_results=df_results.append({'Iteration': i,'Seed':seed,'Classifier':'XGB','F1':a1,'F1 Normal':a2[1],'F1 AF':a2[0],'F1 Other':a2[2],'F1 Noise':a2[3],'Training Time':train_xgb_time},ignore_index=True)\n",
    "\n",
    "    tic('Train RF')\n",
    "    rf = RandomForestClassifier(n_jobs=-1, random_state=seed,n_estimators=RF_N_TREES).fit(X, y)\n",
    "    train_rf_time=toc()\n",
    "    a1,a2=test_classifier(rf,X,y)\n",
    "    df_results=df_results.append({'Iteration': i,'Seed':seed,'Classifier':'RF','F1':a1,'F1 Normal':a2[1],'F1 AF':a2[0],'F1 Other':a2[2],'F1 Noise':a2[3],'Training Time':train_rf_time},ignore_index=True)\n",
    "\n",
    "joblib.dump(df_results, 'f1_100_runs.pkl', compress = 1)"
   ]
  },
  {
   "cell_type": "markdown",
   "metadata": {},
   "source": [
    "### Boxplot: XGB vs. RF"
   ]
  },
  {
   "cell_type": "code",
   "execution_count": 236,
   "metadata": {
    "collapsed": false
   },
   "outputs": [
    {
     "name": "stdout",
     "output_type": "stream",
     "text": [
      "XGB: 0.839 +/- 0.002, RF 0.834 +/- 0.001\n",
      "p-Value: 0.00000000000000000000000000000000000000000000000006\n",
      "p-Value: 0.00000000000000000389655984509590921748877339445397\n"
     ]
    },
    {
     "name": "stderr",
     "output_type": "stream",
     "text": [
      "/opt/conda/lib/python3.5/site-packages/seaborn/categorical.py:454: FutureWarning: remove_na is deprecated and is a private function. Do not use.\n",
      "  box_data = remove_na(group_data)\n"
     ]
    },
    {
     "data": {
      "image/png": "[encoded data removed]",
      "text/plain": [
       "<matplotlib.figure.Figure at 0x7f1f2241f048>"
      ]
     },
     "metadata": {},
     "output_type": "display_data"
    }
   ],
   "source": [
    "df_results=joblib.load('f1_100_runs.pkl')\n",
    "mpl.style.use('seaborn-white')\n",
    "\n",
    "\n",
    "print(\"XGB: %.3f +/- %.3f, RF %.3f +/- %.3f\"%(df_results[df_results.Classifier=='XGB'].F1.mean(),df_results[df_results.Classifier=='XGB'].F1.std(),df_results[df_results.Classifier=='RF'].F1.mean(),df_results[df_results.Classifier=='RF'].F1.std()))\n",
    "statistic,p_value=stats.ttest_rel(df_results[df_results.Classifier=='XGB'].F1,df_results[df_results.Classifier=='RF'].F1)\n",
    "print('p-Value: %.50f' % (float(p_value)))\n",
    "statistic,p_value=stats.wilcoxon(df_results[df_results.Classifier=='XGB'].F1,df_results[df_results.Classifier=='RF'].F1)\n",
    "print('p-Value: %.50f' % (float(p_value)))\n",
    "                                                        \n",
    "df_f1_xgb=df_results[df_results.Classifier=='XGB'].F1.reset_index(drop=True)\n",
    "df_f1_rf=df_results[df_results.Classifier=='RF'].F1.reset_index(drop=True)\n",
    "df_f1=pd.concat([df_f1_xgb,df_f1_rf],axis=1)\n",
    "\n",
    "df_f1.columns = ['XGBoost', 'Random Forest']\n",
    "#display(df_f1)\n",
    "\n",
    "#sns.set_style(\"whitegrid\")\n",
    "sns.set_context(\"paper\")\n",
    "plt.style.use(['seaborn-paper', 'seaborn-white'])\n",
    "#matplotlib.rc(\"font\", family=\"Times New Roman\")\n",
    "\n",
    "rc={'axes.labelsize': FONT_SIZE, 'font.size': FONT_SIZE, 'legend.fontsize': FONT_SIZE, 'axes.titlesize': FONT_SIZE,'xtick.labelsize': FONT_SIZE, 'ytick.labelsize': FONT_SIZE}\n",
    "plt.rcParams.update(**rc)\n",
    "\n",
    "ax = sns.boxplot(data=df_f1)\n",
    "  \n",
    "box = ax.artists[1]\n",
    "box.set_facecolor('white')\n",
    "\n",
    "box = ax.artists[0]\n",
    "box.set_facecolor('black')\n",
    "box.set_edgecolor('white')\n",
    "\n",
    "\n",
    "\n",
    "x1, x2 = 0, 1 \n",
    "y, h, col = df_f1_xgb.max()+0.001, 0.0010, 'k'\n",
    "ax.plot([x1, x1, x2, x2], [y, y+h, y+h, y], lw=1.2, c=col)\n",
    "ax.text((x1+x2)*.5, y+h, \"p < 0.00001\", ha='center', va='bottom')\n",
    "ax.grid()\n",
    "fig = ax.get_figure()\n",
    "\n",
    "\n",
    "\n",
    "fig.savefig('boxplot_xgb_vs_rf.png', format='png', dpi=DPI)"
   ]
  },
  {
   "cell_type": "markdown",
   "metadata": {},
   "source": [
    "## Feature importance table"
   ]
  },
  {
   "cell_type": "code",
   "execution_count": null,
   "metadata": {
    "collapsed": false,
    "scrolled": true
   },
   "outputs": [],
   "source": [
    "def fi_table(clf,df):\n",
    "    fi=pd.DataFrame(clf.feature_importances_)\n",
    "    #display(fi)\n",
    "    fi.columns = ['Importance']\n",
    "    cols=pd.DataFrame(list(df.columns))\n",
    "    cols.columns = ['Feature']\n",
    "    result = pd.concat( [fi, cols], axis=1)\n",
    "    fi_sorted=result.sort_values(by='Importance', ascending=False)\n",
    "    return fi_sorted\n",
    "\n",
    "fi_sorted=fi_table(rf,df)\n",
    "fi_sorted.to_excel('/notebooks/data/fi_rf.xlsx')"
   ]
  },
  {
   "cell_type": "markdown",
   "metadata": {},
   "source": [
    "## XGBoost"
   ]
  },
  {
   "cell_type": "markdown",
   "metadata": {},
   "source": [
    "### Train"
   ]
  },
  {
   "cell_type": "code",
   "execution_count": 261,
   "metadata": {
    "collapsed": false
   },
   "outputs": [
    {
     "name": "stdout",
     "output_type": "stream",
     "text": [
      "Tic: Train XGB\n",
      "{'objective': 'multi:softmax', 'silent': 0, 'min_child_weight': 0.9, 'max_depth': 7, 'subsample': 0.9316857241778637, 'n_estimators': 110, 'max_delta_step': 0, 'reg_alpha': 0, 'scale_pos_weight': 1, 'learning_rate': 0.260465157489139, 'missing': None, 'colsample_bytree': 0.8195883168402892, 'colsample_bylevel': 1, 'gamma': 0.25, 'nthread': 4}\n",
      "Elapsed time: 19.650840 seconds.\n",
      "\n",
      "19.650840282440186\n"
     ]
    }
   ],
   "source": [
    "tic('Train XGB')\n",
    "print(params)\n",
    "bst = XGBClassifier(**params).fit(X, y,verbose=50)\n",
    "joblib.dump(bst, 'xgboost_joblib.pkl', compress = 1)\n",
    "a=toc()\n",
    "print(a)"
   ]
  },
  {
   "cell_type": "markdown",
   "metadata": {},
   "source": [
    "### Test"
   ]
  },
  {
   "cell_type": "code",
   "execution_count": 41,
   "metadata": {
    "collapsed": false
   },
   "outputs": [
    {
     "name": "stdout",
     "output_type": "stream",
     "text": [
      "Tic: Test XGB\n",
      "== 5-fold CV ==\n",
      "F1 scores 5-fold CV per iteration: [0.848 0.827 0.851 0.829 0.852]\n",
      "F1 mean 5-fold CV per class: [0.84  0.91  0.775 0.66 ]\n",
      "F1 mean 5-fold CV: 0.842\n",
      "Elapsed time: 95.978011 seconds.\n",
      "\n"
     ]
    },
    {
     "data": {
      "text/plain": [
       "95.9780113697052"
      ]
     },
     "execution_count": 41,
     "metadata": {},
     "output_type": "execute_result"
    }
   ],
   "source": [
    "tic('Test XGB')\n",
    "test_classifier(bst,X,y)\n",
    "toc()"
   ]
  },
  {
   "cell_type": "code",
   "execution_count": null,
   "metadata": {
    "collapsed": false
   },
   "outputs": [],
   "source": [
    "tic('Test XGB prediction runtime')\n",
    "y=bst.predict(X)\n",
    "toc()"
   ]
  },
  {
   "cell_type": "markdown",
   "metadata": {},
   "source": [
    "## Random Forest"
   ]
  },
  {
   "cell_type": "markdown",
   "metadata": {},
   "source": [
    "### Train"
   ]
  },
  {
   "cell_type": "code",
   "execution_count": 259,
   "metadata": {
    "collapsed": false
   },
   "outputs": [
    {
     "name": "stdout",
     "output_type": "stream",
     "text": [
      "Tic: Train RF\n",
      "Elapsed time: 28.778865 seconds.\n",
      "\n"
     ]
    },
    {
     "data": {
      "text/plain": [
       "28.77886462211609"
      ]
     },
     "execution_count": 259,
     "metadata": {},
     "output_type": "execute_result"
    }
   ],
   "source": [
    "tic('Train RF')\n",
    "rf = RandomForestClassifier(n_jobs=-1, random_state=seed,n_estimators=RF_N_TREES).fit(X, y)\n",
    "joblib.dump(rf,'rf_joblib.pkl', compress = 1)\n",
    "toc()"
   ]
  },
  {
   "cell_type": "markdown",
   "metadata": {},
   "source": [
    "### Test"
   ]
  },
  {
   "cell_type": "code",
   "execution_count": null,
   "metadata": {
    "collapsed": false
   },
   "outputs": [],
   "source": [
    "tic('Test RF')\n",
    "test_classifier(rf, X,y)\n",
    "toc()"
   ]
  },
  {
   "cell_type": "code",
   "execution_count": null,
   "metadata": {
    "collapsed": false
   },
   "outputs": [],
   "source": [
    "tic('Test RF prediction runtime')\n",
    "y=rf.predict(X)\n",
    "toc()"
   ]
  },
  {
   "cell_type": "markdown",
   "metadata": {},
   "source": [
    "# Cross validated predictions of model"
   ]
  },
  {
   "cell_type": "code",
   "execution_count": 266,
   "metadata": {
    "collapsed": false
   },
   "outputs": [],
   "source": [
    "from sklearn.model_selection import cross_val_predict\n",
    "y_pred = cross_val_predict(bst, X, y,cv=cv)\n",
    "answers = pd.concat([rec,pd.DataFrame(y_pred)], axis=1)\n",
    "answers.to_csv('y_5xCV_xgb.txt',index=None,header=None)\n",
    "\n",
    "y_pred = cross_val_predict(rf, X, y,cv=cv)\n",
    "answers = pd.concat([rec,pd.DataFrame(y_pred)], axis=1)\n",
    "answers.to_csv('y_5xCV_rf.txt',index=None,header=None)"
   ]
  },
  {
   "cell_type": "markdown",
   "metadata": {},
   "source": [
    "# Neural Network: Train and test"
   ]
  },
  {
   "cell_type": "code",
   "execution_count": null,
   "metadata": {
    "collapsed": false
   },
   "outputs": [],
   "source": [
    "from sklearn.neural_network import MLPClassifier\n",
    "nn = MLPClassifier(alpha=0.01, random_state=seed)\n",
    "\n",
    "nn=nn.fit(X, y)    \n",
    "print(nn)\n",
    "test_classifier(nn,X,y)"
   ]
  },
  {
   "cell_type": "code",
   "execution_count": 87,
   "metadata": {
    "collapsed": false
   },
   "outputs": [
    {
     "data": {
      "text/plain": [
       "['grayscale',\n",
       " 'fivethirtyeight',\n",
       " 'seaborn-darkgrid',\n",
       " 'seaborn-paper',\n",
       " 'seaborn-white',\n",
       " 'seaborn-talk',\n",
       " 'classic',\n",
       " 'seaborn-muted',\n",
       " 'seaborn-colorblind',\n",
       " 'seaborn-deep',\n",
       " 'bmh',\n",
       " 'seaborn-pastel',\n",
       " 'ggplot',\n",
       " 'seaborn-whitegrid',\n",
       " 'seaborn-bright',\n",
       " 'seaborn-notebook',\n",
       " 'seaborn-dark',\n",
       " 'seaborn-dark-palette',\n",
       " 'seaborn-poster',\n",
       " 'dark_background',\n",
       " 'seaborn-ticks']"
      ]
     },
     "execution_count": 87,
     "metadata": {},
     "output_type": "execute_result"
    }
   ],
   "source": [
    "plt.style.available"
   ]
  },
  {
   "cell_type": "markdown",
   "metadata": {},
   "source": [
    "#### Rename categories"
   ]
  },
  {
   "cell_type": "code",
   "execution_count": 170,
   "metadata": {
    "collapsed": false
   },
   "outputs": [
    {
     "data": {
      "text/html": [
       "<div>\n",
       "<style scoped>\n",
       "    .dataframe tbody tr th:only-of-type {\n",
       "        vertical-align: middle;\n",
       "    }\n",
       "\n",
       "    .dataframe tbody tr th {\n",
       "        vertical-align: top;\n",
       "    }\n",
       "\n",
       "    .dataframe thead th {\n",
       "        text-align: right;\n",
       "    }\n",
       "</style>\n",
       "<table border=\"1\" class=\"dataframe\">\n",
       "  <thead>\n",
       "    <tr style=\"text-align: right;\">\n",
       "      <th></th>\n",
       "      <th>Category</th>\n",
       "      <th>Classifier</th>\n",
       "      <th>Importance</th>\n",
       "      <th>F1</th>\n",
       "      <th>F1 Normal</th>\n",
       "      <th>F1 AF</th>\n",
       "      <th>F1 Other</th>\n",
       "      <th>F1 Noise</th>\n",
       "      <th>Count</th>\n",
       "    </tr>\n",
       "  </thead>\n",
       "  <tbody>\n",
       "    <tr>\n",
       "      <th>0</th>\n",
       "      <td>Atrial</td>\n",
       "      <td>XGB</td>\n",
       "      <td>0.181</td>\n",
       "      <td>0.635</td>\n",
       "      <td>0.812</td>\n",
       "      <td>0.624</td>\n",
       "      <td>0.469</td>\n",
       "      <td>0.521</td>\n",
       "      <td>39</td>\n",
       "    </tr>\n",
       "    <tr>\n",
       "      <th>1</th>\n",
       "      <td>Atrial</td>\n",
       "      <td>RF</td>\n",
       "      <td>0.081</td>\n",
       "      <td>0.626</td>\n",
       "      <td>0.817</td>\n",
       "      <td>0.613</td>\n",
       "      <td>0.447</td>\n",
       "      <td>0.522</td>\n",
       "      <td>39</td>\n",
       "    </tr>\n",
       "    <tr>\n",
       "      <th>2</th>\n",
       "      <td>Average</td>\n",
       "      <td>XGB</td>\n",
       "      <td>0.143</td>\n",
       "      <td>0.642</td>\n",
       "      <td>0.820</td>\n",
       "      <td>0.601</td>\n",
       "      <td>0.504</td>\n",
       "      <td>0.527</td>\n",
       "      <td>60</td>\n",
       "    </tr>\n",
       "    <tr>\n",
       "      <th>3</th>\n",
       "      <td>Average</td>\n",
       "      <td>RF</td>\n",
       "      <td>0.092</td>\n",
       "      <td>0.639</td>\n",
       "      <td>0.825</td>\n",
       "      <td>0.604</td>\n",
       "      <td>0.488</td>\n",
       "      <td>0.449</td>\n",
       "      <td>60</td>\n",
       "    </tr>\n",
       "    <tr>\n",
       "      <th>4</th>\n",
       "      <td>Beat</td>\n",
       "      <td>XGB</td>\n",
       "      <td>0.217</td>\n",
       "      <td>0.620</td>\n",
       "      <td>0.799</td>\n",
       "      <td>0.669</td>\n",
       "      <td>0.391</td>\n",
       "      <td>0.603</td>\n",
       "      <td>46</td>\n",
       "    </tr>\n",
       "    <tr>\n",
       "      <th>5</th>\n",
       "      <td>Beat</td>\n",
       "      <td>RF</td>\n",
       "      <td>0.110</td>\n",
       "      <td>0.617</td>\n",
       "      <td>0.812</td>\n",
       "      <td>0.658</td>\n",
       "      <td>0.381</td>\n",
       "      <td>0.607</td>\n",
       "      <td>46</td>\n",
       "    </tr>\n",
       "    <tr>\n",
       "      <th>6</th>\n",
       "      <td>Meta</td>\n",
       "      <td>XGB</td>\n",
       "      <td>0.067</td>\n",
       "      <td>0.796</td>\n",
       "      <td>0.891</td>\n",
       "      <td>0.789</td>\n",
       "      <td>0.708</td>\n",
       "      <td>0.579</td>\n",
       "      <td>14</td>\n",
       "    </tr>\n",
       "    <tr>\n",
       "      <th>7</th>\n",
       "      <td>Meta</td>\n",
       "      <td>RF</td>\n",
       "      <td>0.140</td>\n",
       "      <td>0.800</td>\n",
       "      <td>0.894</td>\n",
       "      <td>0.791</td>\n",
       "      <td>0.716</td>\n",
       "      <td>0.633</td>\n",
       "      <td>14</td>\n",
       "    </tr>\n",
       "    <tr>\n",
       "      <th>8</th>\n",
       "      <td>QRS</td>\n",
       "      <td>XGB</td>\n",
       "      <td>0.066</td>\n",
       "      <td>0.671</td>\n",
       "      <td>0.851</td>\n",
       "      <td>0.604</td>\n",
       "      <td>0.558</td>\n",
       "      <td>0.517</td>\n",
       "      <td>16</td>\n",
       "    </tr>\n",
       "    <tr>\n",
       "      <th>9</th>\n",
       "      <td>QRS</td>\n",
       "      <td>RF</td>\n",
       "      <td>0.034</td>\n",
       "      <td>0.681</td>\n",
       "      <td>0.859</td>\n",
       "      <td>0.612</td>\n",
       "      <td>0.571</td>\n",
       "      <td>0.550</td>\n",
       "      <td>16</td>\n",
       "    </tr>\n",
       "    <tr>\n",
       "      <th>10</th>\n",
       "      <td>Rhythm</td>\n",
       "      <td>XGB</td>\n",
       "      <td>0.309</td>\n",
       "      <td>0.813</td>\n",
       "      <td>0.897</td>\n",
       "      <td>0.807</td>\n",
       "      <td>0.735</td>\n",
       "      <td>0.641</td>\n",
       "      <td>205</td>\n",
       "    </tr>\n",
       "    <tr>\n",
       "      <th>11</th>\n",
       "      <td>Rhythm</td>\n",
       "      <td>RF</td>\n",
       "      <td>0.535</td>\n",
       "      <td>0.808</td>\n",
       "      <td>0.899</td>\n",
       "      <td>0.794</td>\n",
       "      <td>0.731</td>\n",
       "      <td>0.610</td>\n",
       "      <td>205</td>\n",
       "    </tr>\n",
       "    <tr>\n",
       "      <th>12</th>\n",
       "      <td>Signal</td>\n",
       "      <td>XGB</td>\n",
       "      <td>0.017</td>\n",
       "      <td>0.319</td>\n",
       "      <td>0.720</td>\n",
       "      <td>0.042</td>\n",
       "      <td>0.194</td>\n",
       "      <td>0.268</td>\n",
       "      <td>6</td>\n",
       "    </tr>\n",
       "    <tr>\n",
       "      <th>13</th>\n",
       "      <td>Signal</td>\n",
       "      <td>RF</td>\n",
       "      <td>0.007</td>\n",
       "      <td>0.332</td>\n",
       "      <td>0.680</td>\n",
       "      <td>0.076</td>\n",
       "      <td>0.240</td>\n",
       "      <td>0.293</td>\n",
       "      <td>6</td>\n",
       "    </tr>\n",
       "  </tbody>\n",
       "</table>\n",
       "</div>"
      ],
      "text/plain": [
       "   Category Classifier  Importance     F1  F1 Normal  F1 AF  F1 Other  \\\n",
       "0    Atrial        XGB       0.181  0.635      0.812  0.624     0.469   \n",
       "1    Atrial         RF       0.081  0.626      0.817  0.613     0.447   \n",
       "2   Average        XGB       0.143  0.642      0.820  0.601     0.504   \n",
       "3   Average         RF       0.092  0.639      0.825  0.604     0.488   \n",
       "4      Beat        XGB       0.217  0.620      0.799  0.669     0.391   \n",
       "5      Beat         RF       0.110  0.617      0.812  0.658     0.381   \n",
       "6      Meta        XGB       0.067  0.796      0.891  0.789     0.708   \n",
       "7      Meta         RF       0.140  0.800      0.894  0.791     0.716   \n",
       "8       QRS        XGB       0.066  0.671      0.851  0.604     0.558   \n",
       "9       QRS         RF       0.034  0.681      0.859  0.612     0.571   \n",
       "10   Rhythm        XGB       0.309  0.813      0.897  0.807     0.735   \n",
       "11   Rhythm         RF       0.535  0.808      0.899  0.794     0.731   \n",
       "12   Signal        XGB       0.017  0.319      0.720  0.042     0.194   \n",
       "13   Signal         RF       0.007  0.332      0.680  0.076     0.240   \n",
       "\n",
       "    F1 Noise  Count  \n",
       "0      0.521     39  \n",
       "1      0.522     39  \n",
       "2      0.527     60  \n",
       "3      0.449     60  \n",
       "4      0.603     46  \n",
       "5      0.607     46  \n",
       "6      0.579     14  \n",
       "7      0.633     14  \n",
       "8      0.517     16  \n",
       "9      0.550     16  \n",
       "10     0.641    205  \n",
       "11     0.610    205  \n",
       "12     0.268      6  \n",
       "13     0.293      6  "
      ]
     },
     "execution_count": 170,
     "metadata": {},
     "output_type": "execute_result"
    }
   ],
   "source": [
    "df_results=joblib.load('f1_by_category.pkl')\n",
    "df_results=df_results.replace('Average beat','Average')\n",
    "df_results=df_results.replace('QRS detection','QRS')\n",
    "joblib.dump(df_results, 'f1_by_category.pkl', compress = 1)\n",
    "df_results"
   ]
  }
 ],
 "metadata": {
  "kernelspec": {
   "display_name": "Python 3",
   "language": "python",
   "name": "python3"
  },
  "language_info": {
   "codemirror_mode": {
    "name": "ipython",
    "version": 3
   },
   "file_extension": ".py",
   "mimetype": "text/x-python",
   "name": "python",
   "nbconvert_exporter": "python",
   "pygments_lexer": "ipython3",
   "version": "3.5.2"
  }
 },
 "nbformat": 4,
 "nbformat_minor": 1
}
