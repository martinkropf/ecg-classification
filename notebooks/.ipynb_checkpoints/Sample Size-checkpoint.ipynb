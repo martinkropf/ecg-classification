{
 "cells": [
  {
   "cell_type": "markdown",
   "metadata": {},
   "source": [
    "# Set target sample size and anticipated dropout-rate"
   ]
  },
  {
   "cell_type": "code",
   "execution_count": 11,
   "metadata": {},
   "outputs": [],
   "source": [
    "import pandas as pd\n",
    "import qgrid\n",
    "from IPython.display import display\n",
    "import numpy as np\n",
    "from statsmodels.stats.power import tt_ind_solve_power"
   ]
  },
  {
   "cell_type": "markdown",
   "metadata": {},
   "source": [
    "Don't forget to set test direction (1- or 2-sided)"
   ]
  },
  {
   "cell_type": "code",
   "execution_count": 12,
   "metadata": {},
   "outputs": [],
   "source": [
    "TARGET=1200\n",
    "DROPOUT_CONVENTIONAL=10\n",
    "DROPOUT_NOVEL=30\n",
    "ALPHA=0.05\n",
    "POWER=0.8"
   ]
  },
  {
   "cell_type": "markdown",
   "metadata": {},
   "source": [
    "Define parameters, standard deviation, unit, reference and type (conventional or novel)"
   ]
  },
  {
   "cell_type": "code",
   "execution_count": 13,
   "metadata": {},
   "outputs": [
    {
     "data": {
      "application/vnd.jupyter.widget-view+json": {
       "model_id": "8ab6099232634401b10fc6636c01fd06",
       "version_major": 2,
       "version_minor": 0
      },
      "text/html": [
       "<p>Failed to display Jupyter Widget of type <code>QgridWidget</code>.</p>\n",
       "<p>\n",
       "  If you're reading this message in the Jupyter Notebook or JupyterLab Notebook, it may mean\n",
       "  that the widgets JavaScript is still loading. If this message persists, it\n",
       "  likely means that the widgets JavaScript library is either not installed or\n",
       "  not enabled. See the <a href=\"https://ipywidgets.readthedocs.io/en/stable/user_install.html\">Jupyter\n",
       "  Widgets Documentation</a> for setup instructions.\n",
       "</p>\n",
       "<p>\n",
       "  If you're reading this message in another frontend (for example, a static\n",
       "  rendering on GitHub or <a href=\"https://nbviewer.jupyter.org/\">NBViewer</a>),\n",
       "  it may mean that your frontend doesn't currently support widgets.\n",
       "</p>\n"
      ],
      "text/plain": [
       "QgridWidget(grid_options={'maxVisibleRows': 15, 'editable': True, 'autoEdit': False, 'explicitInitialization': True, 'syncColumnCellResize': True, 'rowHeight': 28, 'forceFitColumns': True, 'fullWidthRows': True, 'defaultColumnWidth': 150, 'minVisibleRows': 8, 'enableColumnReorder': False, 'enableTextSelectionOnCells': True}, precision=5)"
      ]
     },
     "metadata": {},
     "output_type": "display_data"
    }
   ],
   "source": [
    "df = pd.DataFrame(columns=['Parameter','Standard Deviation','Unit','Reference','Type'])\n",
    "\n",
    "df = df.append({'Parameter': 'LVESVI', 'Standard Deviation':26,'Unit':'ml/m$^2$', 'Reference':'Tardif JC et al, Eur Heart J, 2011, Effects of selective heart rate reduction with ivabradine on left ventricular remodelling and function: results from the SHIFT echocardiography substudy.','Type':'Conventional'}, ignore_index=True)\n",
    "df = df.append({'Parameter': 'LVEDVI', 'Standard Deviation':32.8,'Unit':'ml/m$^2$', 'Reference':'Tardif JC et al, Eur Heart J, 2011, Effects of selective heart rate reduction with ivabradine on left ventricular remodelling and function: results from the SHIFT echocardiography substudy.','Type':'Conventional'}, ignore_index=True)\n",
    "df = df.append({'Parameter': 'LA Volume', 'Standard Deviation':11,'Unit':'ml/m$^2$', 'Reference':'Lang RM et al, Eur Heart J Cardiovascular Imaging 2015, Recommendations for Cardiac Chamber Quantification by Echocardiography in Adults: An Update from the American Society of Echocardiography and the European Association of Cardiovascular Imaging.','Type':'Conventional'}, ignore_index=True)\n",
    "df = df.append({'Parameter': 'LVEF', 'Standard Deviation':9.1,'Unit':'%', 'Reference':'Tardif JC et al, Eur Heart J, 2011, Effects of selective heart rate reduction with ivabradine on left ventricular remodelling and function: results from the SHIFT echocardiography substudy.','Type':'Conventional'}, ignore_index=True)\n",
    "df = df.append({'Parameter': 'RVEF', 'Standard Deviation':6,'Unit':'%', 'Reference':'Lang RM et al, Eur Heart J Cardiovascular Imaging 2015, Recommendations for Cardiac Chamber Quantification by Echocardiography in Adults: An Update from the American Society of Echocardiography and the European Association of Cardiovascular Imaging.','Type':'Conventional'}, ignore_index=True)\n",
    "df = df.append({'Parameter': 'LVEDD', 'Standard Deviation':4.1,'Unit':'mm', 'Reference':'Lang RM et al, Eur Heart J Cardiovascular Imaging 2015, Recommendations for Cardiac Chamber Quantification by Echocardiography in Adults: An Update from the American Society of Echocardiography and the European Association of Cardiovascular Imaging.','Type':'Conventional'}, ignore_index=True)\n",
    "df = df.append({'Parameter': 'LVESD', 'Standard Deviation':3.7,'Unit':'mm', 'Reference':'Lang RM et al, Eur Heart J Cardiovascular Imaging 2015, Recommendations for Cardiac Chamber Quantification by Echocardiography in Adults: An Update from the American Society of Echocardiography and the European Association of Cardiovascular Imaging.','Type':'Conventional'}, ignore_index=True)\n",
    "df = df.append({'Parameter': 'TAPSE', 'Standard Deviation':3.5,'Unit':'mm', 'Reference':'Lang RM et al, Eur Heart J Cardiovascular Imaging 2015, Recommendations for Cardiac Chamber Quantification by Echocardiography in Adults: An Update from the American Society of Echocardiography and the European Association of Cardiovascular Imaging.','Type':'Conventional'}, ignore_index=True)\n",
    "df = df.append({'Parameter': 'E/e', 'Standard Deviation':1,'Unit':'', 'Reference':'Lang RM et al, Eur Heart J Cardiovascular Imaging 2015, Recommendations for Cardiac Chamber Quantification by Echocardiography in Adults: An Update from the American Society of Echocardiography and the European Association of Cardiovascular Imaging.','Type':'Conventional'}, ignore_index=True)\n",
    "df = df.append({'Parameter': 'GLS', 'Standard Deviation':3.5,'Unit':'%', 'Reference':'Lang RM et al, Eur Heart J Cardiovascular Imaging 2015, Recommendations for Cardiac Chamber Quantification by Echocardiography in Adults: An Update from the American Society of Echocardiography and the European Association of Cardiovascular Imaging.','Type':'Novel'}, ignore_index=True)\n",
    "display(qgrid.QgridWidget(df=df))"
   ]
  },
  {
   "cell_type": "markdown",
   "metadata": {},
   "source": [
    "# Calculate difference and display results"
   ]
  },
  {
   "cell_type": "code",
   "execution_count": 14,
   "metadata": {},
   "outputs": [
    {
     "data": {
      "text/html": [
       "<div>\n",
       "<style scoped>\n",
       "    .dataframe tbody tr th:only-of-type {\n",
       "        vertical-align: middle;\n",
       "    }\n",
       "\n",
       "    .dataframe tbody tr th {\n",
       "        vertical-align: top;\n",
       "    }\n",
       "\n",
       "    .dataframe thead th {\n",
       "        text-align: right;\n",
       "    }\n",
       "</style>\n",
       "<table border=\"1\" class=\"dataframe\">\n",
       "  <thead>\n",
       "    <tr style=\"text-align: right;\">\n",
       "      <th></th>\n",
       "      <th>Parameter</th>\n",
       "      <th>St.Dev.</th>\n",
       "      <th>Unit</th>\n",
       "      <th>Diff</th>\n",
       "      <th>Reference</th>\n",
       "    </tr>\n",
       "  </thead>\n",
       "  <tbody>\n",
       "    <tr>\n",
       "      <th>0</th>\n",
       "      <td>LVESVI</td>\n",
       "      <td>26</td>\n",
       "      <td>ml/m$^2$</td>\n",
       "      <td>4.0</td>\n",
       "      <td>Tardif JC et al, Eur Heart J, 2011, Effects of...</td>\n",
       "    </tr>\n",
       "    <tr>\n",
       "      <th>1</th>\n",
       "      <td>LVEDVI</td>\n",
       "      <td>32.8</td>\n",
       "      <td>ml/m$^2$</td>\n",
       "      <td>5.0</td>\n",
       "      <td>Tardif JC et al, Eur Heart J, 2011, Effects of...</td>\n",
       "    </tr>\n",
       "    <tr>\n",
       "      <th>2</th>\n",
       "      <td>LA Volume</td>\n",
       "      <td>11</td>\n",
       "      <td>ml/m$^2$</td>\n",
       "      <td>1.7</td>\n",
       "      <td>Lang RM et al, Eur Heart J Cardiovascular Imag...</td>\n",
       "    </tr>\n",
       "    <tr>\n",
       "      <th>3</th>\n",
       "      <td>LVEF</td>\n",
       "      <td>9.1</td>\n",
       "      <td>%</td>\n",
       "      <td>1.4</td>\n",
       "      <td>Tardif JC et al, Eur Heart J, 2011, Effects of...</td>\n",
       "    </tr>\n",
       "    <tr>\n",
       "      <th>4</th>\n",
       "      <td>RVEF</td>\n",
       "      <td>6</td>\n",
       "      <td>%</td>\n",
       "      <td>1.0</td>\n",
       "      <td>Lang RM et al, Eur Heart J Cardiovascular Imag...</td>\n",
       "    </tr>\n",
       "    <tr>\n",
       "      <th>5</th>\n",
       "      <td>LVEDD</td>\n",
       "      <td>4.1</td>\n",
       "      <td>mm</td>\n",
       "      <td>0.7</td>\n",
       "      <td>Lang RM et al, Eur Heart J Cardiovascular Imag...</td>\n",
       "    </tr>\n",
       "    <tr>\n",
       "      <th>6</th>\n",
       "      <td>LVESD</td>\n",
       "      <td>3.7</td>\n",
       "      <td>mm</td>\n",
       "      <td>0.6</td>\n",
       "      <td>Lang RM et al, Eur Heart J Cardiovascular Imag...</td>\n",
       "    </tr>\n",
       "    <tr>\n",
       "      <th>7</th>\n",
       "      <td>TAPSE</td>\n",
       "      <td>3.5</td>\n",
       "      <td>mm</td>\n",
       "      <td>0.6</td>\n",
       "      <td>Lang RM et al, Eur Heart J Cardiovascular Imag...</td>\n",
       "    </tr>\n",
       "    <tr>\n",
       "      <th>8</th>\n",
       "      <td>E/e</td>\n",
       "      <td>1</td>\n",
       "      <td></td>\n",
       "      <td>0.2</td>\n",
       "      <td>Lang RM et al, Eur Heart J Cardiovascular Imag...</td>\n",
       "    </tr>\n",
       "    <tr>\n",
       "      <th>9</th>\n",
       "      <td>GLS</td>\n",
       "      <td>3.5</td>\n",
       "      <td>%</td>\n",
       "      <td>0.7</td>\n",
       "      <td>Lang RM et al, Eur Heart J Cardiovascular Imag...</td>\n",
       "    </tr>\n",
       "  </tbody>\n",
       "</table>\n",
       "</div>"
      ],
      "text/plain": [
       "   Parameter St.Dev.      Unit  Diff  \\\n",
       "0     LVESVI      26  ml/m$^2$   4.0   \n",
       "1     LVEDVI    32.8  ml/m$^2$   5.0   \n",
       "2  LA Volume      11  ml/m$^2$   1.7   \n",
       "3       LVEF     9.1         %   1.4   \n",
       "4       RVEF       6         %   1.0   \n",
       "5      LVEDD     4.1        mm   0.7   \n",
       "6      LVESD     3.7        mm   0.6   \n",
       "7      TAPSE     3.5        mm   0.6   \n",
       "8        E/e       1             0.2   \n",
       "9        GLS     3.5         %   0.7   \n",
       "\n",
       "                                           Reference  \n",
       "0  Tardif JC et al, Eur Heart J, 2011, Effects of...  \n",
       "1  Tardif JC et al, Eur Heart J, 2011, Effects of...  \n",
       "2  Lang RM et al, Eur Heart J Cardiovascular Imag...  \n",
       "3  Tardif JC et al, Eur Heart J, 2011, Effects of...  \n",
       "4  Lang RM et al, Eur Heart J Cardiovascular Imag...  \n",
       "5  Lang RM et al, Eur Heart J Cardiovascular Imag...  \n",
       "6  Lang RM et al, Eur Heart J Cardiovascular Imag...  \n",
       "7  Lang RM et al, Eur Heart J Cardiovascular Imag...  \n",
       "8  Lang RM et al, Eur Heart J Cardiovascular Imag...  \n",
       "9  Lang RM et al, Eur Heart J Cardiovascular Imag...  "
      ]
     },
     "metadata": {},
     "output_type": "display_data"
    }
   ],
   "source": [
    "df_result = pd.DataFrame(columns=['Parameter','St.Dev.','Unit','Diff','Reference'])\n",
    "\n",
    "for row in range(0,len(df) ):\n",
    "    parameter=df.loc[row,'Parameter']\n",
    "    std=df.loc[row,'Standard Deviation']\n",
    "    parameter_type=df.loc[row,'Type']\n",
    "    \n",
    "    if parameter_type=='Conventional':\n",
    "        ADJUSTED_FOR_DROPOUT=TARGET*((100-DROPOUT_CONVENTIONAL)/100)/2\n",
    "    elif parameter_type=='Novel':\n",
    "        ADJUSTED_FOR_DROPOUT=TARGET*((100-DROPOUT_NOVEL)/100)/2\n",
    "        \n",
    "    std_effect_size = tt_ind_solve_power(effect_size=None, alpha=ALPHA, ratio=1, alternative='larger',power=POWER,nobs1=ADJUSTED_FOR_DROPOUT)\n",
    "    #mean_diff=std*std_effect_size\n",
    "    mean_diff=np.ceil(std*std_effect_size/0.1)*0.1\n",
    "\n",
    "    df_result = df_result.append({'Parameter': parameter, 'St.Dev.':std,'Unit':df.loc[row,'Unit'], 'Reference':df.loc[row,'Reference'],'Diff':mean_diff}, ignore_index=True)\n",
    "\n",
    "display(df_result)\n",
    "df_result.to_excel(pd.ExcelWriter('SampleSize.xlsx', engine='xlsxwriter'), sheet_name=str(TARGET))\n"
   ]
  }
 ],
 "metadata": {
  "kernelspec": {
   "display_name": "Python 3",
   "language": "python",
   "name": "python3"
  },
  "language_info": {
   "codemirror_mode": {
    "name": "ipython",
    "version": 3
   },
   "file_extension": ".py",
   "mimetype": "text/x-python",
   "name": "python",
   "nbconvert_exporter": "python",
   "pygments_lexer": "ipython3",
   "version": "3.5.2"
  }
 },
 "nbformat": 4,
 "nbformat_minor": 1
}
